{
  "cells": [
    {
      "cell_type": "markdown",
      "metadata": {
        "id": "QSgAUSXtdwpp"
      },
      "source": [
        "# Курс TextAI\n",
        "\n",
        "# Материалы: https://bit.ly/2023-TextAI\n",
        "\n",
        "# GitHUB: https://github.com/AlekseyBuzmakov/2023-TextAI\n",
        "\n",
        "## Numpy\n",
        "\n",
        "Numpy -- это библиотека, которая позволяет работать с однородными данными, сформированными в многомерные матрицы.\n",
        "\n",
        "Numpy эффективно реализует многие стандартные операции, а также предоставляет простой, в достаточной степени интуитный инструмент работы с такими данными."
      ]
    },
    {
      "cell_type": "code",
      "execution_count": null,
      "metadata": {
        "id": "Mbw7idUFdwpu"
      },
      "outputs": [],
      "source": [
        "# Загрузка данных\n",
        "\n",
        "import numpy as np"
      ]
    },
    {
      "cell_type": "code",
      "execution_count": null,
      "metadata": {
        "id": "f0cJuN6Ydwpw",
        "outputId": "a6c6abbe-19a5-4647-ccfa-33cf6f6d5fa6"
      },
      "outputs": [
        {
          "name": "stdout",
          "output_type": "stream",
          "text": [
            "[1 2 3 4] int64\n",
            "[1. 2. 3. 4.] float64\n",
            "['1' '2' '3' 'str'] <U21\n"
          ]
        }
      ],
      "source": [
        "# Преобразуем списки в numpy массивы\n",
        "\n",
        "integers = np.array([1,2,3,4])\n",
        "floats = np.array([1.0,2,3,4])\n",
        "strs = np.array([1,2,3,\"str\"])\n",
        "\n",
        "print(integers, integers.dtype)\n",
        "print(floats, floats.dtype)\n",
        "print(strs, strs.dtype)"
      ]
    },
    {
      "cell_type": "code",
      "execution_count": null,
      "metadata": {
        "id": "i8WEkiZxdwpz",
        "outputId": "1378b5b0-21f0-4d03-e664-125234e6ba11"
      },
      "outputs": [
        {
          "name": "stdout",
          "output_type": "stream",
          "text": [
            "[0 0 0 0 0 0 0 0 0 0]\n",
            "[[1. 1.]\n",
            " [1. 1.]]\n",
            "[[22. 22.]\n",
            " [22. 22.]\n",
            " [22. 22.]\n",
            " [22. 22.]]\n",
            "[0 2 4 6 8]\n",
            "[ 0.   2.5  5.   7.5 10. ]\n"
          ]
        }
      ],
      "source": [
        "# Либо можно создать массивы данных, заполненных по определённому образу\n",
        "print(np.zeros(10, dtype='int64'))\n",
        "print(np.ones((2,2),dtype='float64'))\n",
        "print(np.full((4,2),22, dtype='float64'))\n",
        "print(np.arange(0, 10, 2))\n",
        "print(np.linspace(0, 10, 5))"
      ]
    },
    {
      "cell_type": "code",
      "execution_count": null,
      "metadata": {
        "id": "ewEPkGeldwp0",
        "outputId": "5b390ede-bf56-4e72-da10-db1b3761ce3b"
      },
      "outputs": [
        {
          "name": "stdout",
          "output_type": "stream",
          "text": [
            "[[0.88084127 0.75102805 0.22016303]\n",
            " [0.86356211 0.17794245 0.28205565]\n",
            " [0.31658814 0.13600925 0.17463009]]\n",
            "[[ 0.68011257  1.44030106 -1.28953134]\n",
            " [ 1.12241345  0.4392603   1.4328979 ]\n",
            " [ 0.02459939  0.64819462  0.55478418]]\n",
            "[[2 3 4]\n",
            " [3 3 5]\n",
            " [7 4 2]]\n"
          ]
        }
      ],
      "source": [
        "# Случайные заполнения\n",
        "print(np.random.random((3, 3))) # между 0 и 1\n",
        "print(np.random.normal(0, 1, (3, 3))) # нормальное распределение\n",
        "print(np.random.randint(0, 10, (3, 3))) # целые числа"
      ]
    },
    {
      "cell_type": "markdown",
      "metadata": {
        "id": "8yBfFkkwdwp2"
      },
      "source": [
        "Существует множество типов похожих друг на друга, на занимающих разное количество байт в памяти. Здесь оставлю только самые важные для начального этапа:\n",
        "* целые -- int64\n",
        "* положительные целые -- uint 64\n",
        "* действительные -- float64\n",
        "* логические -- bool_\n",
        "\n",
        "## Работа с массивами Numpy\n",
        "\n",
        "Каждый массив Numpy -- класс со своими методами. Часть методов являются общими для всех массивов, а часть специфичными для конкретного типа данных"
      ]
    },
    {
      "cell_type": "code",
      "execution_count": null,
      "metadata": {
        "id": "O4yvThnIdwp3",
        "outputId": "5b16a027-f9c6-4f8a-bdc6-7cbfb8a428e1"
      },
      "outputs": [
        {
          "name": "stdout",
          "output_type": "stream",
          "text": [
            "Количество 'осей': 3\n",
            "Размер каждой оси: (3, 4, 5)\n",
            "Общее количество элементов: 60\n"
          ]
        }
      ],
      "source": [
        "x1 = np.random.randint(10, size=5)\n",
        "x3 = np.random.randint(10, size=(3, 4, 5))\n",
        "\n",
        "print(\"Количество 'осей':\", x3.ndim)\n",
        "print(\"Размер каждой оси:\", x3.shape)\n",
        "print(\"Общее количество элементов:\", x3.size)"
      ]
    },
    {
      "cell_type": "code",
      "execution_count": null,
      "metadata": {
        "id": "RktMf4oodwp5",
        "outputId": "b12d12d9-43dc-45c0-db49-d54cd9519482"
      },
      "outputs": [
        {
          "name": "stdout",
          "output_type": "stream",
          "text": [
            "[7 1 1 2 3]\n",
            "7\n",
            "3\n",
            "2\n"
          ]
        }
      ],
      "source": [
        "# Индексация как в списках\n",
        "print(x1)\n",
        "print(x1[0])\n",
        "print(x1[-1])\n",
        "print(x1[-2])"
      ]
    },
    {
      "cell_type": "code",
      "execution_count": null,
      "metadata": {
        "id": "mYL75a2Rdwp7",
        "outputId": "5f0bb97b-c03e-4633-8579-754275ab4303"
      },
      "outputs": [
        {
          "name": "stdout",
          "output_type": "stream",
          "text": [
            "[[[3 5 4 1 8]\n",
            "  [2 9 0 7 3]\n",
            "  [1 6 2 4 6]\n",
            "  [2 4 3 2 7]]\n",
            "\n",
            " [[0 1 8 0 7]\n",
            "  [1 8 0 9 5]\n",
            "  [0 5 1 0 3]\n",
            "  [7 1 3 1 6]]\n",
            "\n",
            " [[8 9 2 0 9]\n",
            "  [3 7 6 4 2]\n",
            "  [1 2 0 1 1]\n",
            "  [7 5 6 1 7]]]\n",
            "3\n",
            "1\n"
          ]
        }
      ],
      "source": [
        "print(x3)\n",
        "print(x3[0,0,0])\n",
        "print(x3[2,2,-1])"
      ]
    },
    {
      "cell_type": "code",
      "execution_count": null,
      "metadata": {
        "id": "jyxb5Ko8dwp9",
        "outputId": "eaa2cc85-d39f-4920-b355-2afb8cca9468"
      },
      "outputs": [
        {
          "name": "stdout",
          "output_type": "stream",
          "text": [
            "[[[  3   5   4   1   8]\n",
            "  [  2   9   0   7   3]\n",
            "  [  1   6   2   4   6]\n",
            "  [  2   4   3   2   7]]\n",
            "\n",
            " [[  0   1   8   0   7]\n",
            "  [  1   8   0   9   5]\n",
            "  [  0   5   1   0   3]\n",
            "  [  7   1   3   1   6]]\n",
            "\n",
            " [[  8   9   2   0   9]\n",
            "  [  3   7   6   4   2]\n",
            "  [  1   2   0   1 100]\n",
            "  [  7   5   6   1   7]]]\n"
          ]
        }
      ],
      "source": [
        "# Значения можно менять\n",
        "x3[2,2,-1]=100\n",
        "print(x3)"
      ]
    },
    {
      "cell_type": "markdown",
      "metadata": {
        "id": "4S4Evlhzdwp_"
      },
      "source": [
        "### Упражнение\n",
        "\n",
        "Замените в массиве x2 все диагональные элементы на 100. Также замените 3ий элемент во 2ой строке на 1000 и первый элемент в последней строке на 999."
      ]
    },
    {
      "cell_type": "code",
      "execution_count": null,
      "metadata": {
        "id": "jzVorgETdwp_",
        "outputId": "8926f456-7fd2-4119-f0a4-8302249af2c7"
      },
      "outputs": [
        {
          "name": "stdout",
          "output_type": "stream",
          "text": [
            "[[1 9 5 5 8]\n",
            " [9 7 7 4 5]\n",
            " [1 3 1 4 5]\n",
            " [3 7 9 1 3]\n",
            " [6 7 9 9 0]]\n"
          ]
        }
      ],
      "source": [
        "x2 = np.random.randint(10,size=(5,5))\n",
        "print(x2)\n",
        "# ..."
      ]
    },
    {
      "cell_type": "markdown",
      "metadata": {
        "id": "_Ep5OQmFdwqA"
      },
      "source": [
        "## Получения подмассивов\n",
        "\n",
        "По аналогии со списками общий синтаксис запроса к массиву:\n",
        "\n",
        "x\\[start:stop:step\\]\n"
      ]
    },
    {
      "cell_type": "code",
      "execution_count": null,
      "metadata": {
        "id": "LzSKha49dwqC",
        "outputId": "2f8bf9b0-55ac-4a2b-a048-dcbb3d9b1198"
      },
      "outputs": [
        {
          "name": "stdout",
          "output_type": "stream",
          "text": [
            "[7 1 1 2 3]\n",
            "[1 1 2]\n",
            "[7 1 1 2]\n",
            "[7 1 3]\n",
            "[1 2]\n"
          ]
        }
      ],
      "source": [
        "print(x1)\n",
        "print(x1[1:4])\n",
        "print(x1[:4])\n",
        "print(x1[::2])\n",
        "print(x1[1::2])"
      ]
    },
    {
      "cell_type": "code",
      "execution_count": null,
      "metadata": {
        "id": "pfcRnivpdwqD",
        "outputId": "bb58950b-8a4a-4c30-c99c-7b6156fa046b"
      },
      "outputs": [
        {
          "name": "stdout",
          "output_type": "stream",
          "text": [
            "[[[9 5 0 6 1]\n",
            "  [3 3 5 0 3]\n",
            "  [3 7 0 4 9]\n",
            "  [5 3 9 0 5]]\n",
            "\n",
            " [[8 9 5 8 7]\n",
            "  [0 1 4 1 5]\n",
            "  [0 0 0 4 3]\n",
            "  [8 5 9 4 5]]\n",
            "\n",
            " [[1 4 9 7 6]\n",
            "  [7 4 9 1 0]\n",
            "  [9 0 4 6 6]\n",
            "  [7 4 6 0 8]]]\n",
            "[[[9 5 0]\n",
            "  [3 3 5]\n",
            "  [3 7 0]]\n",
            "\n",
            " [[8 9 5]\n",
            "  [0 1 4]\n",
            "  [0 0 0]]\n",
            "\n",
            " [[1 4 9]\n",
            "  [7 4 9]\n",
            "  [9 0 4]]]\n"
          ]
        }
      ],
      "source": [
        "print(x3)\n",
        "print(x3[:3,:3,:3])"
      ]
    },
    {
      "cell_type": "markdown",
      "metadata": {
        "id": "djJ364fxdwqE"
      },
      "source": [
        "### Нет копии при индексации!\n",
        "\n",
        "При индексации не происходит копирование памяти. По сути образуется новый объект, который указывает на старый и содержит информацию о тех элементах которые были выбраны."
      ]
    },
    {
      "cell_type": "code",
      "execution_count": null,
      "metadata": {
        "id": "upqmWuWNdwqE",
        "outputId": "c0debbbf-e2da-4642-bbb6-ed3825a14dff"
      },
      "outputs": [
        {
          "name": "stdout",
          "output_type": "stream",
          "text": [
            "[7 1 1 2 3]\n",
            "[7 1 3]\n",
            "[  7 100   3]\n",
            "[  7   1 100   2   3]\n"
          ]
        }
      ],
      "source": [
        "print(x1)\n",
        "xx = x1[::2]\n",
        "print(xx)\n",
        "xx[1] = 100\n",
        "print(xx)\n",
        "print(x1)"
      ]
    },
    {
      "cell_type": "code",
      "execution_count": null,
      "metadata": {
        "id": "xeVuvfgpdwqG",
        "outputId": "13488fcc-4fca-4e9a-bd0c-07c64bf2498f"
      },
      "outputs": [
        {
          "name": "stdout",
          "output_type": "stream",
          "text": [
            "[  7   1 100   2   3]\n",
            "[  7 100   3]\n",
            "[   7 -100    3]\n",
            "[  7   1 100   2   3]\n"
          ]
        }
      ],
      "source": [
        "# Копирование должно быть явным при необходимости\n",
        "\n",
        "print(x1)\n",
        "xx = x1[::2].copy() # Вся магия тут\n",
        "print(xx)\n",
        "xx[1] = -100\n",
        "print(xx)\n",
        "print(x1)"
      ]
    },
    {
      "cell_type": "markdown",
      "metadata": {
        "id": "nFPe2zYXdwqH"
      },
      "source": [
        "### Упражнение\n",
        "\n",
        "В одну операцию замените 1, 3, 5 элементы в 1, 3, 5 строчках на 100"
      ]
    },
    {
      "cell_type": "code",
      "execution_count": null,
      "metadata": {
        "id": "OAWcodBodwqI",
        "outputId": "00e2524c-83ee-4d2b-998e-b0cc1199af80"
      },
      "outputs": [
        {
          "name": "stdout",
          "output_type": "stream",
          "text": [
            "[[9 4 6 5 3]\n",
            " [0 8 2 1 2]\n",
            " [3 4 8 7 9]\n",
            " [5 1 8 6 1]\n",
            " [6 6 2 5 1]]\n"
          ]
        }
      ],
      "source": [
        "x2 = np.random.randint(10,size=(5,5))\n",
        "print(x2)\n",
        "# ..."
      ]
    },
    {
      "cell_type": "markdown",
      "metadata": {
        "id": "bLVxIr-wdwqJ"
      },
      "source": [
        "## Операции над массивами\n",
        "\n",
        "Numpy и её расширения (Scipy) определят набор операций которые применяются сразу ко всем элементам массива. Это очень существенно повышает эффективность операций, а также упрощает код. Большинство известных функций уже реализовано, если нужно применить такую функцию сразу ко всему массиву, то просто ищите в интернет, как функций называется. Иногда потребуется подключать другие библиотеки, например, Scipy.\n",
        "\n",
        "### Бинарные операции\n",
        "\n",
        "Бинарные операции выполняютя сразу над двумя массивами или простыми типами"
      ]
    },
    {
      "cell_type": "code",
      "execution_count": null,
      "metadata": {
        "id": "fT6xt9E8dwqJ",
        "outputId": "11d5af66-5a53-42f7-e4db-cf1c11b68703"
      },
      "outputs": [
        {
          "name": "stdout",
          "output_type": "stream",
          "text": [
            "[0 8 8 1 3 0 5 8 0 7]\n",
            "[4 1 8 5 5 4 5 7 7 8]\n"
          ]
        }
      ],
      "source": [
        "x1 = np.random.randint(10,size=10)\n",
        "x2 = np.random.randint(10,size=10)\n",
        "print(x1)\n",
        "print(x2)"
      ]
    },
    {
      "cell_type": "code",
      "execution_count": null,
      "metadata": {
        "id": "SUZAFoqbdwqK",
        "outputId": "63b89c1c-57be-4719-f5f5-2dbbca17da3f"
      },
      "outputs": [
        {
          "name": "stdout",
          "output_type": "stream",
          "text": [
            "[ 4  9 16  6  8  4 10 15  7 15]\n",
            "[0.         8.         1.         0.2        0.6        0.\n",
            " 1.         1.14285714 0.         0.875     ]\n",
            "[0 8 1 0 0 0 1 1 0 0]\n",
            "[-4  7  0 -4 -2 -4  0  1 -7 -1]\n",
            "[ 0  8 64  5 15  0 25 56  0 56]\n"
          ]
        }
      ],
      "source": [
        "print(x1+x2)\n",
        "print(x1/x2)\n",
        "print(x1//x2)\n",
        "print(x1-x2)\n",
        "print(x1*x2)"
      ]
    },
    {
      "cell_type": "code",
      "execution_count": null,
      "metadata": {
        "id": "pNbj9mKHdwqL",
        "outputId": "9144736b-7e53-4d4a-9720-9f270c54c7a1"
      },
      "outputs": [
        {
          "name": "stdout",
          "output_type": "stream",
          "text": [
            "[1 9 9 2 4 1 6 9 1 8]\n",
            "[0.  4.  4.  0.5 1.5 0.  2.5 4.  0.  3.5]\n",
            "[0 4 4 0 1 0 2 4 0 3]\n",
            "[-2  6  6 -1  1 -2  3  6 -2  5]\n",
            "[ 0 16 16  2  6  0 10 16  0 14]\n"
          ]
        }
      ],
      "source": [
        "print(x1+1)\n",
        "print(x1/2)\n",
        "print(x1//2)\n",
        "print(x1-2)\n",
        "print(x1*2)"
      ]
    },
    {
      "cell_type": "markdown",
      "metadata": {
        "id": "3Yao4ccjdwqL"
      },
      "source": [
        "### Унарные операции\n",
        "\n",
        "Унарные операции -- это операции над одним массивом"
      ]
    },
    {
      "cell_type": "code",
      "execution_count": null,
      "metadata": {
        "id": "S48GAqNadwqL",
        "outputId": "493355eb-a774-4dc4-964e-f457026ed393"
      },
      "outputs": [
        {
          "name": "stdout",
          "output_type": "stream",
          "text": [
            "[-5 -4 -3 -2 -1  0  1  2  3  4]\n",
            "[5 4 3 2 1 0 1 2 3 4]\n",
            "[6.73794700e-03 1.83156389e-02 4.97870684e-02 1.35335283e-01\n",
            " 3.67879441e-01 1.00000000e+00 2.71828183e+00 7.38905610e+00\n",
            " 2.00855369e+01 5.45981500e+01]\n",
            "[1.e+05 1.e+04 1.e+03 1.e+02 1.e+01 1.e+00 1.e-01 1.e-02 1.e-03 1.e-04]\n",
            "[-0.47942554 -0.38941834 -0.29552021 -0.19866933 -0.09983342  0.\n",
            "  0.09983342  0.19866933  0.29552021  0.38941834]\n",
            "[25 16  9  4  1  0  1  4  9 16]\n"
          ]
        }
      ],
      "source": [
        "x = np.arange(10)-5\n",
        "print(x)\n",
        "\n",
        "print(abs(x))\n",
        "print(np.exp(x))\n",
        "print(np.power(0.1,x))\n",
        "print(np.sin(x/10))\n",
        "print(x ** 2)"
      ]
    },
    {
      "cell_type": "markdown",
      "metadata": {
        "id": "9syGBTebdwqM"
      },
      "source": [
        "### Упражнения:\n",
        "\n",
        "#### Маржинальность компаний\n",
        "\n",
        "Пусть для 10 компаний известны выручка и расходы. Нужно расчитать какая часть выручки для каждой из компании переходить в прибыль, т.е. для одной компании если выручка $R$, а расходы $C$, то её прибыль это $R-C$, а маржинальность $\\frac{R-C}{R}$.\n",
        "\n",
        "Создайте numpy массив с 10 значениями выручки компаний, а также numpy массив с 10 значениями расходов компании. Посчитайте маржинальность компании по выручке."
      ]
    },
    {
      "cell_type": "code",
      "execution_count": null,
      "metadata": {
        "id": "IPMDzl-TdwqN"
      },
      "outputs": [],
      "source": [
        "# ..."
      ]
    },
    {
      "cell_type": "markdown",
      "metadata": {
        "id": "21VLG5epdwqN"
      },
      "source": [
        "#### Банковские вклады\n",
        "\n",
        "Пусть в массиве SUMs содержаться суммы вкладов 10 клиентов, а в массиве RATEs их ставки по вкладам.\n",
        "Создайте массивы  SUMs с произвольными значениями от 100 до 10000 \n",
        "и RATEs с произвольными ставками от 0 до 1.\n",
        "\n",
        "Расчитайте сумму вклада у каждого клиента через 2 года и через n (общее число для всех клиентов) лет"
      ]
    },
    {
      "cell_type": "code",
      "execution_count": null,
      "metadata": {
        "id": "PHYFyi6vdwqO"
      },
      "outputs": [],
      "source": [
        "# ..."
      ]
    },
    {
      "cell_type": "markdown",
      "metadata": {
        "id": "RHM-XteJdwqO"
      },
      "source": [
        "## Логический тип данных и numpy\n",
        "\n",
        "При работе с данными часто требуется смотреть не на все данные, а только на часть из них.\n",
        "\n",
        "Рассмотрим пример. Пусть есть 5 клиентов, по каждому известны суммарная выручка и количество раз этот клиент совершал покупку. \n",
        "\n",
        "_Как зависит средний чек от лояльности клиента?_"
      ]
    },
    {
      "cell_type": "code",
      "execution_count": null,
      "metadata": {
        "id": "mHwfQBFAdwqP",
        "outputId": "32fe3e20-59a3-4ff4-a1c3-fe24b5a1ca78"
      },
      "outputs": [
        {
          "name": "stdout",
          "output_type": "stream",
          "text": [
            "[20. 40. 50. 10. 40.]\n"
          ]
        }
      ],
      "source": [
        "revenue = np.array([20, 200, 300, 10, 80])\n",
        "visits = np.array([1, 5, 6, 1, 2])\n",
        "avg_bill = revenue / visits\n",
        "\n",
        "print( avg_bill)"
      ]
    },
    {
      "cell_type": "code",
      "execution_count": null,
      "metadata": {
        "id": "nxqWLyrtdwqR",
        "outputId": "f1336e39-639b-48cd-e021-f4663155a392"
      },
      "outputs": [
        {
          "name": "stdout",
          "output_type": "stream",
          "text": [
            "[20.0, 10.0]\n",
            "[40.0, 50.0, 40.0]\n"
          ]
        }
      ],
      "source": [
        "# Как мы можем сравнить средний чек тех кто совершил покупку один раз и тех кто совершил ее более одного раза?\n",
        "\n",
        "# Наивный способ через цикл\n",
        "one_visit = []\n",
        "many_visits = []\n",
        "for i in range(len(visits)):\n",
        "    if visits[i] > 1:\n",
        "        many_visits.append(avg_bill[i])\n",
        "    else:\n",
        "        one_visit.append(avg_bill[i])\n",
        "print(one_visit)\n",
        "print(many_visits)"
      ]
    },
    {
      "cell_type": "code",
      "execution_count": null,
      "metadata": {
        "id": "WwZOLe6rdwqR",
        "outputId": "ec175769-e112-40a8-893c-f1d05af1f9b3"
      },
      "outputs": [
        {
          "name": "stdout",
          "output_type": "stream",
          "text": [
            "[20. 10.]\n",
            "[40. 50. 40.]\n"
          ]
        }
      ],
      "source": [
        "# То же самое в numpy\n",
        "\n",
        "one_visit = avg_bill[visits == 1]\n",
        "many_visits = avg_bill[visits > 1]\n",
        "print(one_visit)\n",
        "print(many_visits)"
      ]
    },
    {
      "cell_type": "code",
      "execution_count": null,
      "metadata": {
        "id": "6p_ybXeldwqS",
        "outputId": "b0927c7e-37c9-4688-c2f7-6df5a0092d6c"
      },
      "outputs": [
        {
          "name": "stdout",
          "output_type": "stream",
          "text": [
            "[1 5 6 1 2]\n",
            "[False  True  True False  True]\n",
            "[False  True  True False  True]\n",
            "[False  True  True False  True]\n",
            "[ True False False  True False]\n"
          ]
        }
      ],
      "source": [
        "# Как это работает?\n",
        "#  Результат сравнения numpy вектора с чем-то является логическим numpy вектором\n",
        "print(visits)\n",
        "\n",
        "print(visits > 1)\n",
        "print(visits != 1)\n",
        "print(visits >= 2)\n",
        "print(visits <= 1)"
      ]
    },
    {
      "cell_type": "code",
      "execution_count": null,
      "metadata": {
        "id": "fA1A5GaqdwqS",
        "outputId": "01c76587-412b-4502-d0ff-3edf48c60ac8"
      },
      "outputs": [
        {
          "name": "stdout",
          "output_type": "stream",
          "text": [
            "[1 5 6 1 2]\n",
            "[False False False False False]\n",
            "[ True False False  True  True]\n",
            "[False  True  True False False]\n"
          ]
        }
      ],
      "source": [
        "#  и составные выражения\n",
        "print(visits)\n",
        "\n",
        "print(1 < visits & (visits < 5)) # Не and! and только для if\n",
        "print( (visits == 1) | (visits == 2) ) # Не or!\n",
        "print(~((visits == 1) | (visits == 2))) # Отрицание"
      ]
    },
    {
      "cell_type": "code",
      "execution_count": null,
      "metadata": {
        "id": "NavVGpkbdwqT",
        "outputId": "fef0b287-42c6-491f-9b73-ef0589f54ac5"
      },
      "outputs": [
        {
          "name": "stdout",
          "output_type": "stream",
          "text": [
            "[1 5 6 1 2]\n",
            "[5 6 2]\n",
            "[5 6 2]\n"
          ]
        }
      ],
      "source": [
        "# Когда есть логический вектор индексации, он и используется в numpy массиве\n",
        "inds = np.array([False, True, True, False, True])\n",
        "print(visits)\n",
        "print(visits[inds])"
      ]
    },
    {
      "cell_type": "markdown",
      "metadata": {
        "id": "7JgSkRAydwqU"
      },
      "source": [
        "### Упражения\n",
        "\n",
        "#### Высокосный ли год?\n",
        "\n",
        "Напишите функцию, которая принимает numpy массив, содержаший года, и возвращает numpy массив логических значений. Каждое значение соответствует году и при этом True для высокосных, а False, для обычных"
      ]
    },
    {
      "cell_type": "code",
      "execution_count": null,
      "metadata": {
        "id": "MRDl8QTAdwqU"
      },
      "outputs": [],
      "source": [
        "def is_leap_year(years):\n",
        "    pass\n",
        "    # ..."
      ]
    },
    {
      "cell_type": "code",
      "execution_count": null,
      "metadata": {
        "id": "xIjLm9NXdwqV",
        "outputId": "51c63048-7aa6-4e27-bc29-4bd1d0ac5733"
      },
      "outputs": [
        {
          "name": "stdout",
          "output_type": "stream",
          "text": [
            "None\n"
          ]
        }
      ],
      "source": [
        "# Ожидаем следующий результат \n",
        "#   [True, False, False, True, False]\n",
        "print(is_leap_year(np.array([2020,2010,2015,2000,2100])))"
      ]
    },
    {
      "cell_type": "markdown",
      "metadata": {
        "id": "_z_zBN2wdwqV"
      },
      "source": [
        "#### Корректна ли дата?\n",
        "\n",
        "Проверить является набор год, месяц, день правильными датами? Можно предполагать, что передаются массивы numpy одной длины."
      ]
    },
    {
      "cell_type": "code",
      "execution_count": null,
      "metadata": {
        "id": "GMajAZMcdwqW"
      },
      "outputs": [],
      "source": [
        "def is_correct_date(years, months, days):\n",
        "    pass\n",
        "    # ..."
      ]
    },
    {
      "cell_type": "code",
      "execution_count": null,
      "metadata": {
        "id": "YXjgrfdtdwqX",
        "outputId": "2d72bf14-7a23-4e74-8ac5-0d7ee6658d20"
      },
      "outputs": [
        {
          "name": "stdout",
          "output_type": "stream",
          "text": [
            "None\n"
          ]
        }
      ],
      "source": [
        "# Проверяем работу функции\n",
        "#   Передаем следующие даты 2020-06-31, 2020-02-29, 2019-02-29\n",
        "#   Ожидаемый результат [False, True, False]\n",
        "\n",
        "print(is_correct_date(\n",
        "    years  = np.array([2020,2020,2019]),\n",
        "    months = np.array([   6,   2,   2]),\n",
        "    days   = np.array([  31,  29,  29]))) "
      ]
    },
    {
      "cell_type": "markdown",
      "metadata": {
        "id": "yp-3E90SdwqX"
      },
      "source": [
        "## Выводы по логическим массивам\n",
        "\n",
        "В некоторых ситуациях требуется логический вектор охаратеризовать одним значением.\n",
        "Например, _есть ли клиенты со средним чеком меньше 20 долларов?_"
      ]
    },
    {
      "cell_type": "code",
      "execution_count": null,
      "metadata": {
        "id": "tzb-8v5bdwqY",
        "outputId": "f4a75a74-d47e-417b-da2c-cfc6deaae8c6"
      },
      "outputs": [
        {
          "name": "stdout",
          "output_type": "stream",
          "text": [
            "[False False False  True False]\n",
            "True\n",
            "True\n"
          ]
        }
      ],
      "source": [
        "is_small_client = avg_bill < 20\n",
        "print(is_small_client)\n",
        "print( is_small_client.any() )\n",
        "print( (avg_bill < 20).any() )"
      ]
    },
    {
      "cell_type": "code",
      "execution_count": null,
      "metadata": {
        "id": "m-d2YFzVdwqY",
        "outputId": "e77d8cf6-4748-4163-b1d1-5e321c47bd1a"
      },
      "outputs": [
        {
          "name": "stdout",
          "output_type": "stream",
          "text": [
            "[ True  True  True  True  True]\n",
            "True\n"
          ]
        }
      ],
      "source": [
        "# или, все ли клиенты приносят больше 5 долларов\n",
        "is_enough_client = avg_bill > 5\n",
        "print(is_enough_client)\n",
        "print(is_enough_client.all())"
      ]
    },
    {
      "cell_type": "code",
      "execution_count": null,
      "metadata": {
        "id": "WDSw3HsEdwqZ",
        "outputId": "c8d7b769-2be3-4a68-8d9c-bc70d00c5819"
      },
      "outputs": [
        {
          "name": "stdout",
          "output_type": "stream",
          "text": [
            "[False False False  True False]\n",
            "[0 0 0 1 0]\n"
          ]
        }
      ],
      "source": [
        "# True при приведении к целому типу всегда рассматривается как 1, а False -- как ноль\n",
        "print(is_small_client)\n",
        "print(is_small_client.astype(\"int\"))"
      ]
    },
    {
      "cell_type": "code",
      "execution_count": null,
      "metadata": {
        "id": "vuZtOdZ3dwqa",
        "outputId": "e875e66e-d582-48ef-e80e-51ed11c2b7cb"
      },
      "outputs": [
        {
          "name": "stdout",
          "output_type": "stream",
          "text": [
            "1\n",
            "1\n"
          ]
        }
      ],
      "source": [
        "# Приведение типов часто выполняется автоматически\n",
        "print(sum(is_small_client)) # количество клиентов с маленьким средним чеком\n",
        "print(np.count_nonzero(is_small_client))"
      ]
    },
    {
      "cell_type": "markdown",
      "metadata": {
        "id": "dVP-A53ydwqb"
      },
      "source": [
        "## Выборочная индексация массивов\n",
        "\n",
        "Выше мы разбирали индексация из диапазона array[5:7]. Однако, в некоторых случаях требуется обратиться к конкретным элементам массива. \n",
        "\n",
        "Рассмотрим следующую ситуацию. У вас есть магазин книг и вы продаете различные книги. Пока книги характеризуются именем и годом выпуска. Вы считает, что год выпуска должен быть больше 1700 года. \n",
        "\n",
        "Но тут вы понимаете, что в базе данных есть книги с отрицательным годом выпуска! Что это? Скорее всего ошибка, думаете вы, но нужно проверить. Поэтому вы смотрите на названия этих книг..."
      ]
    },
    {
      "cell_type": "code",
      "execution_count": null,
      "metadata": {
        "id": "DApdp3EEdwqc"
      },
      "outputs": [],
      "source": [
        "years = np.array([2017,1938, -385, 1802, -376])\n",
        "titles = np.array([\n",
        "    \"Jake VanderPlas. Data Science Handbook\",\n",
        "    \"Носов. Живая шляпа\",\n",
        "    \"Платон. Пир\",\n",
        "    \"Карамзин. Вестник Европы\",\n",
        "    \"Платон. Государство\"\n",
        "])"
      ]
    },
    {
      "cell_type": "code",
      "execution_count": null,
      "metadata": {
        "id": "S9_lniOQdwqd",
        "outputId": "2ec92b9c-7b4d-48fa-b302-8f25c760c975"
      },
      "outputs": [
        {
          "data": {
            "text/plain": [
              "array(['Платон. Пир', 'Платон. Государство'], dtype='<U38')"
            ]
          },
          "execution_count": 53,
          "metadata": {},
          "output_type": "execute_result"
        }
      ],
      "source": [
        "# Допустим мы знаем, что отрицательные года находятся в позициях 2 и 4\n",
        "neg_year_inds = [2,4]\n",
        "# Посмотрим на названия\n",
        "titles[neg_year_inds]\n",
        "# ... мда, ошибки нет, действительно отрицательный год выпуска"
      ]
    },
    {
      "cell_type": "markdown",
      "metadata": {
        "id": "PkidwNbrdwqd"
      },
      "source": [
        "Вторым примером является выбор случайных элементов, например, для обучения моделей машинного обучения."
      ]
    },
    {
      "cell_type": "code",
      "execution_count": null,
      "metadata": {
        "id": "oXAHkeB4dwqe",
        "outputId": "9a3e494d-2805-4a3a-819c-4889e67f35ed"
      },
      "outputs": [
        {
          "name": "stdout",
          "output_type": "stream",
          "text": [
            "[-0.23861435 -0.16985128 -1.11334693  0.55052182 -1.66830305 -1.68170464\n",
            "  0.91073883  0.24619536 -0.87640352 -0.88773946]\n",
            "[1 9 3]\n",
            "[-0.16985128 -0.88773946  0.55052182]\n"
          ]
        }
      ],
      "source": [
        "data = np.random.normal(0,1,10)\n",
        "inds = np.random.randint(0,10,3)\n",
        "print(data)\n",
        "print(inds)\n",
        "print(data[inds])"
      ]
    },
    {
      "cell_type": "markdown",
      "metadata": {
        "id": "ho-USILldwqf"
      },
      "source": [
        "### Упражение\n",
        "\n",
        "Найдите минимальное значение из 5, 7, и 12 элемента массива data.\n",
        "\n",
        "Создайте numpy массив с элементами меньше этого числа"
      ]
    },
    {
      "cell_type": "code",
      "execution_count": null,
      "metadata": {
        "id": "DPekaQ3Ddwqf",
        "outputId": "6b695f67-f679-4f73-ca59-05c9fa37d084"
      },
      "outputs": [
        {
          "name": "stdout",
          "output_type": "stream",
          "text": [
            "[96 64 57 27 76 50 39 58 71 67  9 39 54 25  4 40 59 18 37 28]\n"
          ]
        }
      ],
      "source": [
        "data = np.random.randint(0,100,20)\n",
        "print(data)\n",
        "# ..."
      ]
    },
    {
      "cell_type": "markdown",
      "metadata": {
        "id": "b1HrvTijdwqg"
      },
      "source": [
        "## Задачи\n",
        "\n",
        "1. Создать вектор (одномерный массив) размера 10, заполненный нулями\n",
        "1. Создать вектор размера 10, заполненный единицами\n",
        "1. Создать вектор размера 10, заполненный числом 2.5\n",
        "1. Создать вектор размера 10, заполненный нулями, но пятый элемент равен 1\n",
        "1. Создать вектор со значениями от 10 до 49\n",
        "1. С помощью функции nonzero из пакета Numpy найти индексы ненулевых элементов в [1,2,0,0,4,0]\n",
        "1. Дан массив, поменять знак у элементов, значения которых между 3 и 8\n",
        "1. Проверить, одинаковы ли 2 numpy массива с действительными числами\n",
        "1. Найти скалярное произведение (сумма поэлементное произведений элементов) двух массивов одинаковой длины\n",
        "1. Найти среднее значение массива numpy\n",
        "1. Найти количество элементов массива numpy с действительными числами, которые близки к целым (разница менее 0.1)\n",
        "1. Вывести элемент массива numpy стоящие на чётных позициях"
      ]
    },
    {
      "cell_type": "markdown",
      "metadata": {
        "id": "cCnMSZ-ydwqh"
      },
      "source": [
        "![Заключительная картинка](end-image.png)"
      ]
    }
  ],
  "metadata": {
    "kernelspec": {
      "display_name": "Python 3",
      "language": "python",
      "name": "python3"
    },
    "language_info": {
      "codemirror_mode": {
        "name": "ipython",
        "version": 3
      },
      "file_extension": ".py",
      "mimetype": "text/x-python",
      "name": "python",
      "nbconvert_exporter": "python",
      "pygments_lexer": "ipython3",
      "version": "3.7.3"
    },
    "colab": {
      "provenance": []
    }
  },
  "nbformat": 4,
  "nbformat_minor": 0
}
