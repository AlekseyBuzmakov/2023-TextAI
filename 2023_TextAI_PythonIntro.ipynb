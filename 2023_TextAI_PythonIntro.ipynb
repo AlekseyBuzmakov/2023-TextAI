{
  "nbformat": 4,
  "nbformat_minor": 0,
  "metadata": {
    "colab": {
      "provenance": []
    },
    "kernelspec": {
      "name": "python3",
      "display_name": "Python 3"
    },
    "language_info": {
      "name": "python"
    }
  },
  "cells": [
    {
      "cell_type": "markdown",
      "source": [
        "# Курс TextAI\n",
        "\n",
        "# Материалы: https://bit.ly/2023-TextAI\n",
        "\n",
        "## Введение в Python\n",
        "\n",
        "* Google Colab\n",
        "* Google Disk\n",
        "* Python\n",
        "* Numpy\n",
        "* Pandas\n",
        "\n",
        "## Самостоятельная работа\n",
        "\n",
        "* База: https://app.datacamp.com/learn/courses/intro-to-python-for-data-science\n",
        "* Pandas: https://app.datacamp.com/learn/courses/data-manipulation-with-pandas\n",
        "* Функции: https://app.datacamp.com/learn/courses/python-data-science-toolbox-part-1\n",
        "* Итераторы: https://app.datacamp.com/learn/courses/python-data-science-toolbox-part-2"
      ],
      "metadata": {
        "id": "Nry2Ws6x7o2O"
      }
    },
    {
      "cell_type": "markdown",
      "source": [
        "## Подключаем Google Disk"
      ],
      "metadata": {
        "id": "noDbvT338zdz"
      }
    },
    {
      "cell_type": "code",
      "execution_count": 54,
      "metadata": {
        "colab": {
          "base_uri": "https://localhost:8080/"
        },
        "id": "Dkuc5zpV7lcs",
        "outputId": "04910fde-4cea-4acf-cb78-a8b9e5bd6add"
      },
      "outputs": [
        {
          "output_type": "stream",
          "name": "stdout",
          "text": [
            "Mounted at /content/drive\n"
          ]
        }
      ],
      "source": [
        "# МЕНЯ ВСТАВИТЬ В САМОЕ НАЧАЛО ЛЮБОГО JupyterNotebook,\n",
        "#   А ПРИ ПОВТОРНОЕ РАБОТЕ ВСЕГДА ЗАПУСКАТЬ!\n",
        "\n",
        "# Тут имя папки, в которую все сохраняется. \n",
        "#  Менять это имя можно. \n",
        "#  На Google Drive должно быть та же папка\n",
        "#  Регистр (ЗАГЛАВНЫЕ или строчные буквы) важен! \n",
        "FOLDER = \"2023-TextAI\" \n",
        "\n",
        "PATH = \"drive/MyDrive/\" + FOLDER  + \"/\"\n",
        "\n",
        "from google.colab import drive\n",
        "drive.mount('/content/drive')\n",
        "\n",
        "import os\n",
        "os.makedirs(PATH, exist_ok = True)\n",
        "\n",
        "import sys\n",
        "sys.path.append(PATH)"
      ]
    },
    {
      "cell_type": "markdown",
      "source": [
        "\n",
        "## Знакомство с Jupyter Notebook\n",
        "\n",
        "### Интерфейс\n",
        "\n",
        "Основная часть **Jupyter Notebook** состоит из _блоков_. \n",
        "\n",
        "Есть два основных вида блока:\n",
        "* Текст (Markdown)\n",
        "* Код (Python в нашем случае)\n",
        "\n",
        "Время от времени ноутбук автоматически сохраняется. Также это можно сделать вручную **CTRL+S** или с помощью соответствующей пиктограммы на Toolbar'е.\n",
        "\n",
        "Один (или несколько) блоков всегда выделены.\n",
        "\n",
        "Ниже такого выделения можно добавить ещё один блок с помощью пиктограммы '+'. Новый блок будет типа \"код\". Тип блока можно поменять с помощью отдельного контрола на Toolbar'е.\n",
        "\n",
        "Выделенный блок можно вырезать (блок удаляется, а его содержимое сохраняется) с помощью пиктограммы \"ножницы\". Также можно просто скопировать содержимое ячейки. Далее содержимое ячейки можно вставить в код ниже выделенного блока, с помощью соответсвующей пиктограммы.\n",
        "\n",
        "Отдельной кнопки на удаление блока нет. Необходимо его вырезать.\n",
        "\n",
        "Каждый блок может быть _запущен_: кнопка \"Run\" или **CTRL+Enter**. Текст превращается в красиво-отформатированный, а код запускается. **Порядок запуска блоков кода важен(!)**, а порядок записи блоков в **Notebook** нет влияет только на визуальный аспект.\n",
        "\n",
        "В ноутбуке Kernel --- это тот \"движек\", который понимает код Python и выполняет его. Его можно остановить, или перезапустить, тогда забудутся все вычисления, выполненые до этого, и нужно будет их выполнить заново. Также можно перезапустить Kernel и выполнить весь код в ноутбуке.\n",
        "\n",
        "Также с помощью меню _File->Download As_ можно сконвертировать файл в HTML, и другие форматы, чтобы показать результат работы людем без Python.\n",
        "\n",
        "### Markdown\n",
        "\n",
        "Двойной клик на текстовый блок превращает его в **Markdown**. В частности, в этом блоке можно увидеть как оформляются\n",
        "1. Заголовки (чем больше \"диезов\", тем больше уровень вложенности заголовка)\n",
        "1. Картинки\n",
        "1. Нумерованный и ненумерованный списки\n",
        "1. Курсивный и полужирный текст (две звездочки или два подчеркивания -- полжирный, одна(о) -- курсив)\n",
        "1. Ссылки\n",
        "1. Формулы\n",
        "\n",
        "В **Markdown** абзацы отделяются друг от друга пустой строкой. \n",
        "\n",
        "[Ссылка на этот ноутбук.](https://yadi.sk/d/_AaMOKWloehPKQ)\n",
        "\n",
        "Формулы оформляются с помощью **LaTeX**.\n",
        "\n",
        "* $A^5$\n",
        "* $B_2$\n",
        "* $f(x) = \\frac{A_0}{2} + \\sum \\limits_{n=1}^{\\infty} A_n \\cos \\left( \\frac{2 n \\pi x}{\\nu} - \\alpha_n \\right)$\n"
      ],
      "metadata": {
        "id": "kN3IKR7WBDkU"
      }
    },
    {
      "cell_type": "markdown",
      "source": [
        "## Python\n",
        "\n",
        "### Basics\n",
        "\n",
        "Переменные создаются с помощью '='. \n",
        "\n",
        "Имя переменной может содержать:\n",
        "* Буквы, заглавные и строчные\n",
        "* Подчеркивание\n",
        "* Цифры\n",
        "* Не может начинаться с цифры\n",
        "\n",
        "При определении типа переменной Python использует так называемый [duck typing](https://en.wikipedia.org/wiki/Duck_typing).\n",
        "\n",
        "> Если животное выглядит как лошадь и ведёт себя как лошадь, значит это лошадь.\n",
        "\n",
        "При именовании переменных обычно применяется snake_case."
      ],
      "metadata": {
        "id": "tRJnMHzn9M4S"
      }
    },
    {
      "cell_type": "code",
      "source": [
        "#  Строки:\n",
        "i_am_a_string = \"55\"\n",
        "i_am_also_a_string = '66'\n",
        "\n",
        "i_am_an_int_number = 55\n",
        "i_am_a_real_number = 55.0\n",
        "\n",
        "now_i_am_a_number = int(i_am_a_string)\n",
        "now_i_am_a_string = str(i_am_a_real_number)\n",
        "\n",
        "i_am_a_boolean = True\n",
        "i_am_also_a_boolean = (5>6)\n",
        "# А это ничто, великое и могучее...\n",
        "i_am_nothing = None"
      ],
      "metadata": {
        "id": "n7aM0ntG9Ijb"
      },
      "execution_count": 3,
      "outputs": []
    },
    {
      "cell_type": "code",
      "source": [
        "# Только результат последней строки печатается\n",
        "i_am_an_int_number\n",
        "i_am_a_real_number"
      ],
      "metadata": {
        "colab": {
          "base_uri": "https://localhost:8080/"
        },
        "id": "AoQ0XPiL-iTy",
        "outputId": "a8b92239-db60-453b-8502-717038fe2abc"
      },
      "execution_count": 4,
      "outputs": [
        {
          "output_type": "execute_result",
          "data": {
            "text/plain": [
              "55.0"
            ]
          },
          "metadata": {},
          "execution_count": 4
        }
      ]
    },
    {
      "cell_type": "code",
      "source": [
        "# Но print работает всегда\n",
        "print(i_am_an_int_number)\n",
        "print(i_am_a_real_number)\n",
        "\"DONE\""
      ],
      "metadata": {
        "colab": {
          "base_uri": "https://localhost:8080/",
          "height": 71
        },
        "id": "PXl53lKq-tHz",
        "outputId": "f2a413ee-4ce7-4669-9d42-532dd3788814"
      },
      "execution_count": 5,
      "outputs": [
        {
          "output_type": "stream",
          "name": "stdout",
          "text": [
            "55\n",
            "55.0\n"
          ]
        },
        {
          "output_type": "execute_result",
          "data": {
            "text/plain": [
              "'DONE'"
            ],
            "application/vnd.google.colaboratory.intrinsic+json": {
              "type": "string"
            }
          },
          "metadata": {},
          "execution_count": 5
        }
      ]
    },
    {
      "cell_type": "code",
      "source": [
        "# Print -- это функция, может принимать несколько аргументов\n",
        "print(i_am_an_int_number, i_am_a_real_number)"
      ],
      "metadata": {
        "colab": {
          "base_uri": "https://localhost:8080/"
        },
        "id": "4D9kTNqz_gal",
        "outputId": "53a0d352-7381-4dd2-d96d-97edae833f96"
      },
      "execution_count": 6,
      "outputs": [
        {
          "output_type": "stream",
          "name": "stdout",
          "text": [
            "55 55.0\n"
          ]
        }
      ]
    },
    {
      "cell_type": "code",
      "source": [
        "# Просто выполнили операцию, но никуда не сохранили (распечатали только, потому что результат операции является результатом последней команды в ячейке)\n",
        "i_am_an_int_number + i_am_a_real_number"
      ],
      "metadata": {
        "colab": {
          "base_uri": "https://localhost:8080/"
        },
        "id": "LfKyHBD-B4GB",
        "outputId": "aa740910-0ea6-4550-cfcc-62711ec05de6"
      },
      "execution_count": 7,
      "outputs": [
        {
          "output_type": "execute_result",
          "data": {
            "text/plain": [
              "110.0"
            ]
          },
          "metadata": {},
          "execution_count": 7
        }
      ]
    },
    {
      "cell_type": "code",
      "source": [
        "i_have_remembered_the_sum = i_am_an_int_number + i_am_a_real_number"
      ],
      "metadata": {
        "id": "AjwodlEtCFdf"
      },
      "execution_count": 8,
      "outputs": []
    },
    {
      "cell_type": "code",
      "source": [
        "# Можем переопределить значение и даже тип переменной\n",
        "#  Но перепоределять тип крайне не желательно с \"человеческой\" точки зрения\n",
        "\n",
        "i_am_an_int_number = \"I am not an int, Ah, ah, ah...!\""
      ],
      "metadata": {
        "id": "cE-_jscfCMqM"
      },
      "execution_count": 9,
      "outputs": []
    },
    {
      "cell_type": "markdown",
      "source": [
        "Есть много операций с базовыми типами, как правило, есть операция не экзотическая, т.е. если она нужна часто, то она уже реализована. \n",
        "\n",
        "[Сводная таблица с операциями.](https://www.tutorialspoint.com/python/python_basic_operators.htm)\n",
        "\n",
        "Google/Yandex тут очень хорошо помогают."
      ],
      "metadata": {
        "id": "lQg97zrRCtMS"
      }
    },
    {
      "cell_type": "markdown",
      "source": [
        "### Условный оператор if\n",
        "\n",
        "Каждый блок вызывается построчно сверху вниз. Иногда команда должна вызываться только при соблюдении определённых условий. Так мы можем распечатать, является ли число положительным или отрицательным"
      ],
      "metadata": {
        "id": "6_Ttf9lZHd93"
      }
    },
    {
      "cell_type": "code",
      "source": [
        "a = 5\n",
        "if a > 0:\n",
        "    print(\"Число 'a' -- положительное\")\n",
        "    print(\"aaa\")\n",
        "elif a < 0:\n",
        "    print(\"Число 'a' -- отрицательное\")\n",
        "else:\n",
        "    print(\"Число 'a' равно 0\")    \n",
        "        \n",
        "# Выражение a>0 возвращает логический тип, \n",
        "#   в _if_,_elif_ может быть любое другое выражение, возвращающиее логический тип\n",
        "\n",
        "if True:\n",
        "    print(\"Всегда печатаем это\")\n",
        "else:\n",
        "    print(\"Никогда не распечатается\")\n",
        "\n",
        "# Добавим ещё проверку на чётность для положительных чисел,\n",
        "#   а также покажем, что можно менять значение переменной\n",
        "res = \"Число а не проверено\"\n",
        "\n",
        "if a > 0 and (a % 2) == 0:\n",
        "    res = \"Число 'a' -- четное положительное\"\n",
        "elif a > 0 and a % 2 == 1:\n",
        "    res = \"Число 'a' -- нечетное положительное\"\n",
        "elif a < 0:\n",
        "    res = \"Число 'a' -- отрицательное\"\n",
        "else:\n",
        "    res = \"Число 'a' равно 0\"\n",
        "    \n",
        "print(res)\n",
        "\n",
        "# Также можно вкладывать один if в другой\n",
        "res = \"Число а не проверено\"\n",
        "\n",
        "if a > 0:\n",
        "    if a % 2 == 0:\n",
        "        res = \"Число 'a' -- четное положительное\"\n",
        "    else:\n",
        "        res = \"Число 'a' -- нечетное положительное\"\n",
        "elif a < 0:\n",
        "    res = \"Число 'a' -- отрицательное\"\n",
        "else:\n",
        "    res = \"Число 'a' равно 0\"\n",
        "    \n",
        "print(res)"
      ],
      "metadata": {
        "id": "qU3Ihq9KHnnY"
      },
      "execution_count": null,
      "outputs": []
    },
    {
      "cell_type": "markdown",
      "source": [
        "#### Задание: условный оператор\n",
        "\n",
        "Ниже представлены задачи, которые можно реализовать с помощью условного оператора.\n",
        "Условие задач написано в комментарии, ниже комментария идут начальные значения для переменных.\n",
        "Эти начальные параметры можно менять и нужно сделать так, чтобы код работал.\n",
        "\n",
        "Кроме того нужно проверить, что входные значения возможны."
      ],
      "metadata": {
        "id": "30c5HeIWH6SJ"
      }
    },
    {
      "cell_type": "code",
      "source": [
        "# Пример\n",
        "# Задача 0: проверить, является ли год YEAR высокосным.\n",
        "# В рамках данной задачи считать год высокосным, если он делиться на 4 нацело\n",
        "YEAR=2023\n",
        "\n",
        "# Проверяем, что год положительный\n",
        "if YEAR < 0:\n",
        "    print(\"Передан невозможный год\")\n",
        "elif YEAR % 4 == 0:\n",
        "    print(YEAR, \"год --- високосный\")\n",
        "else:\n",
        "    print(YEAR, \"год --- невисокосный\")"
      ],
      "metadata": {
        "id": "htgwNn12H7Sy"
      },
      "execution_count": null,
      "outputs": []
    },
    {
      "cell_type": "code",
      "source": [
        "# Задача 1: проверить, является ли год YEAR высокосным.\n",
        "# В рамках данной задачи считать год высокосным, \n",
        "#  если он делиться на 400 нацело или делиться на 4 и при этом не делиться на 100\n",
        "YEAR=2023\n",
        "\n",
        "# ..."
      ],
      "metadata": {
        "id": "k7GN_fPVIAx-"
      },
      "execution_count": null,
      "outputs": []
    },
    {
      "cell_type": "markdown",
      "source": [
        "## Функции\n",
        "\n",
        "Функции -- кусок кода, который вызвается, когда вызывается имя функции.\n",
        "Функции позволяют переиспользовать кусок кода многократно. Это позволяет:\n",
        "\n",
        "* Передавать другим людям свой код\n",
        "* Исправлять ошибки в только в одном месте (внутри функции, а не в каждом месте, где используется код)\n",
        "* Использовать локальные имена переменных\n",
        "\n",
        "Примером такой функции является функция **print**: \n",
        "* Мы её не писали, т.е. с нами поделились этой функцией\n",
        "* Если в ней обнаружат ошибки, то нам не придётся менять код\n",
        "* Когда мы пользуемся функцией **print**, мы не задумываемся какие имена переменных были использованы в её реализации, и, наоборот, разработчики этой функции не задумывались о именах переменных в нашем коде.\n",
        "\n",
        "Поведение функции может быть изменено посредством параметров. Так, например, функция может возвращать, является ли год высокосным в зависимости от того года, который был передан в качестве параметра."
      ],
      "metadata": {
        "id": "XyFdgV3-J87E"
      }
    },
    {
      "cell_type": "code",
      "source": [
        "def is_leap_year(year):\n",
        "    # Проверяем, что год положительный\n",
        "    if year < 0:\n",
        "        return None # Обработка ошибки\n",
        "    elif year % 4 == 0:\n",
        "        return True\n",
        "    else:\n",
        "        return False\n",
        "    \n",
        "# Либо можно упростить\n",
        "def is_leap_year2(year):\n",
        "    # Проверяем, что год положительный\n",
        "    if year < 0:\n",
        "        return None # Обработка ошибки\n",
        "    else:\n",
        "        return year % 4 == 0"
      ],
      "metadata": {
        "id": "iqHAHV4BJ7_8"
      },
      "execution_count": null,
      "outputs": []
    },
    {
      "cell_type": "code",
      "source": [
        "# Вызываем\n",
        "print(is_leap_year(2023))\n",
        "print(is_leap_year2(2023))"
      ],
      "metadata": {
        "id": "RtAzXhAgKHmo"
      },
      "execution_count": null,
      "outputs": []
    },
    {
      "cell_type": "markdown",
      "source": [
        "### Позиционные и именованные переменные\n",
        "\n",
        "При определении функции, все переменные имеют имя. Некоторые из них могут иметь значение по умолчанию.\n",
        "\n",
        "При вызове функции, параметры могут передаваться через их имя, либо по позиции. Сначала идут позиционные параметры, потом именнованные."
      ],
      "metadata": {
        "id": "Xviaqd4qKOFF"
      }
    },
    {
      "cell_type": "code",
      "source": [
        "def is_leap_year3(year, simplified=True):\n",
        "    # Проверяем, что год положительный\n",
        "    if year < 0:\n",
        "        return None # Обработка ошибки\n",
        "    elif simplified:\n",
        "        return year % 4 == 0\n",
        "    else:\n",
        "        return year % 400 == 0 or (year % 4 == 0 and year % 100 != 0)"
      ],
      "metadata": {
        "id": "kwA9xNB1KT2t"
      },
      "execution_count": null,
      "outputs": []
    },
    {
      "cell_type": "code",
      "source": [
        "print(is_leap_year3(2023)) # OK\n",
        "print(is_leap_year3(2023, True)) # OK\n",
        "print(is_leap_year3(2023, simplified=True)) # OK\n",
        "print(is_leap_year3(simplified=True, year=2023))  # OK\n",
        "print(is_leap_year3(simplified=True)) # не OK\n"
      ],
      "metadata": {
        "id": "KKQcf43DKXxp"
      },
      "execution_count": null,
      "outputs": []
    },
    {
      "cell_type": "markdown",
      "source": [
        "Если поменять имя параметра, то при вызове функции позиционные параметры не поменяются, а для именованных поменяется имя."
      ],
      "metadata": {
        "id": "vCb9Xfk6Kvgs"
      }
    },
    {
      "cell_type": "code",
      "source": [
        "def is_leap_year4(y, simplified=True):\n",
        "    # Проверяем, что год положительный\n",
        "    if y < 0:\n",
        "        return None # Обработка ошибки\n",
        "    elif simplified:\n",
        "        return y % 4 == 0\n",
        "    else:\n",
        "        return y % 400 == 0 or (y % 4 == 0 and y % 100 != 0)"
      ],
      "metadata": {
        "id": "wXf8jiysK3fK"
      },
      "execution_count": null,
      "outputs": []
    },
    {
      "cell_type": "code",
      "source": [
        "print(is_leap_year4(2023))\n",
        "print(is_leap_year4(2023, True))\n",
        "print(is_leap_year4(2023, simplified=True))\n",
        "print(is_leap_year4(simplified=True, y=2023)) # Тут y вместо year"
      ],
      "metadata": {
        "id": "zJ15OyoYK8zL"
      },
      "execution_count": null,
      "outputs": []
    },
    {
      "cell_type": "code",
      "source": [
        "# Задача: задан номер дня, месяца и года. Написать функцию, которая возвращает является ли дата возможной (True) или нет (False). \n",
        "#   Так, например, 1 января 2023 года -- возможная дата, а 31 июня 2023 -- невозможная.\n",
        "# Воспользуйтесь функцией по определению высокосности года (кстати, зачем она нам тут?)\n"
      ],
      "metadata": {
        "id": "jG1qfVNPLgze"
      },
      "execution_count": null,
      "outputs": []
    },
    {
      "cell_type": "code",
      "source": [
        "# Вызовите написанную функцию выше два раза, один раз с позиционными параметрами, другой раз с именованными\n",
        "# 1\n",
        "\n",
        "# 2\n"
      ],
      "metadata": {
        "id": "Bs9l_7yjMBkf"
      },
      "execution_count": null,
      "outputs": []
    },
    {
      "cell_type": "markdown",
      "source": [
        "## Циклы: начало\n",
        "\n",
        "Цикл повторяет определённое действие много раз, что напоминает функцию. Отличием является то, что, с одной стороны, переиспользовать код внутри цикла нельзя, но с другой стороны код может вызываться любое количество раз "
      ],
      "metadata": {
        "id": "oRLMGb4AMmsz"
      }
    },
    {
      "cell_type": "code",
      "source": [
        "i = 0\n",
        "while i < 10:\n",
        "    print(i)\n",
        "    i += 1"
      ],
      "metadata": {
        "id": "g9jhIw3kMnXS"
      },
      "execution_count": null,
      "outputs": []
    },
    {
      "cell_type": "code",
      "source": [
        "# Если нужно пробежаться определённое количество раз (или пробежаться по элементам коллекции, что будет позже),\n",
        "#   то удобнее пользоваться конструкцией for\n",
        "\n",
        "for i in range(10):\n",
        "    print(i)"
      ],
      "metadata": {
        "id": "SbWij581Msei"
      },
      "execution_count": null,
      "outputs": []
    },
    {
      "cell_type": "code",
      "source": [
        "# Пусть есть банковский вклад, а проценты начисляются без капитализацииz\n",
        "#  Распечатаем какая будет сумма после каждого прощедшего года.\n",
        "#  Предполжим, что мы не знаем математику и соответствующую формулу, зато знаем циклы :)\n",
        "\n",
        "START_CAPITAL = 100\n",
        "n_years = 3\n",
        "interest = 0.1\n",
        "\n",
        "CAPITAL = START_CAPITAL\n",
        "for i in range(n_years):\n",
        "  CAPITAL += START_CAPITAL * interest\n",
        "  print(f\"После {i} года капитал составляет {CAPITAL} тугриков.\")"
      ],
      "metadata": {
        "colab": {
          "base_uri": "https://localhost:8080/"
        },
        "id": "o7s1NCkwNXom",
        "outputId": "f6977061-913d-47ac-f015-3ccda175d2d7"
      },
      "execution_count": 10,
      "outputs": [
        {
          "output_type": "stream",
          "name": "stdout",
          "text": [
            "После 0 года капитал составляет 110.0 тугриков.\n",
            "После 1 года капитал составляет 120.0 тугриков.\n",
            "После 2 года капитал составляет 130.0 тугриков.\n"
          ]
        }
      ]
    },
    {
      "cell_type": "code",
      "source": [
        "# Задача: напишите, а затем вызовите несколько раз функцию, которая расчитывает объем вклада по истечению определенного количества лет.\n"
      ],
      "metadata": {
        "id": "4H6_v_8AOSec"
      },
      "execution_count": null,
      "outputs": []
    },
    {
      "cell_type": "markdown",
      "source": [
        "## Составные типы данных\n",
        "\n",
        "Выше мы говорили о переменных, которые могут хранить числа и строки, но что еси нужно хранить сразу несколько значений? Для этого предназначены составные типы данных: списки, кортежи, словари, множества.\n",
        "\n",
        "### Списки (lists)\n",
        "\n",
        "Списки создаются с помощью квадратных скобок."
      ],
      "metadata": {
        "id": "w93I-SCLCmYq"
      }
    },
    {
      "cell_type": "code",
      "source": [
        "five_element_list = [1,2,3,4,5]\n",
        "empty_list = []"
      ],
      "metadata": {
        "id": "qrY4mFb9_5NT"
      },
      "execution_count": null,
      "outputs": []
    },
    {
      "cell_type": "code",
      "source": [
        "# Функция len позволяет получить длину сложных объектов\n",
        "print(len(five_element_list))\n",
        "print(len(empty_list))"
      ],
      "metadata": {
        "id": "wRQgDV_UPNMK"
      },
      "execution_count": null,
      "outputs": []
    },
    {
      "cell_type": "code",
      "source": [
        "# Получить доступ к элементу списка можно по индексу с помощью квадратных скобок\n",
        "#  Самый первый элемент имеет индес 0\n",
        "print(five_element_list[0])\n",
        "# Для нумерации списка с конца можно использовать отрицательные индексы\n",
        "#  Последний с конце имеет индекс -1, а следующий с конца -- -2 и т.д.\n",
        "print(five_element_list[-2])\n",
        "\n",
        "# Либо сразу несколько элементов\n",
        "print(five_element_list[1:3])"
      ],
      "metadata": {
        "id": "UJc4Rq80PO54"
      },
      "execution_count": null,
      "outputs": []
    },
    {
      "cell_type": "code",
      "source": [
        "# В списке могут лежать элементы разных типов одновременно\n",
        "hetero_list = [1, \"текст 2\", 3]\n",
        "print(hetero_list)"
      ],
      "metadata": {
        "id": "0pq7Vuc5PTs3"
      },
      "execution_count": null,
      "outputs": []
    },
    {
      "cell_type": "code",
      "source": [
        "# По индексу можно менять значения\n",
        "five_element_list[3] = 33 # Нумерация с нуля!\n",
        "print(five_element_list)"
      ],
      "metadata": {
        "id": "UAMBOcCPPYDg"
      },
      "execution_count": null,
      "outputs": []
    },
    {
      "cell_type": "code",
      "source": [
        "# Можно в конец списка добавить новый элемент\n",
        "five_element_list.append(33)\n",
        "five_element_list.append(1)\n",
        "print(five_element_list)"
      ],
      "metadata": {
        "id": "5EIW42tCPag6"
      },
      "execution_count": null,
      "outputs": []
    },
    {
      "cell_type": "code",
      "source": [
        "# Можно удалять первый найденный элемент по значению\n",
        "five_element_list.remove(33)\n",
        "print(five_element_list)"
      ],
      "metadata": {
        "id": "gk5sK9xwPc1a"
      },
      "execution_count": null,
      "outputs": []
    },
    {
      "cell_type": "code",
      "source": [
        "# Можно удалять первый элемент по значению\n",
        "five_element_list.remove(33)\n",
        "print(five_element_list)"
      ],
      "metadata": {
        "id": "cDYv12MaPiXR"
      },
      "execution_count": null,
      "outputs": []
    },
    {
      "cell_type": "code",
      "source": [
        "# Можно удалять первый элемент по значению\n",
        "five_element_list.remove(33)\n",
        "print(five_element_list)"
      ],
      "metadata": {
        "id": "UL5fV-qPPkh7"
      },
      "execution_count": null,
      "outputs": []
    },
    {
      "cell_type": "markdown",
      "source": [
        "### Словари\n",
        "\n",
        "Словарь -- структура данных, в которых элементы доступны по ключю (уникальному имени элемента), при этом ключ у каждого элемента должен быть уникальным. Для списка, подобным ключем являлся индекс элемента."
      ],
      "metadata": {
        "id": "o6fKjtDiRvIY"
      }
    },
    {
      "cell_type": "code",
      "source": [
        "# Создаем словарь\n",
        "\n",
        "three_elem_dict = {1:'value1', 5:'value2', 'key3':'value3'}\n",
        "print(three_elem_dict)"
      ],
      "metadata": {
        "id": "ah83sRsARuEi"
      },
      "execution_count": null,
      "outputs": []
    },
    {
      "cell_type": "code",
      "source": [
        "# Получаем элемент по ключу\n",
        "print(three_elem_dict[1])"
      ],
      "metadata": {
        "id": "QVj8TKfyR2Qb"
      },
      "execution_count": null,
      "outputs": []
    },
    {
      "cell_type": "code",
      "source": [
        "# Если элемента нет, то ошибка\n",
        "print(three_elem_dict['1'])"
      ],
      "metadata": {
        "id": "Th-SKHlxR9Sj"
      },
      "execution_count": null,
      "outputs": []
    },
    {
      "cell_type": "code",
      "source": [
        "# Вернём значение по умолчанию, если нет\n",
        "print(three_elem_dict.get('1',None))\n",
        "print(three_elem_dict.get(1,None))"
      ],
      "metadata": {
        "id": "XNjsssChR-Fi"
      },
      "execution_count": null,
      "outputs": []
    },
    {
      "cell_type": "code",
      "source": [
        "# Добавляем новый элемент с новым ключем\n",
        "three_elem_dict['key4']='value4'\n",
        "print(three_elem_dict)"
      ],
      "metadata": {
        "id": "9aU1zm90SGK7"
      },
      "execution_count": null,
      "outputs": []
    },
    {
      "cell_type": "code",
      "source": [
        "# Удаляем элемент\n",
        "del(three_elem_dict['key3'])\n",
        "print(three_elem_dict)"
      ],
      "metadata": {
        "id": "p1aYNFivSIDj"
      },
      "execution_count": null,
      "outputs": []
    },
    {
      "cell_type": "code",
      "source": [
        "# Сохраняем то что удаляем отдельно\n",
        "removed = three_elem_dict.pop('key4')\n",
        "print(removed)\n",
        "print(three_elem_dict)"
      ],
      "metadata": {
        "id": "z5TQMlNfSMmn"
      },
      "execution_count": null,
      "outputs": []
    },
    {
      "cell_type": "code",
      "source": [
        "# Список ключей\n",
        "print(three_elem_dict.keys())"
      ],
      "metadata": {
        "id": "xw-8pVaESPPY"
      },
      "execution_count": null,
      "outputs": []
    },
    {
      "cell_type": "markdown",
      "source": [
        "### ВАЖНО (!): присвоение элементов со сложными объектами\n",
        "\n",
        "При присвоении одной переменной значения другой переменной, обе переменные указывают на одну(!) область памяти, а значит при редактировании одной переменной редактируется и другая."
      ],
      "metadata": {
        "id": "WIpiDnrISR4M"
      }
    },
    {
      "cell_type": "code",
      "source": [
        "a = {1:'1',2:'2'}\n",
        "b = a\n",
        "print(a, b)\n",
        "b[1]='11'\n",
        "print(a, b)"
      ],
      "metadata": {
        "id": "CAQIGlyKSSh8"
      },
      "execution_count": null,
      "outputs": []
    },
    {
      "cell_type": "code",
      "source": [
        "a = [[1,2],[2,3]]\n",
        "for el in a:\n",
        "    el[0] = 100\n",
        "print(a)"
      ],
      "metadata": {
        "id": "OxiTvP_1SXbr"
      },
      "execution_count": null,
      "outputs": []
    },
    {
      "cell_type": "code",
      "source": [
        "# Если нужна копия, то можно использовать один из следующих вариантов\n",
        "a = {1:'1',2:'2'}\n",
        "b = dict(a)\n",
        "c = a.copy()\n",
        "print(a,b,c)\n",
        "a[1]='11'\n",
        "print(a,b,c)"
      ],
      "metadata": {
        "id": "aZ69Fs-rSe1c"
      },
      "execution_count": null,
      "outputs": []
    },
    {
      "cell_type": "code",
      "source": [],
      "metadata": {
        "id": "ZAVyMcrJS9VA"
      },
      "execution_count": null,
      "outputs": []
    },
    {
      "cell_type": "markdown",
      "metadata": {
        "id": "_SxVc4o2UOLZ"
      },
      "source": [
        "## Циклы: продолжение\n",
        "\n",
        "Возможно проводить циклы по коллекциям."
      ]
    },
    {
      "cell_type": "code",
      "execution_count": null,
      "metadata": {
        "id": "Klw_yvMsUOLZ",
        "outputId": "21780aa3-000d-4e3d-973a-ba5cf25a093c"
      },
      "outputs": [
        {
          "name": "stdout",
          "output_type": "stream",
          "text": [
            "1\n",
            "2\n",
            "3\n",
            "4\n",
            "five\n",
            "{1: '1', 2: '2'}\n"
          ]
        }
      ],
      "source": [
        "l = [1,2,3,4,\"five\",{1:\"1\",2:\"2\"}]\n",
        "for e in l:\n",
        "    print(e)"
      ]
    },
    {
      "cell_type": "code",
      "execution_count": null,
      "metadata": {
        "id": "fPk2Gk2nUOLZ",
        "outputId": "5e9b7163-2c18-4281-9089-8b44b3da6532"
      },
      "outputs": [
        {
          "name": "stdout",
          "output_type": "stream",
          "text": [
            "1\n",
            "2\n",
            "three\n"
          ]
        }
      ],
      "source": [
        "d = {1:\"1\",2:\"2\",\"three\":[1,2]}\n",
        "for k in d:\n",
        "    print(k)"
      ]
    },
    {
      "cell_type": "code",
      "execution_count": null,
      "metadata": {
        "id": "RfnBpvAlUOLZ",
        "outputId": "40c98803-fec4-44ea-c1b8-e178ab28bf52"
      },
      "outputs": [
        {
          "name": "stdout",
          "output_type": "stream",
          "text": [
            "Ключ: 1 Значение: 1\n",
            "Ключ: 2 Значение: 2\n",
            "Ключ: three Значение: [1, 2]\n"
          ]
        }
      ],
      "source": [
        "# А также с ключем\n",
        "for k,v in d.items():\n",
        "    print(\"Ключ:\",k, \"Значение:\", v)"
      ]
    },
    {
      "cell_type": "markdown",
      "source": [
        "### Задание:\n",
        "1. Создайте произвольный список из 10 элементов с повторяющимися элементами\n",
        "1. Создайте словарь, в котором ключами будут элементы из созданного списка, а значениями -- количество повторов каждого элемента"
      ],
      "metadata": {
        "id": "C7uTJRfnUlom"
      }
    },
    {
      "cell_type": "code",
      "source": [
        "\n"
      ],
      "metadata": {
        "id": "0y7LcEFuUcyO"
      },
      "execution_count": null,
      "outputs": []
    },
    {
      "cell_type": "markdown",
      "metadata": {
        "id": "xYnPOCeRUOLZ"
      },
      "source": [
        "Часто циклы занимают много вычислительных ресурсов, поэтому для повышения эффективности вычислений и повышения читаемости кода бывает нужно либо остановить весь цикл или пропустить текущую итерацию."
      ]
    },
    {
      "cell_type": "code",
      "execution_count": null,
      "metadata": {
        "id": "fT_vyJwUUOLa",
        "outputId": "14c27f8f-e1b9-4733-d288-4a3f846c650e"
      },
      "outputs": [
        {
          "name": "stdout",
          "output_type": "stream",
          "text": [
            "1999\n",
            "2001\n",
            "2004\n",
            "True\n"
          ]
        }
      ],
      "source": [
        "# Пусть функция проверки високосности года является \"меделенной\"\n",
        "# Нужно проверить, есть ли хотя бы один високосный год в списке\n",
        "\n",
        "years = [1999, 2001, 2004, 2000, 2100]\n",
        "has_leap_year = False\n",
        "for y in years:\n",
        "    print(y)\n",
        "    if is_leap_year(y):\n",
        "        # Точно есть хотя бы один\n",
        "        has_leap_year = True\n",
        "        break\n",
        "print(has_leap_year)"
      ]
    },
    {
      "cell_type": "code",
      "execution_count": null,
      "metadata": {
        "id": "DzfK-zgMUOLa",
        "outputId": "bb316c4e-27cd-4931-de3f-ef4dc2d38200"
      },
      "outputs": [
        {
          "name": "stdout",
          "output_type": "stream",
          "text": [
            "Начало: 1999\n",
            "Начало: 2001\n",
            "Начало: 2004\n",
            "Проверка: 2004\n",
            "True\n"
          ]
        }
      ],
      "source": [
        "# Однако, возможно, в некоторых случаях вы можете быстро проверить, что год не високосный, \n",
        "#   например, в случае если год нечётный\n",
        "\n",
        "years = [1999, 2001, 2004, 2000, 2100]\n",
        "has_leap_year = False\n",
        "for y in years:\n",
        "    print(\"Начало:\", y)\n",
        "    if y % 2 == 1:\n",
        "        # Точно не високосный\n",
        "        continue\n",
        "    print(\"Проверка:\", y)\n",
        "    if is_leap_year(y):\n",
        "        # Точно есть хотя бы один\n",
        "        has_leap_year = True\n",
        "        break\n",
        "print(has_leap_year)"
      ]
    },
    {
      "cell_type": "markdown",
      "metadata": {
        "id": "Ug9T498KUOLa"
      },
      "source": [
        "### Задание: циклы\n",
        "\n",
        "Необходимо написать функцию, которая проверяет, что в списке целых чисел есть простое число.\n",
        "\n",
        "Помните, что функция проверки на простое число -- достаточно медленная. Также помните, что чётное число может быть простым, только если это 2."
      ]
    },
    {
      "cell_type": "code",
      "execution_count": null,
      "metadata": {
        "id": "IkjeW-wTUOLa"
      },
      "outputs": [],
      "source": [
        "# ..."
      ]
    },
    {
      "cell_type": "markdown",
      "source": [
        "# Классы\n",
        "\n",
        "Классы это структура данных со своими методами. Можно создать несколько независимых объектов одного класса. У каждогой объект будет свое состояние"
      ],
      "metadata": {
        "id": "Vohx-5k6VPlg"
      }
    },
    {
      "cell_type": "code",
      "source": [
        "class Worker:\n",
        "  def __init__(self, name):\n",
        "    self.name = name\n",
        "    print(f\"Работник {self.name} родился!\")\n",
        "\n",
        "  def __call__(self):\n",
        "    print(f\"Работник {self.name}: работу работаю на работе...\")\n",
        "\n",
        "class Boss:\n",
        "  def __init__(self, name):\n",
        "    self.name = name\n",
        "    print(f\"Бос {self.name} родился!\")\n",
        "\n",
        "  def __call__(self):\n",
        "    print(f\"Бос {self.name}: Работать, работать, работать!\")\n",
        "\n",
        "  def give_some_lyuley(self, worker):\n",
        "    if not isinstance(worker, Worker):\n",
        "      print(f\"Бос {self.name}: люлей выдаю только работникам!\")\n",
        "    else:\n",
        "      print(f\"Бос {self.name} выдал люлей работнику {worker.name}.\")\n",
        "\n",
        "class BigBoss(Boss):\n",
        "  def __init__(self, name):\n",
        "    super(BigBoss, self).__init__(name)\n",
        "    self.name = name\n",
        "    print(f\"БольшойБос {self.name} родился!\")\n",
        "\n",
        "  def give_some_lyuley(self, worker):\n",
        "    if isinstance(worker, Boss):\n",
        "      print(f\"BigБос {self.name} выдал люлей босу {worker.name}.\")\n",
        "    elif isinstance(worker, Worker):\n",
        "      print(f\"BigБос {self.name} выдал люлей работнику {worker.name}.\")\n",
        "    elif isinstance(worker, BigBoss):\n",
        "      print(f\"BigБос {self.name}: больших начальников не ругаю!\")\n",
        "    else:\n",
        "      print(f\"BigБос {self.name}: а это что за тюлень!?\")\n",
        "  \n"
      ],
      "metadata": {
        "id": "ItDdofIlVcdd"
      },
      "execution_count": 47,
      "outputs": []
    },
    {
      "cell_type": "code",
      "source": [
        "w1 = Worker(\"w1\")\n",
        "w2 = Worker(\"w2\")"
      ],
      "metadata": {
        "colab": {
          "base_uri": "https://localhost:8080/"
        },
        "id": "Y4ptz7oRX0xU",
        "outputId": "b18cc7c6-f291-4ab8-e792-bb5561bf825d"
      },
      "execution_count": 48,
      "outputs": [
        {
          "output_type": "stream",
          "name": "stdout",
          "text": [
            "Работник w1 родился!\n",
            "Работник w2 родился!\n"
          ]
        }
      ]
    },
    {
      "cell_type": "code",
      "source": [
        "b1 = Boss(\"B1\")\n",
        "b2 = Boss(\"B2\")"
      ],
      "metadata": {
        "colab": {
          "base_uri": "https://localhost:8080/"
        },
        "id": "psYGRKqlX7qK",
        "outputId": "3ba6af63-d0c4-4bc1-9230-af4170fa6d06"
      },
      "execution_count": 49,
      "outputs": [
        {
          "output_type": "stream",
          "name": "stdout",
          "text": [
            "Бос B1 родился!\n",
            "Бос B2 родился!\n"
          ]
        }
      ]
    },
    {
      "cell_type": "code",
      "source": [
        "bb1 = BigBoss(\"BB1\")\n",
        "bb2 = BigBoss(\"BB2\")"
      ],
      "metadata": {
        "colab": {
          "base_uri": "https://localhost:8080/"
        },
        "id": "YPoaGVoYYA59",
        "outputId": "2cab3e36-2774-483e-d653-a2da4ce23626"
      },
      "execution_count": 50,
      "outputs": [
        {
          "output_type": "stream",
          "name": "stdout",
          "text": [
            "Бос BB1 родился!\n",
            "БольшойБос BB1 родился!\n",
            "Бос BB2 родился!\n",
            "БольшойБос BB2 родился!\n"
          ]
        }
      ]
    },
    {
      "cell_type": "code",
      "source": [
        "b1()\n",
        "b1.give_some_lyuley(w1)"
      ],
      "metadata": {
        "colab": {
          "base_uri": "https://localhost:8080/"
        },
        "id": "e3AZPS_HYm2Z",
        "outputId": "5feb7a90-d349-40c9-bb2e-61e93a2f3a16"
      },
      "execution_count": 51,
      "outputs": [
        {
          "output_type": "stream",
          "name": "stdout",
          "text": [
            "Бос B1: Работать, работать, работать!\n",
            "Бос B1 выдал люлей работнику w1.\n"
          ]
        }
      ]
    },
    {
      "cell_type": "code",
      "source": [
        "bb1()\n",
        "bb1.give_some_lyuley(b1)"
      ],
      "metadata": {
        "colab": {
          "base_uri": "https://localhost:8080/"
        },
        "id": "XIqUGq1FY9lr",
        "outputId": "350e7d11-09dd-4bda-e41d-6e494113f953"
      },
      "execution_count": 52,
      "outputs": [
        {
          "output_type": "stream",
          "name": "stdout",
          "text": [
            "Бос BB1: Работать, работать, работать!\n",
            "BigБос BB1 выдал люлей босу B1.\n"
          ]
        }
      ]
    },
    {
      "cell_type": "markdown",
      "source": [
        "Рассмотрим класс списка"
      ],
      "metadata": {
        "id": "D-fO_m2AaQ-4"
      }
    },
    {
      "cell_type": "code",
      "execution_count": null,
      "metadata": {
        "id": "rcbsMAb2UOLV"
      },
      "outputs": [],
      "source": [
        "class MyList:\n",
        "    def __init__(self,s):\n",
        "        self.__s=list(s)\n",
        "    def append(self, new_elem):\n",
        "        self.__s.append(new_elem)\n",
        "    def get(self, i):\n",
        "        return self.__s[i]\n",
        "    def print(self):\n",
        "        print(self.__s)"
      ]
    },
    {
      "cell_type": "code",
      "execution_count": null,
      "metadata": {
        "scrolled": true,
        "id": "Jq0-A6-qUOLW",
        "outputId": "0f1005b1-9928-405c-e6f2-4cebba00691f"
      },
      "outputs": [
        {
          "name": "stdout",
          "output_type": "stream",
          "text": [
            "[1, 2, 3]\n",
            "None\n",
            "3\n",
            "[1, 2, 3, 5]\n"
          ]
        }
      ],
      "source": [
        "a = MyList([1,2,3])\n",
        "a.print()\n",
        "print(a.append(5))\n",
        "print(a.get(2))\n",
        "a.print()"
      ]
    },
    {
      "cell_type": "markdown",
      "metadata": {
        "id": "rxiEHZlVUOLW"
      },
      "source": [
        "### Задание: классы\n",
        "\n",
        "Напишите небольшой класс с почти теми же методами, что и класс выше, который имитирует множество.\n",
        "В качестве **__s** используйте также список, но при этом в **append** необходимо проверить, что такого элемента в множестве нет, а вместо функции **get** напишите функцию **has**, проверяющую, что элемент есть во множестве. "
      ]
    },
    {
      "cell_type": "code",
      "execution_count": null,
      "metadata": {
        "id": "WBOP19ZSUOLW",
        "outputId": "9c3706fb-28c3-47ee-d55d-655587b3d075"
      },
      "outputs": [
        {
          "name": "stdout",
          "output_type": "stream",
          "text": [
            "True\n"
          ]
        }
      ],
      "source": [
        "# подсказка\n",
        "a=[1,2,3]\n",
        "b = 2\n",
        "print(b in a)"
      ]
    },
    {
      "cell_type": "code",
      "execution_count": null,
      "metadata": {
        "id": "Wz0QddRHUOLW"
      },
      "outputs": [],
      "source": [
        "# ..."
      ]
    },
    {
      "cell_type": "markdown",
      "metadata": {
        "id": "ZtAHOg2cUOLW"
      },
      "source": [
        "## Модули и пространства имен\n",
        "\n",
        "Модули необходимы для передачи кода между людьми. В дальнейшем мы будем пользоваться такими модулями как **pandas**, **numpy**, **matplotlib**, **sklearn**, которые реализуют за нас оснонвые операции по работе и анализу данных.\n",
        "\n",
        "Для демонстрации создадим файлmy_list.py либо рядом с блокнотом, либо в системной паке. \n",
        "\n",
        "А также поместим его в подпапку tmp.\n",
        "\n",
        "Его содержимое представлено ниже:"
      ]
    },
    {
      "cell_type": "code",
      "execution_count": null,
      "metadata": {
        "id": "Aq2oWO9iUOLX"
      },
      "outputs": [],
      "source": [
        "class MyList:\n",
        "    def __init__(self,s):\n",
        "        self.__s=list(s)\n",
        "    def append(self, new_elem):\n",
        "        self.__s.append(new_elem)\n",
        "    def get(self, i):\n",
        "        return self.__s[i]\n",
        "    def print(self):\n",
        "        print(\"MyList:\", self.__s)\n",
        "        \n",
        "class MyList2:\n",
        "    def __init__(self,s):\n",
        "        self.__s=list(s)\n",
        "    def append(self, new_elem):\n",
        "        self.__s.append(new_elem)\n",
        "    def get(self, i):\n",
        "        return self.__s[i]\n",
        "    def print(self):\n",
        "        print(\"MyList2:\", self.__s)"
      ]
    },
    {
      "cell_type": "markdown",
      "metadata": {
        "id": "kQJ5HZ8MUOLX"
      },
      "source": [
        "Мы можем воспользоваться классами определёнными в этом файле, если импортируем его. Будем его рассматривать как отдельный модуль."
      ]
    },
    {
      "cell_type": "code",
      "execution_count": 55,
      "metadata": {
        "id": "iBtJf2qRUOLX",
        "outputId": "1fb25688-77ac-44e5-b8a3-f17e6ec89196",
        "colab": {
          "base_uri": "https://localhost:8080/"
        }
      },
      "outputs": [
        {
          "output_type": "stream",
          "name": "stdout",
          "text": [
            "MyList: [1, 2]\n",
            "MyList2: [1, 2]\n"
          ]
        }
      ],
      "source": [
        "import my_list\n",
        "\n",
        "l1 = my_list.MyList([1,2])\n",
        "l2 = my_list.MyList2([1,2])\n",
        "l1.print()\n",
        "l2.print()"
      ]
    },
    {
      "cell_type": "code",
      "execution_count": 56,
      "metadata": {
        "id": "1C-C0z50UOLX",
        "outputId": "a190fff3-ec4c-4445-d3ca-7abbddaf1813",
        "colab": {
          "base_uri": "https://localhost:8080/",
          "height": 237
        }
      },
      "outputs": [
        {
          "output_type": "stream",
          "name": "stdout",
          "text": [
            "MyList: [1, 2]\n"
          ]
        },
        {
          "output_type": "error",
          "ename": "NameError",
          "evalue": "ignored",
          "traceback": [
            "\u001b[0;31m---------------------------------------------------------------------------\u001b[0m",
            "\u001b[0;31mNameError\u001b[0m                                 Traceback (most recent call last)",
            "\u001b[0;32m<ipython-input-56-61704e248fe5>\u001b[0m in \u001b[0;36m<cell line: 6>\u001b[0;34m()\u001b[0m\n\u001b[1;32m      4\u001b[0m \u001b[0ml1\u001b[0m \u001b[0;34m=\u001b[0m \u001b[0mMyList\u001b[0m\u001b[0;34m(\u001b[0m\u001b[0;34m[\u001b[0m\u001b[0;36m1\u001b[0m\u001b[0;34m,\u001b[0m\u001b[0;36m2\u001b[0m\u001b[0;34m]\u001b[0m\u001b[0;34m)\u001b[0m\u001b[0;34m\u001b[0m\u001b[0;34m\u001b[0m\u001b[0m\n\u001b[1;32m      5\u001b[0m \u001b[0ml1\u001b[0m\u001b[0;34m.\u001b[0m\u001b[0mprint\u001b[0m\u001b[0;34m(\u001b[0m\u001b[0;34m)\u001b[0m\u001b[0;34m\u001b[0m\u001b[0;34m\u001b[0m\u001b[0m\n\u001b[0;32m----> 6\u001b[0;31m \u001b[0ml2\u001b[0m \u001b[0;34m=\u001b[0m \u001b[0mMyList2\u001b[0m\u001b[0;34m(\u001b[0m\u001b[0;34m[\u001b[0m\u001b[0;36m1\u001b[0m\u001b[0;34m,\u001b[0m\u001b[0;36m2\u001b[0m\u001b[0;34m]\u001b[0m\u001b[0;34m)\u001b[0m\u001b[0;34m\u001b[0m\u001b[0;34m\u001b[0m\u001b[0m\n\u001b[0m\u001b[1;32m      7\u001b[0m \u001b[0ml2\u001b[0m\u001b[0;34m.\u001b[0m\u001b[0mprint\u001b[0m\u001b[0;34m(\u001b[0m\u001b[0;34m)\u001b[0m\u001b[0;34m\u001b[0m\u001b[0;34m\u001b[0m\u001b[0m\n",
            "\u001b[0;31mNameError\u001b[0m: name 'MyList2' is not defined"
          ]
        }
      ],
      "source": [
        "# Можно импортировать только один класс\n",
        "from my_list import MyList\n",
        "\n",
        "l1 = MyList([1,2])\n",
        "l1.print()\n",
        "l2 = MyList2([1,2])\n",
        "l2.print()"
      ]
    },
    {
      "cell_type": "code",
      "execution_count": 57,
      "metadata": {
        "id": "7vnSIXYUUOLX",
        "outputId": "4654f5a9-6f14-4c9b-e716-fb257c611c74",
        "colab": {
          "base_uri": "https://localhost:8080/"
        }
      },
      "outputs": [
        {
          "output_type": "stream",
          "name": "stdout",
          "text": [
            "MyList: [1, 2]\n",
            "MyList2: [1, 2]\n"
          ]
        }
      ],
      "source": [
        "# А также можно переименовать модуль или импортируемый объект\n",
        "import my_list as m_l\n",
        "\n",
        "l1 = m_l.MyList([1,2])\n",
        "l2 = m_l.MyList2([1,2])\n",
        "l1.print()\n",
        "l2.print()"
      ]
    },
    {
      "cell_type": "code",
      "execution_count": 58,
      "metadata": {
        "id": "sXd3iu3FUOLY",
        "outputId": "8dfe9d50-c18d-445b-affe-179a2b4cc207",
        "colab": {
          "base_uri": "https://localhost:8080/"
        }
      },
      "outputs": [
        {
          "output_type": "stream",
          "name": "stdout",
          "text": [
            "MyList: [1, 2]\n"
          ]
        }
      ],
      "source": [
        "# Можно импортировать только один класс\n",
        "from my_list import MyList as ML\n",
        "\n",
        "l1 = ML([1,2])\n",
        "l1.print()"
      ]
    },
    {
      "cell_type": "code",
      "source": [
        "import tmp"
      ],
      "metadata": {
        "id": "Y5I2LNLJbIFu"
      },
      "execution_count": 59,
      "outputs": []
    },
    {
      "cell_type": "code",
      "source": [
        "from tmp import my_list as tmp_mylist\n",
        "tmp_mylist.MyList([1,2]).print()"
      ],
      "metadata": {
        "colab": {
          "base_uri": "https://localhost:8080/"
        },
        "id": "loX8aL-xbJ8V",
        "outputId": "40293068-4a5c-4961-fffb-ccfe2dca1a26"
      },
      "execution_count": 66,
      "outputs": [
        {
          "output_type": "stream",
          "name": "stdout",
          "text": [
            "MyList: [1, 2]\n"
          ]
        }
      ]
    },
    {
      "cell_type": "markdown",
      "metadata": {
        "id": "kO9_pv26UOLY"
      },
      "source": [
        "### Задание: модули и пространства имен\n",
        "\n",
        "Скопируйте в отдельный файл my_set.py описанный вами класс. Загрузите его в этот блокнот разными, описанными выше способами и создайте соответсвующий объект."
      ]
    },
    {
      "cell_type": "code",
      "execution_count": null,
      "metadata": {
        "id": "oHb7-nzzUOLY"
      },
      "outputs": [],
      "source": [
        "# ..."
      ]
    },
    {
      "cell_type": "markdown",
      "metadata": {
        "id": "rL7hSaUnUOLa"
      },
      "source": [
        "# Продвинутые темы\n",
        "\n",
        "## Функция как переменная\n",
        "\n",
        "Функция может рассматриваться как переменная."
      ]
    },
    {
      "cell_type": "code",
      "execution_count": null,
      "metadata": {
        "id": "mdPEFeqUUOLb",
        "outputId": "af655cf2-b01a-47f4-b84b-080d75d97119"
      },
      "outputs": [
        {
          "name": "stdout",
          "output_type": "stream",
          "text": [
            "[1, 4, 9]\n",
            "[1, 4, 9]\n"
          ]
        }
      ],
      "source": [
        "# Предположим, мы хотим применить функцию сразу ко всем элементами списка\n",
        "\n",
        "def x2(x):\n",
        "    return x**2\n",
        "\n",
        "x22 = x2\n",
        "\n",
        "def apply_f(l, f):\n",
        "    res = []\n",
        "    for e in l:\n",
        "        res.append(f(e))\n",
        "    return res\n",
        "\n",
        "print(apply_f([1,2,3],x2))\n",
        "print(apply_f([1,2,3],x22))"
      ]
    },
    {
      "cell_type": "code",
      "execution_count": null,
      "metadata": {
        "id": "LSyY23xlUOLb",
        "outputId": "75eea06a-db37-468d-db37-2e0f37391e2c"
      },
      "outputs": [
        {
          "name": "stdout",
          "output_type": "stream",
          "text": [
            "[True, False, True]\n"
          ]
        }
      ],
      "source": [
        "# Проверка на чётность\n",
        "\n",
        "def is_even(x):\n",
        "    return x % 2 == 1\n",
        "print(apply_f([1,2,3],is_even))"
      ]
    },
    {
      "cell_type": "markdown",
      "metadata": {
        "id": "NSPBwwipUOLb"
      },
      "source": [
        "### Задание: функция как переменная\n",
        "\n",
        "Распечатайте результат проверки каждого числа в списке на простоту (простые числа)"
      ]
    },
    {
      "cell_type": "code",
      "execution_count": null,
      "metadata": {
        "id": "8yiuFw5wUOLb"
      },
      "outputs": [],
      "source": [
        "# ..."
      ]
    },
    {
      "cell_type": "markdown",
      "metadata": {
        "id": "AF9er0OCUOLc"
      },
      "source": [
        "## lambda функции"
      ]
    },
    {
      "cell_type": "code",
      "execution_count": null,
      "metadata": {
        "id": "kzzzX5vRUOLc",
        "outputId": "25250899-7143-4d09-ec37-bf122a5dc7e5"
      },
      "outputs": [
        {
          "name": "stdout",
          "output_type": "stream",
          "text": [
            "[1, 4, 9]\n",
            "[1, 4, 9]\n"
          ]
        }
      ],
      "source": [
        "# Функцию x2 можно переписать через lambda, т.е. неименованную функцию\n",
        "\n",
        "x2 = lambda x: x**2\n",
        "print(apply_f([1,2,3],x2))\n",
        "\n",
        "# или сразу напрямую\n",
        "print(apply_f([1,2,3], lambda x: x**2))"
      ]
    },
    {
      "cell_type": "markdown",
      "metadata": {
        "id": "mB4_LBqkUOLc"
      },
      "source": [
        "### Задание: lambda функцию\n",
        "\n",
        "Через lambda функцию переведите список из чисел от 0 до 1 в проценты в виде строки от \"0%\" до \"100%\"."
      ]
    },
    {
      "cell_type": "code",
      "execution_count": null,
      "metadata": {
        "id": "en2biKBSUOLc",
        "outputId": "eb620b08-96e7-4a44-d2c9-6a5adabaa18c"
      },
      "outputs": [
        {
          "name": "stdout",
          "output_type": "stream",
          "text": [
            "20.0%\n"
          ]
        }
      ],
      "source": [
        "# Пусть есть число\n",
        "x = 0.2\n",
        "# Тогда в процентах это будет\n",
        "print(str(x*100)+\"%\")\n",
        "\n",
        "# Задайте произвольный список из чисел от 0 до 1 \n",
        "#   и замените его на процентную запись с помощью lambda функции\n",
        "# ..."
      ]
    },
    {
      "cell_type": "markdown",
      "metadata": {
        "id": "bWc6Gx2-UOLc"
      },
      "source": [
        "## list comprehension (создание списков)\n",
        "\n"
      ]
    },
    {
      "cell_type": "code",
      "execution_count": null,
      "metadata": {
        "id": "lwvt1GElUOLd",
        "outputId": "1efef3d5-b436-42b2-d46d-f9653faadc0b"
      },
      "outputs": [
        {
          "name": "stdout",
          "output_type": "stream",
          "text": [
            "[1, 2, 3, 4, 5, 6, 7, 8, 9, 10, 11, 12, 13, 14, 15, 16, 17, 18, 19, 20, 21, 22, 23, 24]\n",
            "[1, 4, 9, 16, 25, 36, 49, 64, 81, 100, 121, 144, 169, 196, 225, 256, 289, 324, 361, 400, 441, 484, 529, 576]\n"
          ]
        }
      ],
      "source": [
        "x_list = list(range(1,25))\n",
        "print(x_list)\n",
        "\n",
        "# Вместо функции apply_f, используем конструкции языка\n",
        "res = [x2(x) for x in x_list]\n",
        "print(res)"
      ]
    },
    {
      "cell_type": "code",
      "execution_count": null,
      "metadata": {
        "id": "DXf2lQviUOLd",
        "outputId": "1906a8cc-c0cf-4414-871d-a12b3192c8c9"
      },
      "outputs": [
        {
          "name": "stdout",
          "output_type": "stream",
          "text": [
            "[3, 6, 9, 12, 15, 18, 21, 24]\n",
            "[9, 36, 81, 144, 225, 324, 441, 576]\n"
          ]
        }
      ],
      "source": [
        "# При этом можно отбирать только некоторые элементы, например, кратные тройке\n",
        "res = [x for x in x_list if x % 3 == 0]\n",
        "print(res)\n",
        "# Либо ещё и применить какую-то функцию\n",
        "res = [x**2 for x in x_list if x % 3 == 0]\n",
        "print(res)"
      ]
    },
    {
      "cell_type": "markdown",
      "metadata": {
        "id": "Ps-GPcSnUOLd"
      },
      "source": [
        "Также с списки можно генерить на основании других \"итерируемых\" объектов, например, файлов.\n",
        "\n",
        "Пусть если файл [log.txt](https://yadi.sk/d/vTnh0MtalzSLBg) со следующим содержимым (первая колонка -- IP, вторая количество байт):\n",
        "\n",
        "> 127.0.0.1 120\n",
        "\n",
        "> 10.1.1.1 210\n",
        "\n",
        "> 127.0.0.1 80\n",
        "\n",
        "> 10.1.1.1 215\n",
        "\n",
        "> 10.1.1.1 200\n",
        "\n",
        "> 10.1.1.2 210"
      ]
    },
    {
      "cell_type": "code",
      "execution_count": null,
      "metadata": {
        "id": "PaKrszCGUOLl",
        "outputId": "4e9055e3-f515-4ef3-be29-524780ce010b"
      },
      "outputs": [
        {
          "name": "stdout",
          "output_type": "stream",
          "text": [
            "[['127.0.0.1', '120\\n'], ['10.1.1.1', '210\\n'], ['127.0.0.1', '80\\n'], ['10.1.1.1', '215\\n'], ['10.1.1.1', '200\\n'], ['10.1.1.2', '210\\n']]\n",
            "{'127.0.0.1': 200, '10.1.1.1': 625, '10.1.1.2': 210}\n"
          ]
        }
      ],
      "source": [
        "# Читаем файл и сразу разделяем его на колонки\n",
        "raw = [line.split(\" \")  for line in open(\"log.txt\")]\n",
        "print(raw)\n",
        "\n",
        "res = {}\n",
        "for k,v in raw:\n",
        "    if k in res:\n",
        "        res[k] += int(v)\n",
        "    else:\n",
        "        res[k] = int(v)\n",
        "print(res)"
      ]
    },
    {
      "cell_type": "markdown",
      "metadata": {
        "id": "H3fOPvfWUOLl"
      },
      "source": [
        "### Задание: list comprehension\n",
        "\n",
        "Из заданного списка целых чисел выбирите все  простые числа."
      ]
    },
    {
      "cell_type": "code",
      "execution_count": null,
      "metadata": {
        "id": "f0Vwn3KxUOLl"
      },
      "outputs": [],
      "source": [
        "# ..."
      ]
    },
    {
      "cell_type": "markdown",
      "metadata": {
        "id": "K0jk4MqbUOLl"
      },
      "source": [
        "## Генераторы\n",
        "\n",
        "По сути, внтреняя часть list comprehension, т.е. то, что находится между квадратными скобками, является генератором, а квадратные скобки \"пробегаются\" по этому генератору и заполняют список. Поэтому сам генератор занимает очень мало памяти в компьютере и является просто правилом как создать элементы.\n",
        "\n",
        "Так, например, если файл-лог очень большой, мы не хотим его сразу подгружать в память и можем просто создать генератор."
      ]
    },
    {
      "cell_type": "code",
      "execution_count": null,
      "metadata": {
        "id": "Z5AqpzfPUOLl",
        "outputId": "d8555931-fa97-49ae-cbf9-c6cac8e6554f"
      },
      "outputs": [
        {
          "name": "stdout",
          "output_type": "stream",
          "text": [
            "{'127.0.0.1': 200, '10.1.1.1': 625, '10.1.1.2': 210}\n"
          ]
        }
      ],
      "source": [
        "raw_gen = (line.split(\" \")  for line in open(\"log.txt\"))\n",
        "# Память не занята, мы просто знаем как получать строки.\n",
        "#  и только тут мы будем эти строки читать, то не сразу все, а одна за одной.\n",
        "res = {}\n",
        "for k,v in raw_gen:\n",
        "    if k in res:\n",
        "        res[k] += int(v)\n",
        "    else:\n",
        "        res[k] = int(v)\n",
        "print(res)"
      ]
    },
    {
      "cell_type": "code",
      "execution_count": null,
      "metadata": {
        "id": "oOIsCAv2UOLm",
        "outputId": "33a719bc-2786-4783-9fda-a9d3b9337502"
      },
      "outputs": [
        {
          "name": "stdout",
          "output_type": "stream",
          "text": [
            "2\n",
            "4\n",
            "6\n",
            "8\n",
            "10\n",
            "12\n",
            "14\n",
            "16\n",
            "18\n",
            "20\n"
          ]
        }
      ],
      "source": [
        "# Также можно писать свои функции-генераторы\n",
        "\n",
        "def all_even_numbers():\n",
        "    i = 2;\n",
        "    while(True):\n",
        "        yield i;\n",
        "        i = i + 2\n",
        "        \n",
        "for even_num in all_even_numbers():\n",
        "    if even_num > (20):\n",
        "        break\n",
        "    print(even_num)"
      ]
    },
    {
      "cell_type": "markdown",
      "metadata": {
        "id": "OzzsjXAlUOLm"
      },
      "source": [
        "### Сортировка"
      ]
    },
    {
      "cell_type": "code",
      "execution_count": null,
      "metadata": {
        "id": "K2Ts2ozzUOLm",
        "outputId": "5d75058e-1a45-4b97-cdab-6ee5cfe673d9"
      },
      "outputs": [
        {
          "data": {
            "text/plain": [
              "[1, 2, 3]"
            ]
          },
          "execution_count": 61,
          "metadata": {},
          "output_type": "execute_result"
        }
      ],
      "source": [
        "sorted([1,3,2])"
      ]
    },
    {
      "cell_type": "markdown",
      "metadata": {
        "id": "tUEgfBVTUOLm"
      },
      "source": [
        "# Задачи\n",
        "\n",
        "Далее даны примеры задач, которые могут помочь заточить навык работы на Python. Рекомендуется оформлять задачу разными способами. В частности, когда возможно, стоит использовать функции, генераторы, списки, lambda -- функции и так далее.\n",
        "\n",
        "## Задача 1\n",
        "\n",
        "Для произвольного списка чисел **l**  \n",
        "и числа **a**,\n",
        "вывести все элементы **l**\n",
        "меньшие **a**.\n",
        "\n",
        "## Задача 2\n",
        "\n",
        "По двум спискам **l**, **m** создать третий список состоящий из общих элементов для **l**, **m**\n",
        "\n",
        "## Задача 3\n",
        "\n",
        "Для произвольного словаря **d** и числа **n** выведите **n** ключей словаря **d**, соответствующих максимальным по значению элементам словаря\n",
        "\n",
        "## Задача 4\n",
        "\n",
        "Вывести первые **n** строк треугольника Паскаля. В треугольнике в вершине и по сторонам стоят единицы, в каждой следующей строке на один элемент больше, центральные элементы равны сумме элементов над ним.\n",
        "\n",
        "Например первые 5 строк:\n",
        "1. 1\n",
        "1. 1 1\n",
        "1. 1 2 1\n",
        "1. 1 3 3 1\n",
        "1. 1 4 6 4 1\n",
        "\n",
        "## Задача 5\n",
        "\n",
        "Напишите проверку на то, является ли строка палиндромом. Палиндром — это слово или фраза, которые одинаково читаются слева направо и справа налево.\n",
        "\n",
        "## Задача 6\n",
        "\n",
        "Напишите проверку на то, является ли число палиндромом.\n",
        "\n",
        "## Задача 7\n",
        "\n",
        "Отобразите число секунд **n** в виде дни:часы:минуты:секунды\n",
        "\n",
        "> 3700 --> 0 дней : 1 час : 1 минута : 40 секунд\n",
        "\n",
        "## Задача 8\n",
        "\n",
        "При заданном целом числе n посчитайте n + nn + nnn. Например, n=12, тогда 12 + 1212 + 121212 = 122436\n",
        "\n",
        "## Задача 9\n",
        "\n",
        "Сложите цифры целого числа n.\n",
        "\n",
        "## Задача 10\n",
        "\n",
        "Нужно проверить, все ли числа в последовательности уникальны."
      ]
    },
    {
      "cell_type": "markdown",
      "metadata": {
        "id": "Flh_O8KiUOLm"
      },
      "source": [
        "![Заключительная картинка](end-image.png)"
      ]
    }
  ]
}