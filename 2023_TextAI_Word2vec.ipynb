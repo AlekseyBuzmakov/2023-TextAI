{
  "nbformat": 4,
  "nbformat_minor": 0,
  "metadata": {
    "colab": {
      "provenance": [],
      "mount_file_id": "1R8iWn4nWphGezIDeOFlsHTQvTGPOy7x0",
      "authorship_tag": "ABX9TyNf/8Bn7VfTqS468lXoXoRZ",
      "include_colab_link": true
    },
    "kernelspec": {
      "name": "python3",
      "display_name": "Python 3"
    },
    "language_info": {
      "name": "python"
    },
    "widgets": {
      "application/vnd.jupyter.widget-state+json": {
        "f73a02902ab5420d8c2604fd72a9634c": {
          "model_module": "@jupyter-widgets/controls",
          "model_name": "HBoxModel",
          "model_module_version": "1.5.0",
          "state": {
            "_dom_classes": [],
            "_model_module": "@jupyter-widgets/controls",
            "_model_module_version": "1.5.0",
            "_model_name": "HBoxModel",
            "_view_count": null,
            "_view_module": "@jupyter-widgets/controls",
            "_view_module_version": "1.5.0",
            "_view_name": "HBoxView",
            "box_style": "",
            "children": [
              "IPY_MODEL_cec9b116d39a4e48918627ec8d72626b",
              "IPY_MODEL_9c6fc94c4c5e44c9a59bee8a457fac4b",
              "IPY_MODEL_b6dc568a350d415e991cfb010fbe54cb"
            ],
            "layout": "IPY_MODEL_6b9c83290b3e45b890175fa4b5b3898c"
          }
        },
        "cec9b116d39a4e48918627ec8d72626b": {
          "model_module": "@jupyter-widgets/controls",
          "model_name": "HTMLModel",
          "model_module_version": "1.5.0",
          "state": {
            "_dom_classes": [],
            "_model_module": "@jupyter-widgets/controls",
            "_model_module_version": "1.5.0",
            "_model_name": "HTMLModel",
            "_view_count": null,
            "_view_module": "@jupyter-widgets/controls",
            "_view_module_version": "1.5.0",
            "_view_name": "HTMLView",
            "description": "",
            "description_tooltip": null,
            "layout": "IPY_MODEL_09373067b92d49eb9f248beb6d92ebbe",
            "placeholder": "​",
            "style": "IPY_MODEL_769cef4f223f4aaab1137899ac318cab",
            "value": "100%"
          }
        },
        "9c6fc94c4c5e44c9a59bee8a457fac4b": {
          "model_module": "@jupyter-widgets/controls",
          "model_name": "FloatProgressModel",
          "model_module_version": "1.5.0",
          "state": {
            "_dom_classes": [],
            "_model_module": "@jupyter-widgets/controls",
            "_model_module_version": "1.5.0",
            "_model_name": "FloatProgressModel",
            "_view_count": null,
            "_view_module": "@jupyter-widgets/controls",
            "_view_module_version": "1.5.0",
            "_view_name": "ProgressView",
            "bar_style": "success",
            "description": "",
            "description_tooltip": null,
            "layout": "IPY_MODEL_6df9596385a443a4b1887086a62e6725",
            "max": 1600000,
            "min": 0,
            "orientation": "horizontal",
            "style": "IPY_MODEL_e61a495e05f4437ca4124a995b7edfa3",
            "value": 1600000
          }
        },
        "b6dc568a350d415e991cfb010fbe54cb": {
          "model_module": "@jupyter-widgets/controls",
          "model_name": "HTMLModel",
          "model_module_version": "1.5.0",
          "state": {
            "_dom_classes": [],
            "_model_module": "@jupyter-widgets/controls",
            "_model_module_version": "1.5.0",
            "_model_name": "HTMLModel",
            "_view_count": null,
            "_view_module": "@jupyter-widgets/controls",
            "_view_module_version": "1.5.0",
            "_view_name": "HTMLView",
            "description": "",
            "description_tooltip": null,
            "layout": "IPY_MODEL_c1951608252a4a90a26baa714dfd2e4d",
            "placeholder": "​",
            "style": "IPY_MODEL_4bea9b37fcfa44c691b06099d74c9f39",
            "value": " 1600000/1600000 [02:15&lt;00:00, 10766.02it/s]"
          }
        },
        "6b9c83290b3e45b890175fa4b5b3898c": {
          "model_module": "@jupyter-widgets/base",
          "model_name": "LayoutModel",
          "model_module_version": "1.2.0",
          "state": {
            "_model_module": "@jupyter-widgets/base",
            "_model_module_version": "1.2.0",
            "_model_name": "LayoutModel",
            "_view_count": null,
            "_view_module": "@jupyter-widgets/base",
            "_view_module_version": "1.2.0",
            "_view_name": "LayoutView",
            "align_content": null,
            "align_items": null,
            "align_self": null,
            "border": null,
            "bottom": null,
            "display": null,
            "flex": null,
            "flex_flow": null,
            "grid_area": null,
            "grid_auto_columns": null,
            "grid_auto_flow": null,
            "grid_auto_rows": null,
            "grid_column": null,
            "grid_gap": null,
            "grid_row": null,
            "grid_template_areas": null,
            "grid_template_columns": null,
            "grid_template_rows": null,
            "height": null,
            "justify_content": null,
            "justify_items": null,
            "left": null,
            "margin": null,
            "max_height": null,
            "max_width": null,
            "min_height": null,
            "min_width": null,
            "object_fit": null,
            "object_position": null,
            "order": null,
            "overflow": null,
            "overflow_x": null,
            "overflow_y": null,
            "padding": null,
            "right": null,
            "top": null,
            "visibility": null,
            "width": null
          }
        },
        "09373067b92d49eb9f248beb6d92ebbe": {
          "model_module": "@jupyter-widgets/base",
          "model_name": "LayoutModel",
          "model_module_version": "1.2.0",
          "state": {
            "_model_module": "@jupyter-widgets/base",
            "_model_module_version": "1.2.0",
            "_model_name": "LayoutModel",
            "_view_count": null,
            "_view_module": "@jupyter-widgets/base",
            "_view_module_version": "1.2.0",
            "_view_name": "LayoutView",
            "align_content": null,
            "align_items": null,
            "align_self": null,
            "border": null,
            "bottom": null,
            "display": null,
            "flex": null,
            "flex_flow": null,
            "grid_area": null,
            "grid_auto_columns": null,
            "grid_auto_flow": null,
            "grid_auto_rows": null,
            "grid_column": null,
            "grid_gap": null,
            "grid_row": null,
            "grid_template_areas": null,
            "grid_template_columns": null,
            "grid_template_rows": null,
            "height": null,
            "justify_content": null,
            "justify_items": null,
            "left": null,
            "margin": null,
            "max_height": null,
            "max_width": null,
            "min_height": null,
            "min_width": null,
            "object_fit": null,
            "object_position": null,
            "order": null,
            "overflow": null,
            "overflow_x": null,
            "overflow_y": null,
            "padding": null,
            "right": null,
            "top": null,
            "visibility": null,
            "width": null
          }
        },
        "769cef4f223f4aaab1137899ac318cab": {
          "model_module": "@jupyter-widgets/controls",
          "model_name": "DescriptionStyleModel",
          "model_module_version": "1.5.0",
          "state": {
            "_model_module": "@jupyter-widgets/controls",
            "_model_module_version": "1.5.0",
            "_model_name": "DescriptionStyleModel",
            "_view_count": null,
            "_view_module": "@jupyter-widgets/base",
            "_view_module_version": "1.2.0",
            "_view_name": "StyleView",
            "description_width": ""
          }
        },
        "6df9596385a443a4b1887086a62e6725": {
          "model_module": "@jupyter-widgets/base",
          "model_name": "LayoutModel",
          "model_module_version": "1.2.0",
          "state": {
            "_model_module": "@jupyter-widgets/base",
            "_model_module_version": "1.2.0",
            "_model_name": "LayoutModel",
            "_view_count": null,
            "_view_module": "@jupyter-widgets/base",
            "_view_module_version": "1.2.0",
            "_view_name": "LayoutView",
            "align_content": null,
            "align_items": null,
            "align_self": null,
            "border": null,
            "bottom": null,
            "display": null,
            "flex": null,
            "flex_flow": null,
            "grid_area": null,
            "grid_auto_columns": null,
            "grid_auto_flow": null,
            "grid_auto_rows": null,
            "grid_column": null,
            "grid_gap": null,
            "grid_row": null,
            "grid_template_areas": null,
            "grid_template_columns": null,
            "grid_template_rows": null,
            "height": null,
            "justify_content": null,
            "justify_items": null,
            "left": null,
            "margin": null,
            "max_height": null,
            "max_width": null,
            "min_height": null,
            "min_width": null,
            "object_fit": null,
            "object_position": null,
            "order": null,
            "overflow": null,
            "overflow_x": null,
            "overflow_y": null,
            "padding": null,
            "right": null,
            "top": null,
            "visibility": null,
            "width": null
          }
        },
        "e61a495e05f4437ca4124a995b7edfa3": {
          "model_module": "@jupyter-widgets/controls",
          "model_name": "ProgressStyleModel",
          "model_module_version": "1.5.0",
          "state": {
            "_model_module": "@jupyter-widgets/controls",
            "_model_module_version": "1.5.0",
            "_model_name": "ProgressStyleModel",
            "_view_count": null,
            "_view_module": "@jupyter-widgets/base",
            "_view_module_version": "1.2.0",
            "_view_name": "StyleView",
            "bar_color": null,
            "description_width": ""
          }
        },
        "c1951608252a4a90a26baa714dfd2e4d": {
          "model_module": "@jupyter-widgets/base",
          "model_name": "LayoutModel",
          "model_module_version": "1.2.0",
          "state": {
            "_model_module": "@jupyter-widgets/base",
            "_model_module_version": "1.2.0",
            "_model_name": "LayoutModel",
            "_view_count": null,
            "_view_module": "@jupyter-widgets/base",
            "_view_module_version": "1.2.0",
            "_view_name": "LayoutView",
            "align_content": null,
            "align_items": null,
            "align_self": null,
            "border": null,
            "bottom": null,
            "display": null,
            "flex": null,
            "flex_flow": null,
            "grid_area": null,
            "grid_auto_columns": null,
            "grid_auto_flow": null,
            "grid_auto_rows": null,
            "grid_column": null,
            "grid_gap": null,
            "grid_row": null,
            "grid_template_areas": null,
            "grid_template_columns": null,
            "grid_template_rows": null,
            "height": null,
            "justify_content": null,
            "justify_items": null,
            "left": null,
            "margin": null,
            "max_height": null,
            "max_width": null,
            "min_height": null,
            "min_width": null,
            "object_fit": null,
            "object_position": null,
            "order": null,
            "overflow": null,
            "overflow_x": null,
            "overflow_y": null,
            "padding": null,
            "right": null,
            "top": null,
            "visibility": null,
            "width": null
          }
        },
        "4bea9b37fcfa44c691b06099d74c9f39": {
          "model_module": "@jupyter-widgets/controls",
          "model_name": "DescriptionStyleModel",
          "model_module_version": "1.5.0",
          "state": {
            "_model_module": "@jupyter-widgets/controls",
            "_model_module_version": "1.5.0",
            "_model_name": "DescriptionStyleModel",
            "_view_count": null,
            "_view_module": "@jupyter-widgets/base",
            "_view_module_version": "1.2.0",
            "_view_name": "StyleView",
            "description_width": ""
          }
        },
        "c9bd7969933d481395afe8e5bbc51854": {
          "model_module": "@jupyter-widgets/controls",
          "model_name": "HBoxModel",
          "model_module_version": "1.5.0",
          "state": {
            "_dom_classes": [],
            "_model_module": "@jupyter-widgets/controls",
            "_model_module_version": "1.5.0",
            "_model_name": "HBoxModel",
            "_view_count": null,
            "_view_module": "@jupyter-widgets/controls",
            "_view_module_version": "1.5.0",
            "_view_name": "HBoxView",
            "box_style": "",
            "children": [
              "IPY_MODEL_92052773bbe84f01965b2a3608f597bf",
              "IPY_MODEL_824ec2c34e614f21bde89a2589c57851",
              "IPY_MODEL_05f0e7776b0142e1bcddbd139862df49"
            ],
            "layout": "IPY_MODEL_38ae4b826f2d4ce4a79073a0aaa0ba54"
          }
        },
        "92052773bbe84f01965b2a3608f597bf": {
          "model_module": "@jupyter-widgets/controls",
          "model_name": "HTMLModel",
          "model_module_version": "1.5.0",
          "state": {
            "_dom_classes": [],
            "_model_module": "@jupyter-widgets/controls",
            "_model_module_version": "1.5.0",
            "_model_name": "HTMLModel",
            "_view_count": null,
            "_view_module": "@jupyter-widgets/controls",
            "_view_module_version": "1.5.0",
            "_view_name": "HTMLView",
            "description": "",
            "description_tooltip": null,
            "layout": "IPY_MODEL_3f6301af90b74f05b689bc27d4276c9a",
            "placeholder": "​",
            "style": "IPY_MODEL_e223e7f20435435d9a0dd591581d5f6a",
            "value": "100%"
          }
        },
        "824ec2c34e614f21bde89a2589c57851": {
          "model_module": "@jupyter-widgets/controls",
          "model_name": "FloatProgressModel",
          "model_module_version": "1.5.0",
          "state": {
            "_dom_classes": [],
            "_model_module": "@jupyter-widgets/controls",
            "_model_module_version": "1.5.0",
            "_model_name": "FloatProgressModel",
            "_view_count": null,
            "_view_module": "@jupyter-widgets/controls",
            "_view_module_version": "1.5.0",
            "_view_name": "ProgressView",
            "bar_style": "success",
            "description": "",
            "description_tooltip": null,
            "layout": "IPY_MODEL_316d36ada46944f19fa3ab2442ef9112",
            "max": 1600000,
            "min": 0,
            "orientation": "horizontal",
            "style": "IPY_MODEL_22d7a6470e2a41e7aeec90bff89dd6d7",
            "value": 1600000
          }
        },
        "05f0e7776b0142e1bcddbd139862df49": {
          "model_module": "@jupyter-widgets/controls",
          "model_name": "HTMLModel",
          "model_module_version": "1.5.0",
          "state": {
            "_dom_classes": [],
            "_model_module": "@jupyter-widgets/controls",
            "_model_module_version": "1.5.0",
            "_model_name": "HTMLModel",
            "_view_count": null,
            "_view_module": "@jupyter-widgets/controls",
            "_view_module_version": "1.5.0",
            "_view_name": "HTMLView",
            "description": "",
            "description_tooltip": null,
            "layout": "IPY_MODEL_84733ffbd23344a4af4b754ab1cb9bfa",
            "placeholder": "​",
            "style": "IPY_MODEL_8e56522247904a98bdeafd5f6a1bce8c",
            "value": " 1600000/1600000 [19:42&lt;00:00, 1540.51it/s]"
          }
        },
        "38ae4b826f2d4ce4a79073a0aaa0ba54": {
          "model_module": "@jupyter-widgets/base",
          "model_name": "LayoutModel",
          "model_module_version": "1.2.0",
          "state": {
            "_model_module": "@jupyter-widgets/base",
            "_model_module_version": "1.2.0",
            "_model_name": "LayoutModel",
            "_view_count": null,
            "_view_module": "@jupyter-widgets/base",
            "_view_module_version": "1.2.0",
            "_view_name": "LayoutView",
            "align_content": null,
            "align_items": null,
            "align_self": null,
            "border": null,
            "bottom": null,
            "display": null,
            "flex": null,
            "flex_flow": null,
            "grid_area": null,
            "grid_auto_columns": null,
            "grid_auto_flow": null,
            "grid_auto_rows": null,
            "grid_column": null,
            "grid_gap": null,
            "grid_row": null,
            "grid_template_areas": null,
            "grid_template_columns": null,
            "grid_template_rows": null,
            "height": null,
            "justify_content": null,
            "justify_items": null,
            "left": null,
            "margin": null,
            "max_height": null,
            "max_width": null,
            "min_height": null,
            "min_width": null,
            "object_fit": null,
            "object_position": null,
            "order": null,
            "overflow": null,
            "overflow_x": null,
            "overflow_y": null,
            "padding": null,
            "right": null,
            "top": null,
            "visibility": null,
            "width": null
          }
        },
        "3f6301af90b74f05b689bc27d4276c9a": {
          "model_module": "@jupyter-widgets/base",
          "model_name": "LayoutModel",
          "model_module_version": "1.2.0",
          "state": {
            "_model_module": "@jupyter-widgets/base",
            "_model_module_version": "1.2.0",
            "_model_name": "LayoutModel",
            "_view_count": null,
            "_view_module": "@jupyter-widgets/base",
            "_view_module_version": "1.2.0",
            "_view_name": "LayoutView",
            "align_content": null,
            "align_items": null,
            "align_self": null,
            "border": null,
            "bottom": null,
            "display": null,
            "flex": null,
            "flex_flow": null,
            "grid_area": null,
            "grid_auto_columns": null,
            "grid_auto_flow": null,
            "grid_auto_rows": null,
            "grid_column": null,
            "grid_gap": null,
            "grid_row": null,
            "grid_template_areas": null,
            "grid_template_columns": null,
            "grid_template_rows": null,
            "height": null,
            "justify_content": null,
            "justify_items": null,
            "left": null,
            "margin": null,
            "max_height": null,
            "max_width": null,
            "min_height": null,
            "min_width": null,
            "object_fit": null,
            "object_position": null,
            "order": null,
            "overflow": null,
            "overflow_x": null,
            "overflow_y": null,
            "padding": null,
            "right": null,
            "top": null,
            "visibility": null,
            "width": null
          }
        },
        "e223e7f20435435d9a0dd591581d5f6a": {
          "model_module": "@jupyter-widgets/controls",
          "model_name": "DescriptionStyleModel",
          "model_module_version": "1.5.0",
          "state": {
            "_model_module": "@jupyter-widgets/controls",
            "_model_module_version": "1.5.0",
            "_model_name": "DescriptionStyleModel",
            "_view_count": null,
            "_view_module": "@jupyter-widgets/base",
            "_view_module_version": "1.2.0",
            "_view_name": "StyleView",
            "description_width": ""
          }
        },
        "316d36ada46944f19fa3ab2442ef9112": {
          "model_module": "@jupyter-widgets/base",
          "model_name": "LayoutModel",
          "model_module_version": "1.2.0",
          "state": {
            "_model_module": "@jupyter-widgets/base",
            "_model_module_version": "1.2.0",
            "_model_name": "LayoutModel",
            "_view_count": null,
            "_view_module": "@jupyter-widgets/base",
            "_view_module_version": "1.2.0",
            "_view_name": "LayoutView",
            "align_content": null,
            "align_items": null,
            "align_self": null,
            "border": null,
            "bottom": null,
            "display": null,
            "flex": null,
            "flex_flow": null,
            "grid_area": null,
            "grid_auto_columns": null,
            "grid_auto_flow": null,
            "grid_auto_rows": null,
            "grid_column": null,
            "grid_gap": null,
            "grid_row": null,
            "grid_template_areas": null,
            "grid_template_columns": null,
            "grid_template_rows": null,
            "height": null,
            "justify_content": null,
            "justify_items": null,
            "left": null,
            "margin": null,
            "max_height": null,
            "max_width": null,
            "min_height": null,
            "min_width": null,
            "object_fit": null,
            "object_position": null,
            "order": null,
            "overflow": null,
            "overflow_x": null,
            "overflow_y": null,
            "padding": null,
            "right": null,
            "top": null,
            "visibility": null,
            "width": null
          }
        },
        "22d7a6470e2a41e7aeec90bff89dd6d7": {
          "model_module": "@jupyter-widgets/controls",
          "model_name": "ProgressStyleModel",
          "model_module_version": "1.5.0",
          "state": {
            "_model_module": "@jupyter-widgets/controls",
            "_model_module_version": "1.5.0",
            "_model_name": "ProgressStyleModel",
            "_view_count": null,
            "_view_module": "@jupyter-widgets/base",
            "_view_module_version": "1.2.0",
            "_view_name": "StyleView",
            "bar_color": null,
            "description_width": ""
          }
        },
        "84733ffbd23344a4af4b754ab1cb9bfa": {
          "model_module": "@jupyter-widgets/base",
          "model_name": "LayoutModel",
          "model_module_version": "1.2.0",
          "state": {
            "_model_module": "@jupyter-widgets/base",
            "_model_module_version": "1.2.0",
            "_model_name": "LayoutModel",
            "_view_count": null,
            "_view_module": "@jupyter-widgets/base",
            "_view_module_version": "1.2.0",
            "_view_name": "LayoutView",
            "align_content": null,
            "align_items": null,
            "align_self": null,
            "border": null,
            "bottom": null,
            "display": null,
            "flex": null,
            "flex_flow": null,
            "grid_area": null,
            "grid_auto_columns": null,
            "grid_auto_flow": null,
            "grid_auto_rows": null,
            "grid_column": null,
            "grid_gap": null,
            "grid_row": null,
            "grid_template_areas": null,
            "grid_template_columns": null,
            "grid_template_rows": null,
            "height": null,
            "justify_content": null,
            "justify_items": null,
            "left": null,
            "margin": null,
            "max_height": null,
            "max_width": null,
            "min_height": null,
            "min_width": null,
            "object_fit": null,
            "object_position": null,
            "order": null,
            "overflow": null,
            "overflow_x": null,
            "overflow_y": null,
            "padding": null,
            "right": null,
            "top": null,
            "visibility": null,
            "width": null
          }
        },
        "8e56522247904a98bdeafd5f6a1bce8c": {
          "model_module": "@jupyter-widgets/controls",
          "model_name": "DescriptionStyleModel",
          "model_module_version": "1.5.0",
          "state": {
            "_model_module": "@jupyter-widgets/controls",
            "_model_module_version": "1.5.0",
            "_model_name": "DescriptionStyleModel",
            "_view_count": null,
            "_view_module": "@jupyter-widgets/base",
            "_view_module_version": "1.2.0",
            "_view_name": "StyleView",
            "description_width": ""
          }
        },
        "c32e640ac9dc4b18aef83cbcd901cb06": {
          "model_module": "@jupyter-widgets/controls",
          "model_name": "HBoxModel",
          "model_module_version": "1.5.0",
          "state": {
            "_dom_classes": [],
            "_model_module": "@jupyter-widgets/controls",
            "_model_module_version": "1.5.0",
            "_model_name": "HBoxModel",
            "_view_count": null,
            "_view_module": "@jupyter-widgets/controls",
            "_view_module_version": "1.5.0",
            "_view_name": "HBoxView",
            "box_style": "",
            "children": [
              "IPY_MODEL_1943b6e77fa94d85af9904bcf1adda9e",
              "IPY_MODEL_8de39536418e46cb8c618cac4e243710",
              "IPY_MODEL_fb4635e6a05b47a3859079bafe21454b"
            ],
            "layout": "IPY_MODEL_7256745c0ef24351a4ef7429b6007cee"
          }
        },
        "1943b6e77fa94d85af9904bcf1adda9e": {
          "model_module": "@jupyter-widgets/controls",
          "model_name": "HTMLModel",
          "model_module_version": "1.5.0",
          "state": {
            "_dom_classes": [],
            "_model_module": "@jupyter-widgets/controls",
            "_model_module_version": "1.5.0",
            "_model_name": "HTMLModel",
            "_view_count": null,
            "_view_module": "@jupyter-widgets/controls",
            "_view_module_version": "1.5.0",
            "_view_name": "HTMLView",
            "description": "",
            "description_tooltip": null,
            "layout": "IPY_MODEL_7bf51fafca3d46cb8d459bab97749c7e",
            "placeholder": "​",
            "style": "IPY_MODEL_1ece9b4987a54eb1a0e552c61a00c9ba",
            "value": "100%"
          }
        },
        "8de39536418e46cb8c618cac4e243710": {
          "model_module": "@jupyter-widgets/controls",
          "model_name": "FloatProgressModel",
          "model_module_version": "1.5.0",
          "state": {
            "_dom_classes": [],
            "_model_module": "@jupyter-widgets/controls",
            "_model_module_version": "1.5.0",
            "_model_name": "FloatProgressModel",
            "_view_count": null,
            "_view_module": "@jupyter-widgets/controls",
            "_view_module_version": "1.5.0",
            "_view_name": "ProgressView",
            "bar_style": "success",
            "description": "",
            "description_tooltip": null,
            "layout": "IPY_MODEL_fcb8efc4e0434c1bbaab5f2af77e8729",
            "max": 1600000,
            "min": 0,
            "orientation": "horizontal",
            "style": "IPY_MODEL_de6ad048fbf8495bba41d56292844e05",
            "value": 1600000
          }
        },
        "fb4635e6a05b47a3859079bafe21454b": {
          "model_module": "@jupyter-widgets/controls",
          "model_name": "HTMLModel",
          "model_module_version": "1.5.0",
          "state": {
            "_dom_classes": [],
            "_model_module": "@jupyter-widgets/controls",
            "_model_module_version": "1.5.0",
            "_model_name": "HTMLModel",
            "_view_count": null,
            "_view_module": "@jupyter-widgets/controls",
            "_view_module_version": "1.5.0",
            "_view_name": "HTMLView",
            "description": "",
            "description_tooltip": null,
            "layout": "IPY_MODEL_b41f499145e3435eb14d66a90156121a",
            "placeholder": "​",
            "style": "IPY_MODEL_fd9a2ce29c444055996ff1ded20a4fe5",
            "value": " 1600000/1600000 [02:23&lt;00:00, 8244.09it/s]"
          }
        },
        "7256745c0ef24351a4ef7429b6007cee": {
          "model_module": "@jupyter-widgets/base",
          "model_name": "LayoutModel",
          "model_module_version": "1.2.0",
          "state": {
            "_model_module": "@jupyter-widgets/base",
            "_model_module_version": "1.2.0",
            "_model_name": "LayoutModel",
            "_view_count": null,
            "_view_module": "@jupyter-widgets/base",
            "_view_module_version": "1.2.0",
            "_view_name": "LayoutView",
            "align_content": null,
            "align_items": null,
            "align_self": null,
            "border": null,
            "bottom": null,
            "display": null,
            "flex": null,
            "flex_flow": null,
            "grid_area": null,
            "grid_auto_columns": null,
            "grid_auto_flow": null,
            "grid_auto_rows": null,
            "grid_column": null,
            "grid_gap": null,
            "grid_row": null,
            "grid_template_areas": null,
            "grid_template_columns": null,
            "grid_template_rows": null,
            "height": null,
            "justify_content": null,
            "justify_items": null,
            "left": null,
            "margin": null,
            "max_height": null,
            "max_width": null,
            "min_height": null,
            "min_width": null,
            "object_fit": null,
            "object_position": null,
            "order": null,
            "overflow": null,
            "overflow_x": null,
            "overflow_y": null,
            "padding": null,
            "right": null,
            "top": null,
            "visibility": null,
            "width": null
          }
        },
        "7bf51fafca3d46cb8d459bab97749c7e": {
          "model_module": "@jupyter-widgets/base",
          "model_name": "LayoutModel",
          "model_module_version": "1.2.0",
          "state": {
            "_model_module": "@jupyter-widgets/base",
            "_model_module_version": "1.2.0",
            "_model_name": "LayoutModel",
            "_view_count": null,
            "_view_module": "@jupyter-widgets/base",
            "_view_module_version": "1.2.0",
            "_view_name": "LayoutView",
            "align_content": null,
            "align_items": null,
            "align_self": null,
            "border": null,
            "bottom": null,
            "display": null,
            "flex": null,
            "flex_flow": null,
            "grid_area": null,
            "grid_auto_columns": null,
            "grid_auto_flow": null,
            "grid_auto_rows": null,
            "grid_column": null,
            "grid_gap": null,
            "grid_row": null,
            "grid_template_areas": null,
            "grid_template_columns": null,
            "grid_template_rows": null,
            "height": null,
            "justify_content": null,
            "justify_items": null,
            "left": null,
            "margin": null,
            "max_height": null,
            "max_width": null,
            "min_height": null,
            "min_width": null,
            "object_fit": null,
            "object_position": null,
            "order": null,
            "overflow": null,
            "overflow_x": null,
            "overflow_y": null,
            "padding": null,
            "right": null,
            "top": null,
            "visibility": null,
            "width": null
          }
        },
        "1ece9b4987a54eb1a0e552c61a00c9ba": {
          "model_module": "@jupyter-widgets/controls",
          "model_name": "DescriptionStyleModel",
          "model_module_version": "1.5.0",
          "state": {
            "_model_module": "@jupyter-widgets/controls",
            "_model_module_version": "1.5.0",
            "_model_name": "DescriptionStyleModel",
            "_view_count": null,
            "_view_module": "@jupyter-widgets/base",
            "_view_module_version": "1.2.0",
            "_view_name": "StyleView",
            "description_width": ""
          }
        },
        "fcb8efc4e0434c1bbaab5f2af77e8729": {
          "model_module": "@jupyter-widgets/base",
          "model_name": "LayoutModel",
          "model_module_version": "1.2.0",
          "state": {
            "_model_module": "@jupyter-widgets/base",
            "_model_module_version": "1.2.0",
            "_model_name": "LayoutModel",
            "_view_count": null,
            "_view_module": "@jupyter-widgets/base",
            "_view_module_version": "1.2.0",
            "_view_name": "LayoutView",
            "align_content": null,
            "align_items": null,
            "align_self": null,
            "border": null,
            "bottom": null,
            "display": null,
            "flex": null,
            "flex_flow": null,
            "grid_area": null,
            "grid_auto_columns": null,
            "grid_auto_flow": null,
            "grid_auto_rows": null,
            "grid_column": null,
            "grid_gap": null,
            "grid_row": null,
            "grid_template_areas": null,
            "grid_template_columns": null,
            "grid_template_rows": null,
            "height": null,
            "justify_content": null,
            "justify_items": null,
            "left": null,
            "margin": null,
            "max_height": null,
            "max_width": null,
            "min_height": null,
            "min_width": null,
            "object_fit": null,
            "object_position": null,
            "order": null,
            "overflow": null,
            "overflow_x": null,
            "overflow_y": null,
            "padding": null,
            "right": null,
            "top": null,
            "visibility": null,
            "width": null
          }
        },
        "de6ad048fbf8495bba41d56292844e05": {
          "model_module": "@jupyter-widgets/controls",
          "model_name": "ProgressStyleModel",
          "model_module_version": "1.5.0",
          "state": {
            "_model_module": "@jupyter-widgets/controls",
            "_model_module_version": "1.5.0",
            "_model_name": "ProgressStyleModel",
            "_view_count": null,
            "_view_module": "@jupyter-widgets/base",
            "_view_module_version": "1.2.0",
            "_view_name": "StyleView",
            "bar_color": null,
            "description_width": ""
          }
        },
        "b41f499145e3435eb14d66a90156121a": {
          "model_module": "@jupyter-widgets/base",
          "model_name": "LayoutModel",
          "model_module_version": "1.2.0",
          "state": {
            "_model_module": "@jupyter-widgets/base",
            "_model_module_version": "1.2.0",
            "_model_name": "LayoutModel",
            "_view_count": null,
            "_view_module": "@jupyter-widgets/base",
            "_view_module_version": "1.2.0",
            "_view_name": "LayoutView",
            "align_content": null,
            "align_items": null,
            "align_self": null,
            "border": null,
            "bottom": null,
            "display": null,
            "flex": null,
            "flex_flow": null,
            "grid_area": null,
            "grid_auto_columns": null,
            "grid_auto_flow": null,
            "grid_auto_rows": null,
            "grid_column": null,
            "grid_gap": null,
            "grid_row": null,
            "grid_template_areas": null,
            "grid_template_columns": null,
            "grid_template_rows": null,
            "height": null,
            "justify_content": null,
            "justify_items": null,
            "left": null,
            "margin": null,
            "max_height": null,
            "max_width": null,
            "min_height": null,
            "min_width": null,
            "object_fit": null,
            "object_position": null,
            "order": null,
            "overflow": null,
            "overflow_x": null,
            "overflow_y": null,
            "padding": null,
            "right": null,
            "top": null,
            "visibility": null,
            "width": null
          }
        },
        "fd9a2ce29c444055996ff1ded20a4fe5": {
          "model_module": "@jupyter-widgets/controls",
          "model_name": "DescriptionStyleModel",
          "model_module_version": "1.5.0",
          "state": {
            "_model_module": "@jupyter-widgets/controls",
            "_model_module_version": "1.5.0",
            "_model_name": "DescriptionStyleModel",
            "_view_count": null,
            "_view_module": "@jupyter-widgets/base",
            "_view_module_version": "1.2.0",
            "_view_name": "StyleView",
            "description_width": ""
          }
        },
        "c3f80483d1c942309f39a3b681b2aec0": {
          "model_module": "@jupyter-widgets/controls",
          "model_name": "HBoxModel",
          "model_module_version": "1.5.0",
          "state": {
            "_dom_classes": [],
            "_model_module": "@jupyter-widgets/controls",
            "_model_module_version": "1.5.0",
            "_model_name": "HBoxModel",
            "_view_count": null,
            "_view_module": "@jupyter-widgets/controls",
            "_view_module_version": "1.5.0",
            "_view_name": "HBoxView",
            "box_style": "",
            "children": [
              "IPY_MODEL_7b39e620a2f547ce931b0d49cfa937d4",
              "IPY_MODEL_e8a0c9557e25473dbd31403cdbf381ef",
              "IPY_MODEL_554545ff106d4c2184adb0bc8e7a595f"
            ],
            "layout": "IPY_MODEL_9a4460bcf631434cacd9b98bbd9ee756"
          }
        },
        "7b39e620a2f547ce931b0d49cfa937d4": {
          "model_module": "@jupyter-widgets/controls",
          "model_name": "HTMLModel",
          "model_module_version": "1.5.0",
          "state": {
            "_dom_classes": [],
            "_model_module": "@jupyter-widgets/controls",
            "_model_module_version": "1.5.0",
            "_model_name": "HTMLModel",
            "_view_count": null,
            "_view_module": "@jupyter-widgets/controls",
            "_view_module_version": "1.5.0",
            "_view_name": "HTMLView",
            "description": "",
            "description_tooltip": null,
            "layout": "IPY_MODEL_f41cb66ee70945fcabe4761f449226e7",
            "placeholder": "​",
            "style": "IPY_MODEL_2d12576b8d1a41b99dd887027d17f478",
            "value": "100%"
          }
        },
        "e8a0c9557e25473dbd31403cdbf381ef": {
          "model_module": "@jupyter-widgets/controls",
          "model_name": "FloatProgressModel",
          "model_module_version": "1.5.0",
          "state": {
            "_dom_classes": [],
            "_model_module": "@jupyter-widgets/controls",
            "_model_module_version": "1.5.0",
            "_model_name": "FloatProgressModel",
            "_view_count": null,
            "_view_module": "@jupyter-widgets/controls",
            "_view_module_version": "1.5.0",
            "_view_name": "ProgressView",
            "bar_style": "success",
            "description": "",
            "description_tooltip": null,
            "layout": "IPY_MODEL_15134cec50054f9b8de92042099df84e",
            "max": 1600000,
            "min": 0,
            "orientation": "horizontal",
            "style": "IPY_MODEL_5fed52e94fcb49b8a952692c4a8821be",
            "value": 1600000
          }
        },
        "554545ff106d4c2184adb0bc8e7a595f": {
          "model_module": "@jupyter-widgets/controls",
          "model_name": "HTMLModel",
          "model_module_version": "1.5.0",
          "state": {
            "_dom_classes": [],
            "_model_module": "@jupyter-widgets/controls",
            "_model_module_version": "1.5.0",
            "_model_name": "HTMLModel",
            "_view_count": null,
            "_view_module": "@jupyter-widgets/controls",
            "_view_module_version": "1.5.0",
            "_view_name": "HTMLView",
            "description": "",
            "description_tooltip": null,
            "layout": "IPY_MODEL_e3af144995194114a68859c23b1b1c86",
            "placeholder": "​",
            "style": "IPY_MODEL_67faafb9dd914350a03f80c80eb7760e",
            "value": " 1600000/1600000 [12:09&lt;00:00, 2822.26it/s]"
          }
        },
        "9a4460bcf631434cacd9b98bbd9ee756": {
          "model_module": "@jupyter-widgets/base",
          "model_name": "LayoutModel",
          "model_module_version": "1.2.0",
          "state": {
            "_model_module": "@jupyter-widgets/base",
            "_model_module_version": "1.2.0",
            "_model_name": "LayoutModel",
            "_view_count": null,
            "_view_module": "@jupyter-widgets/base",
            "_view_module_version": "1.2.0",
            "_view_name": "LayoutView",
            "align_content": null,
            "align_items": null,
            "align_self": null,
            "border": null,
            "bottom": null,
            "display": null,
            "flex": null,
            "flex_flow": null,
            "grid_area": null,
            "grid_auto_columns": null,
            "grid_auto_flow": null,
            "grid_auto_rows": null,
            "grid_column": null,
            "grid_gap": null,
            "grid_row": null,
            "grid_template_areas": null,
            "grid_template_columns": null,
            "grid_template_rows": null,
            "height": null,
            "justify_content": null,
            "justify_items": null,
            "left": null,
            "margin": null,
            "max_height": null,
            "max_width": null,
            "min_height": null,
            "min_width": null,
            "object_fit": null,
            "object_position": null,
            "order": null,
            "overflow": null,
            "overflow_x": null,
            "overflow_y": null,
            "padding": null,
            "right": null,
            "top": null,
            "visibility": null,
            "width": null
          }
        },
        "f41cb66ee70945fcabe4761f449226e7": {
          "model_module": "@jupyter-widgets/base",
          "model_name": "LayoutModel",
          "model_module_version": "1.2.0",
          "state": {
            "_model_module": "@jupyter-widgets/base",
            "_model_module_version": "1.2.0",
            "_model_name": "LayoutModel",
            "_view_count": null,
            "_view_module": "@jupyter-widgets/base",
            "_view_module_version": "1.2.0",
            "_view_name": "LayoutView",
            "align_content": null,
            "align_items": null,
            "align_self": null,
            "border": null,
            "bottom": null,
            "display": null,
            "flex": null,
            "flex_flow": null,
            "grid_area": null,
            "grid_auto_columns": null,
            "grid_auto_flow": null,
            "grid_auto_rows": null,
            "grid_column": null,
            "grid_gap": null,
            "grid_row": null,
            "grid_template_areas": null,
            "grid_template_columns": null,
            "grid_template_rows": null,
            "height": null,
            "justify_content": null,
            "justify_items": null,
            "left": null,
            "margin": null,
            "max_height": null,
            "max_width": null,
            "min_height": null,
            "min_width": null,
            "object_fit": null,
            "object_position": null,
            "order": null,
            "overflow": null,
            "overflow_x": null,
            "overflow_y": null,
            "padding": null,
            "right": null,
            "top": null,
            "visibility": null,
            "width": null
          }
        },
        "2d12576b8d1a41b99dd887027d17f478": {
          "model_module": "@jupyter-widgets/controls",
          "model_name": "DescriptionStyleModel",
          "model_module_version": "1.5.0",
          "state": {
            "_model_module": "@jupyter-widgets/controls",
            "_model_module_version": "1.5.0",
            "_model_name": "DescriptionStyleModel",
            "_view_count": null,
            "_view_module": "@jupyter-widgets/base",
            "_view_module_version": "1.2.0",
            "_view_name": "StyleView",
            "description_width": ""
          }
        },
        "15134cec50054f9b8de92042099df84e": {
          "model_module": "@jupyter-widgets/base",
          "model_name": "LayoutModel",
          "model_module_version": "1.2.0",
          "state": {
            "_model_module": "@jupyter-widgets/base",
            "_model_module_version": "1.2.0",
            "_model_name": "LayoutModel",
            "_view_count": null,
            "_view_module": "@jupyter-widgets/base",
            "_view_module_version": "1.2.0",
            "_view_name": "LayoutView",
            "align_content": null,
            "align_items": null,
            "align_self": null,
            "border": null,
            "bottom": null,
            "display": null,
            "flex": null,
            "flex_flow": null,
            "grid_area": null,
            "grid_auto_columns": null,
            "grid_auto_flow": null,
            "grid_auto_rows": null,
            "grid_column": null,
            "grid_gap": null,
            "grid_row": null,
            "grid_template_areas": null,
            "grid_template_columns": null,
            "grid_template_rows": null,
            "height": null,
            "justify_content": null,
            "justify_items": null,
            "left": null,
            "margin": null,
            "max_height": null,
            "max_width": null,
            "min_height": null,
            "min_width": null,
            "object_fit": null,
            "object_position": null,
            "order": null,
            "overflow": null,
            "overflow_x": null,
            "overflow_y": null,
            "padding": null,
            "right": null,
            "top": null,
            "visibility": null,
            "width": null
          }
        },
        "5fed52e94fcb49b8a952692c4a8821be": {
          "model_module": "@jupyter-widgets/controls",
          "model_name": "ProgressStyleModel",
          "model_module_version": "1.5.0",
          "state": {
            "_model_module": "@jupyter-widgets/controls",
            "_model_module_version": "1.5.0",
            "_model_name": "ProgressStyleModel",
            "_view_count": null,
            "_view_module": "@jupyter-widgets/base",
            "_view_module_version": "1.2.0",
            "_view_name": "StyleView",
            "bar_color": null,
            "description_width": ""
          }
        },
        "e3af144995194114a68859c23b1b1c86": {
          "model_module": "@jupyter-widgets/base",
          "model_name": "LayoutModel",
          "model_module_version": "1.2.0",
          "state": {
            "_model_module": "@jupyter-widgets/base",
            "_model_module_version": "1.2.0",
            "_model_name": "LayoutModel",
            "_view_count": null,
            "_view_module": "@jupyter-widgets/base",
            "_view_module_version": "1.2.0",
            "_view_name": "LayoutView",
            "align_content": null,
            "align_items": null,
            "align_self": null,
            "border": null,
            "bottom": null,
            "display": null,
            "flex": null,
            "flex_flow": null,
            "grid_area": null,
            "grid_auto_columns": null,
            "grid_auto_flow": null,
            "grid_auto_rows": null,
            "grid_column": null,
            "grid_gap": null,
            "grid_row": null,
            "grid_template_areas": null,
            "grid_template_columns": null,
            "grid_template_rows": null,
            "height": null,
            "justify_content": null,
            "justify_items": null,
            "left": null,
            "margin": null,
            "max_height": null,
            "max_width": null,
            "min_height": null,
            "min_width": null,
            "object_fit": null,
            "object_position": null,
            "order": null,
            "overflow": null,
            "overflow_x": null,
            "overflow_y": null,
            "padding": null,
            "right": null,
            "top": null,
            "visibility": null,
            "width": null
          }
        },
        "67faafb9dd914350a03f80c80eb7760e": {
          "model_module": "@jupyter-widgets/controls",
          "model_name": "DescriptionStyleModel",
          "model_module_version": "1.5.0",
          "state": {
            "_model_module": "@jupyter-widgets/controls",
            "_model_module_version": "1.5.0",
            "_model_name": "DescriptionStyleModel",
            "_view_count": null,
            "_view_module": "@jupyter-widgets/base",
            "_view_module_version": "1.2.0",
            "_view_name": "StyleView",
            "description_width": ""
          }
        }
      }
    }
  },
  "cells": [
    {
      "cell_type": "markdown",
      "metadata": {
        "id": "view-in-github",
        "colab_type": "text"
      },
      "source": [
        "<a href=\"https://colab.research.google.com/github/AlekseyBuzmakov/2023-TextAI/blob/word2vec/2023_TextAI_Word2vec.ipynb\" target=\"_parent\"><img src=\"https://colab.research.google.com/assets/colab-badge.svg\" alt=\"Open In Colab\"/></a>"
      ]
    },
    {
      "cell_type": "markdown",
      "source": [
        "План:\n",
        "- [X] Пример:\n",
        "    - [X] Брать вектор\n",
        "    - [X] most_similar\n",
        "- [ ] Работа с предобученной моделью\n",
        "    - [ ] Чистка данных\n",
        "    - [ ] Базовое предсказание\n",
        "- [ ] Обучение своей\n",
        "    - [ ] Skip-grams (SG)\n",
        "    - [ ] Continuous-bag-of-words (CBOW)"
      ],
      "metadata": {
        "id": "nwIJ4BSEJOK5"
      }
    },
    {
      "cell_type": "code",
      "source": [
        "import sys\n",
        "sys.version"
      ],
      "metadata": {
        "colab": {
          "base_uri": "https://localhost:8080/",
          "height": 35
        },
        "id": "aLUnIjmO0-J4",
        "outputId": "367ae40c-084d-4894-cff0-cb71ef0b1d2f"
      },
      "execution_count": null,
      "outputs": [
        {
          "output_type": "execute_result",
          "data": {
            "text/plain": [
              "'3.9.16 (main, Dec  7 2022, 01:11:51) \\n[GCC 9.4.0]'"
            ],
            "application/vnd.google.colaboratory.intrinsic+json": {
              "type": "string"
            }
          },
          "metadata": {},
          "execution_count": 1
        }
      ]
    },
    {
      "cell_type": "markdown",
      "source": [
        "# Работа с данными\n",
        "\n"
      ],
      "metadata": {
        "id": "D-_RftpE9BZa"
      }
    },
    {
      "cell_type": "code",
      "source": [
        "!gdown 1_qz6EISp2bvK1zp3U6IfzYyOXyaEX3-o"
      ],
      "metadata": {
        "colab": {
          "base_uri": "https://localhost:8080/"
        },
        "id": "GKyrprVHzBCV",
        "outputId": "60040049-0ceb-4b31-b23c-fe9dfa26c2a2"
      },
      "execution_count": null,
      "outputs": [
        {
          "output_type": "stream",
          "name": "stdout",
          "text": [
            "Downloading...\n",
            "From: https://drive.google.com/uc?id=1_qz6EISp2bvK1zp3U6IfzYyOXyaEX3-o\n",
            "To: /content/data.csv.zip\n",
            "100% 83.9M/83.9M [00:00<00:00, 254MB/s]\n"
          ]
        }
      ]
    },
    {
      "cell_type": "code",
      "execution_count": null,
      "metadata": {
        "colab": {
          "base_uri": "https://localhost:8080/"
        },
        "id": "WIDbqtC-uw4V",
        "outputId": "602d6da1-0f3d-4dc3-b146-6483ec3ec588"
      },
      "outputs": [
        {
          "output_type": "stream",
          "name": "stderr",
          "text": [
            "<ipython-input-3-ef2f618029f9>:15: TqdmExperimentalWarning: Using `tqdm.autonotebook.tqdm` in notebook mode. Use `tqdm.tqdm` instead to force console mode (e.g. in jupyter console)\n",
            "  from tqdm.autonotebook import tqdm\n"
          ]
        }
      ],
      "source": [
        "import math\n",
        "import random\n",
        "import string\n",
        "\n",
        "import numpy as np\n",
        "import pandas as pd\n",
        "import seaborn as sns\n",
        "import matplotlib.pyplot as plt\n",
        "import re\n",
        "\n",
        "import nltk\n",
        "import gensim\n",
        "\n",
        "from sklearn.model_selection import train_test_split\n",
        "from tqdm.autonotebook import tqdm\n",
        "\n",
        "from collections import Counter\n",
        "\n",
        "tqdm.pandas()\n",
        "random.seed(42)\n",
        "np.random.seed(42)"
      ]
    },
    {
      "cell_type": "markdown",
      "source": [
        "## Загрузка данных"
      ],
      "metadata": {
        "id": "k_yNaWfc1771"
      }
    },
    {
      "cell_type": "code",
      "source": [
        "data = pd.read_csv(\"data.csv.zip\", index_col=\"id\")\n",
        "data.head()"
      ],
      "metadata": {
        "colab": {
          "base_uri": "https://localhost:8080/",
          "height": 238
        },
        "id": "VVFK9TdQzUC6",
        "outputId": "5e0e56d1-bf07-4896-b3d2-b753321a69cb"
      },
      "execution_count": null,
      "outputs": [
        {
          "output_type": "execute_result",
          "data": {
            "text/plain": [
              "            emotion                          date      flag             user  \\\n",
              "id                                                                             \n",
              "1467810369        0  Mon Apr 06 22:19:45 PDT 2009  NO_QUERY  _TheSpecialOne_   \n",
              "1467810672        0  Mon Apr 06 22:19:49 PDT 2009  NO_QUERY    scotthamilton   \n",
              "1467810917        0  Mon Apr 06 22:19:53 PDT 2009  NO_QUERY         mattycus   \n",
              "1467811184        0  Mon Apr 06 22:19:57 PDT 2009  NO_QUERY          ElleCTF   \n",
              "1467811193        0  Mon Apr 06 22:19:57 PDT 2009  NO_QUERY           Karoli   \n",
              "\n",
              "                                                         text  \n",
              "id                                                             \n",
              "1467810369  @switchfoot http://twitpic.com/2y1zl - Awww, t...  \n",
              "1467810672  is upset that he can't update his Facebook by ...  \n",
              "1467810917  @Kenichan I dived many times for the ball. Man...  \n",
              "1467811184    my whole body feels itchy and like its on fire   \n",
              "1467811193  @nationwideclass no, it's not behaving at all....  "
            ],
            "text/html": [
              "\n",
              "  <div id=\"df-138e5df5-a387-490f-9edc-7ca16f6f7332\">\n",
              "    <div class=\"colab-df-container\">\n",
              "      <div>\n",
              "<style scoped>\n",
              "    .dataframe tbody tr th:only-of-type {\n",
              "        vertical-align: middle;\n",
              "    }\n",
              "\n",
              "    .dataframe tbody tr th {\n",
              "        vertical-align: top;\n",
              "    }\n",
              "\n",
              "    .dataframe thead th {\n",
              "        text-align: right;\n",
              "    }\n",
              "</style>\n",
              "<table border=\"1\" class=\"dataframe\">\n",
              "  <thead>\n",
              "    <tr style=\"text-align: right;\">\n",
              "      <th></th>\n",
              "      <th>emotion</th>\n",
              "      <th>date</th>\n",
              "      <th>flag</th>\n",
              "      <th>user</th>\n",
              "      <th>text</th>\n",
              "    </tr>\n",
              "    <tr>\n",
              "      <th>id</th>\n",
              "      <th></th>\n",
              "      <th></th>\n",
              "      <th></th>\n",
              "      <th></th>\n",
              "      <th></th>\n",
              "    </tr>\n",
              "  </thead>\n",
              "  <tbody>\n",
              "    <tr>\n",
              "      <th>1467810369</th>\n",
              "      <td>0</td>\n",
              "      <td>Mon Apr 06 22:19:45 PDT 2009</td>\n",
              "      <td>NO_QUERY</td>\n",
              "      <td>_TheSpecialOne_</td>\n",
              "      <td>@switchfoot http://twitpic.com/2y1zl - Awww, t...</td>\n",
              "    </tr>\n",
              "    <tr>\n",
              "      <th>1467810672</th>\n",
              "      <td>0</td>\n",
              "      <td>Mon Apr 06 22:19:49 PDT 2009</td>\n",
              "      <td>NO_QUERY</td>\n",
              "      <td>scotthamilton</td>\n",
              "      <td>is upset that he can't update his Facebook by ...</td>\n",
              "    </tr>\n",
              "    <tr>\n",
              "      <th>1467810917</th>\n",
              "      <td>0</td>\n",
              "      <td>Mon Apr 06 22:19:53 PDT 2009</td>\n",
              "      <td>NO_QUERY</td>\n",
              "      <td>mattycus</td>\n",
              "      <td>@Kenichan I dived many times for the ball. Man...</td>\n",
              "    </tr>\n",
              "    <tr>\n",
              "      <th>1467811184</th>\n",
              "      <td>0</td>\n",
              "      <td>Mon Apr 06 22:19:57 PDT 2009</td>\n",
              "      <td>NO_QUERY</td>\n",
              "      <td>ElleCTF</td>\n",
              "      <td>my whole body feels itchy and like its on fire</td>\n",
              "    </tr>\n",
              "    <tr>\n",
              "      <th>1467811193</th>\n",
              "      <td>0</td>\n",
              "      <td>Mon Apr 06 22:19:57 PDT 2009</td>\n",
              "      <td>NO_QUERY</td>\n",
              "      <td>Karoli</td>\n",
              "      <td>@nationwideclass no, it's not behaving at all....</td>\n",
              "    </tr>\n",
              "  </tbody>\n",
              "</table>\n",
              "</div>\n",
              "      <button class=\"colab-df-convert\" onclick=\"convertToInteractive('df-138e5df5-a387-490f-9edc-7ca16f6f7332')\"\n",
              "              title=\"Convert this dataframe to an interactive table.\"\n",
              "              style=\"display:none;\">\n",
              "        \n",
              "  <svg xmlns=\"http://www.w3.org/2000/svg\" height=\"24px\"viewBox=\"0 0 24 24\"\n",
              "       width=\"24px\">\n",
              "    <path d=\"M0 0h24v24H0V0z\" fill=\"none\"/>\n",
              "    <path d=\"M18.56 5.44l.94 2.06.94-2.06 2.06-.94-2.06-.94-.94-2.06-.94 2.06-2.06.94zm-11 1L8.5 8.5l.94-2.06 2.06-.94-2.06-.94L8.5 2.5l-.94 2.06-2.06.94zm10 10l.94 2.06.94-2.06 2.06-.94-2.06-.94-.94-2.06-.94 2.06-2.06.94z\"/><path d=\"M17.41 7.96l-1.37-1.37c-.4-.4-.92-.59-1.43-.59-.52 0-1.04.2-1.43.59L10.3 9.45l-7.72 7.72c-.78.78-.78 2.05 0 2.83L4 21.41c.39.39.9.59 1.41.59.51 0 1.02-.2 1.41-.59l7.78-7.78 2.81-2.81c.8-.78.8-2.07 0-2.86zM5.41 20L4 18.59l7.72-7.72 1.47 1.35L5.41 20z\"/>\n",
              "  </svg>\n",
              "      </button>\n",
              "      \n",
              "  <style>\n",
              "    .colab-df-container {\n",
              "      display:flex;\n",
              "      flex-wrap:wrap;\n",
              "      gap: 12px;\n",
              "    }\n",
              "\n",
              "    .colab-df-convert {\n",
              "      background-color: #E8F0FE;\n",
              "      border: none;\n",
              "      border-radius: 50%;\n",
              "      cursor: pointer;\n",
              "      display: none;\n",
              "      fill: #1967D2;\n",
              "      height: 32px;\n",
              "      padding: 0 0 0 0;\n",
              "      width: 32px;\n",
              "    }\n",
              "\n",
              "    .colab-df-convert:hover {\n",
              "      background-color: #E2EBFA;\n",
              "      box-shadow: 0px 1px 2px rgba(60, 64, 67, 0.3), 0px 1px 3px 1px rgba(60, 64, 67, 0.15);\n",
              "      fill: #174EA6;\n",
              "    }\n",
              "\n",
              "    [theme=dark] .colab-df-convert {\n",
              "      background-color: #3B4455;\n",
              "      fill: #D2E3FC;\n",
              "    }\n",
              "\n",
              "    [theme=dark] .colab-df-convert:hover {\n",
              "      background-color: #434B5C;\n",
              "      box-shadow: 0px 1px 3px 1px rgba(0, 0, 0, 0.15);\n",
              "      filter: drop-shadow(0px 1px 2px rgba(0, 0, 0, 0.3));\n",
              "      fill: #FFFFFF;\n",
              "    }\n",
              "  </style>\n",
              "\n",
              "      <script>\n",
              "        const buttonEl =\n",
              "          document.querySelector('#df-138e5df5-a387-490f-9edc-7ca16f6f7332 button.colab-df-convert');\n",
              "        buttonEl.style.display =\n",
              "          google.colab.kernel.accessAllowed ? 'block' : 'none';\n",
              "\n",
              "        async function convertToInteractive(key) {\n",
              "          const element = document.querySelector('#df-138e5df5-a387-490f-9edc-7ca16f6f7332');\n",
              "          const dataTable =\n",
              "            await google.colab.kernel.invokeFunction('convertToInteractive',\n",
              "                                                     [key], {});\n",
              "          if (!dataTable) return;\n",
              "\n",
              "          const docLinkHtml = 'Like what you see? Visit the ' +\n",
              "            '<a target=\"_blank\" href=https://colab.research.google.com/notebooks/data_table.ipynb>data table notebook</a>'\n",
              "            + ' to learn more about interactive tables.';\n",
              "          element.innerHTML = '';\n",
              "          dataTable['output_type'] = 'display_data';\n",
              "          await google.colab.output.renderOutput(dataTable, element);\n",
              "          const docLink = document.createElement('div');\n",
              "          docLink.innerHTML = docLinkHtml;\n",
              "          element.appendChild(docLink);\n",
              "        }\n",
              "      </script>\n",
              "    </div>\n",
              "  </div>\n",
              "  "
            ]
          },
          "metadata": {},
          "execution_count": 4
        }
      ]
    },
    {
      "cell_type": "code",
      "source": [
        "data[\"date\"] = pd.to_datetime(data[\"date\"].str.replace(\" PDT \", \" \"), format=\"%a %b %d %H:%M:%S %Y\")\n",
        "data.head()"
      ],
      "metadata": {
        "colab": {
          "base_uri": "https://localhost:8080/",
          "height": 238
        },
        "id": "Jd4r6rhw25D1",
        "outputId": "7382dbb1-4922-4c26-ffdd-8b909bbe455a"
      },
      "execution_count": null,
      "outputs": [
        {
          "output_type": "execute_result",
          "data": {
            "text/plain": [
              "            emotion                date      flag             user  \\\n",
              "id                                                                   \n",
              "1467810369        0 2009-04-06 22:19:45  NO_QUERY  _TheSpecialOne_   \n",
              "1467810672        0 2009-04-06 22:19:49  NO_QUERY    scotthamilton   \n",
              "1467810917        0 2009-04-06 22:19:53  NO_QUERY         mattycus   \n",
              "1467811184        0 2009-04-06 22:19:57  NO_QUERY          ElleCTF   \n",
              "1467811193        0 2009-04-06 22:19:57  NO_QUERY           Karoli   \n",
              "\n",
              "                                                         text  \n",
              "id                                                             \n",
              "1467810369  @switchfoot http://twitpic.com/2y1zl - Awww, t...  \n",
              "1467810672  is upset that he can't update his Facebook by ...  \n",
              "1467810917  @Kenichan I dived many times for the ball. Man...  \n",
              "1467811184    my whole body feels itchy and like its on fire   \n",
              "1467811193  @nationwideclass no, it's not behaving at all....  "
            ],
            "text/html": [
              "\n",
              "  <div id=\"df-6602d436-bea4-43b7-8611-9bc750fd7252\">\n",
              "    <div class=\"colab-df-container\">\n",
              "      <div>\n",
              "<style scoped>\n",
              "    .dataframe tbody tr th:only-of-type {\n",
              "        vertical-align: middle;\n",
              "    }\n",
              "\n",
              "    .dataframe tbody tr th {\n",
              "        vertical-align: top;\n",
              "    }\n",
              "\n",
              "    .dataframe thead th {\n",
              "        text-align: right;\n",
              "    }\n",
              "</style>\n",
              "<table border=\"1\" class=\"dataframe\">\n",
              "  <thead>\n",
              "    <tr style=\"text-align: right;\">\n",
              "      <th></th>\n",
              "      <th>emotion</th>\n",
              "      <th>date</th>\n",
              "      <th>flag</th>\n",
              "      <th>user</th>\n",
              "      <th>text</th>\n",
              "    </tr>\n",
              "    <tr>\n",
              "      <th>id</th>\n",
              "      <th></th>\n",
              "      <th></th>\n",
              "      <th></th>\n",
              "      <th></th>\n",
              "      <th></th>\n",
              "    </tr>\n",
              "  </thead>\n",
              "  <tbody>\n",
              "    <tr>\n",
              "      <th>1467810369</th>\n",
              "      <td>0</td>\n",
              "      <td>2009-04-06 22:19:45</td>\n",
              "      <td>NO_QUERY</td>\n",
              "      <td>_TheSpecialOne_</td>\n",
              "      <td>@switchfoot http://twitpic.com/2y1zl - Awww, t...</td>\n",
              "    </tr>\n",
              "    <tr>\n",
              "      <th>1467810672</th>\n",
              "      <td>0</td>\n",
              "      <td>2009-04-06 22:19:49</td>\n",
              "      <td>NO_QUERY</td>\n",
              "      <td>scotthamilton</td>\n",
              "      <td>is upset that he can't update his Facebook by ...</td>\n",
              "    </tr>\n",
              "    <tr>\n",
              "      <th>1467810917</th>\n",
              "      <td>0</td>\n",
              "      <td>2009-04-06 22:19:53</td>\n",
              "      <td>NO_QUERY</td>\n",
              "      <td>mattycus</td>\n",
              "      <td>@Kenichan I dived many times for the ball. Man...</td>\n",
              "    </tr>\n",
              "    <tr>\n",
              "      <th>1467811184</th>\n",
              "      <td>0</td>\n",
              "      <td>2009-04-06 22:19:57</td>\n",
              "      <td>NO_QUERY</td>\n",
              "      <td>ElleCTF</td>\n",
              "      <td>my whole body feels itchy and like its on fire</td>\n",
              "    </tr>\n",
              "    <tr>\n",
              "      <th>1467811193</th>\n",
              "      <td>0</td>\n",
              "      <td>2009-04-06 22:19:57</td>\n",
              "      <td>NO_QUERY</td>\n",
              "      <td>Karoli</td>\n",
              "      <td>@nationwideclass no, it's not behaving at all....</td>\n",
              "    </tr>\n",
              "  </tbody>\n",
              "</table>\n",
              "</div>\n",
              "      <button class=\"colab-df-convert\" onclick=\"convertToInteractive('df-6602d436-bea4-43b7-8611-9bc750fd7252')\"\n",
              "              title=\"Convert this dataframe to an interactive table.\"\n",
              "              style=\"display:none;\">\n",
              "        \n",
              "  <svg xmlns=\"http://www.w3.org/2000/svg\" height=\"24px\"viewBox=\"0 0 24 24\"\n",
              "       width=\"24px\">\n",
              "    <path d=\"M0 0h24v24H0V0z\" fill=\"none\"/>\n",
              "    <path d=\"M18.56 5.44l.94 2.06.94-2.06 2.06-.94-2.06-.94-.94-2.06-.94 2.06-2.06.94zm-11 1L8.5 8.5l.94-2.06 2.06-.94-2.06-.94L8.5 2.5l-.94 2.06-2.06.94zm10 10l.94 2.06.94-2.06 2.06-.94-2.06-.94-.94-2.06-.94 2.06-2.06.94z\"/><path d=\"M17.41 7.96l-1.37-1.37c-.4-.4-.92-.59-1.43-.59-.52 0-1.04.2-1.43.59L10.3 9.45l-7.72 7.72c-.78.78-.78 2.05 0 2.83L4 21.41c.39.39.9.59 1.41.59.51 0 1.02-.2 1.41-.59l7.78-7.78 2.81-2.81c.8-.78.8-2.07 0-2.86zM5.41 20L4 18.59l7.72-7.72 1.47 1.35L5.41 20z\"/>\n",
              "  </svg>\n",
              "      </button>\n",
              "      \n",
              "  <style>\n",
              "    .colab-df-container {\n",
              "      display:flex;\n",
              "      flex-wrap:wrap;\n",
              "      gap: 12px;\n",
              "    }\n",
              "\n",
              "    .colab-df-convert {\n",
              "      background-color: #E8F0FE;\n",
              "      border: none;\n",
              "      border-radius: 50%;\n",
              "      cursor: pointer;\n",
              "      display: none;\n",
              "      fill: #1967D2;\n",
              "      height: 32px;\n",
              "      padding: 0 0 0 0;\n",
              "      width: 32px;\n",
              "    }\n",
              "\n",
              "    .colab-df-convert:hover {\n",
              "      background-color: #E2EBFA;\n",
              "      box-shadow: 0px 1px 2px rgba(60, 64, 67, 0.3), 0px 1px 3px 1px rgba(60, 64, 67, 0.15);\n",
              "      fill: #174EA6;\n",
              "    }\n",
              "\n",
              "    [theme=dark] .colab-df-convert {\n",
              "      background-color: #3B4455;\n",
              "      fill: #D2E3FC;\n",
              "    }\n",
              "\n",
              "    [theme=dark] .colab-df-convert:hover {\n",
              "      background-color: #434B5C;\n",
              "      box-shadow: 0px 1px 3px 1px rgba(0, 0, 0, 0.15);\n",
              "      filter: drop-shadow(0px 1px 2px rgba(0, 0, 0, 0.3));\n",
              "      fill: #FFFFFF;\n",
              "    }\n",
              "  </style>\n",
              "\n",
              "      <script>\n",
              "        const buttonEl =\n",
              "          document.querySelector('#df-6602d436-bea4-43b7-8611-9bc750fd7252 button.colab-df-convert');\n",
              "        buttonEl.style.display =\n",
              "          google.colab.kernel.accessAllowed ? 'block' : 'none';\n",
              "\n",
              "        async function convertToInteractive(key) {\n",
              "          const element = document.querySelector('#df-6602d436-bea4-43b7-8611-9bc750fd7252');\n",
              "          const dataTable =\n",
              "            await google.colab.kernel.invokeFunction('convertToInteractive',\n",
              "                                                     [key], {});\n",
              "          if (!dataTable) return;\n",
              "\n",
              "          const docLinkHtml = 'Like what you see? Visit the ' +\n",
              "            '<a target=\"_blank\" href=https://colab.research.google.com/notebooks/data_table.ipynb>data table notebook</a>'\n",
              "            + ' to learn more about interactive tables.';\n",
              "          element.innerHTML = '';\n",
              "          dataTable['output_type'] = 'display_data';\n",
              "          await google.colab.output.renderOutput(dataTable, element);\n",
              "          const docLink = document.createElement('div');\n",
              "          docLink.innerHTML = docLinkHtml;\n",
              "          element.appendChild(docLink);\n",
              "        }\n",
              "      </script>\n",
              "    </div>\n",
              "  </div>\n",
              "  "
            ]
          },
          "metadata": {},
          "execution_count": 5
        }
      ]
    },
    {
      "cell_type": "code",
      "source": [
        "data.info()"
      ],
      "metadata": {
        "colab": {
          "base_uri": "https://localhost:8080/"
        },
        "id": "ZFDgPSJKzr_U",
        "outputId": "315dbd71-42f6-47df-ae88-3d8247e0ebd4"
      },
      "execution_count": null,
      "outputs": [
        {
          "output_type": "stream",
          "name": "stdout",
          "text": [
            "<class 'pandas.core.frame.DataFrame'>\n",
            "Int64Index: 1600000 entries, 1467810369 to 2193602129\n",
            "Data columns (total 5 columns):\n",
            " #   Column   Non-Null Count    Dtype         \n",
            "---  ------   --------------    -----         \n",
            " 0   emotion  1600000 non-null  int64         \n",
            " 1   date     1600000 non-null  datetime64[ns]\n",
            " 2   flag     1600000 non-null  object        \n",
            " 3   user     1600000 non-null  object        \n",
            " 4   text     1600000 non-null  object        \n",
            "dtypes: datetime64[ns](1), int64(1), object(3)\n",
            "memory usage: 73.2+ MB\n"
          ]
        }
      ]
    },
    {
      "cell_type": "code",
      "source": [
        "sns.countplot(data=data, x=\"emotion\")"
      ],
      "metadata": {
        "colab": {
          "base_uri": "https://localhost:8080/",
          "height": 466
        },
        "id": "P6MqQLA5urgu",
        "outputId": "76a2f4e7-1288-4e5f-d447-8036be9267cf"
      },
      "execution_count": null,
      "outputs": [
        {
          "output_type": "execute_result",
          "data": {
            "text/plain": [
              "<Axes: xlabel='emotion', ylabel='count'>"
            ]
          },
          "metadata": {},
          "execution_count": 7
        },
        {
          "output_type": "display_data",
          "data": {
            "text/plain": [
              "<Figure size 640x480 with 1 Axes>"
            ],
            "image/png": "[encoded data removed]"
          },
          "metadata": {}
        }
      ]
    },
    {
      "cell_type": "markdown",
      "source": [
        "## Чистка текста"
      ],
      "metadata": {
        "id": "LbaET1VG2Aa9"
      }
    },
    {
      "cell_type": "code",
      "source": [
        "PUNCT_TO_REMOVE = string.punctuation + \"«»№\"\n",
        "URL_PATTERN = r'https?://\\S+|www\\.\\S+' # https?:\\/\\/(?:www\\.)?[-a-zA-Z0-9@:%._\\+~#=]{1,256}\\.[a-zA-Z0-9()]{1,6}\\b(?:[-a-zA-Z0-9()@:%_\\+.~#?&\\/=]*)\n",
        "HTML_PATTERN = '<.*>'\n",
        "USERNAME_PATTERN = \"@\\w+\\s\"\n",
        "DIGIT_PATTERN = \"\\d+\"\n",
        "regex_pattern = re.compile(f\"({URL_PATTERN}|{HTML_PATTERN}|{USERNAME_PATTERN}|{DIGIT_PATTERN})\")"
      ],
      "metadata": {
        "id": "LSOM_I8q800r"
      },
      "execution_count": null,
      "outputs": []
    },
    {
      "cell_type": "code",
      "source": [
        "example_text = data.iloc[0, -1]\n",
        "\n",
        "text = regex_pattern.sub(\"\", example_text).split()\n",
        "text = [i.translate(str.maketrans(PUNCT_TO_REMOVE, ' '*len(PUNCT_TO_REMOVE))) for i in text]\n",
        "text = [''.join(i for i in word if not i.isdigit()) for word in text]\n",
        "\n",
        "example_text, \" \".join(text)"
      ],
      "metadata": {
        "colab": {
          "base_uri": "https://localhost:8080/"
        },
        "id": "a7mUgk9oWpSp",
        "outputId": "c3e90b3a-c371-482a-e693-0ede1dd2f03c"
      },
      "execution_count": null,
      "outputs": [
        {
          "output_type": "execute_result",
          "data": {
            "text/plain": [
              "(\"@switchfoot http://twitpic.com/2y1zl - Awww, that's a bummer.  You shoulda got David Carr of Third Day to do it. ;D\",\n",
              " '  Awww  that s a bummer  You shoulda got David Carr of Third Day to do it   D')"
            ]
          },
          "metadata": {},
          "execution_count": 9
        }
      ]
    },
    {
      "cell_type": "code",
      "source": [
        "# test = []\n",
        "# for index, row in tqdm(data.iterrows(), total=data.shape[0]):\n",
        "#     text = regex_pattern.sub(\"\",row[\"text\"]).split()\n",
        "#     text = [i.translate(str.maketrans(PUNCT_TO_REMOVE, ' '*len(PUNCT_TO_REMOVE))) for i in text]\n",
        "#     text = [''.join(i for i in word if not i.isdigit()) for word in text]\n",
        "#     text = \" \".join(text)\n",
        "#     test.append(text)\n",
        "#     data.at[index, \"text\"] = text"
      ],
      "metadata": {
        "id": "yrPtrrg6Ta1A"
      },
      "execution_count": null,
      "outputs": []
    },
    {
      "cell_type": "code",
      "source": [
        "cnt = Counter()\n",
        "\n",
        "def clean_words(row) -> str:\n",
        "    text = row[\"text\"].lower()\n",
        "    text = regex_pattern.sub(\"\", text).split()\n",
        "    text = [i.translate(str.maketrans(PUNCT_TO_REMOVE, ' '*len(PUNCT_TO_REMOVE))) for i in text]\n",
        "    text = [''.join(i for i in word if not i.isdigit()) for word in text]\n",
        "\n",
        "    for word in text:\n",
        "        cnt[word] += 1\n",
        "    return \" \".join(text)"
      ],
      "metadata": {
        "id": "gXzP-wPbYbGW"
      },
      "execution_count": null,
      "outputs": []
    },
    {
      "cell_type": "code",
      "source": [
        "data[\"text\"] = data.progress_apply(clean_words, axis=1)"
      ],
      "metadata": {
        "colab": {
          "base_uri": "https://localhost:8080/",
          "height": 49,
          "referenced_widgets": [
            "f73a02902ab5420d8c2604fd72a9634c",
            "cec9b116d39a4e48918627ec8d72626b",
            "9c6fc94c4c5e44c9a59bee8a457fac4b",
            "b6dc568a350d415e991cfb010fbe54cb",
            "6b9c83290b3e45b890175fa4b5b3898c",
            "09373067b92d49eb9f248beb6d92ebbe",
            "769cef4f223f4aaab1137899ac318cab",
            "6df9596385a443a4b1887086a62e6725",
            "e61a495e05f4437ca4124a995b7edfa3",
            "c1951608252a4a90a26baa714dfd2e4d",
            "4bea9b37fcfa44c691b06099d74c9f39"
          ]
        },
        "id": "MhrFwkmVV1j1",
        "outputId": "638e2fd5-50a3-4a80-b520-1b0de83e2a0a"
      },
      "execution_count": null,
      "outputs": [
        {
          "output_type": "display_data",
          "data": {
            "text/plain": [
              "  0%|          | 0/1600000 [00:00<?, ?it/s]"
            ],
            "application/vnd.jupyter.widget-view+json": {
              "version_major": 2,
              "version_minor": 0,
              "model_id": "f73a02902ab5420d8c2604fd72a9634c"
            }
          },
          "metadata": {}
        }
      ]
    },
    {
      "cell_type": "markdown",
      "source": [
        "## Распространенные слова\n"
      ],
      "metadata": {
        "id": "mkhrgkK12FUW"
      }
    },
    {
      "cell_type": "code",
      "source": [
        "cnt.most_common(10)"
      ],
      "metadata": {
        "colab": {
          "base_uri": "https://localhost:8080/"
        },
        "id": "nOZcT6jBhD6g",
        "outputId": "b373bdf9-f062-41b8-e565-6cb22bacc337"
      },
      "execution_count": null,
      "outputs": [
        {
          "output_type": "execute_result",
          "data": {
            "text/plain": [
              "[('i', 746610),\n",
              " ('to', 560333),\n",
              " ('the', 518757),\n",
              " ('a', 377257),\n",
              " ('my', 312864),\n",
              " ('and', 295634),\n",
              " ('you', 237750),\n",
              " ('is', 231041),\n",
              " ('for', 214049),\n",
              " ('in', 210083)]"
            ]
          },
          "metadata": {},
          "execution_count": 13
        }
      ]
    },
    {
      "cell_type": "code",
      "source": [
        "%%time\n",
        "from sklearn.feature_extraction.text import CountVectorizer\n",
        "\n",
        "vectorizer = CountVectorizer()\n",
        "X = vectorizer.fit_transform(data[\"text\"])"
      ],
      "metadata": {
        "colab": {
          "base_uri": "https://localhost:8080/"
        },
        "id": "Sq9Z_P5zdpSV",
        "outputId": "7e8dbb02-9739-4434-eeca-44ab6e42d7ac"
      },
      "execution_count": null,
      "outputs": [
        {
          "output_type": "stream",
          "name": "stdout",
          "text": [
            "CPU times: user 22.4 s, sys: 486 ms, total: 22.8 s\n",
            "Wall time: 23 s\n"
          ]
        }
      ]
    },
    {
      "cell_type": "code",
      "source": [
        "X.shape"
      ],
      "metadata": {
        "colab": {
          "base_uri": "https://localhost:8080/"
        },
        "id": "RADdnyHHd9UR",
        "outputId": "9efea062-f6f2-4023-b5a9-8e293bb6378f"
      },
      "execution_count": null,
      "outputs": [
        {
          "output_type": "execute_result",
          "data": {
            "text/plain": [
              "(1600000, 286750)"
            ]
          },
          "metadata": {},
          "execution_count": 15
        }
      ]
    },
    {
      "cell_type": "code",
      "source": [
        "X = pd.Series(sorted(np.squeeze(np.asarray((X != 0).sum(axis=0)))))\n",
        "X[-10:]"
      ],
      "metadata": {
        "colab": {
          "base_uri": "https://localhost:8080/"
        },
        "id": "kd4e-DZLf_oR",
        "outputId": "2424a695-c51a-4224-af94-9b3f4d5fb023"
      },
      "execution_count": null,
      "outputs": [
        {
          "output_type": "execute_result",
          "data": {
            "text/plain": [
              "286740    170395\n",
              "286741    199622\n",
              "286742    201562\n",
              "286743    219734\n",
              "286744    244485\n",
              "286745    261769\n",
              "286746    272040\n",
              "286747    282511\n",
              "286748    427819\n",
              "286749    458172\n",
              "dtype: int64"
            ]
          },
          "metadata": {},
          "execution_count": 16
        }
      ]
    },
    {
      "cell_type": "code",
      "source": [
        "plt.plot(X)\n",
        "plt.title(\"Frequences of words per row\");"
      ],
      "metadata": {
        "colab": {
          "base_uri": "https://localhost:8080/",
          "height": 452
        },
        "id": "3a1Qe-nuabYV",
        "outputId": "981d6d67-2fca-47b7-c213-f2b94fd053cf"
      },
      "execution_count": null,
      "outputs": [
        {
          "output_type": "display_data",
          "data": {
            "text/plain": [
              "<Figure size 640x480 with 1 Axes>"
            ],
            "image/png": "[encoded data removed]"
          },
          "metadata": {}
        }
      ]
    },
    {
      "cell_type": "code",
      "source": [
        "plt.plot(X[X<100])\n",
        "plt.title(\"Frequences of words < 100 per row\");"
      ],
      "metadata": {
        "colab": {
          "base_uri": "https://localhost:8080/",
          "height": 452
        },
        "id": "8lz5B2tQddBG",
        "outputId": "ed005aaa-ff2a-4fa9-a566-9967f9f3c71f"
      },
      "execution_count": null,
      "outputs": [
        {
          "output_type": "display_data",
          "data": {
            "text/plain": [
              "<Figure size 640x480 with 1 Axes>"
            ],
            "image/png": "[encoded data removed]"
          },
          "metadata": {}
        }
      ]
    },
    {
      "cell_type": "markdown",
      "source": [
        "# TODO Удалять слова?"
      ],
      "metadata": {
        "id": "xTBw4uD3-2DX"
      }
    },
    {
      "cell_type": "code",
      "source": [
        "X = None\n",
        "cnt = None"
      ],
      "metadata": {
        "id": "HTJdIKODG5Jp"
      },
      "execution_count": null,
      "outputs": []
    },
    {
      "cell_type": "markdown",
      "source": [
        "# Word2Vec\n"
      ],
      "metadata": {
        "id": "swLVgiTF9Bix"
      }
    },
    {
      "cell_type": "markdown",
      "source": [
        "## Примеры Word2Vec"
      ],
      "metadata": {
        "id": "QiD4CM2c25AA"
      }
    },
    {
      "cell_type": "code",
      "source": [
        "%%time\n",
        "from gensim import downloader\n",
        "\n",
        "wv = downloader.load('word2vec-google-news-300')"
      ],
      "metadata": {
        "colab": {
          "base_uri": "https://localhost:8080/"
        },
        "id": "f9XVTThs9Jtw",
        "outputId": "20cc3571-dd9c-4639-f56c-ad8b8cca01de"
      },
      "execution_count": null,
      "outputs": [
        {
          "output_type": "stream",
          "name": "stdout",
          "text": [
            "CPU times: user 1min, sys: 4.39 s, total: 1min 5s\n",
            "Wall time: 1min 6s\n"
          ]
        }
      ]
    },
    {
      "cell_type": "code",
      "source": [
        "print(list(gensim.downloader.info()['models'].keys()))"
      ],
      "metadata": {
        "colab": {
          "base_uri": "https://localhost:8080/"
        },
        "id": "p124v8Ia7WNQ",
        "outputId": "001a2225-f975-49f6-a195-a289f3de4c3d"
      },
      "execution_count": null,
      "outputs": [
        {
          "output_type": "stream",
          "name": "stdout",
          "text": [
            "['fasttext-wiki-news-subwords-300', 'conceptnet-numberbatch-17-06-300', 'word2vec-ruscorpora-300', 'word2vec-google-news-300', 'glove-wiki-gigaword-50', 'glove-wiki-gigaword-100', 'glove-wiki-gigaword-200', 'glove-wiki-gigaword-300', 'glove-twitter-25', 'glove-twitter-50', 'glove-twitter-100', 'glove-twitter-200', '__testing_word2vec-matrix-synopsis']\n"
          ]
        }
      ]
    },
    {
      "cell_type": "markdown",
      "source": [
        "![](https://raw.githubusercontent.com/amanjeetsahu/Natural-Language-Processing-Specialization/d562105e68a0b85012ad3ebbb29b2af6344ad4e5/Natural%20Language%20Processing%20with%20Classification%20and%20Vector%20Spaces/Week%203/vectors.jpg)"
      ],
      "metadata": {
        "id": "toCjsFchEuq7"
      }
    },
    {
      "cell_type": "markdown",
      "source": [
        "$$cos(X,Y) = \\frac{<X, Y>}{||X||*||Y||}$$"
      ],
      "metadata": {
        "id": "ekQQWBtY32X6"
      }
    },
    {
      "cell_type": "markdown",
      "source": [
        "Поиск ближайших соседей из примера с помощью gensim"
      ],
      "metadata": {
        "id": "TcJLScgd4an6"
      }
    },
    {
      "cell_type": "code",
      "source": [
        "wv.most_similar(positive=['king', \"woman\"], negative=[\"man\"], topn=5) # cosine similarity"
      ],
      "metadata": {
        "colab": {
          "base_uri": "https://localhost:8080/"
        },
        "id": "EYQ1AhVAEFQk",
        "outputId": "4ddfb99b-16e6-4b78-a53e-026c5cfbcc1c"
      },
      "execution_count": null,
      "outputs": [
        {
          "output_type": "execute_result",
          "data": {
            "text/plain": [
              "[('queen', 0.7118193507194519),\n",
              " ('monarch', 0.6189674139022827),\n",
              " ('princess', 0.5902431011199951),\n",
              " ('crown_prince', 0.5499460697174072),\n",
              " ('prince', 0.5377321839332581)]"
            ]
          },
          "metadata": {},
          "execution_count": 22
        }
      ]
    },
    {
      "cell_type": "markdown",
      "source": [
        "Рассчет схожести известных слов с помощью sklearn\n",
        "\n"
      ],
      "metadata": {
        "id": "ptXO3omO4itT"
      }
    },
    {
      "cell_type": "code",
      "source": [
        "from sklearn.metrics.pairwise import cosine_similarity"
      ],
      "metadata": {
        "id": "gFFAinnYJmGE"
      },
      "execution_count": null,
      "outputs": []
    },
    {
      "cell_type": "code",
      "source": [
        "computed_vector = [wv[\"king\"]-wv[\"man\"]+wv[\"woman\"]]\n",
        "intresting_words = [\"queen\", \"monarch\", \"princess\"]\n",
        "for word, result in zip(intresting_words, cosine_similarity(computed_vector, wv[intresting_words])[0]):\n",
        "    print(f\"Result for {word=} is {result=}\")"
      ],
      "metadata": {
        "colab": {
          "base_uri": "https://localhost:8080/"
        },
        "id": "rRssrnyxJwOW",
        "outputId": "86014cee-e4d3-4e3e-c977-444b36169610"
      },
      "execution_count": null,
      "outputs": [
        {
          "output_type": "stream",
          "name": "stdout",
          "text": [
            "Result for word='queen' is result=0.73005176\n",
            "Result for word='monarch' is result=0.64546615\n",
            "Result for word='princess' is result=0.6156252\n"
          ]
        }
      ]
    },
    {
      "cell_type": "markdown",
      "source": [
        "Рассчет схожести известных слов на numpy"
      ],
      "metadata": {
        "id": "-b0RBfDv4qU7"
      }
    },
    {
      "cell_type": "code",
      "source": [
        "(computed_vector @ wv[\"queen\"]) / (np.linalg.norm(computed_vector) * np.linalg.norm(wv[\"queen\"]))"
      ],
      "metadata": {
        "colab": {
          "base_uri": "https://localhost:8080/"
        },
        "id": "wPzyoHMP4Cs4",
        "outputId": "f0b4cfd7-57ce-4bfc-9f07-4d90e3078785"
      },
      "execution_count": null,
      "outputs": [
        {
          "output_type": "execute_result",
          "data": {
            "text/plain": [
              "array([0.73005176], dtype=float32)"
            ]
          },
          "metadata": {},
          "execution_count": 25
        }
      ]
    },
    {
      "cell_type": "markdown",
      "source": [
        "Тренируемся на котятах и щенках\n",
        "![](https://petstory.ru/resize/800x800x80/upload/images/articles//kotyenok-i-shchenok-v-odnoy-kvartire/kitt-and-pupp1.jpg)"
      ],
      "metadata": {
        "id": "00zH8Qou4vAK"
      }
    },
    {
      "cell_type": "code",
      "source": [
        "# Для примера\n",
        "\n",
        "wv.most_similar(positive=[\"puppy\", \"cat\"], negative=[\"dog\"], topn=5)"
      ],
      "metadata": {
        "colab": {
          "base_uri": "https://localhost:8080/"
        },
        "id": "Rf5GcH13O6oS",
        "outputId": "0c175daa-d4c8-4c06-d627-8f26855416e8"
      },
      "execution_count": null,
      "outputs": [
        {
          "output_type": "execute_result",
          "data": {
            "text/plain": [
              "[('kitten', 0.7634989619255066),\n",
              " ('puppies', 0.7110899686813354),\n",
              " ('pup', 0.6929494142532349),\n",
              " ('kittens', 0.6888390779495239),\n",
              " ('cats', 0.6796489357948303)]"
            ]
          },
          "metadata": {},
          "execution_count": 26
        }
      ]
    },
    {
      "cell_type": "markdown",
      "source": [
        "## Применение Word2Vec\n",
        "\n",
        "Тк будут классифицироваться твиты, то надо получать эмбединг самого твита. В данном случае будут усредняться все слова для которых известен вектор."
      ],
      "metadata": {
        "id": "rQrnefIE27j0"
      }
    },
    {
      "cell_type": "code",
      "source": [
        "emb_line = np.mean([wv.get_vector(w) for w in data.iloc[0, -1].split() if w in wv], axis=0)\n",
        "print(emb_line.shape)\n",
        "print(emb_line)"
      ],
      "metadata": {
        "colab": {
          "base_uri": "https://localhost:8080/"
        },
        "id": "Dy0oCjU52-bS",
        "outputId": "e6b32a61-397e-4a33-a12f-0d6f83a4ea64"
      },
      "execution_count": null,
      "outputs": [
        {
          "output_type": "stream",
          "name": "stdout",
          "text": [
            "(300,)\n",
            "[ 0.01497105  0.01365539 -0.01768276  0.17776926 -0.06657628 -0.03283909\n",
            " -0.03889247 -0.08829171  0.05092076  0.07562474 -0.08740889 -0.13777815\n",
            " -0.05225481  0.00619071 -0.07143729  0.0819724   0.09817941  0.1179548\n",
            " -0.04559653 -0.1156965  -0.11109529  0.07343102  0.17407227 -0.09913854\n",
            " -0.00827571 -0.04022435 -0.07413591  0.02731214 -0.02598245 -0.01106032\n",
            " -0.06823076  0.06035941 -0.01707022 -0.05290004 -0.05621937 -0.02054705\n",
            " -0.01516724  0.06623296 -0.03253283  0.08760071  0.03864397 -0.1003418\n",
            "  0.23293631 -0.00732858 -0.02327619  0.01831491 -0.02643694 -0.11656625\n",
            "  0.0624564   0.02959987 -0.14591326  0.05016     0.05267988  0.10173253\n",
            "  0.02105713  0.10768019 -0.04174369 -0.09200178  0.06279319 -0.04637473\n",
            " -0.04540062  0.11249433 -0.05984006 -0.03186253 -0.00772095 -0.14575632\n",
            " -0.08989225 -0.00315203 -0.0589992   0.09278215  0.11464582  0.04915074\n",
            "  0.00921631  0.01085772 -0.17524937 -0.00368827  0.06352125  0.10571289\n",
            "  0.03891972  0.09274728 -0.07488142 -0.03533063 -0.03065185 -0.03670175\n",
            " -0.01304408  0.01120431 -0.06331962  0.25851876  0.03043365  0.01480538\n",
            "  0.01386915  0.10260881 -0.03666142 -0.00637381 -0.11072649 -0.04381289\n",
            "  0.04288156  0.10962786  0.05559431 -0.05921282 -0.03404236 -0.04762622\n",
            "  0.05472674  0.01447841 -0.06151472  0.05293492 -0.11997114  0.01618413\n",
            " -0.04334804 -0.03474208 -0.05542864 -0.08057076 -0.01950509 -0.03491157\n",
            "  0.11193848  0.07290214 -0.0166844  -0.04946027  0.0275007  -0.00758144\n",
            " -0.02784293  0.05909075 -0.04053606  0.03971645  0.06157875 -0.08712333\n",
            " -0.04618182  0.03163365  0.00034087  0.01350021 -0.24337114 -0.09025465\n",
            " -0.04319545 -0.02390834 -0.06028748 -0.03269741 -0.01779175  0.03182548\n",
            "  0.01331438  0.10975865  0.16619436 -0.06336321  0.0559954  -0.11583601\n",
            "  0.04546247 -0.02688926 -0.08969116 -0.03909738 -0.04167393 -0.08229283\n",
            "  0.09343828 -0.00859724 -0.10365514  0.01131766 -0.07914843 -0.00468663\n",
            " -0.01713344 -0.02125331 -0.08228411 -0.03886196 -0.01498958  0.06391688\n",
            "  0.06005641  0.06503732  0.02472578 -0.14334543  0.14631216 -0.08984811\n",
            " -0.01099941  0.01671927 -0.08277675  0.00345285 -0.00476946 -0.0615496\n",
            " -0.08703069  0.14066151  0.17782156 -0.08129011 -0.0042899  -0.00494385\n",
            " -0.0824585  -0.00874424  0.0658493  -0.01384408 -0.0440979   0.06672887\n",
            " -0.00223214  0.00056458  0.04616002  0.02068438  0.02832467 -0.01731655\n",
            " -0.06529018  0.00222342  0.04972949  0.04181017 -0.07043893 -0.01191929\n",
            "  0.01798793 -0.16493443 -0.00737653  0.06198992 -0.1056056  -0.03401675\n",
            " -0.00479562 -0.02398464 -0.08500017 -0.01316615  0.0111193   0.10078648\n",
            "  0.01312147  0.10851615 -0.05223737  0.07939802 -0.1478217  -0.04157366\n",
            "  0.06158924 -0.10204206 -0.04929897 -0.00740269 -0.07664271  0.08717564\n",
            "  0.0763419   0.01450021  0.04580253 -0.0843593   0.13628714  0.06733431\n",
            " -0.10100883 -0.03463963  0.0527856  -0.09108625 -0.03513983 -0.05049351\n",
            "  0.09612124  0.05736215 -0.01327951 -0.01215907  0.14458357  0.07245527\n",
            "  0.10767473  0.01681955  0.08704267 -0.08731515 -0.05202702  0.06574358\n",
            " -0.01263428  0.17772129  0.02478368 -0.04612514 -0.03406634  0.04557147\n",
            "  0.14273943  0.10720389  0.00966099 -0.03843471  0.09947423 -0.01364136\n",
            "  0.00776672 -0.15965053 -0.04037666  0.00028774 -0.02598354 -0.02110945\n",
            " -0.04936872  0.07654244 -0.02415248  0.02356175 -0.01248605  0.02951704\n",
            " -0.06724618  0.04891668  0.1114502   0.10872106  0.03200858 -0.04871913\n",
            " -0.18394034 -0.10033308 -0.0728411   0.08749826 -0.04313224 -0.02364676\n",
            " -0.07114519 -0.01994978  0.00991821 -0.00105504  0.07041713 -0.02885437\n",
            "  0.01654489  0.01018415  0.01967076  0.07650321 -0.12001256  0.08225359\n",
            " -0.04831368 -0.17867605 -0.08954512 -0.09173366  0.02952358  0.01395961]\n"
          ]
        }
      ]
    },
    {
      "cell_type": "code",
      "source": [
        "mean = np.mean(wv.vectors, 0)\n",
        "std = np.std(wv.vectors, 0)\n",
        "\n",
        "emb_line = np.mean([(wv.get_vector(w) - mean) / std for w in data.iloc[0, -1].split() if w in wv], axis=0)\n",
        "print(emb_line.shape)\n",
        "print(emb_line)"
      ],
      "metadata": {
        "colab": {
          "base_uri": "https://localhost:8080/"
        },
        "id": "xCvmPNfFEJu6",
        "outputId": "fd4f11c7-610f-4d47-84a7-b8a137081498"
      },
      "execution_count": null,
      "outputs": [
        {
          "output_type": "stream",
          "name": "stdout",
          "text": [
            "(300,)\n",
            "[ 0.12441395  0.11959733 -0.05962821  1.1291173  -0.5650362   0.11360583\n",
            " -0.38069126 -0.37698087  0.19789647  0.23377113 -0.7218544  -1.101671\n",
            " -0.22392257 -0.2805214  -0.24863079  0.4292507   0.61467063  0.6615648\n",
            " -0.15875371 -0.8650853  -1.1350769   0.53863037  0.90458333 -1.0204123\n",
            " -0.10251779 -0.0969864  -0.33185482 -0.12866603 -0.30854607  0.2684019\n",
            " -0.3084691   0.8341306  -0.18025717 -0.19610699 -0.48523757  0.40046695\n",
            " -0.42268327  0.48725367 -0.29552412  0.5816415   0.37858394 -0.58082104\n",
            "  1.4224008  -0.46938905  0.18081352  0.739817    0.14306934 -0.878883\n",
            "  0.41129187 -0.10025807 -0.57050467  0.09678835  0.38400382  0.85469335\n",
            "  0.36761206  0.45847896  0.1272875  -0.5214959   0.6478004   0.18370898\n",
            "  0.03259028  0.524264   -0.06493772 -0.29720333 -0.12877987 -0.84021884\n",
            " -0.64140064 -0.14098121 -0.8905572   0.21701737  0.814106    0.63209444\n",
            " -0.04547229 -0.07371013 -0.52076775  0.43831554  0.29870334  1.3430119\n",
            " -0.01936653  0.57618695 -0.48487523  0.10079814 -0.02949053 -0.17660978\n",
            " -0.45152536  0.2213246  -0.3813486   1.3075801   0.01454796  0.26953107\n",
            "  0.44643015  1.4466664   0.12200548 -0.34330007 -0.5051633  -0.04204851\n",
            " -0.18143587  1.0290864   0.2091157  -0.08967563 -0.4348071  -0.10581768\n",
            "  0.31051096  0.19036081 -0.84189034  0.37594968 -1.0168115  -0.11633193\n",
            " -0.41798645 -0.48306704 -0.51856214 -0.46792692 -0.6634847  -0.21911843\n",
            "  0.6984429   0.3789514   0.11441143  0.02134361 -0.5846391   0.00757443\n",
            "  0.17797585  0.2416105   0.27546072  0.35802677  0.09988394 -0.6165746\n",
            "  0.44113    -0.23236592 -0.03258488 -0.3986418  -1.6624507  -0.72336835\n",
            " -0.23350184 -0.03584287 -0.17684317 -0.3223935  -0.03464185  0.37105814\n",
            "  0.08225463  0.18284276  1.1910034  -0.49121302  0.48180118 -0.77583355\n",
            "  0.4823975  -0.4111397  -0.80655277 -0.44347724 -0.0570459  -0.11285018\n",
            " -0.17777708  0.46262693 -0.6185366  -0.12411841 -0.8392226   0.37173063\n",
            " -0.06559347 -0.0821421  -0.4965398   0.05272558  0.07779877  0.01326569\n",
            " -0.1717386   0.43204498  0.14690137 -0.647363    0.7816626  -0.7278952\n",
            " -0.02503185 -0.32982984 -0.3878785   0.110544    0.09281833  0.07969677\n",
            " -0.40492648  1.3261955   0.9618796  -0.1396886   0.3658386   0.484797\n",
            " -0.08086876 -0.06720667  0.31791618  0.3172343  -0.28566623  0.74811924\n",
            " -0.14344628  0.08075844  0.14753754 -0.18548796  0.7830593  -0.3274338\n",
            "  0.01028961  0.17151843  0.46956852 -0.08237587 -0.5493645   0.09699952\n",
            " -0.07723236 -0.49540806 -0.0982067   0.34215853 -0.8260159  -0.2248759\n",
            " -0.04607889  0.3060312  -1.133886   -0.03656647  0.37096453  1.2261103\n",
            "  0.41107526  1.1589833  -0.41318545  0.22717835 -0.99568224 -0.6653571\n",
            "  0.636134   -0.9226881  -0.37123922  0.44866863 -0.3616524   0.24030863\n",
            "  0.75926036 -0.02817708  0.3326218  -0.69215834  1.0905986   0.5120451\n",
            " -0.91180795 -0.05864361  0.5963995  -1.096552    0.00303278 -0.39822337\n",
            "  0.8157792   0.4928789  -0.27809185  0.07937653  0.93583345  0.43938187\n",
            "  0.56986225  0.6445425   0.5452979  -0.31787297 -0.25918132  0.6569805\n",
            "  0.22316833  0.7894425   0.512647    0.17922673 -0.38424     0.14613822\n",
            "  1.2704548   0.48623613 -0.58729726 -0.2568184   0.6771892   0.36383173\n",
            "  0.409013   -0.75772953 -0.6152171  -0.42895645 -0.28214148  0.03247888\n",
            " -0.72833335  0.12110597  0.26677278  0.48232603 -0.09800673  0.4210803\n",
            " -0.2693932   0.03301279  1.2953873   0.50474346 -0.39777127 -0.53600615\n",
            " -1.1916016  -0.74245054 -0.425267    0.48753813  0.1126894  -0.318954\n",
            " -0.4212834  -0.32005045  0.04781013  0.27786347  0.49933678 -0.50345296\n",
            " -0.28775826 -0.39285952  0.2811205   0.7372127  -0.299543    0.36671993\n",
            " -0.4148054  -1.2248224  -0.42506742 -0.5325734  -0.24838053 -0.18764207]\n"
          ]
        }
      ]
    },
    {
      "cell_type": "code",
      "source": [
        "mean = np.mean(wv.vectors, 0)\n",
        "std = np.std(wv.vectors, 0)\n",
        "\n",
        "def compute_embedding(row) -> np.ndarray:\n",
        "    embeddings = [(wv.get_vector(w) - mean) / std for w in row[\"text\"] if w in wv]# Получи эмбеддинги слов и усредни их\n",
        "\n",
        "    if len(embeddings) == 0:\n",
        "        embeddings = np.zeros((1, wv.vector_size))\n",
        "    else:\n",
        "        embeddings = np.array(embeddings)\n",
        "        if len(embeddings.shape) == 1:\n",
        "            embeddings = embeddings.reshape(-1, 1)\n",
        "    return np.mean(embeddings, axis=0, dtype=np.float16)"
      ],
      "metadata": {
        "id": "CrzTLvbDAgJK"
      },
      "execution_count": null,
      "outputs": []
    },
    {
      "cell_type": "code",
      "source": [
        "X = np.stack(data.progress_apply(compute_embedding, axis=1))\n",
        "y = data[\"emotion\"]"
      ],
      "metadata": {
        "colab": {
          "base_uri": "https://localhost:8080/",
          "height": 49,
          "referenced_widgets": [
            "c9bd7969933d481395afe8e5bbc51854",
            "92052773bbe84f01965b2a3608f597bf",
            "824ec2c34e614f21bde89a2589c57851",
            "05f0e7776b0142e1bcddbd139862df49",
            "38ae4b826f2d4ce4a79073a0aaa0ba54",
            "3f6301af90b74f05b689bc27d4276c9a",
            "e223e7f20435435d9a0dd591581d5f6a",
            "316d36ada46944f19fa3ab2442ef9112",
            "22d7a6470e2a41e7aeec90bff89dd6d7",
            "84733ffbd23344a4af4b754ab1cb9bfa",
            "8e56522247904a98bdeafd5f6a1bce8c"
          ]
        },
        "id": "xP7cMfTbDfn7",
        "outputId": "39ebb7b8-23c1-425f-ed8a-15b5787edc7f"
      },
      "execution_count": null,
      "outputs": [
        {
          "data": {
            "application/vnd.jupyter.widget-view+json": {
              "model_id": "c9bd7969933d481395afe8e5bbc51854",
              "version_major": 2,
              "version_minor": 0
            },
            "text/plain": [
              "  0%|          | 0/1600000 [00:00<?, ?it/s]"
            ]
          },
          "metadata": {},
          "output_type": "display_data"
        }
      ]
    },
    {
      "cell_type": "code",
      "source": [
        "data = None\n",
        "wv = None"
      ],
      "metadata": {
        "id": "IJEcHEFPl2My"
      },
      "execution_count": null,
      "outputs": []
    },
    {
      "cell_type": "code",
      "source": [
        "X_train, X_test, y_train, y_test = train_test_split(X, y, test_size = 0.2)\n",
        "X_train.shape, y_train.shape, X_test.shape, y_test.shape"
      ],
      "metadata": {
        "colab": {
          "base_uri": "https://localhost:8080/"
        },
        "id": "OS2Ss2Jxl9Ba",
        "outputId": "d4199f77-7ee3-4e0a-9529-6a3283789d0c"
      },
      "execution_count": null,
      "outputs": [
        {
          "output_type": "execute_result",
          "data": {
            "text/plain": [
              "((1280000, 300), (1280000,), (320000, 300), (320000,))"
            ]
          },
          "metadata": {},
          "execution_count": 42
        }
      ]
    },
    {
      "cell_type": "code",
      "source": [
        "from sklearn.linear_model import LogisticRegression\n",
        "from sklearn.metrics import f1_score, accuracy_score"
      ],
      "metadata": {
        "id": "Z7Yau7gcoeZX"
      },
      "execution_count": null,
      "outputs": []
    },
    {
      "cell_type": "code",
      "source": [
        "%%time\n",
        "clf = LogisticRegression(random_state=0)\n",
        "clf = clf.fit(X_train, y_train)\n",
        "predicted = clf.predict(X_test)"
      ],
      "metadata": {
        "colab": {
          "base_uri": "https://localhost:8080/",
          "height": 151
        },
        "id": "Yw2eN1qOmNtP",
        "outputId": "4db9dee7-6509-4594-af5b-67b07f86b468"
      },
      "execution_count": null,
      "outputs": [
        {
          "output_type": "error",
          "ename": "ImportError",
          "evalue": "ignored",
          "traceback": [
            "\u001b[0;31m---------------------------------------------------------------------------\u001b[0m",
            "\u001b[0;31mImportError\u001b[0m                               Traceback (most recent call last)",
            "\u001b[0;32m<timed exec>\u001b[0m in \u001b[0;36m<module>\u001b[0;34m\u001b[0m\n",
            "\u001b[0;31mImportError\u001b[0m: cannot import name 'accuracy' from 'sklearn.metrics' (/usr/local/lib/python3.9/dist-packages/sklearn/metrics/__init__.py)"
          ]
        }
      ]
    },
    {
      "cell_type": "code",
      "source": [
        "f\"{f1_score(predicted, y_test.values, pos_label=0)=}, {accuracy_score(predicted, y_test.values)=}\""
      ],
      "metadata": {
        "colab": {
          "base_uri": "https://localhost:8080/",
          "height": 35
        },
        "id": "Xw_b_jIHnF7d",
        "outputId": "14874e9c-2e97-46f2-90e5-f11ca22e296c"
      },
      "execution_count": null,
      "outputs": [
        {
          "output_type": "execute_result",
          "data": {
            "text/plain": [
              "'f1_score(predicted, y_test.values, pos_label=0)=0.5802368251111744, accuracy_score(predicted, y_test.values)=0.571396875'"
            ],
            "application/vnd.google.colaboratory.intrinsic+json": {
              "type": "string"
            }
          },
          "metadata": {},
          "execution_count": 59
        }
      ]
    },
    {
      "cell_type": "code",
      "source": [
        "clf = None\n",
        "X = None\n",
        "X_train = None\n",
        "X_test = None\n",
        "y_train = None\n",
        "y_test = None\n",
        "vectorizer = None\n",
        "y = None\n",
        "predicted = None"
      ],
      "metadata": {
        "id": "KY-0Tg8anw_M"
      },
      "execution_count": null,
      "outputs": []
    },
    {
      "cell_type": "markdown",
      "source": [
        "## Обучение Word2Vec"
      ],
      "metadata": {
        "id": "RUdNo8WPpSAF"
      }
    },
    {
      "cell_type": "code",
      "source": [
        "import gensim.models"
      ],
      "metadata": {
        "id": "wgGGztymrRN_"
      },
      "execution_count": null,
      "outputs": []
    },
    {
      "cell_type": "code",
      "source": [
        "data = pd.read_csv(\"data.csv.zip\", index_col=\"id\")\n",
        "cnt = Counter()\n",
        "data[\"text\"] = data.progress_apply(clean_words, axis=1)\n",
        "cnt = None"
      ],
      "metadata": {
        "colab": {
          "base_uri": "https://localhost:8080/",
          "height": 49,
          "referenced_widgets": [
            "c32e640ac9dc4b18aef83cbcd901cb06",
            "1943b6e77fa94d85af9904bcf1adda9e",
            "8de39536418e46cb8c618cac4e243710",
            "fb4635e6a05b47a3859079bafe21454b",
            "7256745c0ef24351a4ef7429b6007cee",
            "7bf51fafca3d46cb8d459bab97749c7e",
            "1ece9b4987a54eb1a0e552c61a00c9ba",
            "fcb8efc4e0434c1bbaab5f2af77e8729",
            "de6ad048fbf8495bba41d56292844e05",
            "b41f499145e3435eb14d66a90156121a",
            "fd9a2ce29c444055996ff1ded20a4fe5"
          ]
        },
        "id": "YJgKLam7pGRD",
        "outputId": "6783aaca-7608-4a8c-f750-7ffcdbc68676"
      },
      "execution_count": null,
      "outputs": [
        {
          "output_type": "display_data",
          "data": {
            "text/plain": [
              "  0%|          | 0/1600000 [00:00<?, ?it/s]"
            ],
            "application/vnd.jupyter.widget-view+json": {
              "version_major": 2,
              "version_minor": 0,
              "model_id": "c32e640ac9dc4b18aef83cbcd901cb06"
            }
          },
          "metadata": {}
        }
      ]
    },
    {
      "cell_type": "code",
      "source": [
        "class MyCorpus:\n",
        "    \"\"\"An iterator that yields sentences (lists of str).\"\"\"\n",
        "\n",
        "    def __init__(self, sentences: list[str]):\n",
        "        self.sentences = sentences\n",
        "\n",
        "    def __iter__(self):\n",
        "        for line in self.sentences:\n",
        "            # assume there's one document per line, tokens separated by whitespace\n",
        "            yield line.split()"
      ],
      "metadata": {
        "id": "d6fY2L6dsCNK"
      },
      "execution_count": null,
      "outputs": []
    },
    {
      "cell_type": "code",
      "source": [
        "corpus = MyCorpus(data[\"text\"].values)"
      ],
      "metadata": {
        "id": "pD4KxBARsgaA"
      },
      "execution_count": null,
      "outputs": []
    },
    {
      "cell_type": "code",
      "source": [
        "%%time\n",
        "model = gensim.models.Word2Vec(sentences=corpus)"
      ],
      "metadata": {
        "id": "dGgfH3AZr9fx"
      },
      "execution_count": null,
      "outputs": []
    },
    {
      "cell_type": "code",
      "source": [
        "model.wv.most_similar(positive=['king', \"woman\"], negative=[\"man\"], topn=5) # cosine similarity"
      ],
      "metadata": {
        "colab": {
          "base_uri": "https://localhost:8080/"
        },
        "id": "GymnWDKKttsC",
        "outputId": "85f08ebf-3e80-41b1-f8d8-a3f93bef8338"
      },
      "execution_count": null,
      "outputs": [
        {
          "output_type": "execute_result",
          "data": {
            "text/plain": [
              "[('bush', 0.5206878781318665),\n",
              " ('queen', 0.49661946296691895),\n",
              " ('williams', 0.49535390734672546),\n",
              " ('dancer', 0.4920833110809326),\n",
              " ('president', 0.4893535375595093)]"
            ]
          },
          "metadata": {},
          "execution_count": 81
        }
      ]
    },
    {
      "cell_type": "code",
      "source": [
        "mean = np.mean(model.wv.vectors, 0)\n",
        "std = np.std(model.wv.vectors, 0)\n",
        "\n",
        "def compute_embedding(row) -> np.ndarray:\n",
        "    embeddings = [(model.wv.get_vector(w) - mean) / std for w in row[\"text\"] if w in model.wv]# Получи эмбеддинги слов и усредни их\n",
        "\n",
        "    if len(embeddings) == 0:\n",
        "        embeddings = np.zeros((1, model.wv.vector_size))\n",
        "    else:\n",
        "        embeddings = np.array(embeddings)\n",
        "        if len(embeddings.shape) == 1:\n",
        "            embeddings = embeddings.reshape(-1, 1)\n",
        "    return np.mean(embeddings, axis=0, dtype=np.float16)"
      ],
      "metadata": {
        "id": "9R15EGZ3sjmk"
      },
      "execution_count": null,
      "outputs": []
    },
    {
      "cell_type": "code",
      "source": [
        "X = np.stack(data.progress_apply(compute_embedding, axis=1))\n",
        "y = data[\"emotion\"]"
      ],
      "metadata": {
        "colab": {
          "base_uri": "https://localhost:8080/",
          "height": 49,
          "referenced_widgets": [
            "c3f80483d1c942309f39a3b681b2aec0",
            "7b39e620a2f547ce931b0d49cfa937d4",
            "e8a0c9557e25473dbd31403cdbf381ef",
            "554545ff106d4c2184adb0bc8e7a595f",
            "9a4460bcf631434cacd9b98bbd9ee756",
            "f41cb66ee70945fcabe4761f449226e7",
            "2d12576b8d1a41b99dd887027d17f478",
            "15134cec50054f9b8de92042099df84e",
            "5fed52e94fcb49b8a952692c4a8821be",
            "e3af144995194114a68859c23b1b1c86",
            "67faafb9dd914350a03f80c80eb7760e"
          ]
        },
        "id": "jEVo4tC2tiIW",
        "outputId": "7d34369e-eefb-4d7d-b714-ef328fe9a290"
      },
      "execution_count": null,
      "outputs": [
        {
          "output_type": "display_data",
          "data": {
            "text/plain": [
              "  0%|          | 0/1600000 [00:00<?, ?it/s]"
            ],
            "application/vnd.jupyter.widget-view+json": {
              "version_major": 2,
              "version_minor": 0,
              "model_id": "c3f80483d1c942309f39a3b681b2aec0"
            }
          },
          "metadata": {}
        }
      ]
    },
    {
      "cell_type": "code",
      "source": [
        "X_train, X_test, y_train, y_test = train_test_split(X, y, test_size = 0.2)\n",
        "X_train.shape, y_train.shape, X_test.shape, y_test.shape"
      ],
      "metadata": {
        "colab": {
          "base_uri": "https://localhost:8080/"
        },
        "id": "Y0h0JVIHw8S1",
        "outputId": "4711b6d5-016f-43a7-a9b0-18f0b589bc01"
      },
      "execution_count": null,
      "outputs": [
        {
          "output_type": "execute_result",
          "data": {
            "text/plain": [
              "((1280000, 100), (1280000,), (320000, 100), (320000,))"
            ]
          },
          "metadata": {},
          "execution_count": 85
        }
      ]
    },
    {
      "cell_type": "code",
      "source": [
        "%%time\n",
        "clf = LogisticRegression(random_state=0)\n",
        "clf = clf.fit(X_train, y_train)\n",
        "predicted = clf.predict(X_test)"
      ],
      "metadata": {
        "colab": {
          "base_uri": "https://localhost:8080/"
        },
        "id": "tm8feb7Fw8lM",
        "outputId": "2bc3a9e1-5513-4305-e6d0-86efc2798943"
      },
      "execution_count": null,
      "outputs": [
        {
          "output_type": "stream",
          "name": "stderr",
          "text": [
            "/usr/local/lib/python3.9/dist-packages/sklearn/linear_model/_logistic.py:458: ConvergenceWarning: lbfgs failed to converge (status=1):\n",
            "STOP: TOTAL NO. of ITERATIONS REACHED LIMIT.\n",
            "\n",
            "Increase the number of iterations (max_iter) or scale the data as shown in:\n",
            "    https://scikit-learn.org/stable/modules/preprocessing.html\n",
            "Please also refer to the documentation for alternative solver options:\n",
            "    https://scikit-learn.org/stable/modules/linear_model.html#logistic-regression\n",
            "  n_iter_i = _check_optimize_result(\n"
          ]
        },
        {
          "output_type": "stream",
          "name": "stdout",
          "text": [
            "CPU times: user 1min, sys: 10.8 s, total: 1min 11s\n",
            "Wall time: 48.4 s\n"
          ]
        }
      ]
    },
    {
      "cell_type": "code",
      "source": [
        "f1_score(predicted, y_test.values, pos_label=0), accuracy_score(predicted, y_test.values)"
      ],
      "metadata": {
        "colab": {
          "base_uri": "https://localhost:8080/"
        },
        "id": "NvdGo99Uw-2T",
        "outputId": "2e3bafb1-e2cb-4f67-bd5e-665a1bee6b7e"
      },
      "execution_count": null,
      "outputs": [
        {
          "output_type": "execute_result",
          "data": {
            "text/plain": [
              "(0.5771304621110817, 0.5711125)"
            ]
          },
          "metadata": {},
          "execution_count": 87
        }
      ]
    },
    {
      "cell_type": "code",
      "source": [
        "print()"
      ],
      "metadata": {
        "id": "Bw41zh35xC2H"
      },
      "execution_count": null,
      "outputs": []
    }
  ]
}