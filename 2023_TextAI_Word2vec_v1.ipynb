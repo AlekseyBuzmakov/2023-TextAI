{
  "nbformat": 4,
  "nbformat_minor": 0,
  "metadata": {
    "colab": {
      "provenance": []
    },
    "kernelspec": {
      "name": "python3",
      "display_name": "Python 3"
    },
    "language_info": {
      "name": "python"
    },
    "widgets": {
      "application/vnd.jupyter.widget-state+json": {
        "b3fd0a1db4b3467caf5a6a177e0ef93d": {
          "model_module": "@jupyter-widgets/controls",
          "model_name": "HBoxModel",
          "model_module_version": "1.5.0",
          "state": {
            "_dom_classes": [],
            "_model_module": "@jupyter-widgets/controls",
            "_model_module_version": "1.5.0",
            "_model_name": "HBoxModel",
            "_view_count": null,
            "_view_module": "@jupyter-widgets/controls",
            "_view_module_version": "1.5.0",
            "_view_name": "HBoxView",
            "box_style": "",
            "children": [
              "IPY_MODEL_b710fb3b638243e993ec8d18e5c89bac",
              "IPY_MODEL_131352a824a54ace863ddc864bd01e82",
              "IPY_MODEL_4d471de265e2468b8f26532c61109af3"
            ],
            "layout": "IPY_MODEL_3e29f55b23674698baf0c92097dce68d"
          }
        },
        "b710fb3b638243e993ec8d18e5c89bac": {
          "model_module": "@jupyter-widgets/controls",
          "model_name": "HTMLModel",
          "model_module_version": "1.5.0",
          "state": {
            "_dom_classes": [],
            "_model_module": "@jupyter-widgets/controls",
            "_model_module_version": "1.5.0",
            "_model_name": "HTMLModel",
            "_view_count": null,
            "_view_module": "@jupyter-widgets/controls",
            "_view_module_version": "1.5.0",
            "_view_name": "HTMLView",
            "description": "",
            "description_tooltip": null,
            "layout": "IPY_MODEL_4fadabe945604ed8a4012bd03c0744dc",
            "placeholder": "​",
            "style": "IPY_MODEL_54558107bdab4d42b41a21d3e873c8df",
            "value": "100%"
          }
        },
        "131352a824a54ace863ddc864bd01e82": {
          "model_module": "@jupyter-widgets/controls",
          "model_name": "FloatProgressModel",
          "model_module_version": "1.5.0",
          "state": {
            "_dom_classes": [],
            "_model_module": "@jupyter-widgets/controls",
            "_model_module_version": "1.5.0",
            "_model_name": "FloatProgressModel",
            "_view_count": null,
            "_view_module": "@jupyter-widgets/controls",
            "_view_module_version": "1.5.0",
            "_view_name": "ProgressView",
            "bar_style": "success",
            "description": "",
            "description_tooltip": null,
            "layout": "IPY_MODEL_35ddfc7f73484e608dafe2d6336fd8d7",
            "max": 1600000,
            "min": 0,
            "orientation": "horizontal",
            "style": "IPY_MODEL_a81c82432cd44e419d8385b27869a08b",
            "value": 1600000
          }
        },
        "4d471de265e2468b8f26532c61109af3": {
          "model_module": "@jupyter-widgets/controls",
          "model_name": "HTMLModel",
          "model_module_version": "1.5.0",
          "state": {
            "_dom_classes": [],
            "_model_module": "@jupyter-widgets/controls",
            "_model_module_version": "1.5.0",
            "_model_name": "HTMLModel",
            "_view_count": null,
            "_view_module": "@jupyter-widgets/controls",
            "_view_module_version": "1.5.0",
            "_view_name": "HTMLView",
            "description": "",
            "description_tooltip": null,
            "layout": "IPY_MODEL_adc31d3259fc43768b1ffc32cbdeda2d",
            "placeholder": "​",
            "style": "IPY_MODEL_538a98ab209a4d9da8ae53894c108306",
            "value": " 1600000/1600000 [02:28&lt;00:00, 14555.63it/s]"
          }
        },
        "3e29f55b23674698baf0c92097dce68d": {
          "model_module": "@jupyter-widgets/base",
          "model_name": "LayoutModel",
          "model_module_version": "1.2.0",
          "state": {
            "_model_module": "@jupyter-widgets/base",
            "_model_module_version": "1.2.0",
            "_model_name": "LayoutModel",
            "_view_count": null,
            "_view_module": "@jupyter-widgets/base",
            "_view_module_version": "1.2.0",
            "_view_name": "LayoutView",
            "align_content": null,
            "align_items": null,
            "align_self": null,
            "border": null,
            "bottom": null,
            "display": null,
            "flex": null,
            "flex_flow": null,
            "grid_area": null,
            "grid_auto_columns": null,
            "grid_auto_flow": null,
            "grid_auto_rows": null,
            "grid_column": null,
            "grid_gap": null,
            "grid_row": null,
            "grid_template_areas": null,
            "grid_template_columns": null,
            "grid_template_rows": null,
            "height": null,
            "justify_content": null,
            "justify_items": null,
            "left": null,
            "margin": null,
            "max_height": null,
            "max_width": null,
            "min_height": null,
            "min_width": null,
            "object_fit": null,
            "object_position": null,
            "order": null,
            "overflow": null,
            "overflow_x": null,
            "overflow_y": null,
            "padding": null,
            "right": null,
            "top": null,
            "visibility": null,
            "width": null
          }
        },
        "4fadabe945604ed8a4012bd03c0744dc": {
          "model_module": "@jupyter-widgets/base",
          "model_name": "LayoutModel",
          "model_module_version": "1.2.0",
          "state": {
            "_model_module": "@jupyter-widgets/base",
            "_model_module_version": "1.2.0",
            "_model_name": "LayoutModel",
            "_view_count": null,
            "_view_module": "@jupyter-widgets/base",
            "_view_module_version": "1.2.0",
            "_view_name": "LayoutView",
            "align_content": null,
            "align_items": null,
            "align_self": null,
            "border": null,
            "bottom": null,
            "display": null,
            "flex": null,
            "flex_flow": null,
            "grid_area": null,
            "grid_auto_columns": null,
            "grid_auto_flow": null,
            "grid_auto_rows": null,
            "grid_column": null,
            "grid_gap": null,
            "grid_row": null,
            "grid_template_areas": null,
            "grid_template_columns": null,
            "grid_template_rows": null,
            "height": null,
            "justify_content": null,
            "justify_items": null,
            "left": null,
            "margin": null,
            "max_height": null,
            "max_width": null,
            "min_height": null,
            "min_width": null,
            "object_fit": null,
            "object_position": null,
            "order": null,
            "overflow": null,
            "overflow_x": null,
            "overflow_y": null,
            "padding": null,
            "right": null,
            "top": null,
            "visibility": null,
            "width": null
          }
        },
        "54558107bdab4d42b41a21d3e873c8df": {
          "model_module": "@jupyter-widgets/controls",
          "model_name": "DescriptionStyleModel",
          "model_module_version": "1.5.0",
          "state": {
            "_model_module": "@jupyter-widgets/controls",
            "_model_module_version": "1.5.0",
            "_model_name": "DescriptionStyleModel",
            "_view_count": null,
            "_view_module": "@jupyter-widgets/base",
            "_view_module_version": "1.2.0",
            "_view_name": "StyleView",
            "description_width": ""
          }
        },
        "35ddfc7f73484e608dafe2d6336fd8d7": {
          "model_module": "@jupyter-widgets/base",
          "model_name": "LayoutModel",
          "model_module_version": "1.2.0",
          "state": {
            "_model_module": "@jupyter-widgets/base",
            "_model_module_version": "1.2.0",
            "_model_name": "LayoutModel",
            "_view_count": null,
            "_view_module": "@jupyter-widgets/base",
            "_view_module_version": "1.2.0",
            "_view_name": "LayoutView",
            "align_content": null,
            "align_items": null,
            "align_self": null,
            "border": null,
            "bottom": null,
            "display": null,
            "flex": null,
            "flex_flow": null,
            "grid_area": null,
            "grid_auto_columns": null,
            "grid_auto_flow": null,
            "grid_auto_rows": null,
            "grid_column": null,
            "grid_gap": null,
            "grid_row": null,
            "grid_template_areas": null,
            "grid_template_columns": null,
            "grid_template_rows": null,
            "height": null,
            "justify_content": null,
            "justify_items": null,
            "left": null,
            "margin": null,
            "max_height": null,
            "max_width": null,
            "min_height": null,
            "min_width": null,
            "object_fit": null,
            "object_position": null,
            "order": null,
            "overflow": null,
            "overflow_x": null,
            "overflow_y": null,
            "padding": null,
            "right": null,
            "top": null,
            "visibility": null,
            "width": null
          }
        },
        "a81c82432cd44e419d8385b27869a08b": {
          "model_module": "@jupyter-widgets/controls",
          "model_name": "ProgressStyleModel",
          "model_module_version": "1.5.0",
          "state": {
            "_model_module": "@jupyter-widgets/controls",
            "_model_module_version": "1.5.0",
            "_model_name": "ProgressStyleModel",
            "_view_count": null,
            "_view_module": "@jupyter-widgets/base",
            "_view_module_version": "1.2.0",
            "_view_name": "StyleView",
            "bar_color": null,
            "description_width": ""
          }
        },
        "adc31d3259fc43768b1ffc32cbdeda2d": {
          "model_module": "@jupyter-widgets/base",
          "model_name": "LayoutModel",
          "model_module_version": "1.2.0",
          "state": {
            "_model_module": "@jupyter-widgets/base",
            "_model_module_version": "1.2.0",
            "_model_name": "LayoutModel",
            "_view_count": null,
            "_view_module": "@jupyter-widgets/base",
            "_view_module_version": "1.2.0",
            "_view_name": "LayoutView",
            "align_content": null,
            "align_items": null,
            "align_self": null,
            "border": null,
            "bottom": null,
            "display": null,
            "flex": null,
            "flex_flow": null,
            "grid_area": null,
            "grid_auto_columns": null,
            "grid_auto_flow": null,
            "grid_auto_rows": null,
            "grid_column": null,
            "grid_gap": null,
            "grid_row": null,
            "grid_template_areas": null,
            "grid_template_columns": null,
            "grid_template_rows": null,
            "height": null,
            "justify_content": null,
            "justify_items": null,
            "left": null,
            "margin": null,
            "max_height": null,
            "max_width": null,
            "min_height": null,
            "min_width": null,
            "object_fit": null,
            "object_position": null,
            "order": null,
            "overflow": null,
            "overflow_x": null,
            "overflow_y": null,
            "padding": null,
            "right": null,
            "top": null,
            "visibility": null,
            "width": null
          }
        },
        "538a98ab209a4d9da8ae53894c108306": {
          "model_module": "@jupyter-widgets/controls",
          "model_name": "DescriptionStyleModel",
          "model_module_version": "1.5.0",
          "state": {
            "_model_module": "@jupyter-widgets/controls",
            "_model_module_version": "1.5.0",
            "_model_name": "DescriptionStyleModel",
            "_view_count": null,
            "_view_module": "@jupyter-widgets/base",
            "_view_module_version": "1.2.0",
            "_view_name": "StyleView",
            "description_width": ""
          }
        },
        "fb9a8a481ff342cc91699c471bb4b172": {
          "model_module": "@jupyter-widgets/controls",
          "model_name": "HBoxModel",
          "model_module_version": "1.5.0",
          "state": {
            "_dom_classes": [],
            "_model_module": "@jupyter-widgets/controls",
            "_model_module_version": "1.5.0",
            "_model_name": "HBoxModel",
            "_view_count": null,
            "_view_module": "@jupyter-widgets/controls",
            "_view_module_version": "1.5.0",
            "_view_name": "HBoxView",
            "box_style": "",
            "children": [
              "IPY_MODEL_ef681cf086114911a831fd13268e64fc",
              "IPY_MODEL_7a128f91355a49928f7ffc3170369f89",
              "IPY_MODEL_f98d0c0bb2774579a9c801a456992147"
            ],
            "layout": "IPY_MODEL_016d5d90983145b896916f22fe9d21d9"
          }
        },
        "ef681cf086114911a831fd13268e64fc": {
          "model_module": "@jupyter-widgets/controls",
          "model_name": "HTMLModel",
          "model_module_version": "1.5.0",
          "state": {
            "_dom_classes": [],
            "_model_module": "@jupyter-widgets/controls",
            "_model_module_version": "1.5.0",
            "_model_name": "HTMLModel",
            "_view_count": null,
            "_view_module": "@jupyter-widgets/controls",
            "_view_module_version": "1.5.0",
            "_view_name": "HTMLView",
            "description": "",
            "description_tooltip": null,
            "layout": "IPY_MODEL_5fedf97407f0491fbc2b1e9ceef1d3b5",
            "placeholder": "​",
            "style": "IPY_MODEL_de06bf9b30e149b5b5c8e634924efa1e",
            "value": "100%"
          }
        },
        "7a128f91355a49928f7ffc3170369f89": {
          "model_module": "@jupyter-widgets/controls",
          "model_name": "FloatProgressModel",
          "model_module_version": "1.5.0",
          "state": {
            "_dom_classes": [],
            "_model_module": "@jupyter-widgets/controls",
            "_model_module_version": "1.5.0",
            "_model_name": "FloatProgressModel",
            "_view_count": null,
            "_view_module": "@jupyter-widgets/controls",
            "_view_module_version": "1.5.0",
            "_view_name": "ProgressView",
            "bar_style": "success",
            "description": "",
            "description_tooltip": null,
            "layout": "IPY_MODEL_f222c070946a49339dedcbbe3a1fd2fc",
            "max": 1600000,
            "min": 0,
            "orientation": "horizontal",
            "style": "IPY_MODEL_fef429b55cca47eb80fba10a132f7014",
            "value": 1600000
          }
        },
        "f98d0c0bb2774579a9c801a456992147": {
          "model_module": "@jupyter-widgets/controls",
          "model_name": "HTMLModel",
          "model_module_version": "1.5.0",
          "state": {
            "_dom_classes": [],
            "_model_module": "@jupyter-widgets/controls",
            "_model_module_version": "1.5.0",
            "_model_name": "HTMLModel",
            "_view_count": null,
            "_view_module": "@jupyter-widgets/controls",
            "_view_module_version": "1.5.0",
            "_view_name": "HTMLView",
            "description": "",
            "description_tooltip": null,
            "layout": "IPY_MODEL_681865229ba24d1cbd521efbc055b776",
            "placeholder": "​",
            "style": "IPY_MODEL_45677061285d4ac09b6fc51300933fb9",
            "value": " 1600000/1600000 [09:41&lt;00:00, 2278.74it/s]"
          }
        },
        "016d5d90983145b896916f22fe9d21d9": {
          "model_module": "@jupyter-widgets/base",
          "model_name": "LayoutModel",
          "model_module_version": "1.2.0",
          "state": {
            "_model_module": "@jupyter-widgets/base",
            "_model_module_version": "1.2.0",
            "_model_name": "LayoutModel",
            "_view_count": null,
            "_view_module": "@jupyter-widgets/base",
            "_view_module_version": "1.2.0",
            "_view_name": "LayoutView",
            "align_content": null,
            "align_items": null,
            "align_self": null,
            "border": null,
            "bottom": null,
            "display": null,
            "flex": null,
            "flex_flow": null,
            "grid_area": null,
            "grid_auto_columns": null,
            "grid_auto_flow": null,
            "grid_auto_rows": null,
            "grid_column": null,
            "grid_gap": null,
            "grid_row": null,
            "grid_template_areas": null,
            "grid_template_columns": null,
            "grid_template_rows": null,
            "height": null,
            "justify_content": null,
            "justify_items": null,
            "left": null,
            "margin": null,
            "max_height": null,
            "max_width": null,
            "min_height": null,
            "min_width": null,
            "object_fit": null,
            "object_position": null,
            "order": null,
            "overflow": null,
            "overflow_x": null,
            "overflow_y": null,
            "padding": null,
            "right": null,
            "top": null,
            "visibility": null,
            "width": null
          }
        },
        "5fedf97407f0491fbc2b1e9ceef1d3b5": {
          "model_module": "@jupyter-widgets/base",
          "model_name": "LayoutModel",
          "model_module_version": "1.2.0",
          "state": {
            "_model_module": "@jupyter-widgets/base",
            "_model_module_version": "1.2.0",
            "_model_name": "LayoutModel",
            "_view_count": null,
            "_view_module": "@jupyter-widgets/base",
            "_view_module_version": "1.2.0",
            "_view_name": "LayoutView",
            "align_content": null,
            "align_items": null,
            "align_self": null,
            "border": null,
            "bottom": null,
            "display": null,
            "flex": null,
            "flex_flow": null,
            "grid_area": null,
            "grid_auto_columns": null,
            "grid_auto_flow": null,
            "grid_auto_rows": null,
            "grid_column": null,
            "grid_gap": null,
            "grid_row": null,
            "grid_template_areas": null,
            "grid_template_columns": null,
            "grid_template_rows": null,
            "height": null,
            "justify_content": null,
            "justify_items": null,
            "left": null,
            "margin": null,
            "max_height": null,
            "max_width": null,
            "min_height": null,
            "min_width": null,
            "object_fit": null,
            "object_position": null,
            "order": null,
            "overflow": null,
            "overflow_x": null,
            "overflow_y": null,
            "padding": null,
            "right": null,
            "top": null,
            "visibility": null,
            "width": null
          }
        },
        "de06bf9b30e149b5b5c8e634924efa1e": {
          "model_module": "@jupyter-widgets/controls",
          "model_name": "DescriptionStyleModel",
          "model_module_version": "1.5.0",
          "state": {
            "_model_module": "@jupyter-widgets/controls",
            "_model_module_version": "1.5.0",
            "_model_name": "DescriptionStyleModel",
            "_view_count": null,
            "_view_module": "@jupyter-widgets/base",
            "_view_module_version": "1.2.0",
            "_view_name": "StyleView",
            "description_width": ""
          }
        },
        "f222c070946a49339dedcbbe3a1fd2fc": {
          "model_module": "@jupyter-widgets/base",
          "model_name": "LayoutModel",
          "model_module_version": "1.2.0",
          "state": {
            "_model_module": "@jupyter-widgets/base",
            "_model_module_version": "1.2.0",
            "_model_name": "LayoutModel",
            "_view_count": null,
            "_view_module": "@jupyter-widgets/base",
            "_view_module_version": "1.2.0",
            "_view_name": "LayoutView",
            "align_content": null,
            "align_items": null,
            "align_self": null,
            "border": null,
            "bottom": null,
            "display": null,
            "flex": null,
            "flex_flow": null,
            "grid_area": null,
            "grid_auto_columns": null,
            "grid_auto_flow": null,
            "grid_auto_rows": null,
            "grid_column": null,
            "grid_gap": null,
            "grid_row": null,
            "grid_template_areas": null,
            "grid_template_columns": null,
            "grid_template_rows": null,
            "height": null,
            "justify_content": null,
            "justify_items": null,
            "left": null,
            "margin": null,
            "max_height": null,
            "max_width": null,
            "min_height": null,
            "min_width": null,
            "object_fit": null,
            "object_position": null,
            "order": null,
            "overflow": null,
            "overflow_x": null,
            "overflow_y": null,
            "padding": null,
            "right": null,
            "top": null,
            "visibility": null,
            "width": null
          }
        },
        "fef429b55cca47eb80fba10a132f7014": {
          "model_module": "@jupyter-widgets/controls",
          "model_name": "ProgressStyleModel",
          "model_module_version": "1.5.0",
          "state": {
            "_model_module": "@jupyter-widgets/controls",
            "_model_module_version": "1.5.0",
            "_model_name": "ProgressStyleModel",
            "_view_count": null,
            "_view_module": "@jupyter-widgets/base",
            "_view_module_version": "1.2.0",
            "_view_name": "StyleView",
            "bar_color": null,
            "description_width": ""
          }
        },
        "681865229ba24d1cbd521efbc055b776": {
          "model_module": "@jupyter-widgets/base",
          "model_name": "LayoutModel",
          "model_module_version": "1.2.0",
          "state": {
            "_model_module": "@jupyter-widgets/base",
            "_model_module_version": "1.2.0",
            "_model_name": "LayoutModel",
            "_view_count": null,
            "_view_module": "@jupyter-widgets/base",
            "_view_module_version": "1.2.0",
            "_view_name": "LayoutView",
            "align_content": null,
            "align_items": null,
            "align_self": null,
            "border": null,
            "bottom": null,
            "display": null,
            "flex": null,
            "flex_flow": null,
            "grid_area": null,
            "grid_auto_columns": null,
            "grid_auto_flow": null,
            "grid_auto_rows": null,
            "grid_column": null,
            "grid_gap": null,
            "grid_row": null,
            "grid_template_areas": null,
            "grid_template_columns": null,
            "grid_template_rows": null,
            "height": null,
            "justify_content": null,
            "justify_items": null,
            "left": null,
            "margin": null,
            "max_height": null,
            "max_width": null,
            "min_height": null,
            "min_width": null,
            "object_fit": null,
            "object_position": null,
            "order": null,
            "overflow": null,
            "overflow_x": null,
            "overflow_y": null,
            "padding": null,
            "right": null,
            "top": null,
            "visibility": null,
            "width": null
          }
        },
        "45677061285d4ac09b6fc51300933fb9": {
          "model_module": "@jupyter-widgets/controls",
          "model_name": "DescriptionStyleModel",
          "model_module_version": "1.5.0",
          "state": {
            "_model_module": "@jupyter-widgets/controls",
            "_model_module_version": "1.5.0",
            "_model_name": "DescriptionStyleModel",
            "_view_count": null,
            "_view_module": "@jupyter-widgets/base",
            "_view_module_version": "1.2.0",
            "_view_name": "StyleView",
            "description_width": ""
          }
        }
      }
    }
  },
  "cells": [
    {
      "cell_type": "markdown",
      "source": [
        "План:\n",
        "- [X] Пример:\n",
        "    - [X] Брать вектор\n",
        "    - [X] most_similar\n",
        "- [ ] Работа с предобученной моделью\n",
        "    - [ ] Чистка данных\n",
        "    - [ ] Базовое предсказание\n",
        "- [ ] Обучение своей\n",
        "    - [ ] Skip-grams (SG)\n",
        "    - [ ] Continuous-bag-of-words (CBOW)"
      ],
      "metadata": {
        "id": "nwIJ4BSEJOK5"
      }
    },
    {
      "cell_type": "markdown",
      "source": [
        "\n",
        "# Курс TextAI\n",
        "\n",
        "# Материалы: https://bit.ly/2023-TextAI\n",
        "\n",
        "# GitHUB: https://github.com/AlekseyBuzmakov/2023-TextAI\n",
        "\n",
        "# Модель Word2Vec\n",
        "\n",
        "Модель Word2Vec -- одна из языковых моделей, т.е. модель, которая содержит неявным образом информацию об определенных статистических зависимостях в тех или иных текстах.\n"
      ],
      "metadata": {
        "id": "miYQGip8kuPx"
      }
    },
    {
      "cell_type": "markdown",
      "source": [
        "## Что такое Ewbedding?\n",
        "\n",
        "![image.png](data:image/png;base64,iVBORw0KGgoAAAANSUhEUgAABXsAAALvCAYAAAA0+BZBAAAABHNCSVQICAgIfAhkiAAAIABJREFUeF7s3QmYHGWd+PFfVZ9zz+ROSMh9kpsryA2KeCyw66qoqIuKFyoq6y2r7rrquq7ghdciqCjiH0VEYREElSscOQiQmJD7giSTZO7ps+pfbycdZrrfqumeqZpMz3zf5+kH+r3qrU9VH/nN2+9r2E4SEgIIIIAAAggggAACCCCAAAIIIIAAAggggEBFC5gVPXoGjwACCCCAAAIIIIAAAggggAACCCCAAAIIIJATINjLjYAAAggggAACCCCAAAIIIIAAAggggAACCAwDAYK9w+AicgoIIIAAAggggAACCCCAAAIIIIAAAggggADBXu4BBBBAAAEEEEAAAQQQQAABBBBAAAEEEEBgGAgQ7B0GF5FTQAABBBBAAAEEEEAAAQQQQAABBBBAAAEECPZyDyCAAAIIIIAAAggggAACCCCAAAIIIIAAAsNAIDwMzoFTQAABjUBq13qxuts1Jf3Pis85Pdf4L1df3f9ONC0bZs6SZR//mLzY2i13rd2tqTGwrCtWTJfaWFjSqZTYtj2wzgpaR2OxXE5i0xO+9mtW1Ul0ygKxu9skuWuDr32rzuIzloqEY5Vp4lxDdS39TpFoVAzDkG0H26UrmfW1+5MmNeb6SyWTvvarxqvGndi3R/Y/cIevfavOxr3ynyU+/gQJ8v3k+b0tvo67OhaS6aPrAnvtxKbMl3Tzbt/fXxVC/j02MJMAXjv598AgXjfKJOjXjmSSkti61td7MP/+GsTrpud9EtT7iTqG333n75MgPofVePP9v+/GR3y9lnMm1cu1ly2WjmRGbl25zde+g/xu0tMkqPeTIO+TNd+8Xlq3bPbVW3V23ve+l+szuflpsS3/Pufz39mCMMl/Nwn6/QSTl2+3/Gex3++D+e9s6awtm/a1+np/Tx9TJ9XRUO7fUerfU36n95872/d/66gxDsZrJ4jPnfxnjt/vr8ok/z1W/b/f92D+/aRSTQ62J+WzP3/K19v72ssWyZxJDYH+mzjo+8QNhGCvmwz5CFS4gAr0Wp2HAzmLQ+vXBdJvVzor25o7fe9bfalSSQV6LcvyvX/VYVDWdjYbSN+242BUqklA11HdH+qLuAr0tiUywdwnPt9/pnnkBzp2sksSu7f4PmbVb+7+DvD9JCjrwF476jUZoIfyDswkgNfOYLxucvdgUK8dp1+/37/z769B3yeBmQR4nwT5OazukzXbmtV/fE/qe4Tf308G47uJgqjE9xMV6A3qu6YysbpaxM76/zkfxP2df48N/P0Ek6L3jaDeYy3nPdbv12XGOvJvHRXo9fu9Kg/j92dlT/AgXztB9J0fu9/XEZOil2GvjFTG8v1zvr07nTtGpd4nXmIs4+ClQxkCCCCAAAIIIIAAAggggAACCCCAAAIIIFAhAgR7K+RCMUwEEEAAAQQQQAABBBBAAAEEEEAAAQQQQMBLgGCvlw5lCCCAAAIIIIAAAggggAACCCCAAAIIIIBAhQgQ7K2QC8UwEUAAAQQQQAABBBBAAAEEEEAAAQQQQAABLwGCvV46lCGAAAIIIIAAAggggAACCCCAAAIIIIAAAhUiQLC3Qi4Uw0QAAQQQQAABBBBAAAEEEEAAAQQQQAABBLwECPZ66VCGAAIIIIAAAggggAACCCCAAAIIIIAAAghUiADB3gq5UAwTAQQQQAABBBBAAAEEEEAAAQQQQAABBBDwEiDY66VDGQIIIIAAAggggAACCCCAAAIIIIAAAgggUCECBHsr5EIxTAQQQAABBBBAAAEEEEAAAQQQQAABBBBAwEuAYK+XDmUIIIAAAggggAACCCCAAAIIIIAAAggggECFCBDsrZALxTARQAABBBBAAAEEEEAAAQQQQAABBBBAAAEvAYK9XjqUIYAAAggggAACCCCAAAIIIIAAAggggAACFSJAsLdCLhTDRAABBBBAAAEEEEAAAQQQQAABBBBAAAEEvAQI9nrpUIYAAggggAACCCCAAAIIIIAAAggggAACCFSIAMHeCrlQDBMBBBBAAAEEEEAAAQQQQAABBBBAAAEEEPASINjrpUMZAggggAACCCCAAAIIIIAAAggggAACCCBQIQIEeyvkQjFMBBBAAAEEEEAAAQQQQAABBBBAAAEEEEDAS4Bgr5cOZQgggAACCCCAAAIIIIAAAggggAACCCCAQIUIEOytkAvFMBFAAAEEEEAAAQQQQAABBBBAAAEEEEAAAS8Bgr1eOpQhgAACCCCAAAIIIIAAAggggAACCCCAAAIVIkCwt0IuFMNEAAEEEEAAAQQQQAABBBBAAAEEEEAAAQS8BAj2eulQhgACCCCAAAIIIIAAAggggAACCCCAAAIIVIgAwd4KuVAMEwEEEEAAAQQQQAABBBBAAAEEEEAAAQQQ8BIg2OulQxkCCCCAAAIIIIAAAggggAACCCCAAAIIIFAhAgR7K+RCMUwEEEAAAQQQQAABBBBAAAEEEEAAAQQQQMBLgGCvlw5lCCCAAAIIIIAAAggggAACCCCAAAIIIIBAhQiEh9I4MwcPiXX4kGSbD4rV1SGhxiYJjRkroXFjxIxXDaWhVtxYrK4uSW/fLlZrq2RbWsVubcmdg9HQ6Dg3iDl6tERnzhQjFDru55Zta5PMzp1HxtraJnaLM9ZwSIz6BmesznjHjZXI9OliGMZxH2vPAaT37HXu3QOSPXBArOZmEdM8MuamJomeNF9CtXVDarwMBgEEEEAAAQQQQAABBBBAAAEEEEBgeAkc92BvevduSTz8sKSeeFzsQ/tddUNzF0r8wldK/NRTewUkVWCw6/4HtO2qzj5LwuPGacvcMjvv+5Nk971UVByeNk2qzzmnKL+cjOTGjZJ84gltk7q3vc33QGv6pZec4z0p6bWrxNr2gtiWpT12PtOIV0v4pCUSPe00iZ9+uhhOsHKwUnrHTkk8pca6RqydW/o8rFFbL+FFyyS24gyJL1vaZ/1SK1jJpLTfdJO2etVFF0l01qxeZdn2dul+6CFJ/eUBJ8Drfv92mYYY0+ZI1cWvkaoVK7T9k4kAAggggAACCCCAAAIIIIAAAggggMBABI5bsFfNNG2/5RZJr/xbSePPbnxOOp1HV+NoqfvIx44F3dRM1eRdv9b2EZkxo+xgb/LxR8XaurGoP2vpaQMO9qa3bZfUA/cU9a0y7Msv9y3Ymz18WDp+fbtkHvur2LatPZ4u0044s39XPZ57dN91otS8418ktmCBrqpveZl9+6TjF7dKZu1TZfVpd7RJ+vG/5h5dM+ZK7TuvlOj0aWX1oatsZzKu92Rk0eJewd6O3/9eknf+WuxsRtdVrzzbssV27qvOGzdK4oGFUveBD0p49Kg+21EBAQQQQAABBBBAAAEEEEAAAQQQQACBUgUGb+pmjxEln31WDn/iY65BNa/B2y0Hpf0/vyBqBi6pWKD9t3dKy79eI+lH/1JWoLewJ2vvTmn/2r9L6w9/4AQzs4XFA36u+mz72c+k9dMfLzvQW3hwFZxv/+JnpP222wqLAnlupdLS+p1vS+KOX5YU6C0cRHbTc9L2n18UFZQnIYAAAggggAACCCCAAAIIIIAAAggg4JfAoAd7k+s3SMf1Xxe7vbXf56AChd2/+Il0Oj+fJx0RUCYqAJn83e1ip1O+saigccv13xQrnfatTyuRkJavfTU3y9mvQLKawZy89y5p+/GPBhTk7usk1VIYLV/5sqSfeqyvqp7lasmH1q9+xbfz9zwYhQgggAACCCCAAAIIIIAAAggggAACI0JgUIO9qe07jgR6M/4EDhO33iwZZ1OskZ5ywdOvfrWsAKQRqyp5g7PsulXS+o3/7nPN31KuQ9ZZdqPlS18QtSxHqUmtJVxqSj38oLT94AelVi+7Xsedv9Mu81F2R04D66Vd0nmPflmP/vRHGwQQQAABBBBAAAEEEEAAAQQQQACBkS0waGv2qp++t1/vBAyT3a7iRk2dRE4/U2KnnCKhcePFrK91fureKtn9+yS58nHJPP1Er/ZqBmvXT/WbabkeZBgWtH7rW6KWBvBKoTkLJTx/vkSmTZfw1KkSHjNa1DXJ7N4laScIn925U9JqjV9n3V5dym5YJx133il1b3iDrrikvNzs469/Taw9OzzrhxYvl8isuRKePk0izlhDjY2iAtppZ4yZHc5YnUdurC5/NFDr+HY651pz3nmexym3MLPTOe79vYOzRnWNhOacJGFnfejIzJk5W8tZnkH9YSOr6q98xHMWe/L3v5GqCy6QUE1NucOhPgIIIIAAAggggAACCCCAAAIIIIAAAr0EBi3Y2/n7u8Q+3OzKHzn1TKm76iox4/FedcyJVRKZOEHiS5ZI9i1vlbbvfVdU4DGf7M421z5HQkHHPfdK9vk1rqdqVNVI9TveJVVnnllUx4xGJOoEKdVDpczrXy9t3/2268zV1N2/kdRiZ5Oy2bOL+iolQ62pa+3a5lrVqG+Smqven7vWhUndF7E5c3IPldIXv0bav3ODWC/uKqyae65mfUfnzZPIhAna8v5kpu//Y6/ZzebUWdLw8Wsl1NTUq7tQfX0uSK1S9pJLpO2Gb0p2S/Gmf6rcTiYksXKl1Fx4YX+GRBsEEEAAAQQQQAABBBBAAAEEEEAAAQSOCQzKMg6Z5oOSctZTdUuxiy+Rhg9/uCjQW1hfBdGaPvNZiaw4p7BoRD5Xs0eT/+8XruceOmmZNH7tG9pAr66Rmu3b9G9fkNilb9QV5wKdHT/+Yb/WxE2se1ZSf/qDtl+Vqa5p09f/Rxvo1TWKTD5BGr/8FYme/2pdsdippHT8xN9Z3+r88ylyxrnS6FgVBnoLBxNqaJDGz/+bRE5eUVh07Hnq8cddyyhAAAEEEEAAAQQQQAABBBBAAAEEEECgVIFBCfZ23f17Z9Mw/Tq9anmB2ssvL3W8uXp173FmAE+eVlab4Vi586c/cTb4ymhPTbk2fvKTfQYjCxsbpplbqiFy5vmFRbnn1ku7Jfn0Km2ZW6baPK3rlh+7FecCvQ0f/KCY1aWvzas6MyMRqb/ySgktKJ4JrMqzf3cCzFu3uh63vwWRk8+Qhg98IHf8UpIRCknN5W9xrWptft5ZUsO/TfVcD0QBAggggAACCCCAAAIIIIAAAggggMCwFgg82KvWaU0/5T5zsfbKd4kKMJaT1PIDNe+8spwmw66uCmK6LQ2g1pGtv/rqkjdg0+HUXnGFGDX1uiLpuuu32ny3TBUctpr3a4uNUeOk7l3v0paVmln37veI4RJ47fztb0rtpuR61f1Ytzg8fryEFi7XHsO2bGft5N3aMjIRQAABBBBAAAEEEEAAAQQQQAABBBAoVaC8KGupvfaol3z2ObE79OvqhpeeJpETJvWjV5HY3LkSmj2/X22HQ6Puu+92PY3qd72/7Bm9hZ2pDcOq3vr2wuzcc2vnVknv2Kkt02V2/VE/VsM0pO7qvpfv0PXZMy88dqzE/kG/cVx23SrJtrf31UXJ5WppjMjkySXX71mx6tUXu7ZLO5vOkRBAAAEEEEAAAQQQQAABBBBAAAEEEBiIQPDB3scedR1f/LzzXMtKKYidd0Ep1YZdnWxrq2TWPKE9r9Cs+VJ12qnasnIzq88+W4zaBm2z5Br3TeF6NlBBTGurfnOy8Mln9nuzt8JBVb/2taKWS9Cl5NpndNn9yqu+7LJ+tVONIidOcW2b3bvXtYwCBBBAAAEEEEAAAQQQQAABBBBAAAEEShEIPNib3fqCdhxGOCLRhQu1ZaVmxpYuHdBSBaUeZ6jVSz3nzJbusVlYz/GFFy72dbjhOfO0/aXXrdXmF2Ymn3EPtIYX+zdWMxoV48SZhYfPPU+vLW2s2sY9MlXgW80o728ync3a1GxmXbI7OnTZ5CGAAAIIIIAAAggggAACCCCAAAIIIFCyQKDBXrXplN38knYw5vRZogJ0A0mhujoxRuBGbem//92VLbbEvwCqOkh4gT4gb23f7DqGngXpje5jjS9eVFIfpVaKzNMv65HZrJ9ZXGq/+XpG06hym/Sqn1ub2mUdZEkmB9Q3jRFAAAEEEEAAAQQQQAABBBBAAAEEEAgHSZDZudOZgWprDxE6oX/rnhZ2Fpo0Waxd2wqzh/XzzCZ9ADW3SVko3GM93SP2ds9L0PvJEadeeT3onHyzplpraWfSopaTCDmzVb2StWWTtthoGCVWW3vucXQQuf8MZKxGQ6P2WNJ2yOnXHvAscHPUaH3/ZeQaDU1it7cWtbC6u4vyyEAAAQQQQAABBBBAAAEEEEAAAQQQQKAcgUCDvV6bTpkT+rcxW+HJmRMmFGYN6+dqtrT14i7tOdrptLT926e0ZUFkZpubPYO9mX37xO7SL09gtx6S1us+GcSwivq0s1mxVGC60SUYXNRCn+FLsLe6Vt95OqXPJxcBBBBAAAEEEEAAAQQQQAABBBBAAIESBQJdxsFua3MdRnj8eNeycgrCEyeWU73i6748E/b4n0q2+aDnILItLZ7lg1mYPeg91lLGYo4ZU0o16iCAAAIIIIAAAggggAACCCCAAAIIIHBcBIIN9nYnXE/KqK5yLSunwKiuKad6xde12vPLHgyBU3GWcvBKdrt+Vq9Xm6DK1KzngSa1wRoJAQQQQAABBBBAAAEEEEAAAQQQQACBoSoQcLC3y/W8jXjctaycAiM2sE3eyjnWUKhrdwyhYG8fINkKGmsfp3Kk2Aj05VLSEKiEAAIIIIAAAggggAACCCCAAAIIIICAm0Cga/baXYMQ7PUpaOwGNNTyrQ732bJGVbUYjQPfRKzUczZqXdafPdqB7TXWmnox6gdvpqwR8+ePC6XaUA8BBBBAAAEEEEAAAQQQQAABBBBAAIHBFgg02CtW1uN8DI+ycor86qecYx7Huh6zS8OLT5aGq68+joMrOLQZch1L9Jzzpe4tb3EtpwABBBBAAAEEEEAAAQQQQAABBBBAAAEEyhMI9nfpcfd1ee2E+3q+5ZyCnfSnn3KOeTzrmnUes2kzmeM5tKJjm7Xu6ynbGa8/BBR1RQYCCCCAAAIIIIAAAggggAACCCCAAAII9CEQaLDXqK52PbxfQVo7mXQ9xpArsKwBD8msrXPtw84OtWCv+1ilj83dXE+SAgQQQAABBBBAAAEEEEAAAQQQQAABBBDQCgQb7K3ymNnb7c+MXK91gbVnfBwz7ZbDAz66UeceQLXTQyzY6zkLOT1gCzpAAAEEEEAAAQQQQAABBBBAAAEEEEAAgZcFgg321rgvOZDZt8+X65D1qZ++B2P3XaWPGlZzcx81+i5WyzgYpv6y2c3+mPY9itJqmE2jXCtm9+93LaMAAQQQQAABBBBAAAEEEEAAAQQQQAABBMoX0EcNy+9H2yIy+QRtvsq0XnrRtaycguyL/vSTP6YRi2kPb7W1afPLycweOlhOdW1dMxIR44Sp2jL7wD6xs0NnLdzwmNFi1DVox2q9uFubTyYCCCCAAAIIIIAAAggggAACCCCAAAII9E8g0GBveMZ011Fl9+5xLSunwK9+8sc0YnH94dsGvgSDfXjgwV41uPCc+dox2lZWMnv2asuOV2Z41jztoe22Fsl2dmrLyEQAAQQQQAABBBBAAAEEEEAAAQQQQACB8gUCDfaGnGUcjAb9T/mtrZvEzgxsjVmru0vsXVvLP2uPFobLOsN2W6tHq76LcjNufQgYqyNF5uuDvaos8dSTfQ9mEGuE5nmN9alBHAmHQgABBBBAAAEEEEAAAQQQQAABBBBAYHgLBBrsVXTm1GlaQTuVlNSGDdqyUjOTz6wT27JKrV5SPaNWvwGaGq8KLvc3dT3yqG9LLERPmi9GKKwdSuqRv2rzj1dmbOkS10Mn//KQaxkFCCCAAAIIIIAAAggggAACCCCAAAIIIFCeQODB3tjpZ7iOKPHww65lpRQk/va3UqqVVSfksc5wauMLZfXVs3LyD3f1u21hQzVjOrzirMLs3HP74H5JrFqtLTsemZGJEyU0f7H20NbWjZLatl1bRiYCCCCAAAIIIIAAAggggAACCCCAAAIIlCcQeLA3ftppYkT1m55lnnxUMs39W8c2vWOHZJ/zP6gZmarf/Eyxdt/zh/J0j9ZOrF4t1j5/1ijOD6D6Hy5xHUvnT34o2fZ21/LBLqh+vftYO278tlip1GAPieMhgAACCCCAAAIIIIAAAggggAACCCAw7AQCD/aasZiEl52mhVMbinX+/GfaMq9MtXRDx89u8arS77Lw5MnOEgkhbfvs35+V9O7ygrZWKi1dv71D299AMiOTJklo0XJtF3Z7q7R9xwmiJpPa8v5mqgBy++23S/sd5Z1PbNFCMSdP0x7W2rdX2n/4I9+WuMgfJHPosLTd8lPp/NP92uOSiQACCCCAAAIIIIAAAggggAACCCCAwHATCDzYq8CqXvd6MQxDa5de84R0/KG8GbPtv/ilZF8Y2Hq/2sE4mWY0KubcRW7F0nHLTSWv3Zs5eEhavvRvYu30dxO5/ODq3vkvYsSqtGNVgemWL1wnagwDTZl9+6Tt5pul5aNXS/KPd4rdj1nDte++yjWInn7qEWn56n9KtrNjoEOV9M5d0vr970vrtR+S1IP3it3dPeA+6QABBBBAAAEEEEAAAQQQQAABBBBAAIFKEBiUYG902lSJnPNKV4/Er2+Vtltv7XN2p5qpqgJ5qfvLCw67HtilIHrGK1xKRLKb1kvL5z6dCyp6peTGjdJ63WfE2rXtWDWjqsarSdll4XHjpPrd73dtZ+3dKa2f/ri033Zb2YHUbFurdNxzrxy67nPS8olrJPXQfWKn+7/cQnTmTIm98QrXseZcr/2odPzuLrESCdd6ugK1FEjH734nhz71CWn9/Cck/fhf+7yXdP2QhwACCCCAAAIIIIAAAggggAACCCCAQCULhAdr8DWXXy7pp1eK3alfSzb1pz/I4dVPS/TcCyR22qkSGj3GmWUbyS1FkN3nbDq28nFJPfwXsVt7z1Q1qmvE7ur09TSqTj9NEr9ygs+dbdp+reb90valz4o5a76ETpwqYWedX7O+QTLbt0l221bJ7tgmVvO+Xm2NhlESu/AiSfz2V9o++5tZteJ0SW94dS4Yq0t2MiHJe++S1AP3iDlznkQWLJTIzBnOeOvFqHMezoRrq60t98js3y+ZTZsku+UFsfbv1XU3oLza175GMhuel8wzT2v7sbs6HJ/bnNnDvxNz9nyJLFwkkROn5GzNulqxLfvIWJ2ZxZm9e53Z3Zsks/WF3KZ0JAQQQAABBBBAAAEEEEAAAQQQQAABBEa6wKAFe0M1NVLzgY9I5/Vfc511aTW/JInf/DL3UElt7Gan3NedNcIRqX7Hu6XzB9/29Tqa8bjE3/hm6b7lx6792um0ZDesyz1Kme9a+94PSHqP/wFUNcC6d75TVAjdLeCr6uTG6yztoB7lzZt1JehXQf2Hr5H2739P0qtWura3k925zffU43iO1XWAFCCAAAIIIIAAAggggAACCCCAAAIIIDAEBQZlGYf8eccXL5Lq933Edf3eQh+vQK+qG3vj2yQ8ZUphM1+eV59/gYScmbt+pNhrL5PYIvd1gAd6DMM0pf7KK6Xqbe8Sw9SvjTzQY/jVXs3WbrjmoxJ73T/61SX9IIAAAggggAACCCCAAAIIIIAAAggggIAjMKjBXiWulh2ouurq3Kzd/ia12Vvs0jdK7Wsu7m8XfbZTx2j45KfEPHFmn3XdKhihsFRd+T6pc5awGIxU8+qLpPaT14k5eVoghzPMkITmLpToyacMuP+6N79Zaj/8r2KOnTDgvnQdqFnfoUXLJXrSAl0xeQgggAACCCCAAAIIIIAAAggggAACCAw7gUFbxqGnXPVZZ0l03nxp/9EPcssKlJOMqmpnOYhrJL50STnN+lVXLefQ+LnPSccvfinph/8stm2X3I85YbLUvOe9Epszp+Q2flSMLVggsa98TbqffEq677hdrJd2D6hbIxIRc/5iZx3l0yV+yiliVlcPqL+ejeOnniKxk5dL198elsSdd4h9+MCA+jbi1RJeuFSizlhjy5aKGev/HxQGNBAaI4AAAggggAACCCCAAAIIIIAAAgggcBwEjkuwV51neMxoafrs5ySx7llJPvKwZNY+LXaiy5XAnDBFohe8UqrPPVtMJ+A7WEkdq/4975HUha+U7vv/JJl1q8Vua9EeXgVGw0tPlfirLpLYvHlFdWLOMhZG/ANF+SrDCIW0+f3NrHI2uVOP1PYdknrmGUk/u06srRvFzqRdu1SzYaWhScymUWKOnyDRpcuPBE2jUdc2Ay1QS1DUnHeuVJ9ztqS3bpXk0bHaOza7ru2c84pERW16Z4waJaEJkyR6yqkSW3iSGOGB3dIqQFz1Lv01is6dO9DTlepLL5XMwbOL+gk550FCAAEEEEAAAQQQQAABBBBAAAEEEEBgIAIDi4wN5MhH26p1fNXDzmQkvX27ZJsPSvbwYbE7O5ygY5OExoyV0LhxEpkYzM/9Sz2F6PRpEn3ve3PV0y+9JJYzRqu1Nfc8NGaMhMY642xo8OwuMmmSqMdgpui0qaIecuklueCp1db28qPd2dbNWWoiNNYZvzqH+vrBHFqvY6mgb3TWrNxD3vCG3P2QbT06VmecVlurM1M37iz74DiPHS2hmtpAxqqCxSr4HFRSazcz3zgoXfpFAAEEEEAAAQQQQAABBBBAAAEERrbAcQ/25vlVkC0X6FOPIZ4iE5zAs3pUWFKzh0MqgO48hnpS90N4tDPbVT1ICCCAAAIIIIAAAggggAACCCCAAAIIINCnwKBv0NbniKiAAAIIIIAAAggggAACCCCAAAIIIIAAAgggULYAwd6yyWiAAAIIIIAAAggggAACCCCAAAIIIIAAAggMPQGCvUPvmjAiBBBAAAEEEEAAAQQQQAABBBBAAAEEEECgbAGCvWWT0QABBBBAAAEEEEAAAQQQQAABBBBAAAEEEBh6AgR7h941YUQIIIAAAggggAACCCCAAAI9L2N8AAAgAElEQVQIIIAAAggggEDZAgR7yyajAQIIIIAAAggggAACCCCAAAIIIIAAAgggMPQECPYOvWvCiBBAAAEEEEAAAQQQQAABBBBAAAEEEEAAgbIFCPaWTUYDBBBAAAEEEEAAAQQQQAABBBBAAAEEEEBg6AkQ7B1614QRIYAAAggggAACCCCAAAIIIIAAAggggAACZQsQ7C2bjAYIIIAAAggggAACCCCAAAIIIIAAAggggMDQEyDYO/SuCSNCAAEEEEAAAQQQQAABBBBAAAEEEEAAAQTKFiDYWzYZDRBAAAEEEEAAAQQQQAABBBBAAAEEEEAAgaEnEB56QypvRKExo6Xmgx/VNopMn6bNJxMBBBBAAAEEEEAAAQQQQAABBBBAAAEEEBhuAhUf7DWrqqVqxYrhdl04HwQQQAABBBBAAAEEEEAAAQQQQAABBBBAoCwBlnEoi4vKCCCAAAIIIIAAAggggAACCCCAAAIIIIDA0BQg2Ds0rwujQgABBBBAAAEEEEAAAQQQQAABBBBAAAEEyhIg2FsWF5URQAABBBBAAAEEEEAAAQQQQAABBBBAAIGhKVDxa/YOTVZGhcDxFzCr6gIbxKgFi33tu2HmrFx/1ZGQTB9T42vfqrNIyMj1aRiGmGYwf+Mya5p8HXf++hmhkPjdd87iqENFmgR0HZWFStWxkK/Xsmdnft9/+TEbsWqJT57p+7hVvyoF+X5SH/f3q0j++gX22lGvyQDfX5V3YCYBvHYG43WTuwd9fu8+9tpx+vX7PTb//hr0fRKYSYD3SZCfOeo+WTZ9jPqPb2nOpPpcX+p7hN/fTwbju4kaeyW+n+S/F/p2IQs6MqsbxbayvnV/7DtbgK+dwN9PMCm6H4J6jzWd+8Tv12XYPPIddmJDVdF5+JXh92elGtdgvHaC/Nzx+zoqk2PfYwN8P6lUk2jY9P1zvq4qknuJVKqJ1+vbsJ3kVYEyBBBAAAEEEEAAAQQQQAABBBBAAAEEEEAAgaEvEMwUt6F/3owQAQQQQAABBBBAAAEEEEAAAQQQQAABBBAYVgL+/nZyWNFwMghUtkA6lRK/J+5HY7EcSmLTE77iqJ/wRKcskK5UVrY1t/vat+pszviG3E8wtx1sl66kfz/bU32fNKkxN96/XH21r+NWP2Fc9vGPSWLfHtn/wB2+9q06O+GyKyVUUx+oSVD3id3dJsldG3w3iU2ZL0ZVvQT52kklk76OW/3kKBKNBvbamT6mTqqjIUntWi9Wt7+vzfic03MWlXifbO8yfH8vURb595Mf/PUFX+8T9bPOS5dOliBeO/EZS0XCsUBeNwoh/7kT1GsnnbVl075WX73znzlrvnm9tG7Z7GvfqrPzvve9XJ9BmUgmKYmta30dd/4+CeK9RA00/37yvhsf8XXcahmHay9bLEHeJ0GbBHWfBGlSqa+dIEzyn8NBfDdRL5ag32ODeK9S33vU95+KNQngPTb/HTaIf+uoa6i+n/j9XqL6zX+PDeJzJ28SxHts/jOnUk2CuE/y32GDNOlIZuTWldt8/ZxX34/V9+SKvU88NAj2euBQhEAlC6hAr2VZgZyC1Xk4kH4zli1tiYzvfVu51WqOBGeC6F8N+ND6db6PW3VoJ7sksXuL731b2YyolWlV8Dsok6DuEzublSD6Vv2qFc8Cfe34/JrMrycX1GtH9auSCvQGYZ7rO6D3kyDvk66kEdjrRplsa+7MufudgjCxnXs66NeNcvD78yz/2lGfD36/B+Y/c1SgN6jPhiBN1DX1+3WZv0+CfC9RJmu2Nfv9ssn1F+R9ErQJr53iW6KSTPKfw0F+Nwn0/SSAf48oCxUkrFiTIN5jj36HDfR7vc/fYdV9l/8sDuRz56hJkO+xfr+XDJZJpd4n6g9qfn9H7kofmQhWqfdJ8Sfcyzks4+ClQxkCCCCAAAIIIIAAAggggAACCCCAAAIIIFAhAgR7K+RCMUwEEEAAAQQQQAABBBBAAAEEEEAAAQQQQMBLgGCvlw5lCCCAAAIIIIAAAggggAACCCCAAAIIIIBAhQgQ7K2QC8UwEUAAAQQQQAABBBBAAAEEEEAAAQQQQAABLwGCvV46lCGAAAIIIIAAAggggAACCCCAAAIIIIAAAhUiQLC3Qi4Uw0QAAQQQQAABBBBAAAEEEEAAAQQQQAABBLwECPZ66VCGAAIIIIAAAggggAACCCCAAAIIIIAAAghUiADB3gq5UAwTAQQQQAABBBBAAAEEEEAAAQQQQAABBBDwEiDY66VDGQIIIIAAAggggAACCCCAAAIIIIAAAgggUCECBHsr5EIxTAQQQAABBBBAAAEEEEAAAQQQQAABBBBAwEuAYK+XDmUIIIAAAggggAACCCCAAAIIIIAAAggggECFCBDsrZALxTARQAABBBBAAAEEEEAAAQQQQAABBBBAAAEvAYK9XjqUIYAAAggggAACCCCAAAIIIIAAAggggAACFSJAsLdCLhTDRAABBBBAAAEEEEAAAQQQQAABBBBAAAEEvAQI9nrpUIYAAggggAACCCCAAAIIIIAAAggggAACCFSIAMHeCrlQDBMBBBBAAAEEEEAAAQQQQAABBBBAAAEEEPASINjrpUMZAggggAACCCCAAAIIIIAAAggggAACCCBQIQIEeyvkQjFMBBBAAAEEEEAAAQQQQAABBBBAAAEEEEDAS4Bgr5cOZQgggAACCCCAAAIIIIAAAggggAACCCCAQIUIEOytkAvFMBFAAAEEEEAAAQQQQAABBBBAAAEEEEAAAS8Bgr1eOpQhgAACCCCAAAIIIIAAAggggAACCCCAAAIVIkCwt0IuFMNEAAEEEEAAAQQQQAABBBBAAAEEEEAAAQS8BAj2eulQhgACCCCAAAIIIIAAAggggAACCCCAAAIIVIgAwd4KuVAMEwEEEEAAAQQQQAABBBBAAAEEEEAAAQQQ8BIg2OulQxkCCCCAAAIIIIAAAggggAACCCCAAAIIIFAhAgR7K+RCMUwEEEAAAQQQQAABBBBAAAEEEEAAAQQQQMBLIOxVSJlewEomJbXuWUlv2SxWa6tY7a1it7WLmKaY9fXOo0GMxkaJLlgg0blzxQiF9B0FlGt1d0nXg3+R7NbNkm1uFiMel9CYsRKeP1+qzjjDdTy2ZUniyack/fxzkj1wQOzODjEaGiQ0fqLEzzpTotOnBzLibEuLZPbtE+vgIckePCjWoUNiHzoo2ZbDIoYhZl2dGHWOq/Nfc9w4iS1ZKuExowMZS387zTQflOSqVc45NIvlmGed8TtDd8bdIGZTk0QXLpLo4kVixmL9PQTtEEAAAQQQQAABBBBAAAEEEEAAAQQQ8BTwLdibWL1aOn96c9HBjHBImr7+P64BxqIGPmXYti2HP/UJsZ3AbGGqfssVUrXi9MLsPp93P/aYJP76F7Fe2CB2Jq2tb/XITf7eCfbFqyW8YJHEX32xxJxg60DT4S//h1gH9vfqxoiEZdQ3rs/ldfzffZL8zW3OeSd61ck6z1IP/1m6/9+vpOZd75X4ksW9yhNO8Lrzph+JffhA0RBzbe//g4TmLJT6j3xYQk4weyBJXZv0li2SfMoJLK9dLdaLuzy762mqKnY7D3PcJAkvWipVF5wvkSlTPNuXU6gC5Yc//Sltk5q3/4vETzn5WJk6j+TqNdJ9/5/E2vCMqOduKfXQfWKEIxI58zypufxyCdXUuFUlHwEEEEAAAQQQQAABBBBAAAEEEEAAgX4J+BbsDZ84VRsoVOGv9PbtEp05s18D7G+jzJ49Yr20W9s8XGZwMOUEJjt+eotY21/Q9ueVaSe6JL36idwjsex0qbni7RIeO8ariWeZfai52PnozOG2n/5MUn++x7v94WbpvOHrIh/+uMSXL8/V7X7scen68XfFzqqwrnvKbnpOWj73GWn8yn9JyJllW06yUqlcYDS1epVknlsrdkdbOc2L6lr79zrnulfSD90rkbMulJo3v7nsMRV16mTYll3se7Si1a3CzEeSleiW1m99W7LPr9F1o81TfyBI/fV+ST+9Umo/eI3EFi3U1iMTAQQQQAABBBBAAAEEEEAAAQQQQACB/gj4tmav+lm90TBKO4bUpvKDpNqOyshMbdqkrW1U10rkhEnaMl1mx513StuXPtevQG9hf+k1T0jrpz4miaeeLiwa8POuhx/pM9CbP4idzUjn951AZXu7pPfsLSnQe6xt6yFp++H3yx5vasPfpfPG6yW98m8DDvT2PLgKzqb+9oC0XHuNdD/xZNnj6k+D9IsvScvnP1tWoLfXmDvbpcMJuCc3bOjP4WmDAAIIIIAAAggggAACCCCAAAIIIICAVsC3YK/qPTxrjvYg2c2DH+zNvKAP9poz9GPUDbz99tslceftuqJ+56nZnZ3f+6Yzm/axfvdR1NBZa7f75z8pyvbKUMs8dN5xh3SopRv6mNFb2E923WpJ79hRmH1cn6sZ1F3fv0G6nTWHg0xZZx3jti9/Qaz9Lw7oMHY65QR8/1uybQOb4TygQdAYAQQQQAABBBBAAAEEEEAAAQQQQGBYCfga7A3NmafFyW7brM0PMjO7dYu2+8hc/RgLK7f/5jeS/OOdhdlFz43qGjGnTJfQ4uUSWrBUzEknihH13oRLbYTW9cPv+BaYVGvFqmBnPpkTpkjk1LPEnDxNDGfTOLek1pHNbv57r2JzzHin7SvEnKE2lnNf5aP7wQfduh1Qfm5DM8cwNHu+hJeeKqF5zqZmzvq8fZmqg+Zcb7xBEqtWD2gMXo07/vcmsZ0N+XRJWefGWlWtKy7Ks531gTt+9auifDIQQAABBBBAAAEEEEAAAQQQQAABBBDoj4B7NK8fvUWdDch6bwt2pBOreZ+oGZGhmtp+9Fp+EyuREHuffr3eyPy+g71q1mrq7t94Hjh00jKputjZdG3RoqKAam592qeflu4/3i3Wrm3aflSAtuvmH0t0wTwJ1Za3/q22QydTBUobvvhlZ03gsceqZNtapfXfv+TMRN3r1iyXr9rWf/5LEpk44Vg9tS5tyxedWax7dxa1TT+j1qq9sii/3Axz7AQJLz9VIrNmS3TObAk1Nbl2oe6h9IaN0nXH7doxqYa2lZXOH35XIt+4wdlIrt61r/4UpJ5cKZlnei/BoYLi0RWvkOismaLWrTajkVzXmYOHJLNju3Tfc4+otY7dUubRhyRz2WUSHjfOrQr5CCCAAAIIIIAAAggggAACCCCAAAIIlCTga7A3MtWZ1RqrEjv58kZW+VGkX9gioaVLShrUQCult27NbbRVmIxwRKIzZhRm93quZoe2/+gHuVmiumREIhK/4l1Sc/75uuJcnhmNStUrXiHx00+Xjt/+VpIugWO7s83Z+O1n0nD11a59lVpgmCGp+9dP9wr0qraheicA/LnrpOVT1/aa/duzX+VS/8nP9gr05s4jXiUNn/qMtq19aL8TwO90Avg1pQ7xWL3cuslnnivxs86W6PRpJbdXfywInXKyxJ1H9+POpnK//LnYzhrChUnNcu647TZpeN/7CosG9Lww0Bt95Wul7oorioL96iDh0aNyj9jSpdLhLAeSvPcu7bFV0L/7kUel7p/+UVtOJgIIIIAAAggggAACCCCAAAIIIIAAAqUKuP/Gv9QeetQzDEPM6bO0LdMvbNTmB5GZdtkQzjhxhhhh7/h2l7M8gdtsXDXW6qs+5Bno7Xk+RsgJwL7xjRK79I2up5l+4mFJumwm59pIU2DOmucETqdrSpyArzNbNrxoqbZMZZoLFktk6lRtea7tSYu1ZRknqF5OMmrqJf6Gt0rTDd+V+re/vaxAb+Fxqs44Q2o/dE1h9rHnmSceETXDO4ikguNV7/6g1L/jHdpAb89jqqUd6t7yFu974MnHgxgmfSKAAAIIIIAAAggggAACCCCAAAIIjDABX4O9yi7ssiZuZvPgrdub2aLfEC7isqZwz2uefPAB11sgdvGlUrXidNdyt4K6N7xBQouWuxVL4gH3Y7o2KigIz1/gWTU0c7ZreWTBQtcyVRCa4RLA373Hs13PwsjM6U6Q9ztSe+klzozheMntvCrG5jpLKJzzSm0VtRFecu1abdlAM6Oveq3UnHtOWd1UO0t+GJGoto1aJkMtUUFCAAEEEEAAAQQQQAABBBBAAAEEEEBgIAK+B3uj8/Rr4lo79BumDWTwbm2z2/THiriMLd9PeucusXZv13ZrVNVIzT9dpi0rJbP2rc7P/Z2Zz7qUWf3EgGehhidO1HV9LC884eW1eAsrhk+YVJjV63lo/Hhtud1yWJuvy1TrEpsx743rdO36yqu94m2um7eln13XV/Oyy9Ws3urXva7sdmq5i8gZ7gHizI7idZHLPggNEEAAAQQQQAABBBBAAAEEEEAAAQRGtIDvwd7I7NnOT9tDRah2V6ekX3qpKN/vjMyhw2K3FQchVaA1Om+u5+G6nSUc3FL0otfm1rDtb4o4AdXwcv2sYDuVlO7HHu1v17l2oR6bsuk6Co0ercs+0nacPpibbxAapd80zWptde1zsArUNTGcTd50Kbt/vy57QHmRM8/r98Zv8QsucD22+kMDCQEEEEAAAQQQQAABBBBAAAEEEEAAgYEIeC9g24+e1eZkxuRpYu8snl2bdtamjXjMMM0frvP++6UwkGiOGiU1HsGyfFt1DF0yxk8Ws7paV3QsL7P+Wdfy+CvOdC0rtSC64hWSXrVSWz2zzpmFesGF2rJSMg1n5qxXMjw2UjNrvTdZc2trtbR4HXLQykITJom1Z0fR8eyDB4ryBpKh/mBQfckl/e4iNH6ca1trEP4Q4npwChBAAAEEEEAAAQQQQAABBBBAAAEEhoWA78FepRKePVdSmmBvZrOzlu457j9lV23VplqJX9witpXtBZzbFOuss8WMRjzh0y/o1+sNz57j2c5KpcXer1+D1hwzQSIT9bNHPTstKIwtWSxdznmo9WQLU3bn9sKssp6bNd6BbK+ArukRCFaDcAuS24nussYYVGVzkrOExari3u3WQ8WZA8lpGCXhPmZQe3Ufqql1NgjUX/+hYuk1fsoQQAABBBBAAAEEEEAAAQQQQAABBIa2gO/LOKjTdVsbN7Ol703aUs8+VxToVX2qAGlqw/o+Nd02ZwvPm+/ZNrNju3NcW1snNNe7rbaRJlNtTGZMma4pcYLczfucQHf/g6dGlfcSE4bLerlGJOIsu+F9G7i1FU3QWntyAWea4/SBeDtdHFQfyFCMJvelMErut65BX3UA117fIbkIIIAAAggggAACCCCAAAIIIIAAAiNNIJCZvdH586RTI2nv3SmWE4AznQCjW0o9s9atSFJr1kh8yRLXctuyxHbZYC063ztgm9qy1bXf0AknuJaVWxCa6Cw5sE2/1ER66zaJLVhQbpe5+kaoeJ3knh25bQ4nZgm3gFvfmUy/xurWyM5mJbNnr2T3OYHv7i6xupzgtxMEtdMptya5/Owu9/Vu+7rfPDsuKAyNGniw16hvFPtwc9Fh1Yx2EgIIIIAAAggggAACCCCAAAIIIIAAAgMRKCHSV373ofp6UUsfWM29N2TLBfO2b5eos4mbW0o/76xd65Iyzz3jUnIkO+ME/dRmZ4XJUD+/H+MdqLMOuK/vGp7kb7DXbb5pxtlQrN/B3j5m5yoTFRBW16BXCnnP6s23KzTNPR9gsNe2bWe29gZJPPKIZLduFnvfXmd8/gaQRc3u9fjjgva8XDINj03uXJoUZRuxeFGeH5b6TslFAAEEEEAAAQQQQAABBBBAAAEEEBhJAoEEexVgyFm3tzDYq/JTzgZqbsFeFey0D+539bf2vyiZ5oOugVvVty6FZ83VZffKs52ZpG4pNHaMW1HZ+V592Womaz+SYXrP6j3WpQoIFwZ7S2jrtsxDfwOzarZt591/kNRD94vv6+oW+NkpZ1ZwHxvzlUpujhlbalXqIYAAAggggAACCCCAAAIIIIAAAgggMOgCfU/r7OeQwnPnaVtm1SZtLimxeo1LycvZyTWrXetkNuvXBA65jKVXRx7BXiPuvR6u64A0BYazbq9b8go4u7XJ5RuepT0KNRUNTV6p3emXOPZsnVj3rLR86lpJ/u72wAO9aiBu6zB7DtKlsK+N7FyakY0AAggggAACCCCAAAIIIIAAAggggMCgCAQW7I0u0K+Rm9m6xfXE0ut6L9NgOpuZqUfP5LWmr1oKQJdizhrCfSWr231WrRGP9dW85HLPYG+X++zikg8whCt2/vnP0vGN/3RmfLvP3h7Cw2doCCCAAAIIIIAAAggggAACCCCAAAIIDGmBwJZxiEyYIEZtvdgdbb0A7MMHJNvWJmpd355JrSVrvbC+V15kybLcrNXkrm3H8q2N63PrzhZuSGapjbz27y3CNuLVEj7xxKL8wgzbY4Ms13VWCzsp4bkRcw8c2x4B5xK6HtJVVKC3+6c/LmmM6poZ9Q1iNDSK2djk/H+jSNh9qYrsnj2Sfc59xndJB6USAggggAACCCCAAAIIIIAAAggggAACFS4QWLBXuZgzZkt23aoiovQLmyV08vJe+amNm8ROJnrlxZY7dZxlBpJ3//ZYvp3sFlU3VjBzWPWpNvwqTOb0WU4XfS9VYIQjhU1ffp5xNvmKepS7tywqsdWGYS7J8GkjMZfuj1t2Zt8+Sdx6s+fxjboGiZ5zgVS96iIJj2ryrFtY2P3oo9JJsLeQhecIIIAAAggggAACCCCAAAIIIIAAAiNMINBgb2TufJdg7yaJFwZ7167tRW/U1Etk5sxcXuEM4ZRTtzDYm9qkXws4PKfvzdlyx6h2X5fX6k6I6dMmX3Yy6XqLGT4dw/UAx6mg/eafOLOxM9qjq1nT1f9ylcRXrCiara1toMnMtrVrcslCAAEEEEAAAQQQQAABBBBAAAEEEEBgZAkEtmavYoy6rJWr20gt/Vzv9XrDCxbnZuSqR/ikJb2uSvrZ3oFhVZjZol+vNzpfv3Zw4WU2qqoLs449L5xx7FqxhALbCRy7JaO6xq2oYvPTu3ZJdn3va5s/GcM0peZDH5eqM8/sd6BX9WU5M4dJCCCAAAIIIIAAAggggAACCCCAAAIIjHSBQIO9kenTxYhEi4ytnVt7Lbmg1vC1dm/vVS+63Fmv92iKquUceiRrzw5n3d/W3nnbizd+U+v6RmbN7lXP7YlXsNdq6X0stz5Kybda3fvyml1cSt9DsU7iySddhxV/x7slvmSxa3mpBdn9BHtLtaIeAggggAACCCCAAAIIIIAAAggggMDwFQg02KuCrebUI0sx9CS0E12S2fvisazkunW9hA3TkOjSpcfyYkuXiJoF2jMl1rw8WzTTfNDZCK44iGpMniZmiWvtmg29N4zreazM3j2+3QFZj75CzqZkwy2l1+o3TjMaRknNBRf6crr2AYK9vkDSCQIIIIAAAggggAACCCCAAAIIIIBARQsEGuxVMm5r5qY2bTwGl36m98/8jamzJVTz8pIGprPEgjm99wzdzLqXl3JIb9qkvQjh2aWt15sb57Tp2j5UZnbPXteycguyL7r3FXZmQg+35BaINaf6d672oQPDjY3zQQABBBBAAAEEEEAAAQQQQAABBBBAoGyBwIO9kfkLtIPKbn55Q7XM+t4zeyNLXl7CId84svTkXv1k1j97bCmI9Av6zdki80pbr1d1HJnpHnzMbCteIkJ7Un1k2rYt1q7t2lpGda2Ex4zWllVqpp3Nit3VoR1+eMYsbX65mZmDh8ROp8ptRn0EEEAAAQQQQAABBBBAAAEEEEAAAQSGnUDgwd7o3Nm5TdYKU35DtfSOnWK3916CIX5y7zV6VdvYyb2DvXZnu6S3bct1m9miD/a6bRBXOBb1XC2hYNQ36orE3r5Jsp36oKW2gUtmyglKq3HrkuksOTHcktWuP1d1nuHx43w53a577/GlHzpBAAEEEEAAAQQQQAABBBBAAAEEEECg0gUCD/aa8SoxJk4pcrJf2i1WKiXJtS8vx6AqGfVNEpk6tah+ZPIJYjSN6ZWfXLNGcrNHCzZ3U5XMsRMkVFdX1I9XRmiGfjM327Il8dQqr6YllSU9NisLz9Yfu6SOh2glI1a8OV9+qJm97stZlHo62cOHJf3QfaVWpx4CCCCAAAIIIIAAAggggAACCCCAAALDWiDwYK/S063ba1uWpLdulfSzvYO94UVLXMEji17etE1VSq97RtI7doidSRe1Cc2eV5TXV0b87HNdqyTv/cOxZSNcK3kUWN1dkn74Qdca8XPdj+3aaIgXqLWW1SZ9umTt3q3LLiuv87e/dZZwKL72ZXVCZQQQQAABBBBAAAEEEEAAAQQQQAABBIaJwKAEe93Wzk09/7xYW3pvrhZd1nu5hp7O0eW9l3ewd2yWVMHmbvn64bmlb86WbxNbvkyMmnrtpbVe3CWJxx/XlpWS2fn7u8V2Ar66ZE6fI5EJE3RFlZ9XP0p7Dpltm50gfUZbVkpm5sABST/iHjwvpQ/qIIAAAggggAACCCCAAAIIIIAAAgggMJwEBiXYG52v3ygt9ef7nGUYXg74qVmgscWLXH2jCxeKEY4cK1ezg5P336utH1ug3xhOW/lopjp+5IyzXKt0/ewmyezf71ruVpBcv15S9/7erVhi557vWlbpBeH5J2lPwW45KB2//rW2rK9MNUu67ds35JbwICGAAAIIIIAAAggggAACCCCAAAIIIIDAEYFBCfaGmpqK1ttVh7c72npdB3PmXDHjcddrY0ajYs7pHcQt7EM1NmobnA3Axrv241VQc8klYsSrtVXsrk5p+/pXJXOgWVuuy0w5S1V0fOt/xLb0gUlz3CSpPudsXdNhkRdd2nvpjZ4nlbrvbklu2FDWeap1elv+49/F2rGlrHZURgABBBBAAAEEEEAAAQQQQAABBBBAYLgLDEqwVyGGZ/W9rEJkSe9lGnT4kaV91wnN7P9mZ6HGRolffoXu0Lk8a/+L0vrZT0jngw95LkNgJcrQcOAAACAASURBVLql/Te/kfZ/v85ZvqHTtb+aq97nzFYOu5ZXekH81FOdQP9Y7WnYti0d//Uf0nbzzZLt7NDWyWdayaR03PV7afnER8Uq2JDPHDfRsy2FCCCAAAIIIIAAAggggAACCCCAAAIIjASBQYsyhufNk/RTj3qaxk7uO5Abd+okfnmzZz/hueVvztazw5oLLpDUow9L9gX9rFM72S3dt/xQErf/XMJLTpHQpElOQNNZm9ZZVsA6fEiyO7ZL9rm12o3jeh4net5FEuvH2sKeJz/ECtXSGFVveKN0/e+N2pGppThSD90n6ZWPSHj+QjEnTBRz4iQJNTaI1drqeLZI+u8bxNr4nNZTrXccv/CVrv1rD0omAggggAACCCCAAAIIIIAAAggggAACw1Bg0IK9at3ebg9AY9Q4iThB075SeOxYMcdPEmvfXteqbmsEuzbQFNR//Fpp/cp/irVrm6b0SJbacC298m+Sdq3hXhBeeqrUvfOd7hWGUUn1OedIes0aSa9y3+BOzX5Or36irLNWm+nVX/MxSW9YX1Y7KiOAAAIIIIAAAggggAACCCCAAAIIIDAcBQZvGYcTThCjSr8WroKNLF5Ssm948TLXukY0JpFp01zLSy0I1dRK4+evEzVz1O8UOfVMabjmo6JmvY6UVPfBD4o5o++lPEr1MGrrpfaj10p4VFOpTaiHAAIIIIAAAggggAACCCCAAAIIIIDAsBYYtGCvYRiegdPospNLho4td1/uwZw6w7cgqukEpxs/+zmJvvofnD4HPglabfwWf/M7pP5DH/JtjCWjHeeKZiQijZ/7vETPvnDAIwnNWSiNX/3vYb8ExoCh6AABBBBAAAEEEEAAAQQQQAABBBBAYEQJDDyCWQZXxFmfNrt+bVELwwkERk86qSjfLSPqrP9rxKpErZ1bmMJzBrZeb2F/Ziwm9W97m2Re9SrpuPXnkl23StQ6s+UkIxKVyJnnSs2b3iSh2rpymg6ruirgW3/VVZI4+RTpuvMOsXZsKev8zHGTJHrBq6TmNReL+uMBCQEEEEAAAQQQQAABBBBAAAEEEEAAAQReFhjUYG/1a18r8bPPKfI3QqaY0UhRvluGWv6g8b+vdzbsyhZVMWtrivL8yAiPGyeNzjq+lrNOb3LtM5JatUqy27eK3dEmdlfHsUMYpjNZurpOjPoGCc+ZK9HlpziB7AWiAp1+pIbrvih2trxgc/64DV+/QcS2ew1D2ZeSGr/5vaJqpbYtbBhfvkzUI7lxo6RWr85twGbv3dUreG+EHa+6BjEamiQ8Y5bEzz1HotOnF3aVex475RSJzC0enypTG72Vk8xqZza35lxVH2ZdbTldaevWf+QjYqeKV3k2ooP6UtSOjUwEEEAAAQQQQAABBBBAAAEEEEAAgcoWGNQIk5olqx5+pFBjox/dlN2HWtqh6owzco98UjN9rfZ2J7JoBj5zN9TU/zVqw6NHlX2++QbhMaP73datYcyZ6a0exxyzWbE6nMB5OCyhmtKD9n7eV2rGcBDnmj/HUH29Gwf5CCCAAAIIIIAAAggggAACCCCAAAIIDEhgUIO9AxrpEG6sZvOGGsqbQTqET+e4DU3N2MbxuPFzYAQQQAABBBBAAAEEEEAAAQQQQACBChco7Tf8FX6SDB8BBBBAAAEEEEAAAQQQQAABBBBAAAEEEBjuAgR7h/sV5vwQQAABBBBAAAEEEEAAAQQQQAABBBBAYEQIEOwdEZeZk0QAAQQQQAABBBBAAAEEEEAAAQQQQACB4S5AsHe4X2HODwEEEEAAAQQQQAABBBBAAAEEEEAAAQRGhADB3hFxmTlJBBBAAAEEEEAAAQQQQAABBBBAAAEEEBjuAgR7h/sV5vwQQAABBBBAAAEEEEAAAQQQQAABBBBAYEQIEOwdEZeZk0QAAQQQQAABBBBAAAEEEEAAAQQQQACB4S5AsHe4X2HODwEEEEAAAQQQQAABBBBAAAEEEEAAAQRGhADB3hFxmTlJBBBAAAEEEEAAAQQQQAABBBBAAAEEEBjuAgR7h/sV5vwQQAABBBBAAAEEEEAAAQQQQAABBBBAYEQIEOwdEZeZk0QAAQQQQAABBBBAAAEEEEAAAQQQQACB4S5AsHe4X2HODwEEEEAAAQQQQAABBBBAAAEEEEAAAQRGhADB3hFxmTlJBBBAAAEEEEAAAQQQQAABBBBAAAEEEBjuAgR7h/sV5vwQQAABBBBAAAEEEEAAAQQQQAABBBBAYEQIEOwdEZeZk0QAAQQQQAABBBBAAAEEEEAAAQQQQACB4S5AsHe4X2HODwEEEEAAAQQQQAABBBBAAAEEEEAAAQRGhADB3hFxmTlJBBBAAAEEEEAAAQQQQAABBBBAAAEEEBjuAgR7h/sV5vwQQAABBBBAAAEEEEAAAQQQQAABBBBAYEQIhEfEWXKSCIxAAcMwxDSD+XuOWdPkq6hZVZfrL2waUh/3/23JdCxUqo6FfB13z85GLVjsa98NM2fl+jNi1RKfPNPXvlVnZuiIc5AmQd0nRigkfveds3b6zf03yNeOz69JNVaVgnrtqH5Vyr9Gc098Tn5fy/xYg7xPqmNHXHymONbd9DE1vnY9saEq118QJsbRezrI140au9+fZ/nXjvp88PtzJ/+Zk38f9/Vi9ugsKBN1Tf1+XebvkyDfSxTNsuljfOWeM6k+11+Q90nQJkHdJ0GaVOprJwiT/Odwpb7HBjHu/Pt3EH33fAMJ6rUTyHvs0e+wgX6v9/k7rLI+di2D+Nw5ahLke6zf98hgmVTqfRIJGeL3d+TqyJF//1XqfeL1pcewneRVgTIEEEAAAQQQQAABBBBAAAEEEEAAAQQQQACBoS8QzLS/oX/ejBABBBBAAAEEEEAAAQQQQAABBBBAAAEEEBhWAv7/XnpY8XAyCFSuwLaD7dKVzPp6AidNasz1l9j0hK/9qp9NRKcskK5UVrY1t/vat+pszvgGUT/7CNJk5y++5eu4Y+NOkPGv+mdJ7Nsj+x+4w9e+VWcnXHalhGrqAzUJ6j5RP0hJp1K+m0Si0dzPyVTffv/oJRqL5cYblElQr53pY+qkOhqqSJOgXjvjXvnPEmoa6/s9ou6P/H3yg7++4Ov9rZZxuHTpZLG72yS5a4OvfcdnLHXWEYkFco/0NAnqtZPO2rJpX6uvJvnPnDXfvF5at2z2tW/V2Xnf+16uz6BMsp1tsud3N/s67vxnTmrXerG6/f+cj885PTfe9934iK/jVss4XHvZYulIZuTWldt87fuKFdOlNhaWoE2Cuk+CNAn6tZNKJn29luq7g/oOoZLffee/mwR9nyQ3Py225d+/G/Lf7SWTlMTWtb56x6bMF6OqPvDPnQ0vtojl42+g1U/np48+snRdUPfJXWt3y4ut3b56q87ef+5seX5vi+/9DoZJkN/rgzQJ4rNYfYeNjz9BgrhP1D2ikt+fOarP/PtJEJ876vux+p4cxHts/ruJ3693ZdLzc8fthUmw102GfAQqXEAFetsSmUDOwuo8HEi/GecbVRBjtnKr1Ri54HcQ/SuMxO4tgZjYya5A+rayGVErFAVpEtR9ogKxlmX57q36VR+cQfWvBhyUSVCvHdWvSpVoEtRrR/UbpIfy3tbc6fv9nbuO2azv96DtvBbVCsZBmwT12lGfD35/LuQ/c1Sg99D6dYFcS9VpYCbO54Pfn2n5zxwV6A1q3MpkzbbmQLzVHwX8fl2qPnPXMWCToLyDNAn8tePzd4j8up1BvA/mv5sEfp90tTifEf7/u0F9Rvh9D6rPssH43Gl3/t2Q9TPae/TdKcj7RAV6/X6vyr+p+v1Z2fPNOkiTIPoeDBP1uen3Z7H6DqtSkPeJ36/3nvdJEJ87Xekjf+QK8j02iH+3lrJeNMs49Lx7+H8EEEAAAQQQQAABBBBAAAEEEEAAAQQQQKBCBQj2VuiFY9gIIIAAAggggAACCCCAAAIIIIAAAggggEBPAYK93A8IIIAAAggggAACCCCAAAIIIIAAAggggMAwECDYOwwuIqeAAAIIIIAAAggggAACCCCAAAIIIIAAAggQ7OUeQAABBBBAAAEEEEAAAQQQQAABBBBAAAEEhoEAwd5hcBE5BQQQQAABBBBAAAEEEEAAAQQQQAABBBBAgGAv9wACCCCAAAIIIIAAAggggAACCCCAAAIIIDAMBAj2DoOLyCkggAACCCCAAAIIIIAAAggggAACCCCAAAIEe7kHEEAAAQQQQAABBBBAAAEEEEAAAQQQQACBYSBAsHcYXEROAQEEEEAAAQQQQAABBBBAAAEEEEAAAQQQCEMw8gSynR1iJ9NFJ26EQxKqry/KH4kZyeefl9T69QM69eqLLpJQQ8OA+qAxAggggAACCCCAAAIIIIAAAggggAACpQoQ7C1VahjVa//hjySz9smiMzJnzJVRX/xSUf5IzEg995wk/3jngE49ftrpBHsHJEhjBBBAAAEEEEAAAQQQQAABBBBAAIFyBFjGoRwt6iKAAAIIIIAAAggggAACCCCAAAIIIIAAAkNUgGDvEL0wDAsBBBBAAAEEEEAAAQQQQAABBBBAAAEEEChHgGBvOVrURQABBBBAAAEEEEAAAQQQQAABBBBAAAEEhqgAa/YO0QvDsI6vQGT+ArHTxZvYFY7KPnRI0k8/VpjNcwQQQAABBBBAAAEEEEAAAQQQQAABBAZdgGDvoJNzwEoQiC9eJOrRV0qu30Cwty8kyhFAAAEEEEAAAQQQQAABBBBAAAEEBkWAZRwGhZmDIIAAAggggAACCCCAAAIIIIAAAggggAACwQowszdY3yHZuxEOixEKFY3NCBfnFVUiAwEEEEAAAQQQQAABBBBAAAEEEEAAAQSGpADB3iF5WYIdVMNHPhLsAegdAQQQQAABBBBAAAEEEEAAAQQQQAABBAZdgGUcBp2cAyKAAAIIIIAAAggggAACCCCAAAIIIIAAAv4LEOz135QeEUAAAQQQQAABBBBAAAEEEEAAAQQQQACBQRcg2Dvo5BwQAQQQQAABBBBAAAEEEEAAAQQQQAABBBDwX4Bgr/+m9IgAAggggAACCCCAAAIIIIAAAggggAACCAy6AMHeAZLb2ewAe6C5HwK2bYttWX50RR8IIIAAAggggAACCCCAAAIIIIAAAghUpEC4Ikd9nAZtJbqle+UTknrqSbEPHBC77ZDYXZ1ihCMi9U1iNDZJePpMqbrgfIlMmXKcRlk5h1WB8uzhFu2Azfp6MaOOqyapdomVKyW9fr1kD+wXu9m5Fi0HRSwn8N4wWsyx43KP0JQTpfr8c8Wsqtb0QhYCCCCAAAIIIIAAAggggAACCCCAAALDS4BgbwnXM9vZIR0/v1UyTz4qdiZd1CKXd8gJOjqP1NaNkvrzPWKeOFNq3naFxObPP1a/5Zv/I9ln1xS1N+eeJE2f/kxRfrkZrd/9rmRWrSy32bH65sy50vT56/rdvtyGmX37pPXTH9c2q73mkxI/eXmvMiuRkK4/PyjJ+/54JLira3n4gBNAdh6bnhd1pZJ3/loi571Sal73Ogk1NupakIcAAggggAACCCCAAAIIIIAAAggggMCwECDY28dlTDy9Sjp/8iOxO1r7qNm72Nq5RTr+68uSecs7pebVF+UK7UxW7GymuJ+MJq+4Vt85zoxXbf99tzw6Pp/GUeLxyqmW3LhROq7/em4mdTnJTnZL6r67Jf3n/5Pq935IqlacXk5z6iKAAAIIIIAAAggggAACCCCAAAIIIFAxAgR7PS5Vx73/J4nbbvGo4V1kO8sKdP/iJ2IdOih1b3mLd2VKXQUSa5+Rzu98Q+x08axq10YFBWr2tVrygYQAAggggAACCCCAAAIIIIAAAggggMBwFSDY63Jlux5+ZECB3p7dJu+9S6KLF7sciWwvgW5nbd6uH3zH2XyNjfC8nChDAAEEEEAAAQQQQAABBBBAAAEEEECAYK/mHkj+/e/SfdONmpLeWWpd3vDMWWI2jRKJRHIzeLM7tov1wnqxbbtX5Y4f3ijmmHF99kmFlwWyhw9L1/9+v89Ab26DvLizCVtnW5E7nggggAACCCCAAAIIIIAAAggggAACCIwUAYK9BVfadta97bzpx06A0XK9B8JLTpGat14hkYkTtHUyzQel87ZfSvqpR4+V2y1OINh5BJnqP/IRZ2HgD/d5iNYbrpfM2qf6rHe8K3T8+naxU8miYagge2TZcoktWybhSZPEjMdzdSxnmYfsiy9JZs9u57FHMk7QPrvpuaL2ZCCAAAIIIIAAAggggAACCCCAAAIIIDAcBQj2FlzVznvvFWvfHtdrHX/rlVJ78atdy1VBeMxoafjwh6XzT/Ok+9abPOv6WWgYhoh69JlKqdNnJ4FWyOzaJZnH/trrGOaEyVL9trdLfMkS7bFNZ3a1eeIUiTiPfEo7/XTdcYek1zyhbUMmAggggAACCCCAAAIIIIAAAggggAACw0WAYG+PK2kluiV51x2u1zb2+n/qM9Dbs3HNRa+S7L59krr/D659UqAXSN5zV68lGSInr5D6D31YjFBI38AlNzJlijR87GPS/eRTYicTLrXIRgABBBBAAAEEEEAAAQQQQAABBBBAoPIFCPb2uIbdjz3mGhBUSwfUvelNZV/xure9VQ6vfVqsAy+V3XYkN7ATXcdOP7LiHKn/wAecScv9n5FcddqpI5mTc0cAAQQQQAABBBBAAAEEEEAAAQQQGAEC5gg4x5JPMfm3v7nWrXnz5a5lXgWGaUrskn/yqkKZh4A5ZrzUvec9Awr0enRPEQIIIIAAAggggAACCCCAAAIIIIAAAsNGgGDv0UuZ2X9ArK0btRfWnHSixBYt0paVkll99lliVNeWUpU6BQI17/2AmNEoLggggAACCCCAAAIIIIAAAggggAACCCDQhwDB3qNAyeeec6WKLD/FtayUAjW7N3ySflOxUtqP1DrmtNkSmzdvpJ4+540AAggggAACCCCAAAIIIIAAAggggEBZAgR7j3Jlt291hYudMrBgr+o4snSZa/8U6AViF1yoLyAXAQQQQAABBBBAAAEEEEAAAQQQQAABBIoECPYeJcls316EozLUrNzI1KnasnIyI9Onl1N9xNc1TEOqVqwY8Q4AIIAAAggggAACCCCAAAIIIIAAAgggUKoAwd6jUvaeHVozY9Q4MUIhbVk5meEJ453AsVFOkxFd1xg7Scx4fEQbcPIIIIAAAggggAACCCCAAAIIIIAAAgiUI0Cw19GyEgmx0ymtmzF+oja/3EwjHBZpGF1usxFbPzRtxog9d04cAQQQQAABBBBAAAEEEEAAAQQQQACB/ggQ7HXUrM4uVzuztta1rNwCo7qm3CYjtr45wZ8g+4gF5MQRQAABBBBAAAEEEEAAAQQQQAABBEacAMFe55LbXZ2uF97wcymBGMsSuEIXFBg1BMZLtaIeAggggAACCCCAAAIIIIAAAggggAACSoBgr4NgdbnP7BUfg71GLMZdV6KAWVNdYk2qIYAAAggggAACCCCAAAIIIIAAAggggIASINirFGzb9W4wDDZVc8UJsMCMVwXYO10jgAACCCCAAAIIIIAAAggggAACCCAw/AQI9jrX1PRYS9dOdPt21e1k0re+hn1HJrfmsL/GnCACCCCAAAIIIIAAAggggAACCCCAgK8CRNQcTqPafckAO+FjgDblY1++3gZ0hgACCCCAAAIIIIAAAggggAACCCCAAAKVLkCw17mCZo37kgGWx+ZtZV/8hMfawGV3RgMEEEAAAQQQQAABBBBAAAEEEEAAAQQQQOBlAYK9joXhrA9rhCPa+8Le95I2v9xMO5sV+9DBcptRHwEEEEAAAQQQQAABBBBAAAEEEEAAAQQQKEmAYK/DpDZhMyZO1oLZzfvEtixtWTmZmQMHnH6y5TShbiUIeO7f577xXyWcGmNEAAEEEEAAAQQQQAABBBBAAAEEEKgsAYK9R69X6MRp2itnZzOS2btXW1ZOZmb7jnKqU7dCBMymJteRWm3trmUUIIAAAggggAACCCCAAAIIIIAAAggg4LcAwd6jouEZM1xtk08/7VpWakHqmTWlVqVeBQmEx47NzQzXpezhQ7ps8hBAAAEEEEAAAQQQQAABBBBAAAEEEAhEgGDvUdbogpNcgVOrV7mWlVqQefaZUqtSr4IEjFBIpF4/u9c6RLC3gi4lQ0UAAQQQQAABBBBAAAEEEEAAAQQqXoBg79FLGDlhkpiTp2kvqLX9BUlt3aotKyUzsWq12G2HS6lKnQoUMMeM1Y4669PmftrOyUQAAQQQQAABBBBAAAEEEEAAAQQQQKBAgGBvD5Do2ee53iCdt//Ktayvgq477+irCuUVLGCOHa8dfebpJ8RKJLRlZCKAAAIIIIAAAggggAACCCCAAAIIIOC3AMHeHqJVZ58pRjiiNc5uWCedDz6oLfPK7Pi/+8Ta2f9ZwV59UzY0BMwJE7UDsZPd0vXgQ9oyMhFAAAEEEEAAAQQQQAABBBBAAAEEEPBbgGBvD9FQbZ1EL/4HV+PEz26SxDPrXMsLC5LPPSfJX/2sMJvnw0yg+vzzxIjo/0iQ/OPvJL1r1zA7Y04HAQQQQAABBBBAAAEEEEAAAQQQQGAoChDsLbgqNZf9oxhN+jVYbSsrnd/8qrTfdptYqbTr9bQtSzru/oN0fOMrotrkk9usYdeOKKgIgVBTk0QvfK12rHZ7q7T9+3Wi1m0mIYAAAggggAACCCCAAAIIIIAAAgggEKRAOMjOK7FvMxqRmne+Szpu+C/t8G3bluS9d0nqofslfPJpEp4zV0Kjx4jhtLMOHpTMjh2SeuxvzoZsLb3am1Omi1HfKNnn12j77W+mWhPWau8oq7mdSunrZ9KSOdCsL3PJNWurxayqdikdOdk1l10qqb/eL3Z3V9FJ28mEdHzr69JZVSPmlGkSOmGySFj/0jPiMal745uK+iADAQQQQAABBBBAAAEEEEAAAQQQQACBvgT0Eae+Wg3z8vjyZZK5/J2S+NVPXc/UTnRJ+tG/5B59JcM0pfaq90vnr2/vq2rZ5d1PPCndN91YdjtdA7W2cMu1H9IVuebF//mtUnvJJa7lI6XArK6W2Gv+P3v3ASVHdSV8/FZ1njzKEiAhISSChESUMIiMAWOSI7bB2cZ4vQ5r737Oi/M6rAM2OK7DOuA1xgYHMGCDQAIECJGDBEggCRmURhM7V331WmohTb/q6Z5+NZru+dc5fWBeuPXqV6FrrmpeXSCpP1zju8lusl/yax4vfPwWq6lFhGSvHw/lCCCAAAIIIIAAAggggAACCCCAAAJlBJjGwQen5VXnSOxVF/rUVlccPf/1Ej1wRnWdaF13Ak2vepWEDplfd+NmwAgggAACCCCAAAIIIIAAAggggAACjSFAsrfMfmy9+GJJvO09YsXiZVr5V6knelX/1tdc5N9I1YRC5euprQsBNQVIx3/8P4kc+4q6GC+DRAABBBBAAAEEEEAAAQQQQAABBBBoLAGSvUPsz+bTT5f2r/y3hA5bOETLvavtadOl5aOfENV/9+K9uE232ImErpiyOhSwvLl42//1g4V9b085oA63gCEjgAACCCCAAAIIIIAAAggggAACCNSrAHP2VrDnwhPGS+fHPy65rdsktXy5ZFbeJ+62LeL29+zubcWbxGrvlNDMgyRx5pkSPfjgkshuKllSVihoataXV1CqEsVW58QKWgbTxGoe/thVYtRv7FY0GsyARyhqfMECUZ/s8+sl/eAqya19Vpwe73jp6xE3m/UdhdXS6ltHBQIIIIAAAggggAACCCCAAAIIIIAAAuUESPaW0xlUp5K+LRdeIKI+3uLm85Lv2iF2S5PY8QqezvVJ9taSME0cd6yoTz0u4UmTZPx3vluPQ694zJEZ00V9WBBAAAEEEEAAAQQQQAABBBBAAAEEEAhagGRvDcKWN9euSgBXurg93dqmdlubtpxCBBBAAAEEEEAAAQQQQAABBBBAAAEEEECgUgHm7K1UqsZ2ee9P+N0+fbI3MmtWjdHpjgACCCCAAAIIIIAAAggggAACCCCAAAJjXYBk7wgdAdm167RrsmxLIgcdpK2jEAEEEEAAAQQQQAABBBBAAAEEEEAAAQQQqFSAZG+lUjW2S99ztzaCNXl/b77fuLaOQgQQQAABBBBAAAEEEEAAAQQQQAABBBBAoFIBkr2VStXQzkkOSG7VvdoIkSOP1pZTiAACCCCAAAIIIIAAAggggAACCCCAAAIIVCNAstdHy3Vdn5rqi/t+9Wtx06mSjpZtS9NZZ5WUU4AAAggggAACCCCAAAIIIIAAAggggAACCFQrQLLXR6zrkx+X3t//XvI9+peq+XTbq9h1HOm7/nrJLPuHtnl4wbES6uzU1lGIAAIIIIAAAggggAACCCCAAAIIIIAAAghUIxCupvFYauvu6JL0n34vmb9eL+GFx0h08SskduSRYkcjFTHkNm+Wnqu+J866Ndr2VjgiTa9/g7aOQgQQQAABBBBAAAEEEEAAAQQQQAABBBBAoFoBkr1DiLn5nGQfWFH4DERjYh98mISmTSt8wlO9z37TxG5rk/zWrZLb+IL32Sj5TRsld/894mbSvtHjb7xUIvvv51tPBQIIIIAAAggggAACCCCAAAIIIIAAAgggUI0Ayd4qtFTyNv/4g4XPnotlW+I6lc/xG154nDSf9coq1kxTBBBAAAEEEEAAAQQQQAABBBBAAAEEEECgvADJ3vI+FdVWk+iNnnymtL7jHRXFpRECCCCAAAIIIIAAAggggAACCCCAAAIIIFCpAMneSqVqbGfF4hJ7zcXScs7ZNUaiOwIIIIAAAggggAACCCCAAAIIIIAAAgggUCpAsrfUpFDSdOnbJfPII5Jf84Q4Wzf7tBq62PLm+Y2edrY0nf9qCbW0Dt2BFggggAACCCCAAAIIIIAAAggggAACCCCAwDAESPb6oCVe8QpRH7Xku7okrjK2rAAAIABJREFU/djjkn3icXFe+qe4vT2FjyT7xXX3nqvXiiXEGj9RwoccLtH58yV6+GFix+M+a6EYAQQQQAABBBBAAAEEEEAAAQQQQAABBBAwI0CytwLHUGenNC05UUR99lhcxxGnp0ecgQGxm5vFbmkRKxSqICJNEEAAAQQQQAABBBBAAAEEEEAAAQQQQAABswIke2vwtGxbQh0dhQ8LAggggAACCCCAAAIIIIAAAggggAACCCCwLwXsfbly1o0AAggggAACCCCAAAIIIIAAAggggAACCCBgRoBkrxlHoiCAAAIIIIAAAggggAACCCCAAAIIIIAAAvtUgGTvPuVn5QgggAACCCCAAAIIIIAAAggggAACCCCAgBkBkr1mHImCAAIIIIAAAggggAACCCCAAAIIIIAAAgjsUwGSvfuUn5UjgAACCCCAAAIIIIAAAggggAACCCCAAAJmBMJmwhAFAQRGm0BTLBTYkOzmTqOx7URrIV7YtqQtbv6yZFtWIX6QJvH9DzJqEpu0XyGeFWsS07FVXDu00zlIk6COE8vbn7Zt/t8qVdyCeUDxC+51du6oc7JeTYI6d1TcII8R5T1zQnPB3dQytT1RCGWFQsaPQWvXuRi0SVDnjvp+MP29U/zOaT9otqldqI0TmIn3/WD6e6f4nVP8vtdukIHCI2dOMBDl5RBzprUVfoiELOPnpYqplqBNgjpOgjQJ/NwxfA8R5P1DMXbgx0lTh7hO3tj5Uxyv+o4wfQyq7zK1BP290+r9LuW4xkh2/x4SxLiLx0nx+97cqF+OZPq7UkUu/h4SpEkQsYsqQZqo703T38XqHlYtQR4nps93Nd7i9SSI752myM7rSZDX2CB/by0ei7r/Wq636CooQwABBBBAAAEEEEAAAQQQQAABBBBAAAEEEKgfAfOPRtXPtjNSBBBAAAEEEEAAAQQQQAABBBBAAAEEEECgYQTM/710w9CwIQjUt8Dm3pSkc+b+HEtpHNC580+Lc9msURz15zWhcFjUHxrkczmjsVWwcCRSiBmkydZlfzU67nD7eOk4YrG4maTktm00GlsFi0yaKR663P/cNtkxYHZ/nnnYlMJ46+04UcegOhaVt3I3uUSmHlwIl/3n0ybDihVNSHj8/oEdJyq2Woc6L03/IVDxvAzqOMl2b5fuR+4x6q2CtR9xvHTZTcavryp28Rp76xMvGh13R1NEjj1wfCDHSfFaEsQxohCKx0lQ504q68iypzcb9V5y8CSJR2zZ8cgKyXVvMxpbBZuw5NxCzKDOHe+El+zmdUbHXTxOgri+qoEWr7E/uvlJo+Oe2tkk5x03Q/Le33Jv6h4wGntae5OEvKly6vXcCdJk7Z//IgMvmr0Oqp037z3vLuzDjTv6ve80c7szFg7JpNZ4IaDp8zLIexM13t33Jy8+K948DsZQivcnQVxPivcmQV9PbnvqpcK5b2opfhcHaRLEfb3afnVvv6Gr3xTF7jgjce4E+fuf6fNdwRR/L3ZSSdl+/21GzdU9bKR9XKC/E5u+XyuY7Pp9J4h7tmO8++NO7z45iOtJ8foa5HFS7gAh2VtOhzoE6lhgi5fs7UmZTZzuTvYaTsiqeWyKyd6c4dhqFxZvlIM02X73zUaPFjVH085kb0qy6gbc8FK4UfaSvQ88v13WbTV787Y72Wt4XwZ9nNjeHHA7k70viNPfZVR8r1+mDEZW82LtTPYGc5yEWifsTPbm8+I45n4JVAS7k70BHScqyWb6vFTjbp4xR7aEbePXVxW7eI39+5NmkxxqDuCdyV7zx0nxWpIP4BjZ8zgxfR0snjvJbF5Me6tfHFSyt+fReyW10fz1e3eyN6Bzx81njX/vFI+T3Dbz11d1nBSvsT/5+2r1o7FFzQGskr05L+GzscvsPwJOak3sTPbW6bkTpMn6v90k2594xNh+LAYqJns37UgZTeKpeTtVslf9o6jp+9gg702Uy+5khPcPPK73Dz2mlt33JwFcT4r3JkFfT+5Y85Ko5JKpZfd3cYAmQdzXq+1X9/amr4Eq7kicO0H+/mf6fFcmxd938t6DJ6bvY9U9rEr2Bmli+n6tYLLr950g7tlmTWrZlew1f3+y+/pq+H5tz+NE/b/fwjQOfjKUI4AAAggggAACCCCAAAIIIIAAAggggAACdSRAsreOdhZDRQABBBBAAAEEEEAAAQQQQAABBBBAAAEE/ARI9vrJUI4AAggggAACCCCAAAIIIIAAAggggAACCNSRAMneOtpZDBUBBBBAAAEEEEAAAQQQQAABBBBAAAEEEPATINnrJ0M5AggggAACCCCAAAIIIIAAAggggAACCCBQRwIke+toZzFUBBBAAAEEEEAAAQQQQAABBBBAAAEEEEDAT4Bkr58M5QgggAACCCCAAAIIIIAAAggggAACCCCAQB0JkOyto53FUBFAAAEEEEAAAQQQQAABBBBAAAEEEEAAAT8Bkr1+MpQjgAACCCCAAAIIIIAAAggggAACCCCAAAJ1JBCuo7Ey1EECvddeK246XeISW7BAYvPnl5RTgAACCCCAAAIIIIAAAggggAACCCCAAAKNK0Cyt473bebvfxM32V+yBVYsRrK3RIUCBBBAAAEEEEAAAQQQQAABBBBAAAEEGluAaRwae/+ydQgggAACCCCAAAIIIIAAAggggAACCCAwRgRI9o6RHc1mIoAAAggggAACCCCAAAIIIIAAAggggEBjC5Dsbez9y9YhgAACCCCAAAIIIIAAAggggAACCCCAwBgRINk7RnY0m4kAAggggAACCCCAAAIIIIAAAggggAACjS1Asrex9y9bhwACCCCAAAIIIIAAAggggAACCCCAAAJjRIBk7xjZ0WwmAggggAACCCCAAAIIIIAAAggggAACCDS2AMnext6/bB0CCCCAAAIIIIAAAggggAACCCCAAAIIjBEBkr1jZEezmQgggAACCCCAAAIIIIAAAggggAACCCDQ2AIkext7/7J1CCCAAAIIIIAAAggggAACCCCAAAIIIDBGBEj2jpEdzWYigAACCCCAAAIIIIAAAggggAACCCCAQGMLkOxt7P3L1iGAAAIIIIAAAggggAACCCCAAAIIIIDAGBEg2TtGdjSbiQACCCCAAAIIIIAAAggggAACCCCAAAKNLRBu7M1j63QCbi4n+e3bJb95s4hliT1uvITGdYodi+maj3hZYXw7usXpUZ9eseIxsds7JNTRJnaiacTHwwoRQAABBBBAAAEEEEAAAQQQQAABBBCoBwGSvfWwlwyMMd/VJQO33SbZu+4QZ6uX5NUsVvs4iRy7WOInnijRWbM0LYIpUsnd9ONPSOaBlZJ95CFxt+vHp9ZuxeJizz1MokcdLfEjj5JQZ2fNg3KSA5K8935tnPCUyRI75BBtXa2FmaefluwLm7Rh4sd429bSqq2jEAEEEEAAAQQQQAABBBBAAAEEEEAAAZ0AyV6dSgOVOZms9P78Z5K7+3ZxHbfslrnd2yXz9xsLH/vAg6X1fZdLZNq0sn1qqXQdp5CATl33O3H7eyoK5aZTkn9klSTV5+cikeNPlpY3vcl76rejov66RiqBnPr9b8Xt6SqpVgnw6JVXeQ9AWyV1tRb0ff8qL/H+YkkYq6lFmk48oaScAgQQQAABBBBAAAEEEEAAAQQQQAABBMoJMGdvOZ06r8t50zTs+OynJLv8tiETvYM31Xnuaen59P+TvutvGFxl5OfMs89K1yc/Lsn//UnFiV7dirP33CE7PvYh6fvzn3XVFZVZti3RJado26oEePqRR7V1tRSqp3p1iV4VM7J4iVhh/h2mFl/6IoAAAggggAACCCCAAAIIIIAAAmNRgGRvg+71fHe3dF/xaXE2rR/2Frq5rKT+cI30/uaaYcfQdUw//rj0fuXzNY1tz7huJi2pa38tPT/xEsdu+aeXdeNRZYnTTverkvTS23zrhluRvP12366J00/zraMCAQQQQAABBBBAAAEEEEAAAQQQQAABPwGSvX4ydV3uSs/VV4nbV9nUCENtavpvN0jfDX8aqllF9amHH5G+//4vUQla00vmzr9Lz/e/7z3F7FQdOjxxgoQOma/tl3v4AXEGBrR1wylUU2vkVq7QdrWnHySRAw7Q1lGIAAIIIIAAAggggAACCCCAAAIIIIBAOQH+VrycTp3WZZbfKW7X1pLR2xMmS+SEkyQy40Cxx48XLysq+a3bJPfMM5K52+ujmbO2GCR13W8k4r20LTZ/XkncSgty27ZL//e+KeqJYb/FskNiH3qERI85RsKTJontzcWrEq2O94K57FNPSfa+e7wkdrdfd8muuFP6vWRpy3nn+bbxq4h7T/f2P1U6ZYMab3LZcmk+65V+XasqT6+8X9yUPnkcO5WneqvCpDECCCCAAAIIIIAAAggggAACCCCAwG4Bkr0NeDAMTvSqF5Al3vouaVqypHRrvQSuHHesuG+6WPq9eW/Tf/g/LwecL23nlfT/4qcS/erXxQqFtPVDFfb+5MeiXrDmt4TmzpPWy/9FwuM6tU0SixeL+9a3Sv+NN0r6Ou+Favmctl36+t9JfNGiQrK4miV+7LEy0NymnUM4feftxpK9qTuWaodlRWOSOIEXs2lxKEQAAQQQQAABBBBAAAEEEEAAAQQQGFKAaRyGJKrvBlaiWdo+92V9onePTbMsS1rOP19aPvYJUU/X6hZn86ZConU4S/KeeyT/+IO+XaNnniudn/q0b6K32FG9TK3l1a+W1s9+QVQSW7e42az0/ugHuqqyZSqJHXnFSdo2zoZ1kt24UVtXTWHee0LZWV369LCKET5qkdhx/TZVsw7aIoAAAggggAACCCCAAAIIIIAAAgiMTQGSvQ283y3bS+B+4MMSmTat4q2MzZsn8Te9zbd9+q/Xe9Mw6J+o9e3kVSSv/4NvdXjBMdJ6ySW+9bqK6MyZ0vz+D4tKUuuW/JonJPP007qqsmWJM/xf1Ja8rfYXtSXvXOY9Oa1/iVz8dP91lx00lQgggAACCCCAAAIIIIAAAggggAACCHgCJHsb+DAIH7fEm2NX/9Kxcput5qa1D5ipbeIO9Etqlf8TurpOmXXrxPnnBl2VqKkLWt97mW/SVttpV2H8yIUSXqx/Elc1Sd72j3LdtXWRqVPFnjVXW5ddsdybOkI/xYW2g6Yws3ypptQ7ESdNk9hc/Xq1HShEAAEEEEAAAQQQQAABBBBAAAEEEEBgkADJ3gY9JNRTvc2vfe2wt67pQv++6WV3VBU3VeaJ2OgZ50iotbWqeHs2bn7d633nEM6tXCFOOl117Nip+ids3b4eSVeZ6N5z5Zm1a8V5aZN2PNGTTtGWU4gAAggggAACCCCAAAIIIIAAAggggEClAiR7K5Wqs3b2nHkSnjx52KOOH3uMWK3t2v75xx4SJ+X/orXBnbL33zO4aPfPTWef7VtXSUV44gSxD1+obapeBpdetUpbV64wcfxiseJN2ibJO4Y/lUPq9tu1MdUcyYlTTtbWUYgAAggggAACCCCAAAIIIIAAAggggEClAiR7K5Wqs3aRhUfVPOLw4Qu0Mdx8TrLPPaetG1yY27xF3IG+wcWFn+3psyTU0aGtq6YwevQxvs2zzzzjW+dXYUejEll0grbaeexhyff0aOvKFap5jrP33a1tEpp/pITa9Il1bQcKEUAAAQQQQAABBBBAAAEEEEAAAQQQ0AiQ7NWgNEJR7Kgja96M6AJ9slcFzq5dV1H87LP+ydbIgtrHqAYRP/po37Hkn1vrW1euIn76Gdpq18lL8s47tXXlClMrHxA32a9tEveZNkLbmEIEEEAAAQQQQAABBBBAAAEEEEAAAQR8BEj2+sDUc7EViUhkypSaNyE8Y4ZvjPxzlSV7c97L2fyWyIH6l8D5tfcrD7W1+U454Wx83q9b2fLogTN8X1KXqXLOYrWi1B1Lteuz2jolttA/qa7tRCECCCCAAAIIIIAAAggggAACCCCAAAIaAZK9GpR6L7Im1J7oVQYhb85fy7K0HPkXNmjLBxfm1q8fXLT759B+03zrqq2wJ+tjuckByW3bXm24QvvYKadp+zn/3CDqZWuVLvnubnGefFjbPHriyWLZnIZaHAoRQAABBBBAAAEEEEAAAQQQQAABBKoSIMtUFVd9NLYnDf/FbHtuoe09ISzek6e6xe3Tz8M7uK3b3zu4qPCzZVs1vUBucFB7ytTBRbt/dnr1Y/DtsKsiseREsaIxbTO/l63pGieXLRPXcXRVkjjtdG05hQgggAACCCCAAAIIIIAAAggggAACCFQrQLK3WrE6aG+1tBgbpdXUrI+VTurLB5emfNpFE2KFQoNbD/tnu8w2uwP6uXKHWpkdT0j46MXaZupla042q60bXOg37UPo4EMlPGni4Ob8jAACCCCAAAIIIIAAAggggAACCCCAwLAESPYOi210d/J7GnVYo45G9d3SKX35oFI36Zfs1T8xW1FQXaOYfzx3wGcMujiDyhJn+LyozXvZWvr+lUNGyKx7TtS0D7olxovZdCyUIYAAAggggAACCCCAAAIIIIAAAggMU4Bk7zDhRnM3KxY3NjzLJ4nq5nOVPdnq8wSw0YS0t7VW3H+bnWE+2asQowcfLPbk/bSeqTtu15bvWZhaqm9jJZokftyiIfvTAAEEEEAAAQQQQAABBBBAAAEEEEAAgUoFSPZWKlVP7bz5cI0tdo1TLTh5/VBMv5SszDjdvM8Y9CMrKY2eop9X13nqUclt7yppXyxQ61XTPeiWyKITxI56cyKzIIAAAggggAACCCCAAAIIIIAAAgggYEiAZK8hyNEUxk1njA3HTae1sdR8u4UXuA21xBLaFm5GH1fbuJLCMtNK2N5TtLUsiZOXePMLh0tCuK4ryaVLS8qLBelVD4rfC+rip+mnh/ANRgUCCCCAAAIIIIAAAggggAACCCCAAAJDCJDsHQKoHqvdMonPqrfHL1aFU0VY3kvOtIvhZK+b8p9D2G6uLdkbammV8MJjtZuRXX6HtlwVJn2mebD3P1CiB87w7UcFAggggAACCCCAAAIIIIAAAggggAACwxEg2TsctdHep0zis+qh+yVlfZ7YLYk/UslevxfBeQOymmpL9qptip/uM5XD1hclvXp1yWbne3vFeeyhknJVEDv5NG05hQgggAACCCCAAAIIIIAAAggggAACCNQiQLK3Fr1R2je/ZbORkalpCtwd27WxrKZmbfngQiuhf7LXzWXLznc7OM5QP+c3+29zpWMtt47YvHlijZ+kbZK6vfQlbMlly8XVzFdseVNfJJacqI1DIQIIIIAAAggggAACCCCAAAIIIIAAArUIkOytRW+U9nW3vGhkZPlt20UlZXVLaNr+uuKSMnvy1JKyYkH+hY2+ddVWuC9t0nZRcwuHJ07Q1lVbGDvpVG2X3AMrxBk0t3Fm2VJt2/DCRWIbeNJYG5xCBBBAAAEEEEAAAQQQQAABBBBAAIExLUCytwF3vzvQJ/m+3pq3LPfCC74xQgce6Fu3Z0V45kzfdtkNZpK9TjYr7vYt2vVYk/cTK1z6cjVt4yEKE6eeKpZdesqoOZKT96zY3Tu7foM4LzyvjRY/nSkctDAUIoAAAggggAACCCCAAAIIIIAAAgjULFCauao5JAFGg0DmkUdrHkb28cd8Y0QqTPZGDjrIN0b20Ud866qpyDz2uDdlgqPtEprhn2zWdihTGOroEHveQm2LzJ0vT+WQXFo6rYPqZE+YLLHDDtP2pxABBBBAAAEEEEAAAQQQQAABBBBAAIFaBUj21io4SvtnVq2qeWTZR/QvGLMsS8KzKkuiRqZP956GDWnH4qx5TJxMRltXTWFm5f2+zUMzZ/nWDacicdoZ2m75Z56S3OYt4ubzkl1xl7ZNdMkp2nIKEUAAAQQQQAABBBBAAAEEEEAAAQQQMCFAsteE4iiMkXt0lTip1LBHlt20SZxN67X97YMPlVBzi7ZucKGaQsGee/jg4sLPrjf9QmrFy9MfaBsNUajmys2u8k/2xo8+aogI1VXHFi4Uq61T2yl5+22Sfvhhcfu6S+ot25LEKaeUlFOAAAIIIIAAAggggAACCCCAAAIIIICAKQGSvaYkR1kcNzkgAzfdNOxRDVz3B9++0ROW+NbpKuKn+s9Tm7r+94WnYYe7DPztZnH7e7TdQ7MP9V7ONlFbN9xCNWev3xO6mbuXScpvCodDF0qoU58kHu5Y6IcAAggggAACCCCAAAIIIIAAAggggMCeAiR7G/h4SN/8F8l3dVW9hZl16yT3gH4qAisSkcTxi6uKGT/mGLGamrV9nK2bpf/G4SWlc1u3SfrGG7RxVWHslFN962qpSJx2ura727VVcg/pnzIul/DWBqMQAQQQQAABBBBAAAEEEEAAAQQQQACBKgVI9lYJVk/N3YF+6f7vb4jjTZdQ6ZLv7ZXeb33De+GZq+0SOfE0seMJbZ1foZrKIXqSPkGq+qSv+7WkvOkPqlnUFBU93/iquMl+bTerpV3ii6tLSmsDaQrDEydI6JD5mhp9kdXcKqank9CviVIEEEAAAQQQQAABBBBAAAEEEEAAgbEsQLK3wfe+s/5Z2fGlL0pu2/YhtzS7YYN0f/4/xd2xTdtWJS2b3/AGbd1Qhc2veY1YnRO0zVRiuf/Kb0j/zbdo6wcXZje+IDuu+KzvnMKqfdNb3yF2NDq4q7Gf4z5P9+pWEFl0glgh/UvqdO0pQwABBBBAAAEEEEAAAQQQQAABBBBAYDgC4eF0os/oFrBCYW8e3NzuQTprV0v3Jz8mEe/p2oQ3tUFkv2m761zXlaw3bYOaaza7fKm4Of+ngOOvv9h7MZt+OoahROx4XJrf+R7p+++vaJuql7Ulf/1TSd+9XGInnyrxRcfttS7XcSSzerWkli2T3IplZccZOuIoSQT0VG9x8PFjj5WB5jbf+YL33MjEqcFMJ6GFpBABBBBAAAEEEEAAAQQQQAABBBBAYMwKkOxtwF0fOflMyT5wr7jdLz/Nq17Ylrn5z4WPFY6ItHaIN1eDSM8O7z9DvyAtvPBYaSrzorVKGOMLFkjmtHMkc5v/HL3OujWSVJ+f/1CseJNYLV5CNZ0U6esRlZgealFPD7e96z1DNau5Xj2pG3nFEsnc+teysexp0yUyY0bZNlQigAACCCCAAAIIIIAAAggggAACCCBgQoBpHEwojrIYVnOTtHzgQ2LZlnZk6uldt2tLYbqGShK9oTmHS/sHvXiWPp52JT6FbW9/m0TPPNendu9iNzUgztYXxe3trijRa0+YLO2f/byEOjsril9ro8Tp/vMQF2NHl5xS62rojwACCCCAAAIIIIAAAggggAACCCCAQEUCJHsrYqq/RrG5cyXxzst3PsVbw/BDc+dJ+8f+3Ytj7iHwtksvldj5r/NNRg9nuPYBM71E7+ckPH7ccLoPq09k2jSxZ8317WvZIUksOdG3ngoEEEAAAQQQQAABBBBAAAEEEEAAAQRMCpjL4JkcFbGMCDSddJKEp8+Q3m99o/AkbzWLFYtL/I2XSPMZZ1TTreK2ra97nWS9eXX7fvFzya9+rOJ+gxuqaR7ir7vYm2LiVCNPHg+OP9TPsVNPl6Q3J7JusectlFBbm66KMgQQQAABBBBAAAEEEEAAAQQQQAABBIwLkOw1TjpyASOLThA3lSpZYeTAmbvLogfOkM6vfl0Glt4hmaX/EGfT+pL2exbYE6dIZNErJHH6GYE/JRvZf3/p/NSnJf3oo5K6+y7JPfqQuN4cwkMtas5he/YhEjnyaC/Je7LY8cRQXYKrV/Me+ywJLxHMggACCCCAAAIIIIAAAggggAACCCCAwEgJkOwdKekA1tP2zndWFNWOx6Xl7LNEvE/2+eclu36DNxfuFnG2bRPxXjRmd44Te1xn4UVi++JlYrH580V91JJ57nnJbVgvTrc3T29Pjzi9PaKeMrba2sXuaJPQ+AkSPeQQsWOxirY96EaZO27XrsJqbZfYwgXaOgoRQAABBBBAAAEEEEAAAQQQQAABBBAIQoBkbxCqozjmvkroVkqinkRWn3pYci+9JPln9VM4RI5fIpaXSGdBAAEEEEAAAQQQQAABBBBAAAEEEEBgpAR4QdtISbOehhMYuOUW321S02CwIIAAAggggAACCCCAAAIIIIAAAgggMJICJHtHUpt1NYyA482VnF2mn8IhNPtQiUyd0jDbyoYggAACCCCAAAIIIIAAAggggAACCNSHAMne+thPjHKUCQz84zbv5XgD2lHFeapX60IhAggggAACCCCAAAIIIIAAAggggECwAiR7g/UlegMKqKd603+5XrtlVkubxBct0tZRiAACCCCAAAIIIIAAAggggAACCCCAQJACJHuD1CV2Qwr0/d/vxO3v0W5b9OTTxQrz3kMtDoUIIIAAAggggAACCCCAAAIIIIAAAoEKkOwNlJfgjSbQ97ebJfOPG7WbZYXC0nTWWdo6ChFAAAEEEEAAAQQQQAABBBBAAAEEEAhagEcQgxYmft0L5LZsldyG9TLwpxvEWbvad3siS06TUEeHbz0VCCCAAAIIIIAAAggggAACCCCAAAIIBClAsjdIXWLXnUDfTX+T9B9/9/K4c1lxvc9Qi9UxXprf+IahmlGPAAIIIIAAAggggAACCCCAAAIIIIBAYAIkewOjJXBdCmQz4qYGqhq6FQpJ6wc/IqHmlqr60RgBBBBAAAEEEEAAAQQQQAABBBBAAAGTAiR7TWoSa8wJqHl6E++8TKKzZ4+5bWeDEUAAAQQQQAABBBBAAAEEEEAAAQRGlwDJ3tG1PxhNHQlYnROk9UP/JtFZs+po1AwVAQQQQAABBBBAAAEEEEAAAQQQQKBRBUj2NuqeZbsCE7APmCmxU06TxJIlYsfjga2HwAgggAACCCCAAAIIIIAAAggggAACCFQjQLK3Gi3aNrxAdN48kdClg7bTErutTUITxkto0mQJjx/X8A5sIAIIIIBUJUDRAAAgAElEQVQAAggggAACCCCAAAIIIIBA/QmQ7K2/fcaIAxRQUzIwLUOAwIRGAAEEEEAAAQQQQAABBBBAAAEEEAhMwA4sMoERQAABBBBAAAEEEEAAAQQQQAABBBBAAAEERkyAZO+IUbMiBBBAAAEEEEAAAQQQQAABBBBAAAEEEEAgOAGSvcHZEhkBBBBAAAEEEEAAAQQQQAABBBBAAAEEEBgxAZK9I0bNihBAAAEEEEAAAQQQQAABBBBAAAEEEEAAgeAESPYGZ0tkBBBAAAEEEEAAAQQQQAABBBBAAAEEEEBgxARI9o4YNStCAAEEEEAAAQQQQAABBBBAAAEEEEAAAQSCEyDZG5wtkRFAAAEEEEAAAQQQQAABBBBAAAEEEEAAgRETCI/YmlgRAgiMqEAkbEvM+wSxWJZlNuyueCqq8dgq5q7RBmkSbu00ahJubt0Zz7OxonGjsQvBdpm3xMLS0RQxH7+wivo8TqxILBhzZWJ4X6qxFven6dh7HifqeDG+P3cddcbjFo+7UERMn5eFIXtxg7yWqFWYPifVeV7cn8aPk6J3gMeIGrvpcRfPHdu7TJn2VjHVoq7jgRyDO8ObPyf33JeGr1XF75wgr6+KZUpH0y4dM/8Z17rzGqtoTN9T7f6KrNNzJ0iTWOc4SYyfZGYnaqJEvftjx3E1NcMrUt8JagniPrZ4JxX0uSORuFih3PAANL0CvT/ZdfIEbdKeiEg84mi2bnhFI/FdHOR9velroFIciXMnyHs24/ewhQvJrrPess3fQ3j3sEX3IPZnYfim7x9UzF2/7wRxzxbZddMW5PUk0OOksEf1i+V6i76KUgQQQAABBBBAAAEEEEAAAQQQQAABBBBAAIF6EeDJ3nrZU4wTgSoFMpmMuI65f41Wq4/Fdz5hmnx8aZWjKd/cbuqQ2MyFhfGqcZteYjHvyRzvX0nXbO6RvpS5pxbUOI+aPq4w3Jte91qjw+445DA5/otfEKd/h6Sfe8hobBUsPmex96+k8UBN0qmU0XFbti3RaDSw40TFVusI8typV5Mgz52gridBnTuxAxfKM/228WuJOlmK15OgjpMgTIK8loyESSbvyGMv7DB6rZq3X4dEQ7Zsuv6nktr0vNHYKtis93+uEDOo48TNpiS1ZoXRcRePk/S6h8QZMOutBpo4/JTCeM//0i1Gx3349E75yqXHSpDHSdAmQV1jgzS559OfkR1PPWF0X6pg5/z+ukLMhzZ2GX2ytyUeljmT2kS8Z6jS6bTRcQd5b6IGuvve/snlIo65e+Td9/YBXE/U97Dd3BHI/dqeJkFdY4M8ToK4X1Mm6v7EtIeKu/vevs6Ok6B+J1YmI3HuBHGcFO9hV63frjbD6FK8xnYns3L10jVGY79l0YEyfVyzBPFdXLw3CfLcKYdBsrecDnUI1LOAd8MZ1IP7bsZsEs+N7LwxVn9mEMSYVVz1BzHZnCNp7xPEkty22WjYRNeUnfHUfjTsXQi86486gjQxvS+9P0XZOfTC8M3/UUrxOFE2QcTfyW523CNlEuhxYvj4Ll5PCvvRcOziuROkR5DHSSAmI3AtCdJEDd/090Lx8pTr75Vcb1fhsAliMX2dKl5PgjxO3Gw6mPNyF/CLOwaMUk/t3DktRJDHSdAmpq+Du+/ZAjx30l3bxfR91Z4HRsa7F8wbnMYhtuveMoj72JG4NynYeMk2N28u2Rvod3HxIhvg/ZoiCeoaG+RxEuT9iWkPZTwS3zuB3tcHcJ85EudOkMeJ6XsqdZwUr7Hqsr1jIKuKjC3ZXd8FQX4XB3rulJEIZkLPMiukCgEEEEAAAQQQQAABBBBAAAEEEEAAAQQQQMC8AMle86ZERAABBBBAAAEEEEAAAQQQQAABBBBAAAEERlyAZO+Ik7NCBBBAAAEEEEAAAQQQQAABBBBAAAEEEEDAvADJXvOmREQAAQQQQAABBBBAAAEEEEAAAQQQQAABBEZcgGTviJOzQgQQQAABBBBAAAEEEEAAAQQQQAABBBBAwLwAyV7zpkREAAEEEEAAAQQQQAABBBBAAAEEEEAAAQRGXIBk74iTs0IEEEAAAQQQQAABBBBAAAEEEEAAAQQQQMC8AMle86ZERAABBBBAAAEEEEAAAQQQQAABBBBAAAEERlyAZO+Ik7NCBBBAAAEEEEAAAQQQQAABBBBAAAEEEEDAvADJXvOmREQAAQQQQAABBBBAAAEEEEAAAQQQQAABBEZcgGTviJOzQgQQQAABBBBAAAEEEEAAAQQQQAABBBBAwLwAyV7zpkREAAEEEEAAAQQQQAABBBBAAAEEEEAAAQRGXIBk74iTs0IEEEAAAQQQQAABBBBAAAEEEEAAAQQQQMC8AMle86ZERAABBBBAAAEEEEAAAQQQQAABBBBAAAEERlyAZO+Ik7NCBBBAAAEEEEAAAQQQQAABBBBAAAEEEEDAvADJXvOmREQAAQQQQAABBBBAAAEEEEAAAQQQQAABBEZcgGTviJOzQgQQQAABBBBAAAEEEEAAAQQQQAABBBBAwLwAyV7zpkREAAEEEEAAAQQQQAABBBBAAAEEEEAAAQRGXIBk74iTs0IEEEAAAQQQQAABBBBAAAEEEEAAAQQQQMC8AMle86ZERAABBBBAAAEEEEAAAQQQQAABBBBAAAEERlyAZO+Ik7NCBBBAAAEEEEAAAQQQQAABBBBAAAEEEEDAvADJXvOmREQAAQQQQAABBBBAAAEEEEAAAQQQQAABBEZcgGTviJOzQgQQQAABBBBAAAEEEEAAAQQQQAABBBBAwLxA2HxIIo4Ggezzz0vmmWfE2bJFrHhCQpMmSWTOHAlPGF92ePmuLsmsXi35zZvF7esXq6NDwlOmSOyI+WKFgz1c8j09kt+2TZxt23f+d/s2EdsWq7VNQu1tYrd5//W2Izx5ctlt2FeV2Rc2SX7rFsl75s7WrTvH3tYuoc5OiR5+qIRaWvfV0FgvAggggAACCCCAAAIIIIAAAggggMAYEAg2ezcGAEd6E3t/c404O7r2Xm0oJO2XXVYoyzz7rPT98n/FWbu6ZGiWlzgNH71Ymt/0lpKkb85LsPb/9hrJrbxb3Hy+pG9/U7NEzzxXWl5zkViWVVJfbYFaR+aJJyS9cqXkHntY3O1bvfXmKgpjdU6UyLwjJLrwSIkuWCB2NFJRv0oaOem09P7P/2ibJl75SonOnr1XXb63V5K33y6ZpX/3Erybtf1U4YBtiXXgHEmcfY4kFi/2bUcFAggggAACCCCAAAIIIIAAAggggAACwxUg2TtcuX3UL7tyhZdUfGmvtVtesle8ZG9yxb0y8KPviZvLakfnOo5k779butc8Je2fuULC3lOyalFPpPb81xfF7d6u7acK3YF+Sd/wO8k9vVo6/v0/pLDOKheVGE09sEqyq1ZK/slHxU2nqoyws7nbtUUyy/5R+Fgd46XpTZdI4vjjhxVrcCc3l5PsijsHFxd+jsz3Esx7JHv7/vQnSf/xdxUlqV3HFddLwPdfvVpSf58nrZe/X8Ljx2nXQyECCCCAAAIIIIAAAggggAACCCCAAALDEWDO3uGojcI+mbVrZeAHV/omevccskrqFpK7XmIz398vPV/6XNlE75598088LH3XXlu1QPrJJ2XHB94ryZ9+X3IP3T/sRO/gFbs7tkn/978j26/4T8n+85+DqwP52clkpfu7V0rq97+pKNE7eBD5NY955leImjKDBQEEEEAAAQQQQAABBBBAAAEEEEAAAVMCJHtNSe7LOK4rfVd5iV6ndPoFv2GpKQf6b7lV+n79a29u3m6/ZtryzN9uqDpR6XoJUtcbZ1CLmrai5wtXBJ7wVU9H7/jyFwtPSNeyKP/ur3xZO2VGLXHpiwACCCCAAAIIIIAAAggggAACCCAwdgVI9jbAvlcJSGfLi3ttidU+bsi5ddPXXyvZ5beVCFhtnWWnaVBTEiSXLi3pZ7JAzS9sNbd6L4WrfD5elbRWTynnXtp7mguT4+r74/Xa+ZCHsw7nxQ3Sf+ONw+lKHwQQQAABBBBAAAEEEEAAAQQQQAABBEoEmLO3hKR+C9Q8uvG3vUfixxwtoZZWcVJJST/8qAz85GrttAluamD3xlq21/eSd0j8aK9vZ6eoqQoy3tQLaooENV/v4CVz7z0iF100uLjqn9XL3qwDZkn4oNkSnn2wRA6aJaFxnWLHE7tj5Xt6JL9li/fZKtnVqyV7x62+01W4PTuk56tfkc6vfcNLFJs9vHPrn5fsrXsnZy3vxXWhOYdLeNYsb+wHSXjGDHG86Rkyzz0vedV+xXJxe/2fnE7/6TpJnHaahJqbq7ajAwIIIIAAAggggAACCCCAAAIIIIAAAnsKmM2GYbtPBeJvv0yaTz5p9xhUwjSx6DixW1ul72veHL1lpnlIvOtyaVpy4st9oxGJLzhCrI/8h/R95fMlfd0XNxYSwrbXbjiLfcBMiR5/giROOKGQXC63hNraRH3ES6YmFi+S/PnnSf9110n2rtu10yA4W18sPDHbcv755cJWXZe99a+eg/Oy0YzZ0v5vHy0ZvxprxEv6qiXvjaHn29+U/LOrtetTL6lLrVghzaefrq2nEAEEEEAAAQQQQAABBBBAAAEEEEAAgUoFmMahUqlR3s6eNn2vRO+ew40ddqjYcw7z3QJ71ty9Er179Z07V+yDDy3pq5Ke6knXapfQYQuk7bNflHFf+oq0vPrVJYnSSuKp5HDbu98t8Uvf5ds8fdOf90rM+jasomLPRG/k+JOl47P/OeT4Q+3t0vHpz0rk6MW+a8rc4z0lzYIAAggggAACCCCAAAIIIIAAAggggECNAiR7awQcLd3D8xeUHUrkUP9kb2SIvuFDSpO9amXZ5ytP9oanTJa2K74snR//hERnzy471korm9X0B7P1Y3P7ewvTUASxRI4+Xtovv1zsSGVPNavpNZovfpPvUJxnHveeks741lOBAAIIIIAAAggggAACCCCAAAIIIIBAJQIkeytRqoM2oWnTyo4yNNW/Prz//uX7Tp6srXe2b9eW6wrDXoyoN6+t6aXlvZeJepmbbkmvelBXXHNZ02tfW3UMtf2heUdp+6kX3uU2btTWUYgAAggggAACCCCAAAIIIIAAAggggEClAvosWaW9aTdqBMKTp5QdS2jSRN/68NSpvnWqIjRR39fdsaNsv5GojEyZItYE/bbn/7nJ+BBChx8pkSGS434rTZx1tl9VVU9J+wahAgEEEEAAAQQQQAABBBBAAAEEEEBgTAuQ7G2Q3W+rF5iVWeyWVt9au82/TnWym1u0ffPd+z7ZqwZm+SS63a1btOOupbDpwguH3T0y/QDfvvlN5hPTviujAgEEEEAAAQQQQAABBBBAAAEEEECgIQVI9jbIbrWbm8puiVWm3m7RJ3OLAX1j9/eVXedIVfpNUeF2bTU6BKulXWLeC+uGu9jey9os29J2d/tGh6V2cBQigAACCCCAAAIIIIAAAggggAACCNSFAMneuthNQw/Sam4u28hOJLT1VjgiVjisrSsWWom4tt7N5bTlI10Y8puGIpMyOhSrc1xN8QpzCzf7PIGdTtcUm84IIIAAAggggAACCCCAAAIIIIAAAgiUz/LhUzcCVihUdqx+LzGTIfoVgto+h0k2W3adw610UklxBlLiDgyI6/2/m8mUDeVs1T/B67quuPm8DGVTNvgelfa48ZU29W1ntXeK29tdUu8kkyVlFCCAAAIIIIAAAggggAACCCCAAAIIIFCNgE8Wr5oQtB0NApUkNC07JK6T33u4XtlQixXyeQDcS6TWujjeE63plSslu2aN5DesF2fTei/J219r2N393WzGS/bqn2qudiVGkr1NPlNmeONkQQABBBBAAAEEEEAAAQQQQAABBBBAoBYBkr216I2Svr5P7Q4en5pGYFjJXp+EcH74T/amV6+W1C23SO7hld6Tu8FNYVB4KjhuKNk7YcJgUX5GAAEEEEAAAQQQQAABBBBAAAEEEEBg1AiQ7B01u6KGgVj6l36VRNS183lhWElfTYHraAqHKMp3d0vfL38p2fuWD9HSTLWbG8YgfVatXrDGggACCCCAAAIIIIAAAggggAACCCCAwGgVINk7WvdMA44rs3at9H71S+ImzU3TMKJMls90FiM6CFaGAAIIIIAAAggggAACCCCAAAIIIICAXoBkr96FUsMCmWeekd6vfdl74dpAxZHVHMPS2i5Wa5v3kjifqSS8aG5/r7jbNlccl4YIIIAAAggggAACCCCAAAIIIIAAAgg0ogDJ3kbcq6Nsm5zkgPR+8+tDJnrtWXMlfvoZEj5guoTGdYjtJXkt3dQTg7Yveddd0v/D746yrWY4CCCAAAIIIIAAAggggAACCCCAAAIIjKwAyd6R9R6Ta+v7v9+J29ftu+2RE0+TprPPkcj0A3zblKtwUqly1dQhgAACCCCAAAIIIIAAAggggAACCCAwJgRI9o6J3bzvNjLf1SXZpTf7DiB+0Rul5aKLfOsrqXBeYgqHSpxogwACCCCAAAIIIIAAAggggAACCCDQ2AK8caqx9+8+37rUypXiOq52HJETTqk50asCO5tf1ManEAEEEEAAAQQQQAABBBBAAAEEEEAAgbEkQLJ3LO3tfbCtmZX3a9dqxZuk7d3v0dZVW5jfwpO91ZrRHgEEEEAAAQQQQAABBBBAAAEEEECg8QRI9jbePh1VW+RsfF47Hnv6TLFCIW1dtYXuVpK91ZrRHgEEEEAAAQQQQAABBBBAAAEEEECg8QRI9jbePh1dW9Tfqx1PeNZsbXm1hc7AgLjJ/mq70R4BBBBAAAEEEEAAAQQQQAABBBBAAIGGEyDZ23C7dPRsUL6v15uv19EOKDT9AG15tYXJ5XdV24X2CCCAAAIIIIAAAggggAACCCCAAAIINKQAyd6G3K2jZKN8XsymRud0ddU8SCeTldSfrqs5DgEQQAABBBBAAAEEEEAAAQQQQAABBBBoBAGSvY2wF0fpNtitrWJZlnZ0+Q0btOXVFA7c/Ddxe3ZU04W2CCCAAAIIIIAAAggggAACCCCAAAIINKwAyd6G3bX7fsMKid7mVu1A8uuf05ZXWuikUpL+6w2VNqcdAggggAACCCCAAAIIIIAAAggggAACDS9Asrfhd/G+3UB71sHaATib1svAsmXaukoKe3/xC3EH+ippShsEEEAAAQQQQAABBBBAAAEEEEAAAQTGhADJ3jGxm/fdRkYXLPRdefKXP5Pc9urm7nVdV7p/+EPJ3nW7b1wqEEAAAQQQQAABBBBAAAEEEEAAAQQQGIsCJHvH4l4fwW2OH79YrFhcu0Y3NSDdn/uMJO+9T1s/uDDzzDPS9elPliR6rXjT4Kb8jAACCCCAAAIIIIAAAggggAACCCCAwJgTCI+5LWaDR1Qg1NIq0VeeK+k/X6ddr9u1Vfqv+qakbjlUooteIeGpUyU0bZqE2tsk39MrTtd2yTzxhGQeWCnO2tUlMay2Domde6Gkrvl5SR0FCCCAAAIIIIAAAggggAACCCCAAAIIjCUBkr1jaW/vo21tPu88yd5/nzgvbvAdQf7pJyXpfapZLNuWln/9iDhbt1bTjbYIIIAAAggggAACCCCAAAIIIIAAAgg0pADTODTkbh1dG2XH49L2Hx8Xq6Xd2MAsy5L4m98hsblzjcUkEAIIIIAAAggggAACCCCAAAIIIIAAAvUsQLK3nvdeHY09PGG8tF/xBbGnTa951FZru7R87FPS/Moza45FAAQQQAABBBBAAAEEEEAAAQQQQAABBBpFgGRvo+zJOtiO8KRJ0vH5L0n0zFeLFYlWPWL1NG94wTHS8ZWvSWz+vKr70wEBBBBAAAEEEEAAAQQQQAABBBBAAIFGFmDO3jrbu4mLLxFnYGCvUVu2VdFWJN7+XnHz+b3a2rHKkq6Jd15esg47kSgpG6rAjkak7dJLJH/RBTJw8y2SfeRhcdc/WzKuPePY+82Q6CuWSOLEEyTU2VmyisicOaIbn2poNzeVtC9XYMdivrGiBqaMaLrgAsltW1IyhNC4cSVlFCCAAAIIIIAAAggggAACCCCAAAIIIFCNAMnearRGQdvEcccOexRNS04cdt/mU04edl9dx1BLq7S+9rUi3sfJZCT3wgvi9PaJ29sjEgqLPa5TQuPGe8ndDrFCIV2I3WXhiRMlbGh8Vjgsprd1z8HH5s+XWNmtoRIBBBBAAAEEEEAAAQQQQAABBBBAAIHhCZDsHZ4bvQwK2NGoRGfONBiRUAgggAACCCCAAAIIIIAAAggggAACCIw9AebsHXv7nC1GAAEEEEAAAQQQQAABBBBAAAEEEEAAgQYUINnbgDuVTUIAAQQQQAABBBBAAAEEEEAAAQQQQACBsSdAsnfs7XO2GAEEEEAAAQQQQAABBBBAAAEEEEAAAQQaUIBkbwPuVDYJAQQQQAABBBBAAAEEEEAAAQQQQAABBMaeAMnesbfP2WIEEEAAAQQQQAABBBBAAAEEEEAAAQQQaEABkr0NuFPZJAQQQAABBBBAAAEEEEAAAQQQQAABBBAYewIke8fePmeLEUAAAQQQQAABBBBAAAEEEEAAAQQQQKABBUj2NuBOZZMQQAABBBBAAAEEEEAAAQQQQAABBBBAYOwJkOwde/ucLUYAAQQQQAABBBBAAAEEEEAAAQQQQACBBhQg2duAO5VNQgABBBBAAAEEEEAAAQQQQAABBBBAAIGxJ0Cyd+ztc7YYAQQQQAABBBBAAAEEEEAAAQQQQAABBBpQgGRvA+5UNgkBBBBAAAEEEEAAAQQQQAABBBBAAAEExp4Ayd6xt8/ZYgQQQAABBBBAAAEEEEAAAQQQQAABBBBoQAGSvQ24U9kkBBBAAAEEEEAAAQQQQAABBBBAAAEEEBh7AiR7x94+Z4sRQAABBBBAAAEEEEAAAQQQQAABBBBAoAEFSPY24E5lkxBAAAEEEEAAAQQQQAABBBBAAAEEEEBg7AmQ7B17+5wtRgABBBBAAAEEEEAAAQQQQAABBBBAAIEGFCDZ24A7lU1CAAEEEEAAAQQQQAABBBBAAAEEEEAAgbEnQLJ37O1zthgBBBBAAAEEEEAAAQQQQAABBBBAAAEEGlCAZG8D7lQ2CQEEEEAAAQQQQAABBBBAAAEEEEAAAQTGngDJ3rG3z9liBBBAAAEEEEAAAQQQQAABBBBAAAEEEGhAgXADbhObhAACnkAoFBLbDubfcyJTDjJqbEUThXiWZUk4bP6ypOKqZWJrXNoSeaNjLwab8+a3GY3bNGVKIZ4VjYtp70LcUKQQP0gT0/uyuB+DPk6CPHfq1STI48T08b37ehLUuePFndhqBXYtUedlYMdJACYjcS0J0iRsW7J/587voMJF0cCiYqqlbf4iaZo+20BEfYjAjhPv+8H4ebnrOyc8fj9xW8fpN8hA6bvPmGsgysshpnY2FX4I8jgJ2sT4vtx1zxakyfSzz5EJC480ui/3DDatIy6uay58LBwqBAvi/qR47xPkvUnhGJ80U8R1jKHs/i4O4nrifZepJXATw7+TBHkfOxK/65j+zimeM4X/1ulxYvr6WrAo/l4coEmQ9/Wm76mUSfEam4iE5IxDd/6OrMpNLOOaYoUwQX4XB3nulDOwXG8p14A6BBBAAAEEEEAAAQQQQAABBBBAAAEEEEAAgdEvEMxjf6N/uxkhAggggAACCCCAAAIIIIAAAggggAACCCDQUALm/166oXjYGATqVyCz4Qlxkr1GNyA+Z1EhXmrNvUbj2olWiR5wmAxk8rJuq9kxq4HOmdwukZAl2UzG+7M9s3/MEI3t/NOPoEzUeNW4TS/FcdejSVDHycwJrdIUDcm6bb0ykDY73cfh0zoKuzCTThvdlerP9iLRqHSteVoe/s63jcZWwRZ86MPSOefgQM+dH9zxtNFxT21PyAUL9xc32SPpDU8aja2CxQ44VLJbNxq/vqrYxWvs45t2GB13UywkM8e3BnKNLV5fgzhvFELx3AnqGqvWYfq8DPL6qsZbjG963MXrSTbvypqXuo0eg8XjJIh7EzXQ4rlz2dXLzY57Wpt89MIjpC+dk1+tWGc09iWLZ0pLLCw3PLRR/tmdNBpbBXvfyQcXYgZ1PZFcWlJrHzI67vishd7f0sbkwW9+S7qffcZobBXslKuuKsSsp3OneG8S9LmTfmalN4uDuXuf4r19EN7qvkddr4I2qcfjJIj7erUP1feO6e9hFbd4nOT7e+SF639WOD9NLZPOeJ3EJ+8XyDW2eH01fYyobS9+F6v/Nx0/yHOn+D1s+r5eORTv7bf1puWTv7zf1CFSiPPRC+fLnGntgf7+Z/p7WI27eG9fDoNkbzkd6hCoYwGV6HX6uwLZgqDi5hxXelI542N2Cgleq5DodRxz85HtOdCgTIIas4qrbiaCiq9sgjIJ6jhRcdWiEr1BHIcFE8PHX3Fe7mxfr2x/4pE9D0kj/6/iqiXI42Td1n4jYx0cxM3nAzkGC3EDvL6q7Qjq+Avi3CleX4M8b5RJUNeTII7tkbi+FkwCup6ofWr6GCweJ0GfOw+u2zr4UmDkZ5UAN32tUjHVohK9pmPvudGm92Uxtusdf6bPSxVTzXitEr1BfKcVx15P507x3iToc8cZ2CFu3vw9eJDX2MBN6ugaWzxOgvDefd4E9Huliu94x15q47N7Xrpq/n83PVCIEeQ11vS1RI23eG8fxL4s3p8Eee4E+X2WyTli+nu+N5ktHCdB3scG9T1cGHiZhWkcyuBQhQACCCCAAAIIIIAAAggggAACCCCAAAII1IsAyd562VOMEwEEEEAAAQQQQAABBBBAAAEEEEAAAQQQKCNAsrcMDlUIIIAAAggggAACCCCAAAIIIIAAAggggEC9CJDsrZc9xTgRQAABBBBAAAEEEEAAAQQQQAABBBBAAIEyAiR7y+BQhQACCCCAAAIIIIAAAggggAACCCCAAAII1IsAyd562VOMEwMEjR8AACAASURBVAEEEEAAAQQQQAABBBBAAAEEEEAAAQQQKCNAsrcMDlUIIIAAAggggAACCCCAAAIIIIAAAggggEC9CITrZaAjOU7XdcXN5bSrtMJhsSxLW0chAggggAACCCCAAAIIIIAAAggggAACCCCwrwRI9mrkUytWSP/3v6OpEWn54L9L/JijtXX1Utjzs59J9pEHS4Ybnjlb2j/4wZJyChBAAAEEEEAAAQQQQAABBBBAAAEEEEBg9AuQ7B39+8j4CJ2uLnG3bS6Jm2/vLCmjAAEEEEAAAQQQQAABBBBAAAEEEEAAAQTqQ4A5e+tjPzFKBBBAAAEEEEAAAQQQQAABBBBAAAEEEECgrADJ3rI8VCKAAAIIIIAAAggggAACCCCAAAIIIIAAAvUhQLK3PvYTo0QAAQQQQAABBBBAAAEEEEAAAQQQQAABBMoKkOwty0MlAggggAACCCCAAAIIIIAAAggggAACCCBQHwIke+tjPzFKBBBAAAEEEEAAAQQQQAABBBBAAAEEEECgrADJ3rI8VCKAAAIIIIAAAggggAACCCCAAAIIIIAAAvUhEK6PYTJKkwLNF18szrnnloS0E00lZRQggAACCCCAAAIIIIAAAggggAACCCCAQH0IkOytj/1kdJSRadOMxiMYAggggAACCCCAAAIIIIAAAggggAACCOx7AaZx2Pf7gBEggAACCCCAAAIIIIAAAggggAACCCCAAAI1C5DsrZmQAAgggAACCCCAAAIIIIAAAggggAACCCCAwL4XINm77/cBI0AAAQQQQAABBBBAAAEEEEAAAQQQQAABBGoWINlbMyEBEEAAAQQQQAABBBBAAAEEEEAAAQQQQACBfS/AC9r2/T5gBD4C+e5uSa1cKc7mzeJs3SZO11Zx847Y7e3ep0Mihx4qsSMXip1o8okQTHF69WrJPPKwONu3Fz7uQL9Ybe0SGjde7HHjJHbUURKZMSOYlRMVAQQQQAABBBBAAAEEEEAAAQQQQAABHwGSvT4wQRUn771PBq75lYjrlq7CsiR+/oXSfNpppXUVlPT98Y+SffzxClrqm4S8BGXbpZfqK2ss3f7vHxU3kymJUtje00/fqzz92GOSuvVWyT28UlwnX9LH2VWSueNWGbBDEj76eGm55C0S6uwsaWuqwEklpf/6GyRzz3JxvaSzbimONPXH/xN7/wMldurp0nTGGWJ5+7W4dH3pi96+L+2dOPsciR9zdGkFJQgggAACCCCAAAIIIIAAAggggAACCFQoQLK3QigTzQaWL5fkT672EpjFdOXeUWMXvH7YiV4VKb9+veTXPDbsobq57LD7DtXR3bZZdPHd/v7dXZ1sVnp//GPJrrhzqHC761UyOHv/ctnxyEppetf7JLF4ccV9K22YfvRR6fvxD8Tdsa3SLuJsfE6Sv/wfyTywUto/+CGxm3Y+fZxfrd8/uWOOrTg2DRFAAAEEEEAAAQQQQAABBBBAAAEEENAJMGevTiWAsv7bbpfkj6/yTfTG33iptL72tQGsuT5C5ru6ZMfnrqgq0bvnlrnplAz84EpJ3ne/0Q3uve466f36l6pK9O45gPwTD8uOT39Cct40FCwIIIAAAggggAACCCCAAAIIIIAAAggEKUCyN0jdXbH7b75Fkj//oTdzg+bv9702iUvfJS3nnjsCIxmdq3AyWen+0hfEWf9sTQNUT0wPfP87kn3xxZriFDv33XiTpG+4tuZYztaXpPeqK333f80rIAACCCCAAAIIIIAAAggggAACCCCAAAKeAMnegA+Dvj//RZK//ql2LZZtSdO73y/NZ56prR8rhX2/vcZ7Cdsm7eaq+W7tiVPEam7T1g8udPM56fvFLwYXV/1z8u67JfXboeNYTc1iTz9IQkccLaFD5os9eb+95ugtrjj/7Grp/8tfqx4HHRBAAAEEEEAAAQQQQAABBBBAAAEEEKhUgDl7K5UaRjs1BYDfk6GW92Kxpvd90JtjdtEwIuu7NF30GsmfOvTL3Qb+8Htx1q7WBxnh0uyapyT/yKq91mrvN0OiJ54kkYMOksiBB4odjxfq893dkn3uOUnfdptkH7zXd6T5xx+U9Jo1Epszx7dNuYp8b68M/OIn5ZpIaO48SZx7nsSOmC+Wvfe/magpKQa8MWZuvEHc7MsvpUt7L25jQQABBBBAAAEEEEAAAQQQQAABBBBAICgBkr0Byfb+5hpJ/+0GbXQrHJHmD3xE4kcdpa0fbmFk+gGiPkMtqb/fKvpXxA3V03z94ERv5LgTpfW9l4kdjZSsLNTeLqEFCyTuffr+eqOkr/2V7xzI6eXLhp3s7fvNr8VNDpSsXxWoxG7s4rdJy9lnaetVYaizszD/cnbRYun91tfF2bJzWgndC+p8g1CBAAIIIIAAAggggAACCCCAAAIIIIBAlQJM41AlWCXNe37+C/9EbyQqLR/5f8YTvZWMazS3UdM1xF9/ibR/4APaRO/gsbec+yqJv/U9g4t3/5xdeZ9vIti3k1eRWbtWsnct9W0Sf8s7yiZ69+wY2X8/afv4p8RKNPvGowIBBBBAAAEEEEAAAQQQQAABBBBAAAFTAiR7TUl6cdQL2Hp+/CPJ3HaTNqoVS0jLf3xKYvPnaevHcmF40RJpOe/VVRE0nXySWK3t2j5uX7fkNr6grStXmLz1Ft/qyOKTqp5fOTxxojS/+3LfmFQggAACCCCAAAIIIIAAAggggAACCCBgSoBkryFJ13Gk5+qrJbPsNm1E9SKv1k98RmJz52rrx3ph04UXVk1ghUISPe2Vvv2y65/3rdNVOJmM5Fbq5wK2QmFpfuPFum5DlsWPPUbs/Q8csh0NEEAAAQQQQAABBBBAAAEEEEAAAQQQqEWAZG8terv6uvm89Fz5Hcneu0wbzWppk7ZPXiHRWbO09WO9MHTE0RKZNm1YDE2n+b+QLr9+Q1UxU/d5Uz+kk9o+4eNPkvD4cdq6SgoT511QSTPaIIAAAggggAACCCCAAAIIIIAAAgggMGwBXtA2bLqdHZ1sVrq//S3JP7pKG8lqH+clej8jkalTtfUUijRfeNGwGdTL0NQL73QvP3M273wxWqXBs6v0+1D1jx9/fKVhtO1iRx4pA96TyOofBlgQQAABBBBAAAEEEEAAAQQQQAABBBAIQoAne2tQVX/23/31r/knejsnSvtnP0eit4yxmh4hOnt2mRYVVPnM2+sk9U/p+kXMr1+nrbLiTRI97DBtXaWFdjwu9kGHVNqcdggggAACCCCAAAIIIIAAAggggAACCFQtQLK3arKdHZxUSrr/68uSf+pRbQR70lRp/8/Pi3pBF0sZAe/J51oXq61DG8JNp7XlukLHa+tu0T8JbE+fKWp+4FqX8OyDaw1BfwQQQAABBBBAAAEEEEAAAQQQQAABBHwFSPb60vhXOAMDsuNLX5T8M09pG9kTp3hP9F4h4XGd2noKXxawvWkYal18Y6Qqf7I3+9xz4rqudiihYc4nPDiYPXV48xIPjsPPCCCAAAIIIIAAAggggAACCCCAAAII6ARI9upUypTl+/pkxxc/L87zz/i2cvt6xM3kfOupeFnAHjehZg4rFtfHyFe+D/Kbt+hjeKX2tP1966qpiOxHsrcaL9oigAACCCCAAAIIIIAAAggggAACCFQnQLK3Oi9J/eqn4mx8rmwvNzkgPd/9Di/jKqu0s9IeX3uyt4LVDNnE9Z7W9ltCHfppIvza+5Xb7Wbi+MWnHAEEEEAAAQQQQAABBBBAAAEEEEBgbAuQ7K1y/7uZyuaBddatkb5rr60y+thrbrU0j4qNdgf6fcdhJXyeHPbtoa+w4jF9BaUIIIAAAggggAACCCCAAAIIIIAAAggYECDZawDRL0Tmphsk/fjjftWUjyIBN+k/v68VN5Ts9ZtuYhQ5MBQEEEAAAQQQQAABBBBAAAEEEEAAgfoVINlb476LvvLVEjnhVG0U9cKvvu9/V/K9vdp6CkePgJvJ+A7GCod966qpsCJm4lSzTtoigAACCCCAAAIIIIAAAggggAACCIwdAZK9Nezr2AVvkLZLLpHWt79d7IlTtJHcnh3Sc/XV2joKR4+AlUj4DsZNpXzrqqlw05VNAVJNTNoigAACCCCAAAIIIIAAAggggAACCCBQFCDZO8xjIf7md0jra19T6G3HYtLygQ+LFQppo+Uff1D6brxJW0fh6BCwmvznDjaVpDWVNB4dYowCAQQQQAABBBBAAAEEEEAAAQQQQGC0CZDsrXKPWLYliXdeLi1nn7VXz+jMAyX2mjf5Rktf+2vJrHvOt56KfStgNZd5srfMfL7VjNpJmnlCuJp10hYBBBBAAAEEEEAAAQQQQAABBBBAYOwIkOytcl/H3vBWaT7lZG2v5lefK6E587R1bj4nfd/9tjiGpgTQroTCYQvYTS2+fXMvvuRbV01FfvPmaprTFgEEEEAAAQQQQAABBBBAAAEEEEAAgaoESPZWxSUSnjTJt4dlWdL2L/8ilk/i0Nn6ovT+9Ke+/anYdwLh6Qf4rtzZtMm3rpqKnKE41ayTtggggAACCCCAAAIIIIAAAggggAACY0eAZK/hfR3q7JTmd73PN2p2xZ0ysGy5bz0V+0YgPHWqWNGYduX5TRu05dUWOpteqLYL7RFAAAEEEEAAAQQQQAABBBBAAAEEEKhYgGRvxVSVN4wfe4xETzrDt0Pyf38iuZfMTA3guxIqqhJQT2Vb+83Q9nE3rZd8T4+2rprC3JOPVdOctggggAACCCCAAAIIIIAAAggggAACCFQlQLK3Kq7KG7e89a1iT5qm7eCmU9Jz5bfFzeW09RTuG4HwQbO1K3ZdV1IrV2rrKi3Mbd4izuZ/VtqcdggggAACCCCAAAIIIIAAAggggAACCFQtQLK3arLKOtjRqLT+64fECoW1HZwN66T3mmu0dRTuG4H4iSf6rjh95x2+dZVUJO9YWkkz2iCAAAIIIIAAAggggAACCCCAAAIIIDBsAZK9w6YbumNkxgyJve7Nvg0zt/5VUg897FtPxcgKRGfNEnvyftqVOmtXS+rhR7R1QxU6qZRk/v63oZpRjwACCCCAAAIIIIAAAggggAACCCCAQE0CJHtr4hu6c8u5r5LQoUf4Nuz/4VWS37HDt56KkRWInniy7woHfvULUYnbape+a68VN9lfbTfaI4AAAggggAACCCCAAAIIIIAAAgggUJUAyd6quIbXuO3y94vV3Krt7Pb3SM/3vidqXliWfS/Q9MozxGpp0w7EeekF6f7ulVXtq+SKe0U9wc2CAAIIIIAAAggggAACCCCAAAIIIIBA0AIke4MW9uKHOjqk+T2X+64pv+Yx6b/hBt96KkZOwE40SeLiS3xXmH90lez4wuckt3Wbb5tiRd+NN8nAD64csh0NEEAAAQQQQAABBBBAAAEEEEAAAQQQMCFAsteEYgUx4kcdJdFTXunbMn397yTz9NO+9VSMnEDTSSeJPWuu7wrzzzwl3R//N+n+4Q8k/dhjku/uLjzt6+bzktuyRfpv+4ds//QnJfXbX4jr5HfHiRzzCt+YVCCAAAIIIIAAAggggAACCCCAAAIIIFCrQLjWAPSvXKDlkktlx1NPiPPixpJOruNI7/e+I51f+ZrYTU0l9X4FyXvvk4Hf/K9ftb68r1tb7j7/rGz70Ae0dX6F8fMulOYzzvCrrtvytg9+WLo/9xlxu7Zqt8HNpCV719LCRy2WHRIvs+s7xYOVaJaWt79NulberY1HIQIIIIAAAggggAACCCCAAAIIIIAAArUKkOytVbCK/nY0Iq0f+JD0XPFJcXPZkp4qsdj7ox9K+4c/UlLnV6BeGOaXkPTr41fu5nMiPslN3z4DA35VdV0eHtcpbZ/4tPR87rOi5lUeatnzCV5d2/ib3iqhtnZdFWUIIIAAAggggAACCCCAAAIIIIAAAggYEWAaByOMlQeJTD9AYq9/i2+H7Kp7C9MAsOx7gciUKdL2yc+IPXm/YQ9GPfGbeMdl0nzKyWVjWJZVtp5KBBBAAAEEEEAAAQQQQAABBBBAAAEEhhIg2TuUUAD1LeecLaHDFvpGTv3655Ld+IJvPRUjJxA54ABvao2vSuzsC7ypGqpLyFot7dLysU9I86mnDjlgKxEfsg0NEEAAAQQQQAABBBBAAAEEEEAAAQQQKCdAsrecToB1be+/XKyWNu0a3GxWeq/8tjiZ0qketB0oDFTACoel9c1vkvZvfE/iF71R7Cn7l11f6KC50nzZv8q4K6+S2Lx5u9uqKTf8Fru5xa+KcgQQQAABBBBAAAEEEEAAAQQQQAABBCoSYM5eDVPs6KMl8s2rNDUidlurtrzaQjV/a8fXvyluMu3ftYIHSROLF0ns8MP9YwRcY7dU9jK59q9/x3uBmVsymkr7l3Tco6DlbW8V940XlzSxwt5L0wwu4QnjpeWii0S8T76nW/Jbt4mzvUvyfX0SGjdOQl59aPx4sWMx7VrdZFJbrgqt5socfQNQgQACCCCAAAIIIIAAAggggAACCCAw5gVI9moOATsaFdtL3AW9hNTTnDU+0akSi37JxaDHX0388Phx1TSvqm2oxUvAj/CDsSpZX3jh2qzKh+r09Po2tltGeAN8R0IFAggggAACCCCAAAIIIIAAAggggEC9CjCNQ73uOcZddwLZ9eu1Y7bCEQlPnaqtoxABBBBAAAEEEEAAAQQQQAABBBBAAIFKBUj2VipFOwRqFMg9/5w2grXfDLFCZqec0K6IQgQQQAABBBBAAAEEEEAAAQQQQACBhhYg2dvQu5eNG00CuYdWaYcTPmi2tpxCBBBAAAEEEEAAAQQQQAABBBBAAAEEqhEg2VuNFm0RGKZAZu1acTZv0vaOHnGEtpxCBP5/e3cCJ0dZJn78qepz7pnMJOS+b0ISCIQAosBy7uLKirt/j11R2V3XBUVxPVZcFxFERPFA3NVVURF1BXQRLxS5ERBIQiAJuckBuZO5p6+q+tfbocPM9Fs93T1VM9OT3/v59CeZ933rqbe+VV3T88w7byGAAAIIIIAAAggggAACCCCAAAIIlCJAsrcULfoiUKZA1513aLc0mloktnSpto1KBBBAAAEEEEAAAQQQQAABBBBAAAEEShEg2VuKFn2PGYH09h3SfuedkjlwcFDH7DiOdNxzj1ib1mvjxM45XwyTt6EWh0oEEEAAAQQQQAABBBBAAAEEEEAAgZIEwiX1pjMCx4iAneiR1P33SfoPv5LQCcskfvY5EnOXWzDCxb9lVKK4479vE2vjOq2aUVsvVef+hbaNSgQQQAABBBBAAAEEEEAAAQQQQAABBEoVKD5zVWpk+iMwCgQc25HM889Kp/vqildLePFJEp4/X8ITJ0p40iQJNTT0OUqrvV0yu16R9JbNkvzlz8VJ9ngq1PzzFRKqqfFspwEBBBBAAAEEEEAAAQQQQAABBBBAAIFSBEj2lqJF32NawEl0S/rPj2dfuWLEqsQYe5xIKCzOvt3i9HQVZRQ950KJL11SVF86IYAAAggggAACCCCAAAIIIIAAAgggUIwAyd5ilOiDgIeAmrnr7HrZo1VfrRK9de9+t76RWgQQQAABBBBAAAEEEEAAAQQQQAABBMoUINlbJhybIVCqgHoQW+ztl0nthReUuin9EUAAAQQQQAABBBBAAAEEEEAAAQQQGFCAZO+ARHQ4FgVCY5oltOgksbdsKHppBi8nleQNL3+D1LztbyU8bqxXN+oRQAABBBBAAAEEEEAAAQQQQAABBBAYlADJ3kHxsfFoFQiPbZGmj39cHMd9QNuOHZJcu04y69eKtWWjOJ3tAx62EYmKOXOuRI5fJPHTT3eTvOMG3IYOCCCAAAIIIIAAAggggAACCCCAAAIIDEaAZO9g9Nh21AsYhiGRadOyL/nLi7LH61iWWG3tYrceFtv913L/FbfOrK0Ts9591dVJeOJEMUKhUe/DASKAAAIIIIAAAggggAACCCCAAAIIjBwBkr0j51wwkgoRUEnc8JgmEfWiIIAAAggggAACCCCAAAIIIIAAAgggMEIEzBEyDoaBAAIIIIAAAggggAACCCCAAAIIIIAAAgggMAgBkr2DwGNTBBBAAAEEEEAAAQQQQAABBBBAAAEEEEBgpAiQ7B0pZ4JxIIAAAggggAACCCCAAAIIIIAAAggggAACgxAg2TsIPDZFAAEEEEAAAQQQQAABBBBAAAEEEEAAAQRGigDJ3pFyJhgHAggggAACCCCAAAIIIIAAAggggAACCCAwCAGSvYPAY1MEEEAAAQQQQAABBBBAAAEEEEAAAQQQQGCkCJDsHSlngnEggAACCCCAAAIIIIAAAggggAACCCCAAAKDECDZOwg8NkUAAQQQQAABBBBAAAEEEEAAAQQQQAABBEaKQHikDIRxIICAvwJmVZ2/AXtFM2uafI2dG2vYNKQ+7v9tyTSM7HgN91/TDOZ3XEGZBDVmFbdSTYK6TlRcVapjoey/QRS/r7/ceYzU1smYhYt9H7KKq0pQ16GKPaOlxtdxT2ioOjLmUEj8fl9mLVTcAO+vah9+3wdz13QQ753c/TXI940y8ftc5s5hENf2UNxfsyY+fz/LjVudU7+vwdx1EvR758QZLYrGtzJ3Yn02ViRk+H6vUjFVyd2zfBt0v0B+n8vce91wrz+/35cqpioNs2YHxZGNW0nvndxnk6DfO2Z1ozi25Zv7UNxjAzepoHts7joJ4nta7qLw+/2efS++9nnKDIUlPnmWb9efCmTEqrPxgrzH+n0vyY47wJ/Rjn6fD/BzrN+f63ufw2jYFL+/z9dVRbLXSZCfY/3+PlzseA3HLdmjoyCAAAIIIIAAAggggAACCCCAAAIIIIAAAghUrEAwU9wqloOBI4AAAggggAACCCCAAAIIIIAAAggggAAClSng/99LV6YDo0Zg1Amkdq4Tu6fD1+OKzz01G+/hK67wNa76c70Tr/6I7G7rkXtX7/I1tgr29ytmSG0sLOlUSvz+Y4ZoLJYdb2Lj076OW/1ZU3TKQnF62iW5c72vsVWw+MylIuFYZZq4f5CizqXfJRKNZv90atvBDulO+venjGqcx09szA43lUz6Omw1XjXuxN5XZN8Dd/saWwUbd+7bJH7cJAnyfrL21VZfx63+DGtGc11g753YlAWSPrDL9/urQsjdYwMzCeC9k7sHBvG+USZBv3ckk5TE1tW+XoO5+2sQ75ve10lQ9xO1D79j566TIL4Pq/Hm4r//m4/7ei7VMg4fvWSxdCYz8qOntvkaO8jPJr1NgrqfBHmdrLrlK9K2ZbOv3irYWbfdlo2Z3Pys70sWqM9sQZjkPpsEfT/B5PXLLfe92O/7YO4zW9pyZOPettd36MP/ZrTUSXU0lP05Sv085Xf5lzfN8f1nHTXG3M87Qb53gvi+k/ue4/f9VTnkPsdi8vpVnDM52JGUT93xjK+X90cvOUHmTmwI9GfioK8TLxCSvV4y1CNQ4QIq0Wt3HQ7kKA6tWxNI3O60JdsOdPkeW32oUkUlem3b9j2+ChiUtWNZgcR2XAe1WmBFmgR0HpWF+iCuEr3tiUww14nP119urTAn2S2JXVt8H7OKm72+A7yfBGUd2HtHvScD9FDegZkE8N4ZivdN9hoM6r3jxvX7/p27vwZ9nQRmEuB1EuT3HHWdrNp2QP3je1GfI/z+fDIUn00URCXeT1SiN6jPmsrE7m4Vx/L/+3wQ13fuHhv4/QSTvPtGUPdY273H+v2+zNhHftZRiV6/71U5GL+/V/YGD/K9E0Ts3Nj9Po+Y5L0N+1SkMrbv3+c7etLZfVTqdVJIjGUcCunQhgACCCCAAAIIIIAAAggggAACCCCAAAIIVIgAyd4KOVEMEwEEEEAAAQQQQAABBBBAAAEEEEAAAQQQKCRAsreQDm0IIIAAAggggAACCCCAAAIIIIAAAggggECFCJDsrZATxTARQAABBBBAAAEEEEAAAQQQQAABBBBAAIFCAiR7C+nQhgACCCCAAAIIIIAAAggggAACCCCAAAIIVIgAyd4KOVEMEwEEEEAAAQQQQAABBBBAAAEEEEAAAQQQKCRAsreQDm0IIIAAAggggAACCCCAAAIIIIAAAggggECFCJDsrZATxTARQAABBBBAAAEEEEAAAQQQQAABBBBAAIFCAiR7C+nQhgACCCCAAAIIIIAAAggggAACCCCAAAIIVIgAyd4KOVEMEwEEEEAAAQQQQAABBBBAAAEEEEAAAQQQKCRAsreQDm0IIIAAAggggAACCCCAAAIIIIAAAggggECFCJDsrZATxTARQAABBBBAAAEEEEAAAQQQQAABBBBAAIFCAiR7C+nQhgACCCCAAAIIIIAAAggggAACCCCAAAIIVIgAyd4KOVEMEwEEEEAAAQQQQAABBBBAAAEEEEAAAQQQKCRAsreQDm0IIIAAAggggAACCCCAAAIIIIAAAggggECFCJDsrZATxTARQAABBBBAAAEEEEAAAQQQQAABBBBAAIFCAiR7C+nQhgACCCCAAAIIIIAAAggggAACCCCAAAIIVIgAyd4KOVEMEwEEEEAAAQQQQAABBBBAAAEEEEAAAQQQKCRAsreQDm0IIIAAAggggAACCCCAAAIIIIAAAggggECFCJDsrZATxTARQAABBBBAAAEEEEAAAQQQQAABBBBAAIFCAiR7C+mM4jbHtsWxrIo4QjVOx3EqYqy5QVbimCsKmMEigAACCCCAAAIIIIAAAggggAACCOQJhPNqhqHCTiSk5+k/S2bdWrFbD4tz2H31dIlR3yDmmGYxW8ZJ7LQVEps7N/DR2em0iJsIzSumKWYkklddSkU2AZjJaDcxYzFt/WAr1T5TL70kyZUrxdq2RZyO9iOv7s5saKO6Voy6ejEax0hk8RKJnXyKRCaMH+xuy9pe2afWrpPUc89KZucOkY42cTo7jlwLpiFSVXdkrM1jJbJkqcRPPlnCLc1l7ctrI5VUtg4eQq1X+gAAIABJREFU0jabdbWiO09q3ImnnpL0s8+KdeiAe/0ezI5d3CFnx+xex+EFx7u2J0t04UIx3GuJggACCCCAAAIIIIAAAggggAACCCCAgN8Cw5rsTe/eLV0/+YlYL65yk6BukrVfcdoOib1zW7Y29cffSNdxkyR2/oVSc955R3umd+2S9v/4ZP9Ns1/XfPjjEl+yWNvmVdl6w/Vib92Q1xxeulwar746r76Uiq4/PCCJH9+u3WTMd34oZjSqbSunMrNvn3T97GeSWbNSnES3ZwjHTfqql+x9VawNL0rirjvFPG6iVL3t7VJ16nLP7fxsSG/fIV13/0ysdWvESae0oR3bndnb5Saq3Zfs2SXW2lVZS3PqTKn5f++U2AmLtNuVWml3d0vr1VdoN6v+pyul+sw3HG2z2tul6//+T9J/esQ17MrfRk1Gfm3Mqd07JfXg78ScMEVq3nu5xObPz+9PDQIIIIAAAggggAACCCCAAAIIIIAAAoMQGJZkr1pCoOtXv5Lk/92lTfJ6HY+99xXpueO7knp+lTRccaWYVdXi/n2/uxyBfrasdoauV/BRUm91dbqJ059L+uH7y16mwXYTv1233SKJ+xdI7fsul8jkyYHoWO4M7s6f/lQyTz1a9jIN9o6t0nHz9dK9eJnUved9vs/09Trw1MvbpeOWL4rT6s7iLaHYbtK34/PXSvqt75DaS95SwpZ0RQABBBBAAAEEEEAAAQQQQAABBBBAoLDAkP89uVrGoPWmL0ji7h+XlOjtfRiWO1u19ZpPikoWUl4XSG3dKq0fuzo7C9qP9Xitzeul/bP/Icn1631nTr7wgrR+/COSftKdFevDerzWmuek7T8/JemdO30fa/+APU89LR2f+3TJid7ecRI//4l0/vo3/UPzNQIIIIAAAggggAACCCCAAAIIIIAAAmULDGmyVyX12r9xq1jr15Q94NyG9oF90n7bre76upX14K5BH7hHgMSaF9wZo59117h1lznwsTjJHun80uclsfp536J2P/a4dH75C+IkE77FVIEcd53c9uuvldSWLb7G7R1MLRvS/a1b3eUm8pcdKXWnybvukPSO4JPTpY6L/ggggAACCCCAAAIIIIAAAggggAAClSkwpMs4dPzQTW6tfLqglGGGxJg+W0LuQ7gM94FYTlubWG5i13H/XL//DFBr4zrp/uW9BeMdC42JZ551l134iji2VfBwjXBEjPGTJDR5qoSmTHGTox2S2bFD7Fd3FpylqhKbXV//koSu+4K7pMOkgvsYqLHrD3/ILsUxUDGiMTEmTD4y1kmTxD50SCz3oW3ZsaqHn3kU9WC/jptvlMYbb5ZQU5NHr/Kq1Wzpjm98XbtsSHa8k6ZJePIUsdoOi+0mhZ1D+wruSK1D3PmD70nTf/xnwX40IoAAAggggAACCCCAAAIIIIAAAgggUIzAkCV71RIDankBr6ISkbG/vlSqzjlHQvX1ed0yBw9Jz/33S+r3v3STmq/P5k0/80Re32OpIrN/v3R9+7aCiV5z/GSpufyfJDpnjhimfjK33dMtnXfdLakH9OdIPUCv49avSuP1nxczEimLWF0DiTu/X3Bbc8ZcqXPXCQ5PnSqGYWj7qgejdd7h/uLg6ce07eqBc+233SaN11zjGUO74QCVyd/cJ7b7cLjeJXbRWyR+5hslPGli3r7sREK6fv1rSd57l2dka9N6SW3alD03FAQQQAABBBBAAAEEEEAAAQQQQAABBAYjoM/8DSaiZls1I7fze96zOY2mFqm/9vPuA6su0SZ6Vchw8xipe6f7UKtP/qcYNXWavRx7VWqmafvXv+ouh9CjPXjDNCR24Vuk6fNfkNi8eZ6JXrWxethd/bvfLbX/5iZIaxu08dTDxTp/+r/atoEqVeKz8xvuWD1mH6tkf/xv/16arv2sRKZNy0uc9o6vfhnQcMUVUvP+D4oRdx/SpynWxhel67e/07SUX9U70atm8tZ+8N+k7h3vyM521iWmzXhc6i69VGo/+u9iVNV47jjxxLH9CwtPGBoQQAABBBBAAAEEEEAAAQQQQAABBEoSGJJkb8/jT4i9Q7+OqhGJSv1HPyGRqVOKGnhs/nw3yXZ1wcRlUYFGQafOX/xC7O0erm4ysu6a67IJciNc/ATu+OITpPELN4tKwOtK+sHflfVgvI4f/EDUOsu6opLL9Z+7SWrffLE2aarbRtVVnXGGNFx/k2fCN/nLe8ROJr02L7veqG90fzlxg8RPObmoGPElS6TqH97r2Tf9bOGlTTw3pAEBBBBAAAEEEEAAAQQQQAABBBBAAIFeAkOS7E0+9EdP9Pjb/6HoRG8uSGzhAole/FbPmMdCg5opm/q9fskFdfzxd72n7KUB1MzZmssu1zI6Vka67rtP2+ZVmTl0WDJPPurV7M7QvUIi7jII5ZTwuLHujOB3aDdVyzl0P/CAtm0wlfG3XOrO5p1cUoiq004TlSTWFafd9TlwUNdEHQIIIIAAAggggAACCCCAAAIIIIAAAkULBJ7sVWvtWpvXawdkNIyR6rPP1rYNVFlz8V+5fxqv/xP+gbYdDe3dDz4kTqJbeyjhpculpkzXXMD4SSdKeOkp2vjpR/8odkK/dIRug+7f/Npz+YboORdJfMli3WZF11Wfe66Y0/Vr3iZ/+6u8B/sVHVjT0ahrkKqzztK0FK4yQiGJnnOBZyf1oDwKAggggAACCCCAAAIIIIAAAggggAACgxEIPNmbeEz/EC016Nh5F5a0xEDvAzXjVRJ903mDOfaK3daxbUner5/Va9TWS937/9mXY6t77/u0y2U4qaQkV68pah9qBnL60Qe1fc1xE6T2Xe/UtpVSqdbLrXXHqitq1mx6i36pC13/gepi5/1l2Q+oi6841TM8yV5PGhoQQAABBBBAAAEEEEAAAQQQQAABBIoUCDzZm16zynMosVOWe7YV0xBbrp95Wsy2ldwntXmzOIf3aw8hvOQkCdXUattKrQw1NYkxeYZ2s9Tz3ue19wbJVas8ZyBHTj297MRp/0FFZ8xwl0lo6l+d/VqNwY+iHiJXfeH5ZYcKjRnjua19iGUcPHFoQAABBBBAAAEEEEAAAQQQQAABBBAoSiDwZK/9yk7tQIwx4yQyYby2rdjKyKxZYtTUFdt91PRLr9Mvi6EOMHrC4JZE6I8UXrCwf1X268zaF7T1/SvT6wuMdbHPY523oP/us1+nXyhuFrJ2416VRmOzqBnl5RYzHhcjFtdu7rgzoCkIIIAAAggggAACCCCAAAIIIIAAAggMRiDQZK966JTT06UdX3jGLG19KZXqz/fN6bNL2WRU9E1veMnzOKKLFnm2ldMQPV4fz2k9KHYqNWDIzEb9WI1oTKKz/T134YXHa8fj7H1VW19qpVFgZm6xsYw6j4e0lbAGcrH7oh8CCCCAAAIIIIAAAggggAACCCCAwLElEA7ycDPbtnmGN8cPblZvLnDouPFirfXczahrcBxH7K0btcellhlo//a3erU5R/7/2j/ZL/r8v/cXr23mxn+9uP9Peyd0rYMHxZwwoVf/vv9VD3FzdutndosZktav3NJ3X3nj69088FidLv0vFtQvHFRi2oxGPcdaTIM5pqWYbgX7GA0NIgf25PVhZm8eCRUIIIAAAggggAACCCCAAAIIIIAAAiUKBJvs3Zuf1MqNL1QgSVjKMYQmTiyle8X3tTs6PGdLO5m0WGueG7JjtA8cEClwHjO794hKTuuKk+ge0rFa7ljNQV4rZnOz7lBKqwtF9P3dh+5REEAAAQQQQAABBBBAAAEEEEAAAQQQGIxAoMs4OD3dnmMLNXk/rMpzI01DoYdeabpXfJXd2TlijkElngsVp4LGWug4cm1my+Bn9hazH/oggAACCCCAAAIIIIAAAggggAACCCBQjkCwyd5u74dOGVX6B1WVehBGbHB/ml/q/oa7/0AJ1iEdn8es3dwY7I6Rk5h2pxgPmkatM0xBAAEEEEAAAQQQQAABBBBAAAEEEEBgpAoEm+x1/1Tfq/iVODPi/iSNvcY50uqdkZRAHQBnRCWmBxgrzQgggAACCCCAAAIIIIAAAggggAACCFS6QKBr9kpPj6ePXzNyjUE+dMtzgCO0wUl6z5YOzVkg8fMvGrKRR2bPLrivQmMNL10usTPeUHB7PxvDkyf5GY5YCCCAAAIIIIAAAggggAACCCCAAAIIjDiBYJO9YY+HUbkMTirlC4aTTvsSp1KCGNU1nkM1G8dI1anLPduHusGorvbcZWj8+BE1Vs+B0oAAAggggAACCCCAAAIIIIAAAggggECFCAS6jEOhZJ+TTPpC5CS8Z7r6soMRFsSsq/UeUSbj3TYMLWZtnedenfTIGqvnQGlAAAEEEEAAAQQQQAABBBBAAAEEEECgQgSCTfZWVXky+JWkdZL+zBD2HKiPDU639xrGxe7GqPVO9trWyJrlbNZ6z0KWETbWYv3phwACCCCAAAIIIIAAAggggAACCCCAwEgVCDbZW2DJAbutzRcTq/WwL3GGIohz8MCgd1NwZm9X16Dj+xnArCsws3eEjdXP4yYWAggggAACCCCAAAIIIIAAAggggAACwyEQaLLXHNPkeUyZ3bs920ppsF71J05un0ZIT+LHGsPWoUOlHJq2b6imVozaem2bvedVbf1wVYYmTBDDDGl3b72yS1tPJQIIIIAAAggggAACCCCAAAIIIIAAAgiUJ6DPbJYXK2+ryIwZeXW5Cnv3Hs+2UhqsvT4nOOP6pSec1sEnap3DB0s5NM++odnztG1OV4dY7f7MmNbuoMRKMxoVY/J07VbOvt3i2La2jUoEEEAAAQQQQAABBBBAAAEEEEAAAQQQKF0g0GRveOJEMcIR7ais7Vu19aVW2i/7Eye3XzMe1w7B8SGJ6leyNzx/oXaMqjK9YZNn23A0hOct0O7WyaQlvX2Hto1KBBBAAAEEEEAAAQQQQAABBBBAAAEEEChdINBkr2GaYkyYrB2Vve9VyRwY3EzX9Pbt4rS3auOXW2l4JHulq10cyyo3rKT37BGnx581daML9AlUNbjEY4+UPcYgNiw41ocfCmKXxEQAAQQQQAABBBBAAAEEEEAAAQQQQOCYFAg02atEwwuO94RNPPusZ1sxDYPdXrcPc9x4XbU4jiPWwfKXcui+915t3HIqozOmi3ncJO2m1gsrxero0LYNR2V08WIxavRrDKeffkKcTGY4hsU+EUAAAQQQQAABBBBAAAEEEEAAAQQQGHUCgSd7q970Jk+01O9/W/a6rXYqLak//t4zdrkN4SlTPDfteaS8mahWa6tknnrMM245DbG/vFi7mZp93HnHHdq24ag0oxGJnnuBdtdOd6d03n23to1KBBBAAAEEEEAAAQQQQAABBBBAAAEEEChNIPBkb8RNnpoTp2pHZR/YIz1/+pO2baDK7gceEKfT/4eRhafqx6rGk3rwAbHT6YGGltfe/ZvfuEtA+DuDtfrMM8Woa8jbl6pIP/Wo9Dz5pLZtsJV2d7ekNm8uKUz1BeeLEYlqt0n99l5JvvSStm2wlVZbm7su8PbBhmF7BBBAAAEEEEAAAQQQQAABBBBAAAEEKkIg8GSvUoi+8WxPjJ4f3S6Z/Qc823UNKoGXvOfHuqZB14VbmsVoGquN47jr9vY8+qi2zauy56mnJPXAb72ay643wmGJvfmtntt3/883peeJJzzbS21Qs5Pb77xTDl91hbsucGmzlEO1dRL9i4u0u1TLY3Te8kVJrHlB215OZWbffmn/znek9SNXSnL18+WEYBsEEEAAAQQQQAABBBBAAAEEEEAAAQQqTmBIkr01558nZss4LY7T3SXtX7pJMkWuh5t+5VVpv+VmccqYYasdgKYysnyFpvZIVeJH35Ou+wdePkIlMTt++lPp+uZX3XVpS58N7DmAXg21F14goUUnabuqfXZ961Zp//4PxOrq1PYZqFItCZFwk6Vtt94qrVd/UFL33ydOsmegzbTttf/v78ScOlPb5iS6peuWz0vHPfeInUho+wxUqWZc9zz1tLR++UvS9vEPSepRd+Z3QO4DjYV2BBBAAAEEEEAAAQQQQAABBBBAAAEEhkMgPBQ7VbNQqy+7XDq/fKN2d/bundL2qY9J/J2XSdXpp4kZieT1U0nA7oceluTdP3YTvam8dj8r4qefkU1s6opKgPbc+T3JbNooVRdeKGrZBzN6ZIkCleDN7Nkj6c1bJPn4o2KtX9MnRGjxSWKtWakLW3Zd/RX/Kq3//glxWg9qY6Qe/K2kn3hIImedJ/HlyyUyc6YYoZC2r6pUSff0hg2SXrdW0s/9WdRsZj+K2mf9VVdL2zUfF5Xc7V8c25HkvXdJ6g+/leh5F0nspGUSmT5NDMPo3/Xo15l9+yTlLgGRXrtWMque0cb13JgGBBBAAAEEEEAAAQQQQAABBBBAAAEERpnAkCR7lVl8yRJJLlvhJhCf0hI6PV3S891vSuLH35fwwsVitIwV0/3zf7utVez9+9zE6QvipJJ524aXLpfM6j/n1Q+mIjpjuoSXnCyZ55/1DJP+8+OiXioZaTQfJ+KO1XGT1k5SPzM1csbZEpo23fdkb6imVuo+/FHpuOkGUYa6osakktfqZcTiYrhrKBt1ta5vvYibS7U72sXp6BTn4H5x2g/rQvhSFx7bIjVXXCVdX/+S58xs9dA2lfRVL6O6Rozxk8WsqxOjttYdqOOOtcNdq9l97d/rWyLal4MjCAIIIIAAAggggAACCCCAAAIIIIAAAsMsMGTJXnWcdR+4QtpuPCzWlg2eh+30dHsmhPtvZE6fIzWXXiptPid71X5q/+EyaVv7/IBLAajZvI77oDlRL49iNLVI3WWXSffDj3j0GFx11J2tW//ZG6Tji18Q9dC7QkUlfp1tG7NdrEIdA2pTSX/zms9Kx5dvchPMhR+wp5b4cLZuEDugsRAWAQQQQAABBBBAAAEEEEAAAQQQQACB0SQwJGv25sDMaEQaPvFJMSdPH7ShUd8o9R/8kIgZzCGEx42V6n++UgzTexmBYg7CPG6SNFzzGTHj8WK6l90nMn68NHzuBgnNXVR2jKI3dJflGExRyemG62705ToYcByDHOuA8emAAAIIIIAAAggggAACCCCAAAIIIIDACBEYXNaujIMw41XS+JlrpfMnP5HUQ/eXEcHN786cJw0fuVpCDQ2S3rmzrBjFbFS14lR3Zu8V0nP7tzyXHSgUJ3TCSdLgJqSDTvTmxhCqqZGmT39aEs+tlO67fir2qzsKDa+kNqN5nEROOkVip54q0TlzStpW1zncPEaabrhReh5/QhK/+Jk7I3mfrltZdaa79EPkpJMltuI0ibrr/lIQQAABBBBAAAEEEEAAAQQQQAABBBA4FgSGPNmrUFXys/6975Xk6adL150/EvvlTUVZG3UNEj3nfKm95JKCDxkrKliRnarf8AaJzpsvHT+43V1v97mitgrNXSjxcy+Q+KnL+zxgzKypFqNprEeMwc0g7h00vuwkUa+ep56WxGOPiL1xvbuWcI/Hfr2rzQlTJHLyKe6D3VZIZNpU745ltqj1jqvPfEP2oXzdjzwqqaefFHvzS2U9gM+cOkuiJy93E7yniprlXG5RM7m9zpEfSXuzqUlszTVgNjaVO2S2QwABBBBAAAEEEEAAAQQQQAABBBBAICswLMnenH1s3jyJXfc5yew/IIkn3AeerV8nzuHDRx4Sluh2F85tcBNvzRJyH9YWPXWFxE85eciSvL2vD/VgsaZ/+5hY7tgSzz0nmXXr3AfHqXG2Z7sZY5rFbG6R0Lhx7sxXNzE6QZ9srD7zTDe5eWbv0IH+X81Mzs5OtixJbd4sqRdfdGfQ7j/6QDbp6hAJhY8YNze7D5pzj6FFebv/jp8g4TFDk4A0QiGpOefs7MvJZCT10kuSWrtW7EOHjj6QTdyHskk0emSM7ljNMS1ivjbW8MQJEqpv8MXSrKqW5q/d6kssXZCGK67QVVOHAAIIIIAAAggggAACCCCAAAIIIIDAoAWGNdmbG71KpqrZuqJeI7iE3FmZNeeeK6JeFVRUMjWbWHdfI70Y7hq7sUWLsi8KAggggAACCCCAAAIIIIAAAggggAACCBQvEMzTzYrfPz0RQAABBBBAAAEEEEAAAQQQQAABBBBAAAEEfBAg2esDIiEQQAABBBBAAAEEEEAAAQQQQAABBBBAAIHhFiDZO9xngP0jgAACCCCAAAIIIIAAAggggAACCCCAAAI+CJDs9QGREAgggAACCCCAAAIIIIAAAggggAACCCCAwHALkOwd7jPA/hFAAAEEEEAAAQQQQAABBBBAAAEEEEAAAR8ESPb6gEgIBBBAAAEEEEAAAQQQQAABBBBAAAEEEEBguAVI9g73GWD/CCCAAAIIIIAAAggggAACCCCAAAIIIICADwIke31AJAQCCCCAAAIIIIAAAggggAACCCCAAAIIIDDcAiR7h/sMsH8EEEAAAQQQQAABBBBAAAEEEEAAAQQQQMAHAZK9PiASAgEEEEAAAQQQQAABBBBAAAEEEEAAAQQQGG4Bkr3DfQbYPwIIIIAAAggggAACCCCAAAIIIIAAAggg4IMAyV4fEAmBAAIIIIAAAggggAACCCCAAAIIIIAAAggMt0B4uAcw6P1HImIeN0kbxqiKa+upRAABBBBAAAEEEEAAAQQQQAABBBBAAAEERptAxSd7I+PHy5ibvzzazgvHgwACCCCAAAIIIIAAAggggAACCCCAAAIIlCTAMg4lcdEZAQQQQAABBBBAAAEEEEAAAQQQQAABBBAYmQIke0fmeWFUCCCAAAIIIIAAAggggAACCCCAAAIIIIBASQIke0viojMCCCCAAAIIIIAAAggggAACCCCAAAIIIDAyBUj2jszzwqgQQAABBBBAAAEEEEAAAQQQQAABBBBAAIGSBEj2lsRFZwQQQAABBBBAAAEEEEAAAQQQQAABBBBAYGQKkOwdmeeFUSGAAAIIIIAAAggggAACCCCAAAIIIIAAAiUJkOwtiYvOCCCAAAIIIIAAAggggAACCCCAAAIIIIDAyBQg2TsyzwujQgABBBBAAAEEEEAAAQQQQAABBBBAAAEEShIg2VsSF50RQAABBBBAAAEEEEAAAQQQQAABBBBAAIGRKUCyd2SeF0aFAAIIIIAAAggggAACCCCAAAIIIIAAAgiUJBAuqTedEUCgYgTMqrrAxjpm4WJfYzfMmp2NVx0JyYyWGl9jq2CRkJGNaRiGmGYwv+Mya5p8HXfu/BmhkPgdO2vxmkNFmgR0HpWFKtWxkK/nsncwv6+/3JiNWLXEJ8/yfdwqripB3k/q4/5+FMmdv8DeO+o9GeD9VXkHZhLAe2co3jfZa9Dne/fR944b1+97bO7+GvR1EphJgNdJkN9z1HVy4owW9Y9vZe7E+mws9TnC788nQ/HZRI29Eu8nuc+Fvp3IfoHM6kZxbMu38Ec/swX43gn8foJJ3vUQ1D3WdK8Tv9+XYfPIZ9gJDVV5x+FXhd/fK9W4huK9E+T3Hb/PozI5+jk2wPtJpZpEw6bv3+frqiLZt0ilmhR6fxuOWwp1oA0BBBBAAAEEEEAAAQQQQAABBBBAAAEEEEBg5AsEM8Vt5B83I0QAAQQQQAABBBBAAAEEEEAAAQQQQAABBEaVgL9/OzmqaDgYBCpbILVzndg9Hb4eRHzuqdl4iY1P+xpX/QlPdMpCUX9okE6lfI2tgkVjsWxMFdvvP2bIxV77aquv41Z/wjOjua6iTVLJpK8m6s9rItGoJPa+IvseuNvX2CrYuHPfJvHjJgV6nQRl4vS0S3Lnet9NYlMWiFFVL3v/cLck973ia/yp77oqG6/S3jvqGkzvWu/7/VVZ5O6xO+78mq/WsXGT5Ljz3iZBXCfxmUtFwjG5d/Uu2d3W4+u4VbB/edOcbMz/fmSTr7HVn7q+ZelkkUxSEltX+xo7ZxLE9xw10Nz3naCuk7TlyMa9bb6azD2uIbsUQhCfTdRAc++doO4nQV4nQdxflUnuHhvUdRKkyapbviJtWzb7eg2qYGfddls2ZlDfi4N478xoqZPqaCiQzybKInc/CcokiOsk99kk6HtscvOzvi/3oX7eSRw8KE995jO+Xt9LrvqwNM2dE+g91u9rRAHkPtsH8b5Un9dU/CC+7wT1M7FyyP1cXKkmfn8fVg65n4uDvMcGeZ34/RlWmRz9HKu+8Cgkez1gqEag0gVUotfuOhzIYQQVVyVibdv2fcwqrvpmH1R8NeD2RMb3cauAQY15KEz8Ppe5tdOcZLckdm3x3VvFDdJcxQ7MxLICeb87bly1CpxK9AZhrkwq8b0T5P1VmQRlrc6n3/dvx71nq2tEJXq3HehSww+kBBVbjT8ok6Du3zngoK4T2/2e6ff7UsV0f6zP/pLEb+/eF5zf487FDvI6CfL+qsYf1HUSpIlK9B5atyaQe4kKGtT34iDeOxn7yIqLQd9PgjIJ5Dp57bNJ4CbdreJY/n++t1Jp36/vdOeRCT5B3mP9vkbUe/HoZ/sAfgbM/awTqElAP2srmyCu76EwCer7cPbeHcDnk9w9NsjrJKjPsMqkUGEZh0I6tCGAAAIIIIAAAggggAACCCCAAAIIIIAAAhUiQLK3Qk4Uw0QAAQQQQAABBBBAAAEEEEAAAQQQQAABBAoJkOwtpEMbAggggAACCCCAAAIIIIAAAggggAACCCBQIQIkeyvkRDFMBBBAAAEEEEAAAQQQQAABBBBAAAEEEECgkADJ3kI6tCGAAAIIIIAAAggggAACCCCAAAIIIIAAAhUiQLK3Qk4Uw0QAAQQQQAABBBBAAAEEEEAAAQQQQAABBAoJkOwtpEMbAggggAACCCCAAAIIIIAAAggggAACCCBQIQIkeyvkRDFMBBBAAAEEEEAAAQQQQAABBBBAAAEEEECgkADJ3kI6tCGAAAIIIIAAAggggAACCCCAAAIIIIAAAhUt2bxGAAAgAElEQVQiEK6QcTLMMgQSK1dKZs/evC1Dzc1SderyvHoqEEAAAQQQQAABBBBAAAEEEEAAAQQQQKByBUj2Vu65G3DkPQ8+INaalXn9QnMWkOzNU6ECAQQQQAABBBBAAAEEEEAAAQQQQACByhZgGYfKPn+MHgEEEEAAAQQQQAABBBBAAAEEEEAAAQQQyAqQ7OVCQAABBBBAAAEEEEAAAQQQQAABBBBAAAEERoEAyd5RcBI5BAQQQAABBBBAAAEEEEAAAQQQQAABBBBAgGQv1wACCCCAAAIIIIAAAggggAACCCCAAAIIIDAKBEj2joKTyCEggAACCCCAAAIIIIAAAggggAACCCCAAAIke7kGEEAAAQQQQAABBBBAAAEEEEAAAQQQQACBUSBAsncUnEQOAQEEEEAAAQQQQAABBBBAAAEEEEAAAQQQINnLNYAAAggggAACCCCAAAIIIIAAAggggAACCIwCgfAoOIZhOwQ7nRb78GGxDhwUJ5MRs65OzIYG999aMSORYRvXaNixY9tid3SI3domVlubGCHTtW0Us6lBQjW1FXmIjuOIdbhVrD17RAyR8PjxEmpqqshjYdAIIIAAAggggAACCCCAAAIIIIAAAiNPwLdkb3r3Hklt2JB3hGYkLFVnnJFXPxQVPU8+KXYylber6Jw5Epk0Ma/eq8KxLEmtXy/JlSvFevUVcVoPu69D4nR3em0iRlWNmHPmS3TpiRJzX+GWZs++pTSoBHPPE38qahPn4EFtP8dNnnY9/Ii2baDK+JLFgSQoVXJXXT/KOLN6pTj7XhWVHNUVI1YloQWLJLLsFIkvO1FCtXW6br7WWa2tklj9vDZm/JRlngno1Mvbpee++8Tatkmcw+4vBaxMnxiG+0sBo2mshKZNl6q/uliiM2dq90ElAggggAACCCCAAAIIIIAAAggggAACAwn4luy13QRoz/f+S7u/6PHHS6ixUdsWVKXV1SVd//U1bfjQRz81YLLX6up0E4+rJL3yOcmsXSNOolsby6vS6ekSa81z0qNePxQxZ8yV2n94t0Rnz/bapKh6p6fH07moAG4n202kep2rgWKErv53X5O9KpHe9YcHJHnvPeJ0tQ+0+2y7k+xxE8LPZF+JH0QkesHFUnPJJWLGYkVtX06nzM5dnmaRaTdKaEbf2caJNS9Izy//T6yNawvuznGT9yqxrc5J+pk/SWju8VL9lkskdsIJBbejEQEEEEAAAQQQQAABBBBAAAEEEEAAgf4CviV7I24S0wiF82Yuqh2mNm6SquWn9N93oF+nN2/WxjdMQ6Lz5mjbVKWdSkvr568X5+WN4tj6maWeGxdosLdtlPbrPi2R5W+Q2ne9y9eEaYHdjuimxHMrpfvOH4p9wF3WoMziZNKS/PUvJPXYw1Jz+fslfuLSMiP5t1nHj38syd/9sqyAKjnccfNasf/1w1K1YkVZMdgIAQQQQAABBBBAAAEEEEAAAQQQQODYFPDtAW1qjVpjygytYmbzJm19kJXpjRu14Y3xU8SMV2nbspWWuw7v1g2+Jnp77yz958el9TPXSGbffu8xHAMtHXfdJZ1f++KgEr29mZz2w9Llxut+7PFh01NLUbR961tlJ3r7HI+7BjQFAQQQQAABBBBAAAEEEEAAAQQQQACBUgR8S/aqnYbnztPuO7NZn3jVdvapMrNFP7PXa4w+7baoME7bIWm7/lrJ7D9QVP/R1CmbEP32tyV53z2+H5aK3f0/35CuP/7R99jFBGy/7TZJP/FQMV3pgwACCCCAAAIIIIAAAggggAACCCCAgO8Cvi3joEYWnTdfUr//Vd4g7Z0vuzNlbTFMX3PLefvpXWG/vEXbHpm/QFtfbKXRPE7C02dJyF22ItTcImat+yC2urrs8Vlu8tY6cEDs/fvF2rVDrA0veoZ1Wg9K2w3XSdMXvujONI579uvfYESj2aUgiimZDetEJZb7F6O2QcILy1sTNjRmTP9wJX3d7s58TT9Z+OFwRm29mFOmS9h9aFlo6lQJT5os9qFDkt6+Xeydrusu99+9r3ruN3HHdyUybdqg10f23IGmIaHWd37mCU3LkSqjulaMMS1i1LnH5s4stw7ud9fq3VPyWtCeO6ABAQQQQAABBBBAAAEEEEAAAQQQQOCYF/A12RtZoJ/Z6yQTktn1ikSmThkS8My+feJ0d2r3FV1QerJXPVwtetoZUnX6CgnVN2jjZitn9F3GIrV1q3T99CdivfSCdhvn0D7p+vkvpO6d79C26ypVYrjhyit1TXl1h7/0RfchcfnJXnPCxKJj5AUdREX3Y48VTPRm11M+/6+l9u/+Voxwv0tzxnSJLzvp6N67HnpIEnd+X5xUMm9EKvHe8Y2vl5xIzwtUbIWaUfyTO/J6GzV1Ej3nPIktO1ki7rVhGEZeH6u11X1v7JLUCy9I6pEH3Ou2K68PFQgggAACCCCAAAIIIIAAAggggAACCBQj4GuyN1RbJ+a4iWLvy591mdq0cciSvakNG7THbjS1FP1gNCMckciZ50j1xW+W8NgWbbyBKqMzZ0r0U9dI18OPSM/3/kvbPfWHX4v15osl5M4OHs0ls3ev9PzgO56HaI4dL7UfuLLo2bg1Z58tKnHfcevX3Nm+2/LiqkR6549+JPX/+I95bX5XJB58sM9MY5XUjV7wZqn5m0vErKouuLtQY6OoV2zRIrEvvVS6f/1rSf7S/yUuCg6CRgQQQAABBBBAAAEEEEAAAQQQQACBUSHg+7oKoTlztTBD+ZC2zCb9A+HCs/Uzj/sM2DDd2ZgXSeMtt0r9e99bdqK3d8yas94koUWvz0rt3eZYGUk886zWbDRVdnz7v7WzcNUxmlNnSuONNxed6M25RMaPl8Zrr3N/wTBBS6XWz80cOqxt87My/cSDR8MZoZBUf+Aqd7b2OwdM9PYfg+ku0VH7N38j9Z+7ScITJ/Zv5msEEEAAAQQQQAABBBBAAAEEEEAAAQQKCvie7A3P0y+TYG3Rr6FbcHRlNma2ejycbf78ASOqZRLq33NZdraln6Xu8n8UI6Zfmzf17DN+7mrExVLLWVib1mvHZURjUnflh8SMRrTtA1WakYjUvO+ftN0cy5LuX96rbfOz0rGdo+GqP/BhqVqxYlDhI5MniZoVTkEAAQQQQAABBBBAAAEEEEAAAQQQQKAUAd+TvbGFC7X7d/btEjuR0Lb5WelkMuK8skMbMlpEsle7oQ+V4eYxElqwWBvJfmWntn60VPbcd5/nocTf+R5RM3QHU9Q1F1nxRm2I9GPuEguplLbN70o1hqrlp/gdlngIIIAAAggggAACCCCAAAIIIIAAAggUJeB7sjc8bqwYdfkPMVOzH9NDMLs3/fLLopZG6F+MqhoJT57cv3pIvw55/Wl+20FRDxUbjSVz8JBkVj2tPbTQ3IVSc87Z2rZSK2vfoX/InZNOSWqdflZxqfso1N9w1+ate897CnWhDQEEEEAAAQQQQAABBBBAAAEEEEAAgUAFfH1AW26koVnzJLP6z3kDT2/cKLHjj8+r719x8KorRdoO9ak2msfJmC9/tX/XvK9TG/Xr9Zoz5oh6cNZwFnOCfh1Wlei1Dh501wceO5zDC2TfydWrPBPZkZP8mwUbamoS87hJ7oPSXsk7jtSqlRJfuiSv3s+KyIozxawu/DA2P/dHLAQQQAABBBBAAAEEEEAAAQQQQAABBPoL+D6zV+0gPE+/Nm56iz4R23tQ6V27xDl8IJsg7P2y9++RzN69/cef97W1Wb+PyLwiHs6WF83fisgkfbJX7cXu6PB3ZyMkWma996za2GL9shblDj08X7+ESGb92nJDFr1d1V+cW3RfOiKAAAIIIIAAAggggAACCCCAAAIIIBCEQCDJ3ugCfbLX3jbwQ9qSq1Z7HmeiQFtuo8w2/cPZIgv0D47z3FkADWZ9/vIWud046XQAexz+kJlNG7SDUEt9qAeR+Vkixy/ShnMO7dfW+1VpNDZLZOoUv8IRBwEEEEAAAQQQQAABBBBAAAEEEEAAgbIEAlnGITJ9uhjRmDipZJ9BOR1totZwVQ8r8yrpNd7J3vTzbtuFF3htKpY7O9Y5uC+v3QiFJTJrVl59qRV2T7ekNm6WzPaXxdq+Xaw9r4r09IiT7BFJug+fc9eHLVQcx/FuHqKHiHkPwP8Wq7XVnaXtkWjt6pCD77+8105fs/EiOmrXq0N/T0e/7rG6Dq2uLgnV1Ph/kG7E0LQZgcQlKAIIIIAAAggggAACCCCAAAIIIIAAAqUIBJLsNUxTzOmzxdqY/+fz6U0b3WTvCu0Y7VRa7C36maBqA3vTOnEyGTHC+mGnN+mXcDCmzhQzEtHuc6BKx7Ik8dxKST7+qFgvrnb3H8wM3NE4s9c6cMCTN/tAup4uz3a/G2x3LIEle2cM/hcJfh8v8RBAAAEEEEAAAQQQQAABBBBAAAEEjj0BfdbUB4ewu0auPtm7SapW6JO9KXd910LJVDVDU/WJnXCCdoTqAXC6Ep5b3nq9yRdflK7vf1fsfbt1YX2tc9xE92grdkfniDkk252BHVQJtTQHFZq4CCCAAAIIIIAAAggggAACCCCAAAIIFC0QWLI3On+BJO/LH0dmi35NXdUztbrvEg5G9ZE/u3e6X58Bmlz9vGey1yt21OOBcfmjO1KjZvO2f+d/JP3Ew15dqC9CwO4cnQ+d63/oZk1t/yq+RgABBBBAAAEEEEAAAQQQQAABBBBAYMgFAnlAmzqKyJw5opZz6F+cndtEJVN1JfPi832qwwsWS3jhkj51mRf69undaO/YqgsrkQXFz+zNJnq//nUSvVrJ0ipH0sze0kZeWm+juqq0DeiNAAIIIIAAAggggAACCCCAAAIIIIBAAAKBzew143ExJk0TldztXRz3IWbpHTslOmN6n/rMocNi732lT13kpJPcrw1JP/uno/X2np1iHT4soaamPn3Tu3eL4z5ArX8xj5vortVa/MzLjttvl/Sqp/uH6fO1YRoSOmGZhGfNEXNMU3Ys5phmCY1pFCMS9dw2s3+/tH3iI57to67BI6mvjjN63sVSe+lbh+yQjVgssH0FGTuwQRMYAQQQQAABBBBAAAEEEEAAAQQQQGDUCQSW7FVS4dlzJdUv2avq1YPU+id7k6tX9cE1DENiS5eqXK/0uP93HOdoe2LVKqk555w+/VMb9Ov1hmYXP6s3tWWLpB59wPMkG7X1En3jOVJ13vnuQ+bGePbzbOh1DJ59RlGDUXNkGQ7tIbnn1ayu1jZVXKV7fVIQQAABBBBAAAEEEEAAAQQQQAABBBAYboH8dRZ8HFFkwQJttMzmTXn1mTV9l2cwps6UUF2dhGrrxJg2u0//zPP5SzlYmphqo7C7dnCxpfOHP/Dsao6bKI03f0Xq3v728hK9bmTLndl7LBV1/jxLRr+Uh2d/GhBAAAEEEEAAAQQQQAABBBBAAAEEEECgoECgyd7o/PnanVtb+z6kTc3azbz0Yp++kSUnHv269/9VZealF8Sx7T79M1vyE8iqQ2xhccnezIGDYm/Tzw5WM3rrP/Hv7nIQBWaqao+0b2Vm954ieo2eLkZtAS8rM3oOlCNBAAEEEEAAAQQQQAABBBBAAAEEEEBgBAgEmuwNNbpr2DaPyztMe9+rYvdaXzftLp/gdHf16RfLrtd7pMSWLevTptbmTW1+PWFsp9Li7N6Vtx+jvlHCY8fm1esqEs88o6vO1tV+4INFx/EM4jbY+/YWah51bWZDg+cxWYcPebbRgAACCCCAAAIIIIAAAggggAACCCCAAAKlCwSa7FXDCXusmZvevOXoaJOrV/cZuVHXINGZM4/WRadPE5W47V1S7rq9uZLettWd6Zu/LEB4VvHr9Vovre8TP/eFEQpLdOFCbVuplda+Y2tmb3j8eDFicS2T82p+cl7bkUoEEEAAAQQQQAABBBBAAAEEEEAAAQQQKEog+GSvx1IOqY2vL5mQfmFNn8GGj1+SN/jwCe7D2nqV3tukN+qXcAjN0y8jkRfcrbDaWnXVYkycIkYopG0rtdLZN9Rr9no8OOz1Z92Veggl9TdMU8wZc7TbOIf2iZqRTUEAAQQQQAABBBBAAAEEEEAAAQQQQAABfwQCT/ZGPR/SdmQZBrWcg7O97xq+0V5LOOQOM3piv6Ucdm4Vq7Mj2+z1cLboguKTvdLRphUNz5ilrS+10jp8WJz9u0vdbFD9zVhMu73T2amtD6Iy7JFwd2xHUuvXBbFLYiKAAAIIIIAAAggggAACCCCAAAIIIHBMCgSe7I1MnChGdW0err39yDIOyTUv9nnYmmGGJLZkcV7/2OIT+sywVQ91Sz1/ZEZw5uXXl4TIbaiWD4hMm5YXx6vCSaW0TV712s4FKrvuvlucIX4omRGv0o7IaRu69XKjixZpx6Aqkw896NlGAwIIIIAAAggggAACCCCAAAIIIIAAAgiUJhB4slcNx5w5N29UTme7ZPbvdxO2fdfrNWfMFrOqOq+/GY+LOavvTN2Uu9av1dYmzuED+f2nzRa1jECxxajJT0irba1XdhYbwrNfxl2+If3Ew57tQTUYNTXa0E5Pl9jJpLbN78rYvHlijp+sDZt5/jmx2vUzqrUbUIkAAggggAACCCCAAAIIIIAAAggggAACngLFZ0M9QwzcEPH4U/60u25vZm3f9XojS07yDBg5sW9bZt0a8VqvN+wmGUspRm2dtruz91VtfSmVXT/7X+0D5EqJUU5fs2Ws52aZHTs82/xuiP3lxdqQaqZz+7e+pW2jEgEEEEAAAQQQQAABBBBAAAEEEEAAAQRKExiaZK/H2rmJxx/Pm5UbO7nv2ry9Dye2rN+6ve46uz0P/lF7xNH5C7T1XpWhaTO0TU4qKV0PPKBtK6YytWWLZJ55opiuvveJzPZeb7jrnnt8359XwOozzxSjvlHbbL2wUjp/d7+2bbCViWeelcTKlYMNw/YIIIAAAggggAACCCCAAAIIIIAAAghUhMCQJHujM2eKEY7kgVhrV/WpMxqbJTJZ/yf/qmNk/HgxW8b12aZ/DNWolm+IzJ2Tt79CFbGlSz2bEz+9Q9RSDKUWlejtuOkGUesLD0eJTJ3qrnMc1u7aWrdakmvXatv8rjRCIan6u3d6hk38+Hbp+NnPPNtLaXAsS7oeeVQOfeyj0nnrlySzc1cpm9MXAQQQQAABBBBAAAEEEEAAAQQQQACBihUYkmSvEQ6LMXXmgEiRE5YM2Cd8wokD9jEmTRMzFhuwX+8OUXf2sVHXoN1Gze5t//IXJbV1q7a9f6VKOHb+9nfSceN14iS6+zcP2dfKPbz0FM/9dd58g7R/73tidXZ49vGrofqNb5TIijd6hkv+6udy+PrPSWrzZs8+hRrUdu233y6HPvgB6fnuN8Xe+0qh7rQhgAACCCCAAAIIIIAAAggggAACCCAw6gT00z4DOMzI3PmS3LqhYOToid5LOOQ2jC47WVIPFf6z//Cc0tbrVbFVYjT25reKmmWqK/bundJ+7ackctqbpOrCiyQ8cUJeQlnN/k38+WlJPfKQNtkYu/itopKaQ1niF1wg6eee1O7SsW1JPfx7ST/+kBjNY7OvUHOLGLX6h9WpIPGzz87OsC6n1F1+ubRu26K1UfGsjWul/bpPS2juQoksPUliJyyW8NQpYhhGn92pZHpm9x5JbXxJMhs3SealdeIc2lfOkNgGAQQQQAABBBBAAAEEEEAAAQQQQACBUSMwdMneBQsk+bt7PeHUMg/RExZ5tucaYgsXSFc0Jmq2rVeJlLheby5OzXnnuonkB0Qldr1K+slHRL1UUevQGk3NIj3d4rjrBzvuv14lcvpZUnXW2UOe7I3Nny+JZSvchO9TXkMTJ5OW7IPo3Jfl2etIQ2SBm4gtM9mrZlvXf+yT0u4ubWHv3+O5J2vjOjfxu04S7soO2URvVbUY1bXuQ+7c5TC6O4d1trTnoGlAAAEEEEAAAQQQQAABBBBAAAEEEEBgmAWGZBkHdYzReXMLHqo5e37eTFndBmoGrjnveF3T0Tq1JEM5Ra0tq5KRRq1+OYf+MZ32VrG3uzNV9+0umOg1J06Vuvdd3n/zIfu67v3/IuZ477WQh2wg7o7C48ZKw3U3SGhOcQ/QU+sdO91dYh/Ym529O5zLYgylE/tCAAEEEEAAAQQQQAABBBBAAAEEEECgVIEhS/aa1dVuwnGK5/jUn+0XW6JLvdftVQ9wCzUUl6zV7S/c0iz1n7jGnbE7Vtdccl1k2WnSeO1nxYzmP6Cu5GBlbmDG49J43fXZJShGQgnV1Ejjpz4t0XMuch+mFwpsSEZ1jYSOOy6w+ARGAAEEEEAAAQQQQAABBBBAAAEEEEBgJAkMWbJXHXR4jvfs3viy4pO9MXfdXq8ScmcID7ZEpk2VphtvksiJp5YdyohEpOqyf5KGq64SM15Vdhy/NlQJ34YPfEAaPneTRN90nrssQo1focuKk51F/Z7LpOHmr2Yf3GaYfdflLSuou5FR3yTRs86Tuo99Wsbc9m2pWlH+OSx3DGyHAAIIIIAAAggggAACCCCAAAIIIIDAcAgM2Zq96uBiZ5whTjqdd5yGO+s3XMIMzPAYN6F3/sXitLfnxYq94cy8unIq1Ezkho98RNLbt0v3vfdKZs1zBdcJzu3DnD7HPc4zJX7GaRKqreuzayMeyyY2dSXkLm8wFCUybZpE3AelifvK7N8v6S1bxdrrLpHgLpXgJBLZl7hLJ3iV0JgxXk1l1YfHuss6/Ou/Svqt7sPrnnpK0i+uEXvrpuw6wsUUlTQ2Wo6T8NJlEj/1VInOnl3MZiX3Md3j9jp3Zr/zXHJwNkAAAQQQQAABBBBAAAEEEEAAAQQQQMAHgaFN9i5cKDH35Uep//u/9yPMgDFUcrThQx8Sx7IkvW2bpDZtdpPM7sPYOjtFbEuMxiZRicBQ0xgJT5ki4bEtnjFD9fXZxOZIKSrRql4joaiHvkUuuUTEfdmptKQ3bpDMwUPug+/aXe8Osd1/jVhcTNc31Oy+3OU2Qi0tYrpLdmQf4hZwiUyaOKLOXcCHS3gEEEAAAQQQQAABBBBAAAEEEEAAgQoUGNJkbwX6HB2ymkGqZo0GNXO0km38Hrta3zi2aJHE/A5MPAQQQAABBBBAAAEEEEAAAQQQQAABBEaxwJCu2TuKHTk0BBBAAAEEEEAAAQQQQAABBBBAAAEEEEBgWAVI9g4rPztHAAEEEEAAAQQQQAABBBBAAAEEEEAAAQT8ESDZ648jURBAAAEEEEAAAQQQQAABBBBAAAEEEEAAgWEVINk7rPzsHAEEEEAAAQQQQAABBBBAAAEEEEAAAQQQ8EeAZK8/jkRBAAEEEEAAAQQQQAABBBBAAAEEEEAAAQSGVYBk77Dys3MEEEAAAQQQQAABBBBAAAEEEEAAAQQQQMAfAZK9/jgSBQEEEEAAAQQQQAABBBBAAAEEEEAAAQQQGFYBkr3Dys/OEUAAAQQQQAABBBBAAAEEEEAAAQQQQAABfwRI9vrjSBQEEEAAAQQQQAABBBBAAAEEEEAAAQQQQGBYBUj2Dis/O0cAAQQQQAABBBBAAAEEEEAAAQQQQAABBPwRINnrjyNREEAAAQQQQAABBBBAAAEEEEAAAQQQQACBYRUg2Tus/OwcAQQQQAABBBBAAAEEEEAAAQQQQAABBBDwR4Bkrz+OREEAAQQQQAABBBBAAAEEEEAAAQQQQAABBIZVgGTvsPKzcwQQQAABBBBAAAEEEEAAAQQQQAABBBBAwB8Bkr3+OBIFAQQQQAABBBBAAAEEEEAAAQQQQAABBBAYVgGSvcPKz84RQAABBBBAAAEEEEAAAQQQQAABBBBAAAF/BEj2+uNIFAQQQAABBBBAAAEEEEAAAQQQQAABBBBAYFgFSPYOKz87RwABBBBAAAEEEEAAAQQQQAABBBBAAAEE/BEg2euPI1EQQAABBBBAAAEEEEAAAQQQQAABBBBAAIFhFSDZO6z87BwBBBBAAAEEEEAAAQQQQAABBBBAAAEEEPBHgGSvP45EQQABBBBAAAEEEEAAAQQQQAABBBBAAAEEhlWAZO+w8rNzBBBAAAEEEEAAAQQQQAABBBBAAAEEEEDAHwGSvf44EgUBBBBAAAEEEEAAAQQQQAABBBBAAAEEEBhWAZK9w8rPzhFAAAEEEEAAAQQQQAABBBBAAAEEEEAAAX8ESPb640gUBBBAAAEEEEAAAQQQQAABBBBAAAEEEEBgWAXCw7p3do4AAoEJmFV1wcWuafI1dm6shmGIafr/OygVV5Wg4qvY9XF/b6fVsVCgYx4KE7/P5dExx6olPnmWr9dg9vpw42b/Deg6VLEDMwmFxPT5fZm1cOOqEhs3KftvEKUS3ztB3l+Vsd/Xd+78qfPp93VivHbPntBQFcTlcTTmjJYaX+PnxqvGH5RJkPeSIK8T070H+v2+VDFVCfq94/e4j34vDvA6CfL+GuR1EuR7p2HWbF/f7/2DBfW9OIj3TtgM/jNs9r3p8+fvo5/ZgnjvvPbZJOh7rFndKI5t9b98yv46d/8LRSMyZuHisuPoNozUHvm5L8h7rN/XiDqOIH8eycUO1CSAz95B/lw8FCZ+fx9W10nue3GQ99ggrxO/P8Mqk2I+dxuOW3Q3DOoQQAABBBBAAAEEEEAAAQQQQAABBBBAAAEEKkfA/yl0lXPsjBQBBBBAAAEEEEAAAQQQQAABBBBAAAEEEBg1AiR7R82p5EAQQAABBBBAAAEEEEAAAQQQQAABBBBA4FgWINl7LJ99jh0BBBBAAAEEEEAAAQQQQAABBBBAAAEERo0Ayd5Rcyo5EAQQQAABBBBAAAEEEEAAAQQQQAABBBA4lgVI9h7LZ59jRwABBBBAAAEEEEAAAQQQQAABBBBAAIFRI0Cyd9ScSg4EAQQQQAABBBBAAAEEEEAAAQQQQAABBI5lAZK9x/LZ59gRQAABBBBAAAEEEEAAAQQQQAABBBLMhIMAAABsSURBVBBAYNQIkOwdNaeSA0EAAQQQQAABBBBAAAEEEEAAAQQQQACBY1mAZO+xfPY5dgQQQAABBBBAAAEEEEAAAQQQQAABBBAYNQIke0fNqeRAEEAAAQQQQAABBBBAAAEEEEAAAQQQQOBYFvj/ZmXvxtFCN7oAAAAASUVORK5CYII=)"
      ],
      "metadata": {
        "id": "gpwP9NlCwXSZ"
      }
    },
    {
      "cell_type": "markdown",
      "source": [],
      "metadata": {
        "id": "Nl79gcAcwkSy"
      }
    },
    {
      "cell_type": "code",
      "source": [
        "# МЕНЯ ВСТАВИТЬ В САМОЕ НАЧАЛО ЛЮБОГО JupyterNotebook,\n",
        "#   А ПРИ ПОВТОРНОЕ РАБОТЕ ВСЕГДА ЗАПУСКАТЬ!\n",
        "\n",
        "# Тут имя папки, в которую все сохраняется. \n",
        "#  Менять это имя можно. \n",
        "#  На Google Drive должно быть та же папка\n",
        "#  Регистр (ЗАГЛАВНЫЕ или строчные буквы) важен! \n",
        "FOLDER = \"2023-TextAI\" \n",
        "\n",
        "PATH = \"drive/MyDrive/\" + FOLDER  + \"/\"\n",
        "\n",
        "from google.colab import drive\n",
        "drive.mount('/content/drive')\n",
        "\n",
        "import os\n",
        "os.makedirs(PATH, exist_ok = True)\n",
        "\n",
        "import sys\n",
        "sys.path.append(PATH)"
      ],
      "metadata": {
        "colab": {
          "base_uri": "https://localhost:8080/"
        },
        "id": "kyKDU0cHlIWK",
        "outputId": "b6135e61-8668-44c6-a552-c14ff99ae7bd"
      },
      "execution_count": 2,
      "outputs": [
        {
          "output_type": "stream",
          "name": "stdout",
          "text": [
            "Mounted at /content/drive\n"
          ]
        }
      ]
    },
    {
      "cell_type": "markdown",
      "source": [
        "# Работа с данными\n",
        "\n"
      ],
      "metadata": {
        "id": "D-_RftpE9BZa"
      }
    },
    {
      "cell_type": "code",
      "source": [
        "# Скачиваем данные\n",
        "!gdown 1_qz6EISp2bvK1zp3U6IfzYyOXyaEX3-o"
      ],
      "metadata": {
        "colab": {
          "base_uri": "https://localhost:8080/"
        },
        "id": "GKyrprVHzBCV",
        "outputId": "42f93e72-e4cb-4d97-b1aa-1cd2b8281c1e"
      },
      "execution_count": 3,
      "outputs": [
        {
          "output_type": "stream",
          "name": "stdout",
          "text": [
            "Downloading...\n",
            "From: https://drive.google.com/uc?id=1_qz6EISp2bvK1zp3U6IfzYyOXyaEX3-o\n",
            "To: /content/data.csv.zip\n",
            "100% 83.9M/83.9M [00:02<00:00, 31.6MB/s]\n"
          ]
        }
      ]
    },
    {
      "cell_type": "code",
      "source": [
        "!cp data.csv.zip {PATH}"
      ],
      "metadata": {
        "id": "A1HrmrTllSdb"
      },
      "execution_count": 4,
      "outputs": []
    },
    {
      "cell_type": "code",
      "execution_count": 5,
      "metadata": {
        "colab": {
          "base_uri": "https://localhost:8080/"
        },
        "id": "WIDbqtC-uw4V",
        "outputId": "22992a72-3846-436e-88b0-96b387af6ec8"
      },
      "outputs": [
        {
          "output_type": "stream",
          "name": "stderr",
          "text": [
            "<ipython-input-5-ef2f618029f9>:15: TqdmExperimentalWarning: Using `tqdm.autonotebook.tqdm` in notebook mode. Use `tqdm.tqdm` instead to force console mode (e.g. in jupyter console)\n",
            "  from tqdm.autonotebook import tqdm\n"
          ]
        }
      ],
      "source": [
        "import math\n",
        "import random\n",
        "import string\n",
        "\n",
        "import numpy as np\n",
        "import pandas as pd\n",
        "import seaborn as sns\n",
        "import matplotlib.pyplot as plt\n",
        "import re\n",
        "\n",
        "import nltk\n",
        "import gensim\n",
        "\n",
        "from sklearn.model_selection import train_test_split\n",
        "from tqdm.autonotebook import tqdm\n",
        "\n",
        "from collections import Counter\n",
        "\n",
        "tqdm.pandas()\n",
        "random.seed(42)\n",
        "np.random.seed(42)"
      ]
    },
    {
      "cell_type": "markdown",
      "source": [
        "## Загрузка данных"
      ],
      "metadata": {
        "id": "k_yNaWfc1771"
      }
    },
    {
      "cell_type": "code",
      "source": [
        "data = pd.read_csv(\"data.csv.zip\", index_col=\"id\")\n",
        "data.head()"
      ],
      "metadata": {
        "colab": {
          "base_uri": "https://localhost:8080/",
          "height": 238
        },
        "id": "VVFK9TdQzUC6",
        "outputId": "fb3fa0e4-4af6-4a1d-a6cd-888994797ab8"
      },
      "execution_count": 6,
      "outputs": [
        {
          "output_type": "execute_result",
          "data": {
            "text/plain": [
              "            emotion                          date      flag             user  \\\n",
              "id                                                                             \n",
              "1467810369        0  Mon Apr 06 22:19:45 PDT 2009  NO_QUERY  _TheSpecialOne_   \n",
              "1467810672        0  Mon Apr 06 22:19:49 PDT 2009  NO_QUERY    scotthamilton   \n",
              "1467810917        0  Mon Apr 06 22:19:53 PDT 2009  NO_QUERY         mattycus   \n",
              "1467811184        0  Mon Apr 06 22:19:57 PDT 2009  NO_QUERY          ElleCTF   \n",
              "1467811193        0  Mon Apr 06 22:19:57 PDT 2009  NO_QUERY           Karoli   \n",
              "\n",
              "                                                         text  \n",
              "id                                                             \n",
              "1467810369  @switchfoot http://twitpic.com/2y1zl - Awww, t...  \n",
              "1467810672  is upset that he can't update his Facebook by ...  \n",
              "1467810917  @Kenichan I dived many times for the ball. Man...  \n",
              "1467811184    my whole body feels itchy and like its on fire   \n",
              "1467811193  @nationwideclass no, it's not behaving at all....  "
            ],
            "text/html": [
              "\n",
              "  <div id=\"df-8c5c9e1f-69e8-4fa3-9956-b9ab8029255d\">\n",
              "    <div class=\"colab-df-container\">\n",
              "      <div>\n",
              "<style scoped>\n",
              "    .dataframe tbody tr th:only-of-type {\n",
              "        vertical-align: middle;\n",
              "    }\n",
              "\n",
              "    .dataframe tbody tr th {\n",
              "        vertical-align: top;\n",
              "    }\n",
              "\n",
              "    .dataframe thead th {\n",
              "        text-align: right;\n",
              "    }\n",
              "</style>\n",
              "<table border=\"1\" class=\"dataframe\">\n",
              "  <thead>\n",
              "    <tr style=\"text-align: right;\">\n",
              "      <th></th>\n",
              "      <th>emotion</th>\n",
              "      <th>date</th>\n",
              "      <th>flag</th>\n",
              "      <th>user</th>\n",
              "      <th>text</th>\n",
              "    </tr>\n",
              "    <tr>\n",
              "      <th>id</th>\n",
              "      <th></th>\n",
              "      <th></th>\n",
              "      <th></th>\n",
              "      <th></th>\n",
              "      <th></th>\n",
              "    </tr>\n",
              "  </thead>\n",
              "  <tbody>\n",
              "    <tr>\n",
              "      <th>1467810369</th>\n",
              "      <td>0</td>\n",
              "      <td>Mon Apr 06 22:19:45 PDT 2009</td>\n",
              "      <td>NO_QUERY</td>\n",
              "      <td>_TheSpecialOne_</td>\n",
              "      <td>@switchfoot http://twitpic.com/2y1zl - Awww, t...</td>\n",
              "    </tr>\n",
              "    <tr>\n",
              "      <th>1467810672</th>\n",
              "      <td>0</td>\n",
              "      <td>Mon Apr 06 22:19:49 PDT 2009</td>\n",
              "      <td>NO_QUERY</td>\n",
              "      <td>scotthamilton</td>\n",
              "      <td>is upset that he can't update his Facebook by ...</td>\n",
              "    </tr>\n",
              "    <tr>\n",
              "      <th>1467810917</th>\n",
              "      <td>0</td>\n",
              "      <td>Mon Apr 06 22:19:53 PDT 2009</td>\n",
              "      <td>NO_QUERY</td>\n",
              "      <td>mattycus</td>\n",
              "      <td>@Kenichan I dived many times for the ball. Man...</td>\n",
              "    </tr>\n",
              "    <tr>\n",
              "      <th>1467811184</th>\n",
              "      <td>0</td>\n",
              "      <td>Mon Apr 06 22:19:57 PDT 2009</td>\n",
              "      <td>NO_QUERY</td>\n",
              "      <td>ElleCTF</td>\n",
              "      <td>my whole body feels itchy and like its on fire</td>\n",
              "    </tr>\n",
              "    <tr>\n",
              "      <th>1467811193</th>\n",
              "      <td>0</td>\n",
              "      <td>Mon Apr 06 22:19:57 PDT 2009</td>\n",
              "      <td>NO_QUERY</td>\n",
              "      <td>Karoli</td>\n",
              "      <td>@nationwideclass no, it's not behaving at all....</td>\n",
              "    </tr>\n",
              "  </tbody>\n",
              "</table>\n",
              "</div>\n",
              "      <button class=\"colab-df-convert\" onclick=\"convertToInteractive('df-8c5c9e1f-69e8-4fa3-9956-b9ab8029255d')\"\n",
              "              title=\"Convert this dataframe to an interactive table.\"\n",
              "              style=\"display:none;\">\n",
              "        \n",
              "  <svg xmlns=\"http://www.w3.org/2000/svg\" height=\"24px\"viewBox=\"0 0 24 24\"\n",
              "       width=\"24px\">\n",
              "    <path d=\"M0 0h24v24H0V0z\" fill=\"none\"/>\n",
              "    <path d=\"M18.56 5.44l.94 2.06.94-2.06 2.06-.94-2.06-.94-.94-2.06-.94 2.06-2.06.94zm-11 1L8.5 8.5l.94-2.06 2.06-.94-2.06-.94L8.5 2.5l-.94 2.06-2.06.94zm10 10l.94 2.06.94-2.06 2.06-.94-2.06-.94-.94-2.06-.94 2.06-2.06.94z\"/><path d=\"M17.41 7.96l-1.37-1.37c-.4-.4-.92-.59-1.43-.59-.52 0-1.04.2-1.43.59L10.3 9.45l-7.72 7.72c-.78.78-.78 2.05 0 2.83L4 21.41c.39.39.9.59 1.41.59.51 0 1.02-.2 1.41-.59l7.78-7.78 2.81-2.81c.8-.78.8-2.07 0-2.86zM5.41 20L4 18.59l7.72-7.72 1.47 1.35L5.41 20z\"/>\n",
              "  </svg>\n",
              "      </button>\n",
              "      \n",
              "  <style>\n",
              "    .colab-df-container {\n",
              "      display:flex;\n",
              "      flex-wrap:wrap;\n",
              "      gap: 12px;\n",
              "    }\n",
              "\n",
              "    .colab-df-convert {\n",
              "      background-color: #E8F0FE;\n",
              "      border: none;\n",
              "      border-radius: 50%;\n",
              "      cursor: pointer;\n",
              "      display: none;\n",
              "      fill: #1967D2;\n",
              "      height: 32px;\n",
              "      padding: 0 0 0 0;\n",
              "      width: 32px;\n",
              "    }\n",
              "\n",
              "    .colab-df-convert:hover {\n",
              "      background-color: #E2EBFA;\n",
              "      box-shadow: 0px 1px 2px rgba(60, 64, 67, 0.3), 0px 1px 3px 1px rgba(60, 64, 67, 0.15);\n",
              "      fill: #174EA6;\n",
              "    }\n",
              "\n",
              "    [theme=dark] .colab-df-convert {\n",
              "      background-color: #3B4455;\n",
              "      fill: #D2E3FC;\n",
              "    }\n",
              "\n",
              "    [theme=dark] .colab-df-convert:hover {\n",
              "      background-color: #434B5C;\n",
              "      box-shadow: 0px 1px 3px 1px rgba(0, 0, 0, 0.15);\n",
              "      filter: drop-shadow(0px 1px 2px rgba(0, 0, 0, 0.3));\n",
              "      fill: #FFFFFF;\n",
              "    }\n",
              "  </style>\n",
              "\n",
              "      <script>\n",
              "        const buttonEl =\n",
              "          document.querySelector('#df-8c5c9e1f-69e8-4fa3-9956-b9ab8029255d button.colab-df-convert');\n",
              "        buttonEl.style.display =\n",
              "          google.colab.kernel.accessAllowed ? 'block' : 'none';\n",
              "\n",
              "        async function convertToInteractive(key) {\n",
              "          const element = document.querySelector('#df-8c5c9e1f-69e8-4fa3-9956-b9ab8029255d');\n",
              "          const dataTable =\n",
              "            await google.colab.kernel.invokeFunction('convertToInteractive',\n",
              "                                                     [key], {});\n",
              "          if (!dataTable) return;\n",
              "\n",
              "          const docLinkHtml = 'Like what you see? Visit the ' +\n",
              "            '<a target=\"_blank\" href=https://colab.research.google.com/notebooks/data_table.ipynb>data table notebook</a>'\n",
              "            + ' to learn more about interactive tables.';\n",
              "          element.innerHTML = '';\n",
              "          dataTable['output_type'] = 'display_data';\n",
              "          await google.colab.output.renderOutput(dataTable, element);\n",
              "          const docLink = document.createElement('div');\n",
              "          docLink.innerHTML = docLinkHtml;\n",
              "          element.appendChild(docLink);\n",
              "        }\n",
              "      </script>\n",
              "    </div>\n",
              "  </div>\n",
              "  "
            ]
          },
          "metadata": {},
          "execution_count": 6
        }
      ]
    },
    {
      "cell_type": "code",
      "source": [
        "data[\"date\"] = pd.to_datetime(data[\"date\"].str.replace(\" PDT \", \" \"), format=\"%a %b %d %H:%M:%S %Y\")\n",
        "data.head()"
      ],
      "metadata": {
        "colab": {
          "base_uri": "https://localhost:8080/",
          "height": 238
        },
        "id": "Jd4r6rhw25D1",
        "outputId": "950f09b2-34c7-4ef7-fc34-96513643c992"
      },
      "execution_count": 7,
      "outputs": [
        {
          "output_type": "execute_result",
          "data": {
            "text/plain": [
              "            emotion                date      flag             user  \\\n",
              "id                                                                   \n",
              "1467810369        0 2009-04-06 22:19:45  NO_QUERY  _TheSpecialOne_   \n",
              "1467810672        0 2009-04-06 22:19:49  NO_QUERY    scotthamilton   \n",
              "1467810917        0 2009-04-06 22:19:53  NO_QUERY         mattycus   \n",
              "1467811184        0 2009-04-06 22:19:57  NO_QUERY          ElleCTF   \n",
              "1467811193        0 2009-04-06 22:19:57  NO_QUERY           Karoli   \n",
              "\n",
              "                                                         text  \n",
              "id                                                             \n",
              "1467810369  @switchfoot http://twitpic.com/2y1zl - Awww, t...  \n",
              "1467810672  is upset that he can't update his Facebook by ...  \n",
              "1467810917  @Kenichan I dived many times for the ball. Man...  \n",
              "1467811184    my whole body feels itchy and like its on fire   \n",
              "1467811193  @nationwideclass no, it's not behaving at all....  "
            ],
            "text/html": [
              "\n",
              "  <div id=\"df-dc1e3f8c-fa56-4a6b-b65a-8eb97ad6897f\">\n",
              "    <div class=\"colab-df-container\">\n",
              "      <div>\n",
              "<style scoped>\n",
              "    .dataframe tbody tr th:only-of-type {\n",
              "        vertical-align: middle;\n",
              "    }\n",
              "\n",
              "    .dataframe tbody tr th {\n",
              "        vertical-align: top;\n",
              "    }\n",
              "\n",
              "    .dataframe thead th {\n",
              "        text-align: right;\n",
              "    }\n",
              "</style>\n",
              "<table border=\"1\" class=\"dataframe\">\n",
              "  <thead>\n",
              "    <tr style=\"text-align: right;\">\n",
              "      <th></th>\n",
              "      <th>emotion</th>\n",
              "      <th>date</th>\n",
              "      <th>flag</th>\n",
              "      <th>user</th>\n",
              "      <th>text</th>\n",
              "    </tr>\n",
              "    <tr>\n",
              "      <th>id</th>\n",
              "      <th></th>\n",
              "      <th></th>\n",
              "      <th></th>\n",
              "      <th></th>\n",
              "      <th></th>\n",
              "    </tr>\n",
              "  </thead>\n",
              "  <tbody>\n",
              "    <tr>\n",
              "      <th>1467810369</th>\n",
              "      <td>0</td>\n",
              "      <td>2009-04-06 22:19:45</td>\n",
              "      <td>NO_QUERY</td>\n",
              "      <td>_TheSpecialOne_</td>\n",
              "      <td>@switchfoot http://twitpic.com/2y1zl - Awww, t...</td>\n",
              "    </tr>\n",
              "    <tr>\n",
              "      <th>1467810672</th>\n",
              "      <td>0</td>\n",
              "      <td>2009-04-06 22:19:49</td>\n",
              "      <td>NO_QUERY</td>\n",
              "      <td>scotthamilton</td>\n",
              "      <td>is upset that he can't update his Facebook by ...</td>\n",
              "    </tr>\n",
              "    <tr>\n",
              "      <th>1467810917</th>\n",
              "      <td>0</td>\n",
              "      <td>2009-04-06 22:19:53</td>\n",
              "      <td>NO_QUERY</td>\n",
              "      <td>mattycus</td>\n",
              "      <td>@Kenichan I dived many times for the ball. Man...</td>\n",
              "    </tr>\n",
              "    <tr>\n",
              "      <th>1467811184</th>\n",
              "      <td>0</td>\n",
              "      <td>2009-04-06 22:19:57</td>\n",
              "      <td>NO_QUERY</td>\n",
              "      <td>ElleCTF</td>\n",
              "      <td>my whole body feels itchy and like its on fire</td>\n",
              "    </tr>\n",
              "    <tr>\n",
              "      <th>1467811193</th>\n",
              "      <td>0</td>\n",
              "      <td>2009-04-06 22:19:57</td>\n",
              "      <td>NO_QUERY</td>\n",
              "      <td>Karoli</td>\n",
              "      <td>@nationwideclass no, it's not behaving at all....</td>\n",
              "    </tr>\n",
              "  </tbody>\n",
              "</table>\n",
              "</div>\n",
              "      <button class=\"colab-df-convert\" onclick=\"convertToInteractive('df-dc1e3f8c-fa56-4a6b-b65a-8eb97ad6897f')\"\n",
              "              title=\"Convert this dataframe to an interactive table.\"\n",
              "              style=\"display:none;\">\n",
              "        \n",
              "  <svg xmlns=\"http://www.w3.org/2000/svg\" height=\"24px\"viewBox=\"0 0 24 24\"\n",
              "       width=\"24px\">\n",
              "    <path d=\"M0 0h24v24H0V0z\" fill=\"none\"/>\n",
              "    <path d=\"M18.56 5.44l.94 2.06.94-2.06 2.06-.94-2.06-.94-.94-2.06-.94 2.06-2.06.94zm-11 1L8.5 8.5l.94-2.06 2.06-.94-2.06-.94L8.5 2.5l-.94 2.06-2.06.94zm10 10l.94 2.06.94-2.06 2.06-.94-2.06-.94-.94-2.06-.94 2.06-2.06.94z\"/><path d=\"M17.41 7.96l-1.37-1.37c-.4-.4-.92-.59-1.43-.59-.52 0-1.04.2-1.43.59L10.3 9.45l-7.72 7.72c-.78.78-.78 2.05 0 2.83L4 21.41c.39.39.9.59 1.41.59.51 0 1.02-.2 1.41-.59l7.78-7.78 2.81-2.81c.8-.78.8-2.07 0-2.86zM5.41 20L4 18.59l7.72-7.72 1.47 1.35L5.41 20z\"/>\n",
              "  </svg>\n",
              "      </button>\n",
              "      \n",
              "  <style>\n",
              "    .colab-df-container {\n",
              "      display:flex;\n",
              "      flex-wrap:wrap;\n",
              "      gap: 12px;\n",
              "    }\n",
              "\n",
              "    .colab-df-convert {\n",
              "      background-color: #E8F0FE;\n",
              "      border: none;\n",
              "      border-radius: 50%;\n",
              "      cursor: pointer;\n",
              "      display: none;\n",
              "      fill: #1967D2;\n",
              "      height: 32px;\n",
              "      padding: 0 0 0 0;\n",
              "      width: 32px;\n",
              "    }\n",
              "\n",
              "    .colab-df-convert:hover {\n",
              "      background-color: #E2EBFA;\n",
              "      box-shadow: 0px 1px 2px rgba(60, 64, 67, 0.3), 0px 1px 3px 1px rgba(60, 64, 67, 0.15);\n",
              "      fill: #174EA6;\n",
              "    }\n",
              "\n",
              "    [theme=dark] .colab-df-convert {\n",
              "      background-color: #3B4455;\n",
              "      fill: #D2E3FC;\n",
              "    }\n",
              "\n",
              "    [theme=dark] .colab-df-convert:hover {\n",
              "      background-color: #434B5C;\n",
              "      box-shadow: 0px 1px 3px 1px rgba(0, 0, 0, 0.15);\n",
              "      filter: drop-shadow(0px 1px 2px rgba(0, 0, 0, 0.3));\n",
              "      fill: #FFFFFF;\n",
              "    }\n",
              "  </style>\n",
              "\n",
              "      <script>\n",
              "        const buttonEl =\n",
              "          document.querySelector('#df-dc1e3f8c-fa56-4a6b-b65a-8eb97ad6897f button.colab-df-convert');\n",
              "        buttonEl.style.display =\n",
              "          google.colab.kernel.accessAllowed ? 'block' : 'none';\n",
              "\n",
              "        async function convertToInteractive(key) {\n",
              "          const element = document.querySelector('#df-dc1e3f8c-fa56-4a6b-b65a-8eb97ad6897f');\n",
              "          const dataTable =\n",
              "            await google.colab.kernel.invokeFunction('convertToInteractive',\n",
              "                                                     [key], {});\n",
              "          if (!dataTable) return;\n",
              "\n",
              "          const docLinkHtml = 'Like what you see? Visit the ' +\n",
              "            '<a target=\"_blank\" href=https://colab.research.google.com/notebooks/data_table.ipynb>data table notebook</a>'\n",
              "            + ' to learn more about interactive tables.';\n",
              "          element.innerHTML = '';\n",
              "          dataTable['output_type'] = 'display_data';\n",
              "          await google.colab.output.renderOutput(dataTable, element);\n",
              "          const docLink = document.createElement('div');\n",
              "          docLink.innerHTML = docLinkHtml;\n",
              "          element.appendChild(docLink);\n",
              "        }\n",
              "      </script>\n",
              "    </div>\n",
              "  </div>\n",
              "  "
            ]
          },
          "metadata": {},
          "execution_count": 7
        }
      ]
    },
    {
      "cell_type": "code",
      "source": [
        "data.info()"
      ],
      "metadata": {
        "colab": {
          "base_uri": "https://localhost:8080/"
        },
        "id": "ZFDgPSJKzr_U",
        "outputId": "d9f8a494-618f-4fc1-c094-0a876c0d3cc3"
      },
      "execution_count": 8,
      "outputs": [
        {
          "output_type": "stream",
          "name": "stdout",
          "text": [
            "<class 'pandas.core.frame.DataFrame'>\n",
            "Int64Index: 1600000 entries, 1467810369 to 2193602129\n",
            "Data columns (total 5 columns):\n",
            " #   Column   Non-Null Count    Dtype         \n",
            "---  ------   --------------    -----         \n",
            " 0   emotion  1600000 non-null  int64         \n",
            " 1   date     1600000 non-null  datetime64[ns]\n",
            " 2   flag     1600000 non-null  object        \n",
            " 3   user     1600000 non-null  object        \n",
            " 4   text     1600000 non-null  object        \n",
            "dtypes: datetime64[ns](1), int64(1), object(3)\n",
            "memory usage: 73.2+ MB\n"
          ]
        }
      ]
    },
    {
      "cell_type": "code",
      "source": [
        "sns.countplot(data=data, x=\"emotion\")"
      ],
      "metadata": {
        "colab": {
          "base_uri": "https://localhost:8080/",
          "height": 466
        },
        "id": "P6MqQLA5urgu",
        "outputId": "dbd2094c-8363-487c-af76-728f573a62c0"
      },
      "execution_count": 9,
      "outputs": [
        {
          "output_type": "execute_result",
          "data": {
            "text/plain": [
              "<Axes: xlabel='emotion', ylabel='count'>"
            ]
          },
          "metadata": {},
          "execution_count": 9
        },
        {
          "output_type": "display_data",
          "data": {
            "text/plain": [
              "<Figure size 640x480 with 1 Axes>"
            ],
            "image/png": "[encoded data removed]"
          },
          "metadata": {}
        }
      ]
    },
    {
      "cell_type": "markdown",
      "source": [
        "## Чистка текста"
      ],
      "metadata": {
        "id": "LbaET1VG2Aa9"
      }
    },
    {
      "cell_type": "code",
      "source": [
        "PUNCT_TO_REMOVE = string.punctuation + \"«»№\"\n",
        "URL_PATTERN = r'https?://\\S+|www\\.\\S+' # https?:\\/\\/(?:www\\.)?[-a-zA-Z0-9@:%._\\+~#=]{1,256}\\.[a-zA-Z0-9()]{1,6}\\b(?:[-a-zA-Z0-9()@:%_\\+.~#?&\\/=]*)\n",
        "HTML_PATTERN = '<.*>'\n",
        "USERNAME_PATTERN = \"@\\w+\\s\"\n",
        "DIGIT_PATTERN = \"\\d+\"\n",
        "regex_pattern = re.compile(f\"({URL_PATTERN}|{HTML_PATTERN}|{USERNAME_PATTERN}|{DIGIT_PATTERN})\")"
      ],
      "metadata": {
        "id": "LSOM_I8q800r"
      },
      "execution_count": 10,
      "outputs": []
    },
    {
      "cell_type": "code",
      "source": [
        "example_text = data.iloc[0, -1]\n",
        "\n",
        "text = regex_pattern.sub(\"\", example_text).split()\n",
        "text = [i.translate(str.maketrans(PUNCT_TO_REMOVE, ' '*len(PUNCT_TO_REMOVE))) for i in text]\n",
        "text = [''.join(i for i in word if not i.isdigit()) for word in text]\n",
        "\n",
        "example_text, \" \".join(text)"
      ],
      "metadata": {
        "colab": {
          "base_uri": "https://localhost:8080/"
        },
        "id": "a7mUgk9oWpSp",
        "outputId": "7373357e-d7cc-497b-e0dd-23122dece70e"
      },
      "execution_count": 11,
      "outputs": [
        {
          "output_type": "execute_result",
          "data": {
            "text/plain": [
              "(\"@switchfoot http://twitpic.com/2y1zl - Awww, that's a bummer.  You shoulda got David Carr of Third Day to do it. ;D\",\n",
              " '  Awww  that s a bummer  You shoulda got David Carr of Third Day to do it   D')"
            ]
          },
          "metadata": {},
          "execution_count": 11
        }
      ]
    },
    {
      "cell_type": "code",
      "source": [
        "cnt = Counter()\n",
        "\n",
        "def clean_words(row) -> str:\n",
        "    text = row[\"text\"].lower()\n",
        "    text = regex_pattern.sub(\"\", text).split()\n",
        "    text = [i.translate(str.maketrans(PUNCT_TO_REMOVE, ' '*len(PUNCT_TO_REMOVE))) for i in text]\n",
        "    text = [''.join(i for i in word if not i.isdigit()) for word in text]\n",
        "\n",
        "    for word in text:\n",
        "        cnt[word] += 1\n",
        "    return \" \".join(text)"
      ],
      "metadata": {
        "id": "gXzP-wPbYbGW"
      },
      "execution_count": 13,
      "outputs": []
    },
    {
      "cell_type": "code",
      "source": [
        "data[\"text\"] = data.progress_apply(clean_words, axis=1)"
      ],
      "metadata": {
        "colab": {
          "base_uri": "https://localhost:8080/",
          "height": 49,
          "referenced_widgets": [
            "b3fd0a1db4b3467caf5a6a177e0ef93d",
            "b710fb3b638243e993ec8d18e5c89bac",
            "131352a824a54ace863ddc864bd01e82",
            "4d471de265e2468b8f26532c61109af3",
            "3e29f55b23674698baf0c92097dce68d",
            "4fadabe945604ed8a4012bd03c0744dc",
            "54558107bdab4d42b41a21d3e873c8df",
            "35ddfc7f73484e608dafe2d6336fd8d7",
            "a81c82432cd44e419d8385b27869a08b",
            "adc31d3259fc43768b1ffc32cbdeda2d",
            "538a98ab209a4d9da8ae53894c108306"
          ]
        },
        "id": "MhrFwkmVV1j1",
        "outputId": "73ce73be-c1c9-4380-f424-2c0a17e9c683"
      },
      "execution_count": 14,
      "outputs": [
        {
          "output_type": "display_data",
          "data": {
            "text/plain": [
              "  0%|          | 0/1600000 [00:00<?, ?it/s]"
            ],
            "application/vnd.jupyter.widget-view+json": {
              "version_major": 2,
              "version_minor": 0,
              "model_id": "b3fd0a1db4b3467caf5a6a177e0ef93d"
            }
          },
          "metadata": {}
        }
      ]
    },
    {
      "cell_type": "code",
      "source": [
        "data.to_csv(f'{PATH}/data_cleaned.csv.zip')"
      ],
      "metadata": {
        "id": "K-9LR9ZLnQ3E"
      },
      "execution_count": 15,
      "outputs": []
    },
    {
      "cell_type": "code",
      "source": [
        "data = pd.read_csv(f'{PATH}/data_cleaned.csv.zip')"
      ],
      "metadata": {
        "id": "PSPESMZbnW5X"
      },
      "execution_count": 17,
      "outputs": []
    },
    {
      "cell_type": "code",
      "source": [
        "is_null = data[\"text\"].isnull()\n",
        "is_null.sum()"
      ],
      "metadata": {
        "colab": {
          "base_uri": "https://localhost:8080/"
        },
        "id": "Zy3gRaN-p9ay",
        "outputId": "633eb0cb-99ee-49e4-f40c-0a687fa5b913"
      },
      "execution_count": 29,
      "outputs": [
        {
          "output_type": "execute_result",
          "data": {
            "text/plain": [
              "2823"
            ]
          },
          "metadata": {},
          "execution_count": 29
        }
      ]
    },
    {
      "cell_type": "code",
      "source": [
        "data.loc[is_null,\"text\"] = \"\""
      ],
      "metadata": {
        "id": "puk4XhkYqJ8T"
      },
      "execution_count": 32,
      "outputs": []
    },
    {
      "cell_type": "markdown",
      "source": [
        "## Распространенные слова\n"
      ],
      "metadata": {
        "id": "mkhrgkK12FUW"
      }
    },
    {
      "cell_type": "code",
      "source": [
        "cnt.most_common(10)"
      ],
      "metadata": {
        "colab": {
          "base_uri": "https://localhost:8080/"
        },
        "id": "nOZcT6jBhD6g",
        "outputId": "0ff7986b-3c77-438c-8298-3b60eb2f52be"
      },
      "execution_count": 31,
      "outputs": [
        {
          "output_type": "execute_result",
          "data": {
            "text/plain": [
              "[('i', 746610),\n",
              " ('to', 560333),\n",
              " ('the', 518757),\n",
              " ('a', 377257),\n",
              " ('my', 312864),\n",
              " ('and', 295634),\n",
              " ('you', 237750),\n",
              " ('is', 231041),\n",
              " ('for', 214049),\n",
              " ('in', 210083)]"
            ]
          },
          "metadata": {},
          "execution_count": 31
        }
      ]
    },
    {
      "cell_type": "code",
      "source": [
        "%%time\n",
        "from sklearn.feature_extraction.text import CountVectorizer\n",
        "\n",
        "vectorizer = CountVectorizer()\n",
        "X = vectorizer.fit_transform(data[\"text\"])"
      ],
      "metadata": {
        "colab": {
          "base_uri": "https://localhost:8080/"
        },
        "id": "Sq9Z_P5zdpSV",
        "outputId": "8c72726e-62f9-446c-8a82-ea0ee441d679"
      },
      "execution_count": 33,
      "outputs": [
        {
          "output_type": "stream",
          "name": "stdout",
          "text": [
            "CPU times: user 25.8 s, sys: 755 ms, total: 26.6 s\n",
            "Wall time: 27 s\n"
          ]
        }
      ]
    },
    {
      "cell_type": "code",
      "source": [
        "X.shape"
      ],
      "metadata": {
        "colab": {
          "base_uri": "https://localhost:8080/"
        },
        "id": "RADdnyHHd9UR",
        "outputId": "40c5c264-efff-4263-fb59-613606b209ad"
      },
      "execution_count": 34,
      "outputs": [
        {
          "output_type": "execute_result",
          "data": {
            "text/plain": [
              "(1600000, 286750)"
            ]
          },
          "metadata": {},
          "execution_count": 34
        }
      ]
    },
    {
      "cell_type": "code",
      "source": [
        "X = pd.Series(sorted(np.squeeze(np.asarray((X != 0).sum(axis=0)))))\n",
        "X[-10:]"
      ],
      "metadata": {
        "colab": {
          "base_uri": "https://localhost:8080/"
        },
        "id": "kd4e-DZLf_oR",
        "outputId": "2640ae04-ad87-4126-b61d-cbe757e7267c"
      },
      "execution_count": 35,
      "outputs": [
        {
          "output_type": "execute_result",
          "data": {
            "text/plain": [
              "286740    170395\n",
              "286741    199622\n",
              "286742    201562\n",
              "286743    219734\n",
              "286744    244485\n",
              "286745    261769\n",
              "286746    272040\n",
              "286747    282511\n",
              "286748    427819\n",
              "286749    458172\n",
              "dtype: int64"
            ]
          },
          "metadata": {},
          "execution_count": 35
        }
      ]
    },
    {
      "cell_type": "code",
      "source": [
        "plt.plot(X)\n",
        "plt.title(\"Frequences of words per row\");"
      ],
      "metadata": {
        "colab": {
          "base_uri": "https://localhost:8080/",
          "height": 452
        },
        "id": "3a1Qe-nuabYV",
        "outputId": "19959088-8fc3-4e8b-ca88-27d90b0f95d5"
      },
      "execution_count": 36,
      "outputs": [
        {
          "output_type": "display_data",
          "data": {
            "text/plain": [
              "<Figure size 640x480 with 1 Axes>"
            ],
            "image/png": "[encoded data removed]"
          },
          "metadata": {}
        }
      ]
    },
    {
      "cell_type": "code",
      "source": [
        "plt.plot(X[X<100])\n",
        "plt.title(\"Frequences of words < 100 per row\");"
      ],
      "metadata": {
        "colab": {
          "base_uri": "https://localhost:8080/",
          "height": 452
        },
        "id": "8lz5B2tQddBG",
        "outputId": "3a163be6-97d2-4109-9e38-3b1a68216fb1"
      },
      "execution_count": 37,
      "outputs": [
        {
          "output_type": "display_data",
          "data": {
            "text/plain": [
              "<Figure size 640x480 with 1 Axes>"
            ],
            "image/png": "[encoded data removed]"
          },
          "metadata": {}
        }
      ]
    },
    {
      "cell_type": "markdown",
      "source": [
        "# Word2Vec\n"
      ],
      "metadata": {
        "id": "swLVgiTF9Bix"
      }
    },
    {
      "cell_type": "markdown",
      "source": [
        "## Примеры Word2Vec"
      ],
      "metadata": {
        "id": "QiD4CM2c25AA"
      }
    },
    {
      "cell_type": "code",
      "source": [
        "%%time\n",
        "from gensim import downloader\n",
        "\n",
        "#wv = downloader.load('word2vec-google-news-300') # Очень большая\n",
        "wv = downloader.load('glove-twitter-25') # Не совсем Word2Vec, но для демонстрации хватит\n"
      ],
      "metadata": {
        "colab": {
          "base_uri": "https://localhost:8080/"
        },
        "id": "f9XVTThs9Jtw",
        "outputId": "f73db55f-cd3f-4100-f910-5598d51653cd"
      },
      "execution_count": 40,
      "outputs": [
        {
          "output_type": "stream",
          "name": "stdout",
          "text": [
            "[==================================================] 100.0% 104.8/104.8MB downloaded\n",
            "CPU times: user 59.8 s, sys: 2.67 s, total: 1min 2s\n",
            "Wall time: 1min 23s\n"
          ]
        }
      ]
    },
    {
      "cell_type": "code",
      "source": [
        "print(list(gensim.downloader.info()['models'].keys()))"
      ],
      "metadata": {
        "colab": {
          "base_uri": "https://localhost:8080/"
        },
        "id": "p124v8Ia7WNQ",
        "outputId": "8db706a6-439e-4ca5-e413-0fc6290a9aa4"
      },
      "execution_count": 41,
      "outputs": [
        {
          "output_type": "stream",
          "name": "stdout",
          "text": [
            "['fasttext-wiki-news-subwords-300', 'conceptnet-numberbatch-17-06-300', 'word2vec-ruscorpora-300', 'word2vec-google-news-300', 'glove-wiki-gigaword-50', 'glove-wiki-gigaword-100', 'glove-wiki-gigaword-200', 'glove-wiki-gigaword-300', 'glove-twitter-25', 'glove-twitter-50', 'glove-twitter-100', 'glove-twitter-200', '__testing_word2vec-matrix-synopsis']\n"
          ]
        }
      ]
    },
    {
      "cell_type": "markdown",
      "source": [
        "![](https://raw.githubusercontent.com/amanjeetsahu/Natural-Language-Processing-Specialization/d562105e68a0b85012ad3ebbb29b2af6344ad4e5/Natural%20Language%20Processing%20with%20Classification%20and%20Vector%20Spaces/Week%203/vectors.jpg)"
      ],
      "metadata": {
        "id": "toCjsFchEuq7"
      }
    },
    {
      "cell_type": "markdown",
      "source": [
        "$$cos(X,Y) = \\frac{<X, Y>}{||X||*||Y||}$$"
      ],
      "metadata": {
        "id": "ekQQWBtY32X6"
      }
    },
    {
      "cell_type": "markdown",
      "source": [
        "Поиск ближайших соседей из примера с помощью gensim"
      ],
      "metadata": {
        "id": "TcJLScgd4an6"
      }
    },
    {
      "cell_type": "code",
      "source": [
        "wv.most_similar(positive=['king', \"woman\"], negative=[\"man\"], topn=5) # cosine similarity for W2V"
      ],
      "metadata": {
        "colab": {
          "base_uri": "https://localhost:8080/"
        },
        "id": "EYQ1AhVAEFQk",
        "outputId": "0ed36a53-285c-4a05-8bdc-119ef0ee05ba"
      },
      "execution_count": 49,
      "outputs": [
        {
          "output_type": "execute_result",
          "data": {
            "text/plain": [
              "[('meets', 0.8841924071311951),\n",
              " ('prince', 0.832163393497467),\n",
              " ('queen', 0.8257461190223694),\n",
              " ('’s', 0.8174097537994385),\n",
              " ('crow', 0.813499391078949)]"
            ]
          },
          "metadata": {},
          "execution_count": 49
        }
      ]
    },
    {
      "cell_type": "markdown",
      "source": [
        "Рассчет схожести известных слов с помощью sklearn\n",
        "\n"
      ],
      "metadata": {
        "id": "ptXO3omO4itT"
      }
    },
    {
      "cell_type": "code",
      "source": [
        "from sklearn.metrics.pairwise import cosine_similarity"
      ],
      "metadata": {
        "id": "gFFAinnYJmGE"
      },
      "execution_count": 43,
      "outputs": []
    },
    {
      "cell_type": "code",
      "source": [
        "computed_vector = [wv[\"king\"]-wv[\"man\"]+wv[\"woman\"]]\n",
        "intresting_words = [\"queen\", \"prince\", \"princess\"]\n",
        "for word, result in zip(intresting_words, cosine_similarity(computed_vector, wv[intresting_words])[0]):\n",
        "    print(f\"Result for {word=} is {result=}\")"
      ],
      "metadata": {
        "colab": {
          "base_uri": "https://localhost:8080/"
        },
        "id": "rRssrnyxJwOW",
        "outputId": "d3ed5a09-34b8-4dff-fe7b-149e380c7cbf"
      },
      "execution_count": 46,
      "outputs": [
        {
          "output_type": "stream",
          "name": "stdout",
          "text": [
            "Result for word='queen' is result=0.7530913\n",
            "Result for word='prince' is result=0.7605474\n",
            "Result for word='princess' is result=0.6824288\n"
          ]
        }
      ]
    },
    {
      "cell_type": "markdown",
      "source": [
        "Рассчет схожести известных слов на numpy"
      ],
      "metadata": {
        "id": "-b0RBfDv4qU7"
      }
    },
    {
      "cell_type": "code",
      "source": [
        "(computed_vector @ wv[\"queen\"]) / (np.linalg.norm(computed_vector) * np.linalg.norm(wv[\"queen\"]))"
      ],
      "metadata": {
        "colab": {
          "base_uri": "https://localhost:8080/"
        },
        "id": "wPzyoHMP4Cs4",
        "outputId": "82b866e3-93e1-42b4-e5b8-213c5f3e0232"
      },
      "execution_count": 45,
      "outputs": [
        {
          "output_type": "execute_result",
          "data": {
            "text/plain": [
              "array([0.7530913], dtype=float32)"
            ]
          },
          "metadata": {},
          "execution_count": 45
        }
      ]
    },
    {
      "cell_type": "markdown",
      "source": [
        "Тренируемся на котятах и щенках\n",
        "![](https://petstory.ru/resize/800x800x80/upload/images/articles//kotyenok-i-shchenok-v-odnoy-kvartire/kitt-and-pupp1.jpg)"
      ],
      "metadata": {
        "id": "00zH8Qou4vAK"
      }
    },
    {
      "cell_type": "code",
      "source": [
        "# Для примера\n",
        "\n",
        "wv.most_similar(positive=[\"puppy\", \"cat\"], negative=[\"dog\"], topn=5)"
      ],
      "metadata": {
        "colab": {
          "base_uri": "https://localhost:8080/"
        },
        "id": "Rf5GcH13O6oS",
        "outputId": "f3b09d2b-e84b-4014-ab1d-7447dc6bfc74"
      },
      "execution_count": 50,
      "outputs": [
        {
          "output_type": "execute_result",
          "data": {
            "text/plain": [
              "[('kitten', 0.9398013949394226),\n",
              " ('kitty', 0.9168251156806946),\n",
              " ('monkey', 0.8665547370910645),\n",
              " ('owl', 0.8657613396644592),\n",
              " ('doggy', 0.861814558506012)]"
            ]
          },
          "metadata": {},
          "execution_count": 50
        }
      ]
    },
    {
      "cell_type": "markdown",
      "source": [
        "## Применение Word2Vec\n",
        "\n",
        "Тк будут классифицироваться твиты, то надо получать эмбединг самого твита. В данном случае будут усредняться все слова для которых известен вектор."
      ],
      "metadata": {
        "id": "rQrnefIE27j0"
      }
    },
    {
      "cell_type": "code",
      "source": [
        "emb_line = np.mean([wv.get_vector(w) for w in data.iloc[0, -1].split() if w in wv], axis=0)\n",
        "print(emb_line.shape)\n",
        "print(emb_line)"
      ],
      "metadata": {
        "colab": {
          "base_uri": "https://localhost:8080/"
        },
        "id": "Dy0oCjU52-bS",
        "outputId": "1b328a54-686a-4b0c-f341-c64e6119c405"
      },
      "execution_count": 51,
      "outputs": [
        {
          "output_type": "stream",
          "name": "stdout",
          "text": [
            "(25,)\n",
            "[ 0.01275918  0.3783      0.26857814 -0.09810553 -0.28757185 -0.14726429\n",
            "  0.7814658   0.22118823 -0.21822335 -0.40642798 -0.23787588  0.05436118\n",
            " -4.2523656  -0.07335228  0.23735543 -0.20234807  0.16559085 -0.1915705\n",
            " -0.21897423 -0.1164306   0.04481166  0.2739632   0.26046303  0.22364709\n",
            " -0.16728576]\n"
          ]
        }
      ]
    },
    {
      "cell_type": "code",
      "source": [
        "mean = np.mean(wv.vectors, 0)\n",
        "std = np.std(wv.vectors, 0)\n",
        "\n",
        "emb_line = np.mean([(wv.get_vector(w) - mean) / std for w in data.iloc[0, -1].split() if w in wv], axis=0)\n",
        "print(emb_line.shape)\n",
        "print(emb_line)"
      ],
      "metadata": {
        "colab": {
          "base_uri": "https://localhost:8080/"
        },
        "id": "xCvmPNfFEJu6",
        "outputId": "9c6e39de-5e02-460a-a7a5-dfc417008031"
      },
      "execution_count": 53,
      "outputs": [
        {
          "output_type": "stream",
          "name": "stdout",
          "text": [
            "(25,)\n",
            "[ 0.5418681   0.0666009   0.25358456 -0.14372444 -0.1527933   0.24198481\n",
            "  1.3964447   1.3237357  -0.57213163  0.02572083  0.02322836 -0.25143954\n",
            " -5.2126303  -0.05285202  0.04484933 -0.6432597  -0.12959705 -0.3371484\n",
            " -1.0387126  -0.4231328  -0.05462204  0.06145263  0.21464571  0.27547774\n",
            "  0.16824484]\n"
          ]
        }
      ]
    },
    {
      "cell_type": "code",
      "source": [
        "mean = np.mean(wv.vectors, 0)\n",
        "std = np.std(wv.vectors, 0)\n",
        "\n",
        "def compute_embedding(row) -> np.ndarray:\n",
        "    embeddings = [(wv.get_vector(w) - mean) / std for w in row[\"text\"] if w in wv]# Получи эмбеддинги слов и усредни их\n",
        "\n",
        "    if len(embeddings) == 0:\n",
        "        embeddings = np.zeros((1, wv.vector_size))\n",
        "    else:\n",
        "        embeddings = np.array(embeddings)\n",
        "        if len(embeddings.shape) == 1:\n",
        "            embeddings = embeddings.reshape(-1, 1)\n",
        "    return np.mean(embeddings, axis=0, dtype=np.float16)"
      ],
      "metadata": {
        "id": "CrzTLvbDAgJK"
      },
      "execution_count": 54,
      "outputs": []
    },
    {
      "cell_type": "code",
      "source": [
        "X = np.stack(data.progress_apply(compute_embedding, axis=1))\n",
        "y = data[\"emotion\"]"
      ],
      "metadata": {
        "colab": {
          "base_uri": "https://localhost:8080/",
          "height": 49,
          "referenced_widgets": [
            "fb9a8a481ff342cc91699c471bb4b172",
            "ef681cf086114911a831fd13268e64fc",
            "7a128f91355a49928f7ffc3170369f89",
            "f98d0c0bb2774579a9c801a456992147",
            "016d5d90983145b896916f22fe9d21d9",
            "5fedf97407f0491fbc2b1e9ceef1d3b5",
            "de06bf9b30e149b5b5c8e634924efa1e",
            "f222c070946a49339dedcbbe3a1fd2fc",
            "fef429b55cca47eb80fba10a132f7014",
            "681865229ba24d1cbd521efbc055b776",
            "45677061285d4ac09b6fc51300933fb9"
          ]
        },
        "id": "xP7cMfTbDfn7",
        "outputId": "20905c23-c5e2-4990-a029-0723cbf5f4e1"
      },
      "execution_count": 55,
      "outputs": [
        {
          "output_type": "display_data",
          "data": {
            "text/plain": [
              "  0%|          | 0/1600000 [00:00<?, ?it/s]"
            ],
            "application/vnd.jupyter.widget-view+json": {
              "version_major": 2,
              "version_minor": 0,
              "model_id": "fb9a8a481ff342cc91699c471bb4b172"
            }
          },
          "metadata": {}
        }
      ]
    },
    {
      "cell_type": "code",
      "source": [
        "data = None\n",
        "wv = None"
      ],
      "metadata": {
        "id": "IJEcHEFPl2My"
      },
      "execution_count": 56,
      "outputs": []
    },
    {
      "cell_type": "code",
      "source": [
        "X_train, X_test, y_train, y_test = train_test_split(X, y, test_size = 0.2)\n",
        "X_train.shape, y_train.shape, X_test.shape, y_test.shape"
      ],
      "metadata": {
        "colab": {
          "base_uri": "https://localhost:8080/"
        },
        "id": "OS2Ss2Jxl9Ba",
        "outputId": "5d30793d-2e9b-4691-dfc0-c5d70a055c07"
      },
      "execution_count": 57,
      "outputs": [
        {
          "output_type": "execute_result",
          "data": {
            "text/plain": [
              "((1280000, 25), (1280000,), (320000, 25), (320000,))"
            ]
          },
          "metadata": {},
          "execution_count": 57
        }
      ]
    },
    {
      "cell_type": "code",
      "source": [
        "from sklearn.linear_model import LogisticRegression\n",
        "from sklearn.metrics import f1_score, accuracy_score"
      ],
      "metadata": {
        "id": "Z7Yau7gcoeZX"
      },
      "execution_count": 58,
      "outputs": []
    },
    {
      "cell_type": "code",
      "source": [
        "%%time\n",
        "clf = LogisticRegression(random_state=0)\n",
        "clf = clf.fit(X_train, y_train)\n",
        "predicted = clf.predict(X_test)"
      ],
      "metadata": {
        "colab": {
          "base_uri": "https://localhost:8080/"
        },
        "id": "Yw2eN1qOmNtP",
        "outputId": "55a453aa-5ec7-4e2f-92cc-a61e6f93ccc4"
      },
      "execution_count": 59,
      "outputs": [
        {
          "output_type": "stream",
          "name": "stderr",
          "text": [
            "/usr/local/lib/python3.9/dist-packages/sklearn/linear_model/_logistic.py:458: ConvergenceWarning: lbfgs failed to converge (status=1):\n",
            "STOP: TOTAL NO. of ITERATIONS REACHED LIMIT.\n",
            "\n",
            "Increase the number of iterations (max_iter) or scale the data as shown in:\n",
            "    https://scikit-learn.org/stable/modules/preprocessing.html\n",
            "Please also refer to the documentation for alternative solver options:\n",
            "    https://scikit-learn.org/stable/modules/linear_model.html#logistic-regression\n",
            "  n_iter_i = _check_optimize_result(\n"
          ]
        },
        {
          "output_type": "stream",
          "name": "stdout",
          "text": [
            "CPU times: user 30.3 s, sys: 10.9 s, total: 41.2 s\n",
            "Wall time: 24.9 s\n"
          ]
        }
      ]
    },
    {
      "cell_type": "code",
      "source": [
        "f\"{f1_score(predicted, y_test.values, pos_label=0)=}, {accuracy_score(predicted, y_test.values)=}\""
      ],
      "metadata": {
        "colab": {
          "base_uri": "https://localhost:8080/",
          "height": 36
        },
        "id": "Xw_b_jIHnF7d",
        "outputId": "aee4e754-730c-4aad-b83e-763b581ae850"
      },
      "execution_count": 62,
      "outputs": [
        {
          "output_type": "execute_result",
          "data": {
            "text/plain": [
              "'f1_score(predicted, y_test.values, pos_label=0)=0.5685133440747256, accuracy_score(predicted, y_test.values)=0.562309375'"
            ],
            "application/vnd.google.colaboratory.intrinsic+json": {
              "type": "string"
            }
          },
          "metadata": {},
          "execution_count": 62
        }
      ]
    },
    {
      "cell_type": "code",
      "source": [
        "clf = None\n",
        "X = None\n",
        "X_train = None\n",
        "X_test = None\n",
        "y_train = None\n",
        "y_test = None\n",
        "vectorizer = None\n",
        "y = None\n",
        "predicted = None"
      ],
      "metadata": {
        "id": "KY-0Tg8anw_M"
      },
      "execution_count": 63,
      "outputs": []
    },
    {
      "cell_type": "markdown",
      "source": [
        "## Обучение Word2Vec"
      ],
      "metadata": {
        "id": "RUdNo8WPpSAF"
      }
    },
    {
      "cell_type": "code",
      "source": [
        "import gensim.models"
      ],
      "metadata": {
        "id": "wgGGztymrRN_"
      },
      "execution_count": 64,
      "outputs": []
    },
    {
      "cell_type": "code",
      "source": [
        "data = pd.read_csv(f'{PATH}/data_cleaned.csv.zip')"
      ],
      "metadata": {
        "id": "0GthzLRuzKdq"
      },
      "execution_count": null,
      "outputs": []
    },
    {
      "cell_type": "code",
      "source": [
        "is_null = data[\"text\"].isnull()\n",
        "is_null.sum()"
      ],
      "metadata": {
        "colab": {
          "base_uri": "https://localhost:8080/"
        },
        "outputId": "633eb0cb-99ee-49e4-f40c-0a687fa5b913",
        "id": "SUXXvwffzKdr"
      },
      "execution_count": null,
      "outputs": [
        {
          "output_type": "execute_result",
          "data": {
            "text/plain": [
              "2823"
            ]
          },
          "metadata": {},
          "execution_count": 29
        }
      ]
    },
    {
      "cell_type": "code",
      "source": [
        "class MyCorpus:\n",
        "    \"\"\"An iterator that yields sentences (lists of str).\"\"\"\n",
        "\n",
        "    def __init__(self, sentences: list[str]):\n",
        "        self.sentences = sentences\n",
        "\n",
        "    def __iter__(self):\n",
        "        for line in self.sentences:\n",
        "            # assume there's one document per line, tokens separated by whitespace\n",
        "            yield line.split()"
      ],
      "metadata": {
        "id": "d6fY2L6dsCNK"
      },
      "execution_count": 66,
      "outputs": []
    },
    {
      "cell_type": "code",
      "source": [
        "corpus = MyCorpus(data[\"text\"].values)"
      ],
      "metadata": {
        "id": "pD4KxBARsgaA"
      },
      "execution_count": 67,
      "outputs": []
    },
    {
      "cell_type": "code",
      "source": [
        "%%time\n",
        "model = gensim.models.Word2Vec(sentences=corpus, vector_size=25, sg=0) # sg=0 -- CBOW, sg=1 -- SKIP GRAMM"
      ],
      "metadata": {
        "id": "dGgfH3AZr9fx",
        "colab": {
          "base_uri": "https://localhost:8080/"
        },
        "outputId": "a7849bda-ac8a-481f-833d-d2ef7ee2b483"
      },
      "execution_count": 70,
      "outputs": [
        {
          "output_type": "stream",
          "name": "stdout",
          "text": [
            "CPU times: user 5min 47s, sys: 1.61 s, total: 5min 49s\n",
            "Wall time: 3min 56s\n"
          ]
        }
      ]
    },
    {
      "cell_type": "code",
      "source": [
        "model.wv.most_similar(positive=['king', \"woman\"], negative=[\"man\"], topn=5) # cosine similarity"
      ],
      "metadata": {
        "colab": {
          "base_uri": "https://localhost:8080/"
        },
        "id": "GymnWDKKttsC",
        "outputId": "d995eb34-1e56-4d24-dcf6-f63e3053f5c9"
      },
      "execution_count": 73,
      "outputs": [
        {
          "output_type": "execute_result",
          "data": {
            "text/plain": [
              "[('animal', 0.7354238629341125),\n",
              " ('bond', 0.7201212644577026),\n",
              " ('pole', 0.7117068767547607),\n",
              " ('sex', 0.6986674070358276),\n",
              " ('scene', 0.6916687488555908)]"
            ]
          },
          "metadata": {},
          "execution_count": 73
        }
      ]
    },
    {
      "cell_type": "code",
      "source": [
        "mean = np.mean(model.wv.vectors, 0)\n",
        "std = np.std(model.wv.vectors, 0)\n",
        "\n",
        "def compute_embedding(row) -> np.ndarray:\n",
        "    embeddings = [(model.wv.get_vector(w) - mean) / std for w in row[\"text\"] if w in model.wv]# Получи эмбеддинги слов и усредни их\n",
        "\n",
        "    if len(embeddings) == 0:\n",
        "        embeddings = np.zeros((1, model.wv.vector_size))\n",
        "    else:\n",
        "        embeddings = np.array(embeddings)\n",
        "        if len(embeddings.shape) == 1:\n",
        "            embeddings = embeddings.reshape(-1, 1)\n",
        "    return np.mean(embeddings, axis=0, dtype=np.float16)"
      ],
      "metadata": {
        "id": "9R15EGZ3sjmk"
      },
      "execution_count": 74,
      "outputs": []
    },
    {
      "cell_type": "code",
      "source": [
        "X = np.stack(data.progress_apply(compute_embedding, axis=1))\n",
        "y = data[\"emotion\"]"
      ],
      "metadata": {
        "id": "jEVo4tC2tiIW"
      },
      "execution_count": null,
      "outputs": []
    },
    {
      "cell_type": "code",
      "source": [
        "X_train, X_test, y_train, y_test = train_test_split(X, y, test_size = 0.2)\n",
        "X_train.shape, y_train.shape, X_test.shape, y_test.shape"
      ],
      "metadata": {
        "colab": {
          "base_uri": "https://localhost:8080/"
        },
        "id": "Y0h0JVIHw8S1",
        "outputId": "22d48607-346a-4bfe-c5c8-f1761c40ab7a"
      },
      "execution_count": 60,
      "outputs": [
        {
          "output_type": "execute_result",
          "data": {
            "text/plain": [
              "((1280000, 25), (1280000,), (320000, 25), (320000,))"
            ]
          },
          "metadata": {},
          "execution_count": 60
        }
      ]
    },
    {
      "cell_type": "code",
      "source": [
        "%%time\n",
        "clf = LogisticRegression(random_state=0)\n",
        "clf = clf.fit(X_train, y_train)\n",
        "predicted = clf.predict(X_test)"
      ],
      "metadata": {
        "id": "tm8feb7Fw8lM"
      },
      "execution_count": null,
      "outputs": []
    },
    {
      "cell_type": "code",
      "source": [
        "f1_score(predicted, y_test.values, pos_label=0), accuracy_score(predicted, y_test.values)"
      ],
      "metadata": {
        "colab": {
          "base_uri": "https://localhost:8080/"
        },
        "id": "NvdGo99Uw-2T",
        "outputId": "2e3bafb1-e2cb-4f67-bd5e-665a1bee6b7e"
      },
      "execution_count": null,
      "outputs": [
        {
          "output_type": "execute_result",
          "data": {
            "text/plain": [
              "(0.5771304621110817, 0.5711125)"
            ]
          },
          "metadata": {},
          "execution_count": 87
        }
      ]
    },
    {
      "cell_type": "code",
      "source": [
        "print()"
      ],
      "metadata": {
        "id": "Bw41zh35xC2H"
      },
      "execution_count": null,
      "outputs": []
    }
  ]
}